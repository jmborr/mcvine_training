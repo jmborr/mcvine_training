{
 "cells": [
  {
   "cell_type": "markdown",
   "metadata": {},
   "source": [
    "# Preparation"
   ]
  },
  {
   "cell_type": "markdown",
   "metadata": {},
   "source": [
    "## import tools"
   ]
  },
  {
   "cell_type": "code",
   "execution_count": 1,
   "metadata": {},
   "outputs": [],
   "source": [
    "import os, numpy as np\n",
    "import histogram.hdf as hh\n",
    "import mcvine, mcvine.components\n",
    "\n",
    "from matplotlib import pyplot as plt\n",
    "%matplotlib notebook"
   ]
  },
  {
   "cell_type": "markdown",
   "metadata": {},
   "source": [
    "## work dir"
   ]
  },
  {
   "cell_type": "code",
   "execution_count": 2,
   "metadata": {},
   "outputs": [
    {
     "name": "stdout",
     "output_type": "stream",
     "text": [
      "/SNS/users/lj7/simulations/mcvine/demo/python-based-neutron-component\n"
     ]
    }
   ],
   "source": [
    "workdir = os.path.expanduser(\"~/simulations/mcvine/demo/python-based-neutron-component\")\n",
    "!mkdir -p {workdir}\n",
    "%cd {workdir}"
   ]
  },
  {
   "cell_type": "markdown",
   "metadata": {},
   "source": [
    "# Custom component"
   ]
  },
  {
   "cell_type": "code",
   "execution_count": 37,
   "metadata": {},
   "outputs": [
    {
     "name": "stdout",
     "output_type": "stream",
     "text": [
      "out-mcvine/step0\n"
     ]
    }
   ],
   "source": [
    "from mcni.AbstractComponent import AbstractComponent\n",
    "import numpy as np\n",
    "\n",
    "class EventMonitor_4D( AbstractComponent ):\n",
    "\n",
    "    def __init__(self, name, xwidth, yheight):\n",
    "        self.name = name\n",
    "        self.xwidth= xwidth; self.yheight = yheight\n",
    "        return\n",
    "    \n",
    "    def process(self, neutrons):\n",
    "        if not len(neutrons):\n",
    "            return\n",
    "        from mcni.neutron_storage import neutrons_as_npyarr, ndblsperneutron\n",
    "        arr = neutrons_as_npyarr(neutrons)\n",
    "        arr.shape = -1, ndblsperneutron\n",
    "        x = arr[:,0]; y = arr[:,1]; z = arr[:,2]\n",
    "        vx = arr[:,3]; vy = arr[:,4]; vz = arr[:,5]\n",
    "        s1 = arr[:,6]; s2 = arr[:,7];\n",
    "        t = arr[:,8]; \n",
    "        p = arr[:,9]\n",
    "\n",
    "        # propagate to z = 0\n",
    "        self._propagateToZ0(x,y,z,vx,vy,vz,t)\n",
    "\n",
    "        # Apply filter if area is positive\n",
    "        assert self.xwidth > 0 and self.yheight > 0\n",
    "\n",
    "        # Filter\n",
    "        ftr = (x >= -self.xwidth/2)*(x <= self.xwidth/2)*(y >= -self.yheight/2)*(y <= self.yheight/2)\n",
    "        x = x[ftr]; y = y[ftr]; z = z[ftr];\n",
    "        vx = vx[ftr]; vy = vy[ftr]; vz = vz[ftr];\n",
    "        s1 = s1[ftr]; s2 = s2[ftr]; t = t[ftr]; p = p[ftr];\n",
    "        events = x,y,z,t\n",
    "        self.save(events)\n",
    "        return\n",
    "    \n",
    "    def save(self, events):\n",
    "        outdir = self.simulation_context.getOutputDirInProgress()\n",
    "        np.save(os.path.join(outdir, \"events4D.npy\"), events)\n",
    "    \n",
    "    def _propagateToZ0(self, x,y,z, vx,vy,vz, t):\n",
    "        dt = -z/vz\n",
    "        x += vx*dt\n",
    "        y += vy*dt\n",
    "        z[:] = 0\n",
    "        t += dt\n",
    "        return"
   ]
  },
  {
   "cell_type": "markdown",
   "metadata": {},
   "source": [
    "## Test it wit a simple instrument"
   ]
  },
  {
   "cell_type": "code",
   "execution_count": 39,
   "metadata": {},
   "outputs": [],
   "source": [
    "instrument = mcvine.instrument()\n",
    "instrument.append(mcvine.components.sources.Source_simple('source'), position=(0,0,0))\n",
    "instrument.append(EventMonitor_4D('monitor', 0.1, 0.1), position=(0,0,1))"
   ]
  },
  {
   "cell_type": "markdown",
   "metadata": {},
   "source": [
    "### run simulation"
   ]
  },
  {
   "cell_type": "code",
   "execution_count": 41,
   "metadata": {},
   "outputs": [
    {
     "name": "stdout",
     "output_type": "stream",
     "text": [
      "CPU times: user 8.78 ms, sys: 586 µs, total: 9.37 ms\n",
      "Wall time: 28.3 ms\n"
     ]
    }
   ],
   "source": [
    "%%time\n",
    "# quick sim\n",
    "neutrons = instrument.simulate(int(10),outputdir=\"out-test0\", overwrite_datafiles=True, iteration_no=0)"
   ]
  },
  {
   "cell_type": "markdown",
   "metadata": {},
   "source": [
    "### check simulation results"
   ]
  },
  {
   "cell_type": "code",
   "execution_count": 44,
   "metadata": {},
   "outputs": [
    {
     "name": "stdout",
     "output_type": "stream",
     "text": [
      "Neutron( state=NeutronState( position=(0.0098459,0.0160985,0), velocity=(-5.8209,-10.6702,3516.34), spin=(0, 0) ), time=0, probability=0.00785395 )\n",
      "Neutron( state=NeutronState( position=(-0.0139586,0.0320981,0), velocity=(-6.69708,-11.0707,3409.66), spin=(0, 0) ), time=0, probability=0.00785385 )\n",
      "Neutron( state=NeutronState( position=(0.0413984,-0.00320358,0), velocity=(-0.495277,-7.04656,3429.9), spin=(0, 0) ), time=0, probability=0.00785373 )\n",
      "Neutron( state=NeutronState( position=(-0.00313726,0.039664,0), velocity=(15.9376,-17.141,3485.57), spin=(0, 0) ), time=0, probability=0.00785376 )\n",
      "Neutron( state=NeutronState( position=(-0.0305301,-0.0275972,0), velocity=(10.797,18.0873,3281.71), spin=(0, 0) ), time=0, probability=0.00785389 )\n"
     ]
    }
   ],
   "source": [
    "for i in range(5):\n",
    "    print neutrons[i]"
   ]
  },
  {
   "cell_type": "markdown",
   "metadata": {},
   "source": [
    "## Test parallel simulation of the new component"
   ]
  },
  {
   "cell_type": "markdown",
   "metadata": {},
   "source": [
    "### create script"
   ]
  },
  {
   "cell_type": "code",
   "execution_count": 60,
   "metadata": {},
   "outputs": [
    {
     "name": "stdout",
     "output_type": "stream",
     "text": [
      "Writing myinstrument.py\n"
     ]
    }
   ],
   "source": [
    "%%file myinstrument.py\n",
    "import mcvine, mcvine.components\n",
    "from mcni.AbstractComponent import AbstractComponent\n",
    "import numpy as np\n",
    "import os\n",
    "\n",
    "class EventMonitor_4D( AbstractComponent ):\n",
    "\n",
    "    def __init__(self, name, xwidth, yheight):\n",
    "        self.name = name\n",
    "        self.xwidth= xwidth; self.yheight = yheight\n",
    "        return\n",
    "    \n",
    "    def process(self, neutrons):\n",
    "        if not len(neutrons):\n",
    "            return\n",
    "        from mcni.neutron_storage import neutrons_as_npyarr, ndblsperneutron\n",
    "        arr = neutrons_as_npyarr(neutrons)\n",
    "        arr.shape = -1, ndblsperneutron\n",
    "        x = arr[:,0]; y = arr[:,1]; z = arr[:,2]\n",
    "        vx = arr[:,3]; vy = arr[:,4]; vz = arr[:,5]\n",
    "        s1 = arr[:,6]; s2 = arr[:,7];\n",
    "        t = arr[:,8]; \n",
    "        p = arr[:,9]\n",
    "\n",
    "        # propagate to z = 0\n",
    "        self._propagateToZ0(x,y,z,vx,vy,vz,t)\n",
    "\n",
    "        # Apply filter if area is positive\n",
    "        assert self.xwidth > 0 and self.yheight > 0\n",
    "\n",
    "        # Filter\n",
    "        ftr    = (x >= -self.xwidth/2)*(x <= self.xwidth/2)*(y >= -self.yheight/2)*(y <= self.yheight/2)\n",
    "\n",
    "        x = x[ftr]; y = y[ftr]; z = z[ftr];\n",
    "        vx = vx[ftr]; vy = vy[ftr]; vz = vz[ftr];\n",
    "        s1 = s1[ftr]; s2 = s2[ftr]; t = t[ftr]; p = p[ftr];\n",
    "        events = x,y,z,t\n",
    "        self.save(events)\n",
    "        return\n",
    "    \n",
    "    def save(self, events):\n",
    "        outdir = self._getOutputDirInProgress()\n",
    "        print outdir\n",
    "        np.save(os.path.join(outdir, \"events4D.npy\"), events)\n",
    "    \n",
    "    def _propagateToZ0(self, x,y,z, vx,vy,vz, t):\n",
    "        dt = -z/vz\n",
    "        x += vx*dt\n",
    "        y += vy*dt\n",
    "        z[:] = 0\n",
    "        t += dt\n",
    "        return\n",
    "    \n",
    "instrument = mcvine.instrument()\n",
    "instrument.append(mcvine.components.sources.Source_simple('source'), position=(0,0,0))\n",
    "instrument.append(EventMonitor_4D('monitor', 0.1, 0.1), position=(0,0,1))"
   ]
  },
  {
   "cell_type": "markdown",
   "metadata": {},
   "source": [
    "### run script"
   ]
  },
  {
   "cell_type": "code",
   "execution_count": 50,
   "metadata": {},
   "outputs": [],
   "source": [
    "from mcvine import run_script"
   ]
  },
  {
   "cell_type": "code",
   "execution_count": 61,
   "metadata": {},
   "outputs": [
    {
     "name": "stdout",
     "output_type": "stream",
     "text": [
      "CPU times: user 1.69 ms, sys: 3.34 ms, total: 5.03 ms\n",
      "Wall time: 4.51 s\n"
     ]
    }
   ],
   "source": [
    "%%time\n",
    "run_script.run_mpi('./myinstrument.py', 'out-test-parallel', ncount=1e3, nodes=10, overwrite_datafiles=True)"
   ]
  },
  {
   "cell_type": "markdown",
   "metadata": {},
   "source": [
    "### check results"
   ]
  },
  {
   "cell_type": "code",
   "execution_count": 62,
   "metadata": {},
   "outputs": [
    {
     "name": "stdout",
     "output_type": "stream",
     "text": [
      "\u001b[0m\u001b[01;34mpost-processing-scripts\u001b[0m/  \u001b[01;34mrank2-step2\u001b[0m/  \u001b[01;34mrank5-step0\u001b[0m/  \u001b[01;34mrank7-step3\u001b[0m/\r\n",
      "\u001b[01;34mrank0-step0\u001b[0m/              \u001b[01;34mrank2-step3\u001b[0m/  \u001b[01;34mrank5-step1\u001b[0m/  \u001b[01;34mrank7-step4\u001b[0m/\r\n",
      "\u001b[01;34mrank0-step1\u001b[0m/              \u001b[01;34mrank2-step4\u001b[0m/  \u001b[01;34mrank5-step2\u001b[0m/  \u001b[01;34mrank8-step0\u001b[0m/\r\n",
      "\u001b[01;34mrank0-step2\u001b[0m/              \u001b[01;34mrank3-step0\u001b[0m/  \u001b[01;34mrank5-step3\u001b[0m/  \u001b[01;34mrank8-step1\u001b[0m/\r\n",
      "\u001b[01;34mrank0-step3\u001b[0m/              \u001b[01;34mrank3-step1\u001b[0m/  \u001b[01;34mrank5-step4\u001b[0m/  \u001b[01;34mrank8-step2\u001b[0m/\r\n",
      "\u001b[01;34mrank0-step4\u001b[0m/              \u001b[01;34mrank3-step2\u001b[0m/  \u001b[01;34mrank6-step0\u001b[0m/  \u001b[01;34mrank8-step3\u001b[0m/\r\n",
      "\u001b[01;34mrank1-step0\u001b[0m/              \u001b[01;34mrank3-step3\u001b[0m/  \u001b[01;34mrank6-step1\u001b[0m/  \u001b[01;34mrank8-step4\u001b[0m/\r\n",
      "\u001b[01;34mrank1-step1\u001b[0m/              \u001b[01;34mrank3-step4\u001b[0m/  \u001b[01;34mrank6-step2\u001b[0m/  \u001b[01;34mrank9-step0\u001b[0m/\r\n",
      "\u001b[01;34mrank1-step2\u001b[0m/              \u001b[01;34mrank4-step0\u001b[0m/  \u001b[01;34mrank6-step3\u001b[0m/  \u001b[01;34mrank9-step1\u001b[0m/\r\n",
      "\u001b[01;34mrank1-step3\u001b[0m/              \u001b[01;34mrank4-step1\u001b[0m/  \u001b[01;34mrank6-step4\u001b[0m/  \u001b[01;34mrank9-step2\u001b[0m/\r\n",
      "\u001b[01;34mrank1-step4\u001b[0m/              \u001b[01;34mrank4-step2\u001b[0m/  \u001b[01;34mrank7-step0\u001b[0m/  \u001b[01;34mrank9-step3\u001b[0m/\r\n",
      "\u001b[01;34mrank2-step0\u001b[0m/              \u001b[01;34mrank4-step3\u001b[0m/  \u001b[01;34mrank7-step1\u001b[0m/  \u001b[01;34mrank9-step4\u001b[0m/\r\n",
      "\u001b[01;34mrank2-step1\u001b[0m/              \u001b[01;34mrank4-step4\u001b[0m/  \u001b[01;34mrank7-step2\u001b[0m/\r\n"
     ]
    }
   ],
   "source": [
    "ls out-test-parallel/"
   ]
  },
  {
   "cell_type": "code",
   "execution_count": 63,
   "metadata": {},
   "outputs": [],
   "source": [
    "# !find . -name *.npy"
   ]
  },
  {
   "cell_type": "code",
   "execution_count": 65,
   "metadata": {},
   "outputs": [
    {
     "name": "stdout",
     "output_type": "stream",
     "text": [
      "20"
     ]
    }
   ],
   "source": [
    "cat out-test-parallel/rank0-step0/number_of_mc_samples"
   ]
  },
  {
   "cell_type": "code",
   "execution_count": 66,
   "metadata": {},
   "outputs": [
    {
     "name": "stdout",
     "output_type": "stream",
     "text": [
      "events4D.npy  number_of_mc_samples\r\n"
     ]
    }
   ],
   "source": [
    "ls out-test-parallel/rank0-step0/"
   ]
  },
  {
   "cell_type": "code",
   "execution_count": 67,
   "metadata": {},
   "outputs": [],
   "source": [
    "events = np.load(\"out-test-parallel/rank0-step0/events4D.npy\")"
   ]
  },
  {
   "cell_type": "code",
   "execution_count": 68,
   "metadata": {},
   "outputs": [
    {
     "data": {
      "text/plain": [
       "array([[-0.01514469,  0.02710665, -0.01122233,  0.01765849, -0.0403612 ,\n",
       "         0.01716935, -0.03839571, -0.0353358 ,  0.04145368, -0.03400628,\n",
       "        -0.00047947, -0.02838686,  0.02717772, -0.01705978,  0.00775866,\n",
       "         0.01735421, -0.00607266, -0.02794056, -0.01268873, -0.03678636],\n",
       "       [ 0.03180821, -0.00954576, -0.03176664, -0.01579207,  0.00037146,\n",
       "         0.03436178, -0.01608668, -0.01999175, -0.02617493,  0.01938692,\n",
       "         0.0283458 ,  0.02041745, -0.02536763,  0.01417415, -0.01943654,\n",
       "        -0.01654378, -0.00261504,  0.02837345, -0.01922561,  0.00244225],\n",
       "       [ 0.        ,  0.        ,  0.        ,  0.        ,  0.        ,\n",
       "         0.        ,  0.        ,  0.        ,  0.        ,  0.        ,\n",
       "         0.        ,  0.        ,  0.        ,  0.        ,  0.        ,\n",
       "         0.        ,  0.        ,  0.        ,  0.        ,  0.        ],\n",
       "       [ 0.00029569,  0.00031024,  0.00029495,  0.00029686,  0.00030782,\n",
       "         0.00027662,  0.00030546,  0.00030424,  0.00027838,  0.0003085 ,\n",
       "         0.00029465,  0.00030755,  0.00031411,  0.00031847,  0.00029576,\n",
       "         0.00031944,  0.00030832,  0.00028913,  0.0002763 ,  0.00029714]])"
      ]
     },
     "execution_count": 68,
     "metadata": {},
     "output_type": "execute_result"
    }
   ],
   "source": [
    "events"
   ]
  },
  {
   "cell_type": "code",
   "execution_count": null,
   "metadata": {},
   "outputs": [],
   "source": []
  }
 ],
 "metadata": {
  "kernelspec": {
   "display_name": "python2-default at jnrk-sns-analysis",
   "language": "python",
   "name": "jnrk-sns-analysis-python2-default"
  },
  "language_info": {
   "codemirror_mode": {
    "name": "ipython",
    "version": 2
   },
   "file_extension": ".py",
   "mimetype": "text/x-python",
   "name": "python",
   "nbconvert_exporter": "python",
   "pygments_lexer": "ipython2",
   "version": "2.7.12"
  },
  "toc": {
   "base_numbering": 1,
   "nav_menu": {},
   "number_sections": true,
   "sideBar": true,
   "skip_h1_title": false,
   "title_cell": "Table of Contents",
   "title_sidebar": "Contents",
   "toc_cell": false,
   "toc_position": {},
   "toc_section_display": true,
   "toc_window_display": true
  }
 },
 "nbformat": 4,
 "nbformat_minor": 2
}
