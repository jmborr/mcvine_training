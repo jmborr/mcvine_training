{
 "cells": [
  {
   "cell_type": "markdown",
   "metadata": {},
   "source": [
    "# Simulation of Direct Geometry Experiments\n",
    "\n",
    "The simulation consists of 3 steps\n",
    "* <a href=\"./DGS-beam.ipynb\">Beam simulation</a>: simulate the neutron beam about 15cm upstream from sample\n",
    "* <a href=\"./Create a sample.ipynb\">Create sample</a>: create a sample\n",
    "* <a href=\"./DGS-virtual-experiment-powder-sample.ipynb\">Simulate the scattering experiment</a>: send neutrons from simulated beam to a sample, and simulate the interception of scattered neutrons by detectors, and generate a Mantid NeXus file"
   ]
  }
 ],
 "metadata": {
  "kernelspec": {
   "display_name": "Python 3",
   "language": "python",
   "name": "python3"
  },
  "language_info": {
   "codemirror_mode": {
    "name": "ipython",
    "version": 3
   },
   "file_extension": ".py",
   "mimetype": "text/x-python",
   "name": "python",
   "nbconvert_exporter": "python",
   "pygments_lexer": "ipython3",
   "version": "3.6.2"
  }
 },
 "nbformat": 4,
 "nbformat_minor": 2
}
