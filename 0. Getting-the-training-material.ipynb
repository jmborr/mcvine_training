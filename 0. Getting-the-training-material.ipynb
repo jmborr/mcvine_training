{
 "cells": [
  {
   "cell_type": "markdown",
   "metadata": {
    "collapsed": true
   },
   "source": [
    "# Getting the training material\n",
    "\n",
    "\n",
    "## Users of SNS analysis cluster\n",
    "\n",
    "```\n",
    "$ cp -a ~lj7/simulations/notebooks/mcvine-training training\n",
    "```\n",
    "\n",
    "## Any MCViNE user\n",
    "\n",
    "Check it out from git\n",
    "\n",
    "```\n",
    "$ git clone https://github.com/mcvine/training\n",
    "```\n",
    "\n"
   ]
  },
  {
   "cell_type": "code",
   "execution_count": null,
   "metadata": {
    "collapsed": true
   },
   "outputs": [],
   "source": []
  }
 ],
 "metadata": {
  "kernelspec": {
   "display_name": "Python 2",
   "language": "python",
   "name": "python2"
  },
  "language_info": {
   "codemirror_mode": {
    "name": "ipython",
    "version": 2
   },
   "file_extension": ".py",
   "mimetype": "text/x-python",
   "name": "python",
   "nbconvert_exporter": "python",
   "pygments_lexer": "ipython2",
   "version": "2.7.11"
  },
  "widgets": {
   "state": {},
   "version": "1.1.2"
  }
 },
 "nbformat": 4,
 "nbformat_minor": 0
}
