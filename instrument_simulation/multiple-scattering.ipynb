{
 "cells": [
  {
   "cell_type": "markdown",
   "metadata": {},
   "source": [
    "# Preparation"
   ]
  },
  {
   "cell_type": "markdown",
   "metadata": {},
   "source": [
    "## import tools"
   ]
  },
  {
   "cell_type": "code",
   "execution_count": 1,
   "metadata": {},
   "outputs": [
    {
     "name": "stderr",
     "output_type": "stream",
     "text": [
      "/SNS/software/miniconda2/envs/py2/lib/python2.7/site-packages/h5py/__init__.py:36: FutureWarning: Conversion of the second argument of issubdtype from `float` to `np.floating` is deprecated. In future, it will be treated as `np.float64 == np.dtype(float).type`.\n",
      "  from ._conv import register_converters as _register_converters\n"
     ]
    }
   ],
   "source": [
    "import os, numpy as np\n",
    "import histogram.hdf as hh\n",
    "import mcvine, mcvine.components\n",
    "\n",
    "from matplotlib import pyplot as plt\n",
    "%matplotlib notebook"
   ]
  },
  {
   "cell_type": "markdown",
   "metadata": {},
   "source": [
    "## work dir"
   ]
  },
  {
   "cell_type": "code",
   "execution_count": 2,
   "metadata": {},
   "outputs": [
    {
     "name": "stdout",
     "output_type": "stream",
     "text": [
      "/SNS/users/lj7/simulations/mcvine/demo-ms\n"
     ]
    }
   ],
   "source": [
    "workdir = os.path.expanduser(\"~/simulations/mcvine/demo-ms\")\n",
    "!mkdir -p {workdir}\n",
    "%cd {workdir}"
   ]
  },
  {
   "cell_type": "markdown",
   "metadata": {},
   "source": [
    "# Sample"
   ]
  },
  {
   "cell_type": "code",
   "execution_count": 4,
   "metadata": {},
   "outputs": [
    {
     "name": "stdout",
     "output_type": "stream",
     "text": [
      "Overwriting Al-scatterer.xml\n"
     ]
    }
   ],
   "source": [
    "%%file Al-scatterer.xml\n",
    "<?xml version=\"1.0\"?>\n",
    "\n",
    "<!DOCTYPE scatterer>\n",
    "\n",
    "<!-- weights: absorption, scattering, transmission -->\n",
    "<homogeneous_scatterer mcweights=\"0, 1, 0\">\n",
    "  \n",
    "  <E_Q_Kernel \n",
    "     E_Q=\"0\" \n",
    "     S_Q=\"1\" \n",
    "     Qmin=\"0./angstrom\"\n",
    "     Qmax=\"10./angstrom\"\n",
    "     />\n",
    "  \n",
    "</homogeneous_scatterer>"
   ]
  },
  {
   "cell_type": "code",
   "execution_count": 5,
   "metadata": {},
   "outputs": [
    {
     "name": "stdout",
     "output_type": "stream",
     "text": [
      "Overwriting Al.xyz\n"
     ]
    }
   ],
   "source": [
    "%%file Al.xyz\n",
    "4\n",
    "4.04 0 0   0 4.04 0   0 0 4.04\n",
    "Al 0  0  0\n",
    "Al 0.5 0.5 0\n",
    "Al 0.5 0 0.5\n",
    "Al 0 0.5 0.5"
   ]
  },
  {
   "cell_type": "code",
   "execution_count": 6,
   "metadata": {},
   "outputs": [
    {
     "name": "stdout",
     "output_type": "stream",
     "text": [
      "Overwriting sampleassembly.xml\n"
     ]
    }
   ],
   "source": [
    "%%file sampleassembly.xml\n",
    "<?xml version=\"1.0\"?>\n",
    "\n",
    "<!DOCTYPE SampleAssembly>\n",
    "\n",
    "<SampleAssembly name=\"Al\"\n",
    "   max_multiplescattering_loops_among_scatterers=\"1\"\n",
    "   max_multiplescattering_loops_interactM_path1=\"2\"\n",
    "   min_neutron_probability=\".005\"\n",
    ">\n",
    "  \n",
    "  <PowderSample name=\"Al\" type=\"sample\">\n",
    "    <Shape>\n",
    "      <hollowCylinder in_radius=\"5*cm\" out_radius=\"5.1*cm\" height=\"10*cm\" />\n",
    "    </Shape>\n",
    "    <Phase type=\"crystal\">\n",
    "      <ChemicalFormula>Al</ChemicalFormula>\n",
    "      <xyzfile>Al.xyz</xyzfile>\n",
    "    </Phase>\n",
    "  </PowderSample>\n",
    "  \n",
    "  <LocalGeometer registry-coordinate-system=\"InstrumentScientist\">\n",
    "    <Register name=\"Al\" position=\"(0,0,0)\" orientation=\"(0,0,0)\"/>\n",
    "  </LocalGeometer>\n",
    "<!--\n",
    "  <environment>\n",
    "    <temperature>300*K</temperature>\n",
    "    <pressure>1.*atm</pressure>\n",
    "  </environment>\n",
    "-->\n",
    "\n",
    "</SampleAssembly>"
   ]
  },
  {
   "cell_type": "markdown",
   "metadata": {},
   "source": [
    "# Instrument"
   ]
  },
  {
   "cell_type": "markdown",
   "metadata": {},
   "source": [
    "## create script"
   ]
  },
  {
   "cell_type": "code",
   "execution_count": 7,
   "metadata": {},
   "outputs": [
    {
     "name": "stdout",
     "output_type": "stream",
     "text": [
      "Overwriting myinstrument.py\n"
     ]
    }
   ],
   "source": [
    "%%file myinstrument.py\n",
    "import mcvine, mcvine.components\n",
    "instrument = mcvine.instrument()\n",
    "source = mcvine.components.sources.Source_simple('source', E0=50., dE=0.5)\n",
    "instrument.append(source, position=(0,0,0))\n",
    "sample = mcvine.components.samples.SampleAssemblyFromXml('sample', 'sampleassembly.xml')\n",
    "instrument.append(sample, position=(0,0,1))\n",
    "ns = mcvine.components.monitors.NeutronToStorage('ns', 'scattered.mcvine')\n",
    "instrument.append(ns, position=(0,0,1))"
   ]
  },
  {
   "cell_type": "markdown",
   "metadata": {},
   "source": [
    "## check/debug script"
   ]
  },
  {
   "cell_type": "code",
   "execution_count": 8,
   "metadata": {},
   "outputs": [],
   "source": [
    "from mcvine import run_script"
   ]
  },
  {
   "cell_type": "code",
   "execution_count": 14,
   "metadata": {},
   "outputs": [],
   "source": [
    "rm -rf debug"
   ]
  },
  {
   "cell_type": "code",
   "execution_count": 15,
   "metadata": {},
   "outputs": [
    {
     "name": "stderr",
     "output_type": "stream",
     "text": [
      "/SNS/software/miniconda2/envs/py2/lib/python2.7/site-packages/mcvine/run_script.py:125: UserWarning: Developer: <mccomposite.mccompositebp.CompositeNeutronScatterer object at 0x7f8f149089f0> does not implement method \"create_pps\"\n",
      "  warnings.warn('Developer: %s does not implement method \"create_pps\"' % comp)\n"
     ]
    }
   ],
   "source": [
    "run_script.run1('./myinstrument.py', 'debug', ncount=10, overwrite_datafiles=False, multiple_scattering=True)"
   ]
  },
  {
   "cell_type": "code",
   "execution_count": 16,
   "metadata": {},
   "outputs": [
    {
     "name": "stdout",
     "output_type": "stream",
     "text": [
      "50\r\n"
     ]
    }
   ],
   "source": [
    "!mcvine neutronstorage count ./debug/step0/scattered.mcvine"
   ]
  },
  {
   "cell_type": "markdown",
   "metadata": {},
   "source": [
    "## production run"
   ]
  },
  {
   "cell_type": "code",
   "execution_count": 18,
   "metadata": {},
   "outputs": [
    {
     "name": "stdout",
     "output_type": "stream",
     "text": [
      "CPU times: user 4.95 ms, sys: 12.9 ms, total: 17.8 ms\n",
      "Wall time: 7.51 s\n"
     ]
    }
   ],
   "source": [
    "%%time\n",
    "!rm -rf work\n",
    "run_script.run_mpi('./myinstrument.py', 'work', ncount=1e3, nodes=10, overwrite_datafiles=False, multiple_scattering=True)"
   ]
  },
  {
   "cell_type": "code",
   "execution_count": 20,
   "metadata": {},
   "outputs": [
    {
     "name": "stdout",
     "output_type": "stream",
     "text": [
      "4998\r\n"
     ]
    }
   ],
   "source": [
    "!mcvine neutronstorage count work/scattered.mcvine"
   ]
  },
  {
   "cell_type": "code",
   "execution_count": null,
   "metadata": {},
   "outputs": [],
   "source": []
  }
 ],
 "metadata": {
  "kernelspec": {
   "display_name": "python2-default at jnrk-sns-analysis",
   "language": "python",
   "name": "jnrk-sns-analysis-python2-default"
  },
  "language_info": {
   "codemirror_mode": {
    "name": "ipython",
    "version": 2
   },
   "file_extension": ".py",
   "mimetype": "text/x-python",
   "name": "python",
   "nbconvert_exporter": "python",
   "pygments_lexer": "ipython2",
   "version": "2.7.12"
  },
  "toc": {
   "base_numbering": 1,
   "nav_menu": {},
   "number_sections": true,
   "sideBar": true,
   "skip_h1_title": false,
   "title_cell": "Table of Contents",
   "title_sidebar": "Contents",
   "toc_cell": false,
   "toc_position": {},
   "toc_section_display": true,
   "toc_window_display": true
  }
 },
 "nbformat": 4,
 "nbformat_minor": 2
}
