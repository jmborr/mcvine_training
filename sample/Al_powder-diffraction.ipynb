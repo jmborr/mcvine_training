{
 "cells": [
  {
   "cell_type": "markdown",
   "id": "wired-saturday",
   "metadata": {},
   "source": [
    "# Tools"
   ]
  },
  {
   "cell_type": "code",
   "execution_count": 1,
   "id": "insured-indiana",
   "metadata": {},
   "outputs": [],
   "source": [
    "import os, numpy as np, glob\n",
    "import mcvine\n",
    "from sampleassembly.crystal.ioutils import xyzfile2unitcell, ciffile2unitcell\n",
    "from sampleassembly.visitors.CrossSectionCalculator import CrossSectionCalculator\n",
    "from mcvine.workflow.sampleassembly import scaffolding\n",
    "from mcvine.workflow.sample import loadSampleYml\n",
    "from matplotlib import pyplot as plt\n",
    "%matplotlib notebook"
   ]
  },
  {
   "cell_type": "markdown",
   "id": "parental-minnesota",
   "metadata": {},
   "source": [
    "# Al crystal"
   ]
  },
  {
   "cell_type": "code",
   "execution_count": 2,
   "id": "mysterious-cosmetic",
   "metadata": {},
   "outputs": [],
   "source": [
    "structure = xyzfile2unitcell('Al.xyz')\n",
    "# structure = ciffile2unitcell('Al_mp-134_symmetrized.cif')"
   ]
  },
  {
   "cell_type": "code",
   "execution_count": 3,
   "id": "quick-fabric",
   "metadata": {},
   "outputs": [
    {
     "name": "stdout",
     "output_type": "stream",
     "text": [
      "abs (2200m/s), inc, coh cross sections =  [2.31e-29*m**2 8.2e-31*m**2 1.495e-28*m**2]\n",
      "abs (2200m/s), inc, coh inverse length = [1.39164*m**-1 0.0494001*m**-1 9.00648*m**-1]\n"
     ]
    }
   ],
   "source": [
    "xscalc = CrossSectionCalculator()\n",
    "xscalc.include_density = False\n",
    "print(\"abs (2200m/s), inc, coh cross sections = \", xscalc.onUnitCell(structure))\n",
    "xscalc.include_density = True\n",
    "print(\"abs (2200m/s), inc, coh inverse length =\", xscalc.onUnitCell(structure))"
   ]
  },
  {
   "cell_type": "markdown",
   "id": "applied-ranking",
   "metadata": {},
   "source": [
    "# Sample with Powder Diffraction Kernel"
   ]
  },
  {
   "cell_type": "code",
   "execution_count": 4,
   "id": "productive-protection",
   "metadata": {},
   "outputs": [],
   "source": [
    "!rm -rf Al-powder-diffraction\n",
    "!mkdir -p Al-powder-diffraction"
   ]
  },
  {
   "cell_type": "markdown",
   "id": "finnish-scott",
   "metadata": {},
   "source": [
    "## Peaks python file\n",
    "\n",
    "* If you have a laz file, you may want to use that.\n",
    "* Shown here is a quick way to create diffraction peaks from crystal structure"
   ]
  },
  {
   "cell_type": "code",
   "execution_count": 5,
   "id": "lyric-passport",
   "metadata": {},
   "outputs": [],
   "source": [
    "from mccomponents.sample import diffraction, matter"
   ]
  },
  {
   "cell_type": "code",
   "execution_count": 6,
   "id": "another-generation",
   "metadata": {},
   "outputs": [
    {
     "name": "stderr",
     "output_type": "stream",
     "text": [
      "/home/97n/dv/mcvine/export-3.7/lib/python3.7/site-packages/mccomponents/sample/diffraction/calcpeaks.py:85: RuntimeWarning: divide by zero encountered in double_scalars\n",
      "  return 1./np.linalg.norm(recvec)\n"
     ]
    }
   ],
   "source": [
    "structure = matter.loadCif('Al_mp-134_symmetrized.cif')\n",
    "diffraction.create_peaks_py('Al-diffr-peaks.py', structure, 300., max_index=20, min_dspacing=.5)"
   ]
  },
  {
   "cell_type": "code",
   "execution_count": 7,
   "id": "absent-gardening",
   "metadata": {},
   "outputs": [
    {
     "name": "stdout",
     "output_type": "stream",
     "text": [
      "from mccomponents.sample.diffraction.SimplePowderDiffractionKernel import Peak\r\n",
      "\r\n",
      "peaks = [\r\n",
      "    Peak(hkl=(1, 1, 1), d=2.331877322738055, q=2.6944750677544076, F=(13.336929215115559-2.4499541510619136e-15j), F_squared=1.778736808890029, multiplicity=8, intrinsic_line_width=0, DebyeWaller_factor=0),\r\n",
      "    Peak(hkl=(0, 0, 2), d=2.019465, q=3.1113118113854843, F=(13.187325715565134-1.614981622688042e-15j), F_squared=1.7390555952840545, multiplicity=6, intrinsic_line_width=0, DebyeWaller_factor=0),\r\n",
      "    Peak(hkl=(0, 2, 2), d=1.427977395868891, q=4.400059360432953, F=(12.605505909568386-3.0874584927571937e-15j), F_squared=1.5889877923616351, multiplicity=12, intrinsic_line_width=0, DebyeWaller_factor=0),\r\n",
      "    Peak(hkl=(1, 1, 3), d=1.2177832149554666, q=5.15952694208333, F=(12.186049582243726-3.73090165378643e-15j), F_squared=1.4849980442090247, multiplicity=24, intrinsic_line_width=0, DebyeWaller_factor=0),\r\n",
      "    Peak(hkl=(2, 2, 2), d=1.1659386613690275, q=5.388950135508815, F=(12.04935577261231-4.4268614936152044e-15j), F_squared=1.4518697453498561, multiplicity=8, intrinsic_line_width=0, DebyeWaller_factor=0),\r\n",
      "    Peak(hkl=(0, 0, 4), d=1.0097325, q=6.222623622770969, F=(11.517742768640439-2.8210333630036177e-15j), F_squared=1.3265839848456913, multiplicity=6, intrinsic_line_width=0, DebyeWaller_factor=0),\r\n",
      "    Peak(hkl=(1, 3, 3), d=0.926594090001828, q=6.7809468838369025, F=(11.134482460370155-4.772532906839129e-15j), F_squared=1.2397669966029061, multiplicity=24, intrinsic_line_width=0, DebyeWaller_factor=0),\r\n"
     ]
    }
   ],
   "source": [
    "!head -n 10 Al-diffr-peaks.py"
   ]
  },
  {
   "cell_type": "markdown",
   "id": "asian-configuration",
   "metadata": {},
   "source": [
    "## Yaml spec"
   ]
  },
  {
   "cell_type": "code",
   "execution_count": 8,
   "id": "reported-cookie",
   "metadata": {},
   "outputs": [
    {
     "name": "stdout",
     "output_type": "stream",
     "text": [
      "Overwriting Al-powder-diffraction.yaml\n"
     ]
    }
   ],
   "source": [
    "%%file Al-powder-diffraction.yaml\n",
    "name: Al\n",
    "# structure_file: Al_mp-134_symmetrized.cif\n",
    "structure_file: Al.xyz\n",
    "excitation:\n",
    " type: powder_diffraction\n",
    " Dd_over_d: 1e-5\n",
    " peaks_py_path: Al-diffr-peaks.py\n",
    "shape: cylinder radius=\"1*mm\" height=\"3*mm\"\n",
    "temperature: 300*K"
   ]
  },
  {
   "cell_type": "markdown",
   "id": "placed-spyware",
   "metadata": {},
   "source": [
    "## Convert to xml"
   ]
  },
  {
   "cell_type": "code",
   "execution_count": 9,
   "id": "false-hormone",
   "metadata": {},
   "outputs": [
    {
     "name": "stdout",
     "output_type": "stream",
     "text": [
      "Copying Al-diffr-peaks.py to Al-powder-diffraction/\n"
     ]
    },
    {
     "name": "stderr",
     "output_type": "stream",
     "text": [
      "/home/97n/dv/mcvine/export-3.7/lib/python3.7/site-packages/mcvine/workflow/sampleassembly/scaffolding/sampleassembly_xml.py:22: UserWarning: assume average temperature\n",
      "  warnings.warn(\"assume average temperature\")\n"
     ]
    }
   ],
   "source": [
    "spec = loadSampleYml('Al-powder-diffraction.yaml')\n",
    "scaffolding.createSampleAssembly('Al-powder-diffraction', spec, add_elastic_line=False)"
   ]
  },
  {
   "cell_type": "code",
   "execution_count": 10,
   "id": "civil-scotland",
   "metadata": {},
   "outputs": [
    {
     "name": "stdout",
     "output_type": "stream",
     "text": [
      "Al-diffr-peaks.py  Al-scatterer.xml  Al.xyz  sampleassembly.xml\r\n"
     ]
    }
   ],
   "source": [
    "ls Al-powder-diffraction/"
   ]
  },
  {
   "cell_type": "code",
   "execution_count": 11,
   "id": "medical-spell",
   "metadata": {},
   "outputs": [
    {
     "name": "stdout",
     "output_type": "stream",
     "text": [
      "weight:  1.0\r\n"
     ]
    }
   ],
   "source": [
    "!mcvine sampleassembly check Al-powder-diffraction//sampleassembly.xml"
   ]
  },
  {
   "cell_type": "code",
   "execution_count": null,
   "id": "specialized-basketball",
   "metadata": {},
   "outputs": [],
   "source": []
  }
 ],
 "metadata": {
  "kernelspec": {
   "display_name": "dev-mcvine-py37",
   "language": "python",
   "name": "dev-mcvine-py3"
  },
  "language_info": {
   "codemirror_mode": {
    "name": "ipython",
    "version": 3
   },
   "file_extension": ".py",
   "mimetype": "text/x-python",
   "name": "python",
   "nbconvert_exporter": "python",
   "pygments_lexer": "ipython3",
   "version": "3.7.10"
  },
  "toc": {
   "base_numbering": 1,
   "nav_menu": {},
   "number_sections": true,
   "sideBar": true,
   "skip_h1_title": false,
   "title_cell": "Table of Contents",
   "title_sidebar": "Contents",
   "toc_cell": false,
   "toc_position": {
    "height": "calc(100% - 180px)",
    "left": "10px",
    "top": "150px",
    "width": "276.2px"
   },
   "toc_section_display": true,
   "toc_window_display": true
  }
 },
 "nbformat": 4,
 "nbformat_minor": 5
}
