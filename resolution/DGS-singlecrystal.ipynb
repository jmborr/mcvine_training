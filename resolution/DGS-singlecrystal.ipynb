{
 "cells": [
  {
   "cell_type": "markdown",
   "metadata": {},
   "source": [
    "# Summary\n",
    "* Purpose: Compute resolution functions for SnS CNCS dataset.\n",
    "* Procedure:\n",
    "  - Simulate beam\n",
    "  - Prepare sample\n",
    "  - Simulate resolution\n",
    " "
   ]
  },
  {
   "cell_type": "markdown",
   "metadata": {},
   "source": [
    "# Tools"
   ]
  },
  {
   "cell_type": "code",
   "execution_count": 1,
   "metadata": {},
   "outputs": [
    {
     "data": {
      "text/plain": [
       "u'/SNS/users/lj7/notebooks/.rk-work/jnrk-sns-analysis-python2-default'"
      ]
     },
     "execution_count": 1,
     "metadata": {},
     "output_type": "execute_result"
    }
   ],
   "source": [
    "pwd"
   ]
  },
  {
   "cell_type": "markdown",
   "metadata": {
    "scrolled": true
   },
   "source": [
    "** Modify the workdir !!! **"
   ]
  },
  {
   "cell_type": "code",
   "execution_count": 2,
   "metadata": {},
   "outputs": [],
   "source": [
    "workdir = \"/SNS/users/tysonlanigan/SnS/Resolution\""
   ]
  },
  {
   "cell_type": "code",
   "execution_count": 5,
   "metadata": {},
   "outputs": [],
   "source": [
    "# workdir = '/SNS/users/lj7/simulations/CNCS/AgBiSe2/Tyson/'"
   ]
  },
  {
   "cell_type": "code",
   "execution_count": 6,
   "metadata": {},
   "outputs": [],
   "source": [
    "mkdir -p {workdir}"
   ]
  },
  {
   "cell_type": "code",
   "execution_count": 6,
   "metadata": {},
   "outputs": [
    {
     "name": "stdout",
     "output_type": "stream",
     "text": [
      "/SNS/users/lj7/simulations/CNCS/AgBiSe2/Tyson\n"
     ]
    }
   ],
   "source": [
    "cd {workdir}"
   ]
  },
  {
   "cell_type": "code",
   "execution_count": 7,
   "metadata": {},
   "outputs": [],
   "source": [
    "# %matplotlib notebook\n",
    "%matplotlib inline\n",
    "from matplotlib import pyplot as plt\n",
    "import numpy as np, os, glob\n",
    "import histogram.hdf as hh, histogram as H"
   ]
  },
  {
   "cell_type": "code",
   "execution_count": 8,
   "metadata": {},
   "outputs": [
    {
     "name": "stdout",
     "output_type": "stream",
     "text": [
      "/SNS/software/miniconda2/envs/py2/bin/mcvine\r\n"
     ]
    }
   ],
   "source": [
    "!which mcvine"
   ]
  },
  {
   "cell_type": "code",
   "execution_count": 9,
   "metadata": {},
   "outputs": [],
   "source": [
    "from dgsres.singlextal import use_res_comps"
   ]
  },
  {
   "cell_type": "code",
   "execution_count": 11,
   "metadata": {},
   "outputs": [],
   "source": [
    "# use_res_comps"
   ]
  },
  {
   "cell_type": "markdown",
   "metadata": {},
   "source": [
    "# Beam"
   ]
  },
  {
   "cell_type": "markdown",
   "metadata": {},
   "source": [
    "** NOTE: You can skip this section if there is existing beam simulation that you can reuse. Just make a symbolic link **\n",
    "\n",
    "JLN - Did not rerun the simulation, but copied files from lj7 to local directory to avoid clobbering his simulations and to maintain my own copy for future reference."
   ]
  },
  {
   "cell_type": "code",
   "execution_count": 12,
   "metadata": {},
   "outputs": [],
   "source": [
    "mkdir -p beam_17meV"
   ]
  },
  {
   "cell_type": "code",
   "execution_count": 13,
   "metadata": {},
   "outputs": [
    {
     "name": "stdout",
     "output_type": "stream",
     "text": [
      "/SNS/users/lj7/simulations/CNCS/AgBiSe2/Tyson/beam_17meV\n"
     ]
    }
   ],
   "source": [
    "cd {workdir}/beam_17meV/"
   ]
  },
  {
   "cell_type": "markdown",
   "metadata": {},
   "source": [
    "** Options for the beam simulation **"
   ]
  },
  {
   "cell_type": "code",
   "execution_count": 14,
   "metadata": {},
   "outputs": [
    {
     "name": "stdout",
     "output_type": "stream",
     "text": [
      "properties of 'cncs_beam':\r\n",
      "    E=<float>: desired incident beam energy. unit: meV\r\n",
      "        default value: 20\r\n",
      "        current value: 20.0, from {default}\r\n",
      "    dumpconfiguration=<bool>: If set, dump configuration to a pml file\r\n",
      "        default value: 0\r\n",
      "        current value: False, from {default}\r\n",
      "    dumpconfiguration-output=<str>: Output file path of dumped configuration file (pml)\r\n",
      "        default value: ''\r\n",
      "        current value: '', from {default}\r\n",
      "    f1=<float>: Chopper freq 1. unit: Hz\r\n",
      "        default value: 60\r\n",
      "        current value: 60.0, from {default}\r\n",
      "    f2=<float>: Chopper freq 2. unit: Hz\r\n",
      "        default value: 60\r\n",
      "        current value: 60.0, from {default}\r\n",
      "    f3=<float>: Chopper freq 3. unit: Hz\r\n",
      "        default value: 60\r\n",
      "        current value: 60.0, from {default}\r\n",
      "    f41=<float>: Chopper freq 41. unit: Hz\r\n",
      "        default value: 300\r\n",
      "        current value: 300.0, from {default}\r\n",
      "    f42=<float>: Chopper freq 42. unit: Hz\r\n",
      "        default value: 300\r\n",
      "        current value: 300.0, from {default}\r\n",
      "    fluxmode=<float>: flux mode\r\n",
      "        default value: 9.0\r\n",
      "        current value: 9.0, from {default}\r\n",
      "    help=<bool>: prints a screen that describes my traits\r\n",
      "        default value: False\r\n",
      "        current value: False, from {default}\r\n",
      "    help-components=<bool>: prints a screen that describes my subcomponents\r\n",
      "        default value: False\r\n",
      "        current value: False, from {default}\r\n",
      "    help-persistence=<bool>: prints a screen that describes my persistent store\r\n",
      "        default value: False\r\n",
      "        current value: False, from {default}\r\n",
      "    help-properties=<bool>: prints a screen that describes my properties\r\n",
      "        default value: False\r\n",
      "        current value: True, from {command line}\r\n",
      "    ncount=<float>: neutron count\r\n",
      "        default value: 1000000\r\n",
      "        current value: 1000000.0, from {default}\r\n",
      "    nodes=<int>: # of mpi nodes\r\n",
      "        default value: 1\r\n",
      "        current value: 1, from {default}\r\n",
      "    typos=<str>: specifies the handling of typos in the names of properties and facilities\r\n",
      "        default value: 'strict'\r\n",
      "        current value: 'strict', from {default}\r\n",
      "        validator: (in ['relaxed', 'strict', 'pedantic'])\r\n"
     ]
    }
   ],
   "source": [
    "!mcvine instruments cncs beam --help-properties"
   ]
  },
  {
   "cell_type": "markdown",
   "metadata": {},
   "source": [
    "Notes about fluxmode:\n",
    "\n",
    "      High Flux (HF)    = 9.0 deg\n",
    "      Intermidiste (AI) = 4.4 deg\n",
    "      High Res (HR)     = 2.0 deg\n"
   ]
  },
  {
   "cell_type": "code",
   "execution_count": 16,
   "metadata": {
    "scrolled": true
   },
   "outputs": [
    {
     "name": "stdout",
     "output_type": "stream",
     "text": [
      "/SNS/software/miniconda2/envs/py2/lib/python2.7/site-packages/mcni/AbstractComponent.py:40: UserWarning: In NeutronToStorage: Deprecated. should use self.simulation_context.overwrite_datafiles\n",
      "  warnings.warn(msg)\n",
      "/SNS/software/miniconda2/envs/py2/lib/python2.7/site-packages/mcni/AbstractComponent.py:40: UserWarning: In NeutronToStorage: Deprecated. should use self.simulation_context.overwrite_datafiles\n",
      "  warnings.warn(msg)\n",
      "/SNS/software/miniconda2/envs/py2/lib/python2.7/site-packages/mcni/AbstractComponent.py:40: UserWarning: In NeutronToStorage: Deprecated. should use self.simulation_context.overwrite_datafiles\n",
      "  warnings.warn(msg)\n",
      "/SNS/software/miniconda2/envs/py2/lib/python2.7/site-packages/mcni/AbstractComponent.py:40: UserWarning: In NeutronToStorage: Deprecated. should use self.simulation_context.overwrite_datafiles\n",
      "  warnings.warn(msg)\n",
      "/SNS/software/miniconda2/envs/py2/lib/python2.7/site-packages/mcni/AbstractComponent.py:40: UserWarning: In NeutronToStorage: Deprecated. should use self.simulation_context.overwrite_datafiles\n",
      "  warnings.warn(msg)\n",
      "/SNS/software/miniconda2/envs/py2/lib/python2.7/site-packages/mcni/AbstractComponent.py:40: UserWarning: In NeutronToStorage: Deprecated. should use self.simulation_context.overwrite_datafiles\n",
      "  warnings.warn(msg)\n",
      "/SNS/software/miniconda2/envs/py2/lib/python2.7/site-packages/mcni/AbstractComponent.py:40: UserWarning: In NeutronToStorage: Deprecated. should use self.simulation_context.overwrite_datafiles\n",
      "  warnings.warn(msg)\n",
      "/SNS/software/miniconda2/envs/py2/lib/python2.7/site-packages/mcni/AbstractComponent.py:40: UserWarning: In NeutronToStorage: Deprecated. should use self.simulation_context.overwrite_datafiles\n",
      "  warnings.warn(msg)\n",
      "/SNS/software/miniconda2/envs/py2/lib/python2.7/site-packages/mcni/AbstractComponent.py:40: UserWarning: In NeutronToStorage: Deprecated. should use self.simulation_context.overwrite_datafiles\n",
      "  warnings.warn(msg)\n",
      "/SNS/software/miniconda2/envs/py2/lib/python2.7/site-packages/mcni/AbstractComponent.py:40: UserWarning: In NeutronToStorage: Deprecated. should use self.simulation_context.overwrite_datafiles\n",
      "  warnings.warn(msg)\n",
      "/SNS/software/miniconda2/envs/py2/lib/python2.7/site-packages/mcni/AbstractComponent.py:40: UserWarning: In NeutronToStorage: Deprecated. should use self.simulation_context.overwrite_datafiles\n",
      "  warnings.warn(msg)\n",
      "/SNS/software/miniconda2/envs/py2/lib/python2.7/site-packages/mcni/AbstractComponent.py:40: UserWarning: In NeutronToStorage: Deprecated. should use self.simulation_context.overwrite_datafiles\n",
      "  warnings.warn(msg)\n",
      "/SNS/software/miniconda2/envs/py2/lib/python2.7/site-packages/mcni/AbstractComponent.py:40: UserWarning: In NeutronToStorage: Deprecated. should use self.simulation_context.overwrite_datafiles\n",
      "  warnings.warn(msg)\n",
      "/SNS/software/miniconda2/envs/py2/lib/python2.7/site-packages/mcni/AbstractComponent.py:40: UserWarning: In NeutronToStorage: Deprecated. should use self.simulation_context.overwrite_datafiles\n",
      "  warnings.warn(msg)\n",
      "/SNS/software/miniconda2/envs/py2/lib/python2.7/site-packages/mcni/AbstractComponent.py:40: UserWarning: In NeutronToStorage: Deprecated. should use self.simulation_context.overwrite_datafiles\n",
      "  warnings.warn(msg)\n",
      "/SNS/software/miniconda2/envs/py2/lib/python2.7/site-packages/mcni/AbstractComponent.py:40: UserWarning: In NeutronToStorage: Deprecated. should use self.simulation_context.overwrite_datafiles\n",
      "  warnings.warn(msg)\n",
      "/SNS/software/miniconda2/envs/py2/lib/python2.7/site-packages/mcni/AbstractComponent.py:40: UserWarning: In NeutronToStorage: Deprecated. should use self.simulation_context.overwrite_datafiles\n",
      "  warnings.warn(msg)\n",
      "/SNS/software/miniconda2/envs/py2/lib/python2.7/site-packages/mcni/AbstractComponent.py:40: UserWarning: In NeutronToStorage: Deprecated. should use self.simulation_context.overwrite_datafiles\n",
      "  warnings.warn(msg)\n",
      "/SNS/software/miniconda2/envs/py2/lib/python2.7/site-packages/mcni/AbstractComponent.py:40: UserWarning: In NeutronToStorage: Deprecated. should use self.simulation_context.overwrite_datafiles\n",
      "  warnings.warn(msg)\n",
      "/SNS/software/miniconda2/envs/py2/lib/python2.7/site-packages/mcni/AbstractComponent.py:40: UserWarning: In NeutronToStorage: Deprecated. should use self.simulation_context.overwrite_datafiles\n",
      "  warnings.warn(msg)\n",
      "/SNS/software/miniconda2/envs/py2/lib/python2.7/site-packages/mcni/pyre_support/MpiApplication.py:87: UserWarning: no point to run in parallel mode when using just one node\n",
      "  warnings.warn(\"no point to run in parallel mode when using just one node\")\n",
      "/SNS/software/miniconda2/envs/py2/lib/python2.7/site-packages/histogram/hdf/Loader.py:129: FutureWarning: elementwise comparison failed; returning scalar instead, but in the future will perform elementwise comparison\n",
      "  if 'storage' in list(dataGroup): # this uses the 'storage' convention\n",
      "/SNS/software/miniconda2/envs/py2/lib/python2.7/site-packages/histogram/hdf/Loader.py:129: FutureWarning: elementwise comparison failed; returning scalar instead, but in the future will perform elementwise comparison\n",
      "  if 'storage' in list(dataGroup): # this uses the 'storage' convention\n",
      "/SNS/software/miniconda2/envs/py2/lib/python2.7/site-packages/histogram/hdf/Loader.py:129: FutureWarning: elementwise comparison failed; returning scalar instead, but in the future will perform elementwise comparison\n",
      "  if 'storage' in list(dataGroup): # this uses the 'storage' convention\n",
      "/SNS/software/miniconda2/envs/py2/lib/python2.7/site-packages/histogram/hdf/Loader.py:129: FutureWarning: elementwise comparison failed; returning scalar instead, but in the future will perform elementwise comparison\n",
      "  if 'storage' in list(dataGroup): # this uses the 'storage' convention\n",
      "/SNS/software/miniconda2/envs/py2/lib/python2.7/site-packages/histogram/hdf/Loader.py:129: FutureWarning: elementwise comparison failed; returning scalar instead, but in the future will perform elementwise comparison\n",
      "  if 'storage' in list(dataGroup): # this uses the 'storage' convention\n",
      "CPU times: user 27.2 s, sys: 4.56 s, total: 31.7 s\n",
      "Wall time: 20min 49s\n"
     ]
    }
   ],
   "source": [
    "%%time\n",
    "!mcvine instruments cncs beam -E=17 -f1=60 -f2=60 -f3=60 -f41=240 -f42=240 -ncount=1e9 -fluxmode=4.4 -nodes=20 >log.sim"
   ]
  },
  {
   "cell_type": "code",
   "execution_count": 17,
   "metadata": {},
   "outputs": [
    {
     "data": {
      "text/plain": [
       "u'/SNS/users/lj7/simulations/CNCS/AgBiSe2/Tyson/beam_17meV'"
      ]
     },
     "execution_count": 17,
     "metadata": {},
     "output_type": "execute_result"
    }
   ],
   "source": [
    "pwd"
   ]
  },
  {
   "cell_type": "code",
   "execution_count": 18,
   "metadata": {},
   "outputs": [
    {
     "name": "stdout",
     "output_type": "stream",
     "text": [
      "cncs_moderator2sample.pml\r\n",
      "log.sim\r\n",
      "\u001b[0m\u001b[01;34m_m2sout\u001b[0m/\r\n",
      "mcvine-instruments-cncs-beam.params\r\n",
      "mcvine-instruments-cncs-config_mod2sample.params\r\n",
      "mcvine-instruments-cncs-mod2sample.params\r\n",
      "\u001b[01;34mout\u001b[0m/\r\n",
      "run-m2s.sh\r\n"
     ]
    }
   ],
   "source": [
    "ls"
   ]
  },
  {
   "cell_type": "code",
   "execution_count": 20,
   "metadata": {},
   "outputs": [
    {
     "data": {
      "image/png": "[encoded data removed]",
      "text/plain": [
       "<matplotlib.figure.Figure at 0x7ff8abffdc50>"
      ]
     },
     "metadata": {},
     "output_type": "display_data"
    }
   ],
   "source": [
    "H.plot(hh.load('out/ienergy.h5'))"
   ]
  },
  {
   "cell_type": "code",
   "execution_count": 21,
   "metadata": {},
   "outputs": [
    {
     "data": {
      "image/png": "[encoded data removed]",
      "text/plain": [
       "<matplotlib.figure.Figure at 0x7ff8a977bdd0>"
      ]
     },
     "metadata": {},
     "output_type": "display_data"
    }
   ],
   "source": [
    "H.plot(hh.load('out/itof.h5')[(0.0181976262492,0.0220193209713)])"
   ]
  },
  {
   "cell_type": "code",
   "execution_count": 22,
   "metadata": {},
   "outputs": [
    {
     "name": "stdout",
     "output_type": "stream",
     "text": [
      "ienergy.h5  ix_divx.h5  ix_y.h5     iy_divy.h5  props.json\r\n",
      "itof.h5     ix_divy.h5  iy_divx.h5  neutrons    \u001b[0m\u001b[01;34mrank0-step0\u001b[0m/\r\n"
     ]
    }
   ],
   "source": [
    "ls out"
   ]
  },
  {
   "cell_type": "code",
   "execution_count": 23,
   "metadata": {
    "scrolled": false
   },
   "outputs": [
    {
     "name": "stdout",
     "output_type": "stream",
     "text": [
      "{'emission time': '119.031323571 microsecond', 'flux': '102697.291492 counts per 34kJ pulse', 'tof fwhm': '24.1301683326 microsecond', 'average tof': '20121.6783567 microsecond', 'average energy': '17.1803572162 meV'}"
     ]
    }
   ],
   "source": [
    "cat out/props.json"
   ]
  },
  {
   "cell_type": "code",
   "execution_count": 25,
   "metadata": {},
   "outputs": [
    {
     "name": "stdout",
     "output_type": "stream",
     "text": [
      "22917\r\n"
     ]
    }
   ],
   "source": [
    "#This is the total number of neutrons on the sample.  Typically Jiao recommends this number be greater than 1e6.\n",
    "\n",
    "!mcvine neutronstorage count out/neutrons"
   ]
  },
  {
   "cell_type": "markdown",
   "metadata": {},
   "source": [
    "# Sample"
   ]
  },
  {
   "cell_type": "code",
   "execution_count": 26,
   "metadata": {},
   "outputs": [
    {
     "name": "stdout",
     "output_type": "stream",
     "text": [
      "/SNS/users/lj7/simulations/CNCS/AgBiSe2/Tyson\n"
     ]
    }
   ],
   "source": [
    "cd {workdir}"
   ]
  },
  {
   "cell_type": "code",
   "execution_count": 27,
   "metadata": {},
   "outputs": [
    {
     "name": "stdout",
     "output_type": "stream",
     "text": [
      "Writing sample.yaml\n"
     ]
    }
   ],
   "source": [
    "%%file sample.yaml\n",
    "name: SnS\n",
    "chemical_formula: SnS\n",
    "lattice: \n",
    " constants: 11.2, 3.987, 4.334, 90, 90, 90\n",
    " basis_vectors:\n",
    "  - 11.2, 0, 0\n",
    "  - 0, 3.987, 0\n",
    "  - 0, 0, 4.334\n",
    "excitations:\n",
    " - type: DGSresolution\n",
    "orientation:\n",
    " u: 1, 0, 0\n",
    " v: 0, 0, 1\n",
    "shape: cylinder radius=\"1*cm\" height=\"2*cm\"\n",
    "temperature: 300*K"
   ]
  },
  {
   "cell_type": "code",
   "execution_count": 28,
   "metadata": {},
   "outputs": [],
   "source": [
    "sampleyml = \"{workdir}/sample.yaml\".format(**locals())"
   ]
  },
  {
   "cell_type": "code",
   "execution_count": 29,
   "metadata": {},
   "outputs": [
    {
     "name": "stdout",
     "output_type": "stream",
     "text": [
      "/SNS/users/lj7/simulations/CNCS/AgBiSe2/Tyson//sample.yaml\n"
     ]
    }
   ],
   "source": [
    "print sampleyml"
   ]
  },
  {
   "cell_type": "markdown",
   "metadata": {},
   "source": [
    "# CNCS Instrument"
   ]
  },
  {
   "cell_type": "code",
   "execution_count": 44,
   "metadata": {},
   "outputs": [
    {
     "name": "stdout",
     "output_type": "stream",
     "text": [
      "Using beam at /SNS/users/lj7/simulations/CNCS/AgBiSe2/Tyson/beam_17meV\n"
     ]
    }
   ],
   "source": [
    "#Here define the angle ranges for the sample scattering and instrument properties\n",
    "beam = os.path.join(workdir, 'beam_17meV')\n",
    "print \"Using beam at\", beam\n",
    "psi_axis = -30, 60, 1\n",
    "instrument = use_res_comps.instrument(\n",
    "    name = 'CNCS',\n",
    "    detsys_radius = \"3.5*meter\",\n",
    "    L_m2s = \"36.264*meter\",\n",
    "    offset_sample2beam = \"-0.15*meter\" # offset from sample to saved beam\n",
    "    )\n",
    "pixel = use_res_comps.pixel(\n",
    "    radius = \"0.5*inch\",\n",
    "    height = \"2.*meter/128\",\n",
    "    pressure = \"6*atm\",\n",
    "    )"
   ]
  },
  {
   "cell_type": "markdown",
   "metadata": {},
   "source": [
    "## psi scan"
   ]
  },
  {
   "cell_type": "code",
   "execution_count": 32,
   "metadata": {},
   "outputs": [],
   "source": [
    "class psi_scan:\n",
    "    min = -30.\n",
    "    max = 60.\n",
    "    step = 1."
   ]
  },
  {
   "cell_type": "markdown",
   "metadata": {},
   "source": [
    "# Try one point"
   ]
  },
  {
   "cell_type": "code",
   "execution_count": 33,
   "metadata": {},
   "outputs": [
    {
     "name": "stdout",
     "output_type": "stream",
     "text": [
      "/SNS/users/lj7/simulations/CNCS/AgBiSe2/Tyson\n"
     ]
    }
   ],
   "source": [
    "cd {workdir}"
   ]
  },
  {
   "cell_type": "markdown",
   "metadata": {},
   "source": [
    "** Define projection direction and starting point **"
   ]
  },
  {
   "cell_type": "code",
   "execution_count": 34,
   "metadata": {},
   "outputs": [],
   "source": [
    "hkl_projection = np.array([0,0,1])"
   ]
  },
  {
   "cell_type": "code",
   "execution_count": 53,
   "metadata": {},
   "outputs": [
    {
     "data": {
      "text/plain": [
       "array([ 0.,  0.,  0.])"
      ]
     },
     "execution_count": 53,
     "metadata": {},
     "output_type": "execute_result"
    }
   ],
   "source": [
    "hkl0 = np.array([0.,0,0])\n",
    "hkl0"
   ]
  },
  {
   "cell_type": "markdown",
   "metadata": {},
   "source": [
    "** Plot dynamical range **"
   ]
  },
  {
   "cell_type": "code",
   "execution_count": 54,
   "metadata": {},
   "outputs": [
    {
     "data": {
      "image/png": "[encoded data removed]",
      "text/plain": [
       "<matplotlib.figure.Figure at 0x7ff897edef90>"
      ]
     },
     "metadata": {},
     "output_type": "display_data"
    }
   ],
   "source": [
    "from mcvine.workflow.singlextal import dynrange\n",
    "from mcvine.workflow.sample import loadSampleYml\n",
    "sample = loadSampleYml(os.path.join(workdir, 'sample.yaml'))\n",
    "psilist = np.arange(psi_scan.min, psi_scan.max, psi_scan.step)\n",
    "Ei = 17.1803572162\n",
    "xaxis = np.arange(-6, 6, .1)\n",
    "def scattering_angle_constraints(theta, phi):\n",
    "    return ((theta<135.) * (theta > 3.) + (theta < -3)*(theta>-50)) * (phi<16) * (phi>-16)\n",
    "\n",
    "plt.figure()\n",
    "\n",
    "dynrange.plotDynRangeOfSlice(\n",
    "    sample, psilist, Ei, hkl0, hkl_projection, xaxis,\n",
    "    scattering_angle_constraints,\n",
    "    Erange=(-5, 16))\n",
    "plt.show()"
   ]
  },
  {
   "cell_type": "markdown",
   "metadata": {},
   "source": [
    "** Define point of interest **"
   ]
  },
  {
   "cell_type": "code",
   "execution_count": 55,
   "metadata": {},
   "outputs": [],
   "source": [
    "E = 5.\n",
    "x = -2"
   ]
  },
  {
   "cell_type": "code",
   "execution_count": 56,
   "metadata": {},
   "outputs": [],
   "source": [
    "hkl = hkl0 + hkl_projection*x"
   ]
  },
  {
   "cell_type": "code",
   "execution_count": 57,
   "metadata": {},
   "outputs": [
    {
     "data": {
      "text/plain": [
       "array([ 0.,  0., -2.])"
      ]
     },
     "execution_count": 57,
     "metadata": {},
     "output_type": "execute_result"
    }
   ],
   "source": [
    "hkl"
   ]
  },
  {
   "cell_type": "markdown",
   "metadata": {},
   "source": [
    "** Run simulation setup **"
   ]
  },
  {
   "cell_type": "code",
   "execution_count": 58,
   "metadata": {},
   "outputs": [
    {
     "data": {
      "text/plain": [
       "u'/SNS/users/lj7/simulations/CNCS/AgBiSe2/Tyson'"
      ]
     },
     "execution_count": 58,
     "metadata": {},
     "output_type": "execute_result"
    }
   ],
   "source": [
    "pwd"
   ]
  },
  {
   "cell_type": "code",
   "execution_count": 59,
   "metadata": {},
   "outputs": [],
   "source": [
    "rm -rf test/"
   ]
  },
  {
   "cell_type": "code",
   "execution_count": 60,
   "metadata": {
    "scrolled": true
   },
   "outputs": [
    {
     "name": "stdout",
     "output_type": "stream",
     "text": [
      "Ei=17.1803572162, t0=119.031323548\n",
      "Computed:\n",
      "* psi=40.3901876575 degree\n",
      "* Q=[ 1.87883615 -2.20839116  0.        ]\n",
      "* hkl2Qmat=[[ 0.42728425  0.36352124  0.        ]\n",
      " [-0.         -0.         -1.57591806]\n",
      " [-0.93941807  1.10419558  0.        ]]\n",
      "* ki=2.87944276204\n",
      "* vectors ki=[ 2.87944276  0.          0.        ], kf=[ 1.00060661  2.20839116  0.        ]\n",
      "These two numbers should be very close:\n",
      "  5.0\n",
      "  5.0\n",
      "  Ei=17.1803572162, Ef=12.1803572162\n",
      "* Ef=12.1803572162\n",
      "* pixel positon=[ 1.44447173  3.18802469  0.        ]\n",
      "* pixel_position=[ 1.44447173  3.18802469  0.        ]\n",
      "t_m2s=0.0201216783567, t_s2p=0.00229279851586, t_m2p=0.0224144768726\n"
     ]
    }
   ],
   "source": [
    "use_res_comps.setup(\n",
    "    'test',\n",
    "    sampleyml, beam, E, hkl, hkl_projection,\n",
    "    psi_scan, instrument, pixel)"
   ]
  },
  {
   "cell_type": "code",
   "execution_count": 61,
   "metadata": {},
   "outputs": [
    {
     "name": "stdout",
     "output_type": "stream",
     "text": [
      "run.py  \u001b[0m\u001b[01;34msample\u001b[0m/\r\n"
     ]
    }
   ],
   "source": [
    "ls test"
   ]
  },
  {
   "cell_type": "code",
   "execution_count": 62,
   "metadata": {},
   "outputs": [],
   "source": [
    "#! cat test/run.py"
   ]
  },
  {
   "cell_type": "code",
   "execution_count": 63,
   "metadata": {},
   "outputs": [],
   "source": [
    "#! cat test/sample/AgBiSe2-scatterer.xml"
   ]
  },
  {
   "cell_type": "markdown",
   "metadata": {},
   "source": [
    "** Run simulation. This will take a couple minutes **"
   ]
  },
  {
   "cell_type": "code",
   "execution_count": 64,
   "metadata": {},
   "outputs": [
    {
     "name": "stdout",
     "output_type": "stream",
     "text": [
      "weight:  1.0\n",
      "0-9999: ........../SNS/software/miniconda2/envs/py2/lib/python2.7/site-packages/mcni/SimulationContext.py:39: UserWarning: output directory was not set\n",
      "  warnings.warn(\"output directory was not set\")\n",
      "\n",
      "10000-19999: ..........\n",
      "20000-22916: ..........\n",
      "Done.\n"
     ]
    }
   ],
   "source": [
    "!cd test && python run.py"
   ]
  },
  {
   "cell_type": "code",
   "execution_count": 65,
   "metadata": {},
   "outputs": [],
   "source": [
    "# !cat test/log.run"
   ]
  },
  {
   "cell_type": "code",
   "execution_count": 66,
   "metadata": {},
   "outputs": [
    {
     "name": "stdout",
     "output_type": "stream",
     "text": [
      "total 610\r\n",
      "-rw-r--r-- 1 lj7 users  23952 Feb  6 14:25 res.h5\r\n",
      "-rw-r--r-- 1 lj7 users 151136 Feb  6 14:25 probs.npy\r\n",
      "-rw-r--r-- 1 lj7 users 151136 Feb  6 14:25 dEs.npy\r\n",
      "-rw-r--r-- 1 lj7 users 151136 Feb  6 14:25 dxs.npy\r\n",
      "-rw-r--r-- 1 lj7 users 453248 Feb  6 14:25 dhkls.npy\r\n",
      "-rw-r--r-- 1 lj7 users   1193 Feb  6 14:25 run.py\r\n",
      "drwxr-xr-x 2 lj7 users      5 Feb  6 14:25 \u001b[0m\u001b[01;34msample\u001b[0m/\r\n"
     ]
    }
   ],
   "source": [
    "ls -tl test"
   ]
  },
  {
   "cell_type": "code",
   "execution_count": 67,
   "metadata": {},
   "outputs": [
    {
     "data": {
      "text/plain": [
       "u'/SNS/users/lj7/simulations/CNCS/AgBiSe2/Tyson'"
      ]
     },
     "execution_count": 67,
     "metadata": {},
     "output_type": "execute_result"
    }
   ],
   "source": [
    "pwd"
   ]
  },
  {
   "cell_type": "code",
   "execution_count": 70,
   "metadata": {
    "scrolled": true
   },
   "outputs": [
    {
     "name": "stdout",
     "output_type": "stream",
     "text": [
      "plot z in (0.0, 0.0653912609786)\n"
     ]
    },
    {
     "data": {
      "image/png": "[encoded data removed]",
      "text/plain": [
       "<matplotlib.figure.Figure at 0x7ff884712b10>"
      ]
     },
     "metadata": {},
     "output_type": "display_data"
    }
   ],
   "source": [
    "H.plot(hh.load(\"test/res.h5\")[(-0.2,None), (None, 2)])"
   ]
  },
  {
   "cell_type": "code",
   "execution_count": 71,
   "metadata": {},
   "outputs": [
    {
     "data": {
      "text/plain": [
       "u'/SNS/users/lj7/simulations/CNCS/AgBiSe2/Tyson'"
      ]
     },
     "execution_count": 71,
     "metadata": {},
     "output_type": "execute_result"
    }
   ],
   "source": [
    "pwd"
   ]
  },
  {
   "cell_type": "code",
   "execution_count": 72,
   "metadata": {},
   "outputs": [
    {
     "name": "stdout",
     "output_type": "stream",
     "text": [
      "dEs.npy  dhkls.npy  dxs.npy  probs.npy  res.h5  run.py  \u001b[0m\u001b[01;34msample\u001b[0m/\r\n"
     ]
    }
   ],
   "source": [
    "ls test"
   ]
  },
  {
   "cell_type": "code",
   "execution_count": 31,
   "metadata": {},
   "outputs": [],
   "source": [
    "# load simulated data\n",
    "probs = np.load('test/probs.npy')\n",
    "dEs = np.load('test/dEs.npy')\n",
    "dhkls = np.load('test/dhkls.npy')"
   ]
  },
  {
   "cell_type": "code",
   "execution_count": 33,
   "metadata": {},
   "outputs": [],
   "source": [
    "# compute 2D histogram with q and E axes\n",
    "qs = np.dot(dhkls, hkl_projection)/np.linalg.norm(hkl_projection)**2\n",
    "I, qedges, Eedges = np.histogram2d(bins=(np.arange(-0.2, 0.2, 0.005), np.arange(-2,2,0.1)), weights=probs, x=qs, y=dEs )"
   ]
  },
  {
   "cell_type": "code",
   "execution_count": 34,
   "metadata": {},
   "outputs": [
    {
     "data": {
      "text/plain": [
       "<matplotlib.collections.QuadMesh at 0x7f24742bb0d0>"
      ]
     },
     "execution_count": 34,
     "metadata": {},
     "output_type": "execute_result"
    },
    {
     "data": {
      "image/png": "[encoded data removed]",
      "text/plain": [
       "<matplotlib.figure.Figure at 0x7f247432d490>"
      ]
     },
     "metadata": {},
     "output_type": "display_data"
    }
   ],
   "source": [
    "# plot\n",
    "Xg, Eg = np.meshgrid(xedges, Eedges)\n",
    "plt.pcolormesh(Xg, Eg, I.T)"
   ]
  },
  {
   "cell_type": "code",
   "execution_count": null,
   "metadata": {},
   "outputs": [],
   "source": []
  },
  {
   "cell_type": "code",
   "execution_count": null,
   "metadata": {},
   "outputs": [],
   "source": []
  },
  {
   "cell_type": "code",
   "execution_count": null,
   "metadata": {},
   "outputs": [],
   "source": []
  },
  {
   "cell_type": "code",
   "execution_count": 510,
   "metadata": {
    "collapsed": true
   },
   "outputs": [],
   "source": [
    "#dEs.npy is the energy, dhkls is the hkl value, dxs is the offset from the origin, "
   ]
  },
  {
   "cell_type": "code",
   "execution_count": 73,
   "metadata": {},
   "outputs": [],
   "source": [
    "resVals = hh.load('test/res.h5')\n"
   ]
  },
  {
   "cell_type": "code",
   "execution_count": 76,
   "metadata": {},
   "outputs": [],
   "source": [
    "res = hh.load('test/res.h5')\n",
    "intensity = res.I\n",
    "qvals = res.x\n",
    "energies = res.E\n",
    " \n",
    "import numpy as np\n",
    "np.savetxt('intensity.txt',intensity)\n",
    "np.savetxt('qvals.txt',qvals)\n",
    "np.savetxt('energies.txt',energies)"
   ]
  },
  {
   "cell_type": "code",
   "execution_count": null,
   "metadata": {},
   "outputs": [],
   "source": []
  },
  {
   "cell_type": "code",
   "execution_count": 78,
   "metadata": {},
   "outputs": [
    {
     "data": {
      "text/plain": [
       "array([[  0.00000000e+00,   0.00000000e+00,   0.00000000e+00, ...,\n",
       "          0.00000000e+00,   0.00000000e+00,   2.32136017e+09],\n",
       "       [  0.00000000e+00,   0.00000000e+00,   0.00000000e+00, ...,\n",
       "          0.00000000e+00,   0.00000000e+00,   0.00000000e+00],\n",
       "       [  0.00000000e+00,   0.00000000e+00,   0.00000000e+00, ...,\n",
       "          0.00000000e+00,   0.00000000e+00,   0.00000000e+00],\n",
       "       ..., \n",
       "       [  2.85640242e-04,   0.00000000e+00,   3.93271277e-11, ...,\n",
       "          0.00000000e+00,   0.00000000e+00,   0.00000000e+00],\n",
       "       [  0.00000000e+00,   6.50651116e-04,   1.24617665e-03, ...,\n",
       "          0.00000000e+00,   0.00000000e+00,   0.00000000e+00],\n",
       "       [  0.00000000e+00,   0.00000000e+00,   1.67525916e-03, ...,\n",
       "          0.00000000e+00,   0.00000000e+00,   0.00000000e+00]])"
      ]
     },
     "execution_count": 78,
     "metadata": {},
     "output_type": "execute_result"
    }
   ],
   "source": [
    "np.loadtxt('intensity.txt')"
   ]
  },
  {
   "cell_type": "code",
   "execution_count": 80,
   "metadata": {},
   "outputs": [
    {
     "data": {
      "text/plain": [
       "array([-1.9897071 , -1.96912131, -1.94853551, -1.92794971, -1.90736391,\n",
       "       -1.88677811, -1.86619231, -1.84560651, -1.82502071, -1.80443491,\n",
       "       -1.78384912, -1.76326332, -1.74267752, -1.72209172, -1.70150592,\n",
       "       -1.68092012, -1.66033432, -1.63974852, -1.61916272, -1.59857692,\n",
       "       -1.57799113, -1.55740533, -1.53681953, -1.51623373, -1.49564793,\n",
       "       -1.47506213, -1.45447633, -1.43389053, -1.41330473, -1.39271893,\n",
       "       -1.37213314, -1.35154734, -1.33096154, -1.31037574, -1.28978994,\n",
       "       -1.26920414, -1.24861834, -1.22803254, -1.20744674, -1.18686095,\n",
       "       -1.16627515, -1.14568935, -1.12510355, -1.10451775, -1.08393195,\n",
       "       -1.06334615, -1.04276035, -1.02217455, -1.00158875, -0.98100296,\n",
       "       -0.96041716, -0.93983136, -0.91924556, -0.89865976, -0.87807396,\n",
       "       -0.85748816, -0.83690236, -0.81631656, -0.79573076, -0.77514497,\n",
       "       -0.75455917, -0.73397337, -0.71338757, -0.69280177, -0.67221597,\n",
       "       -0.65163017, -0.63104437, -0.61045857, -0.58987277, -0.56928698,\n",
       "       -0.54870118, -0.52811538, -0.50752958, -0.48694378, -0.46635798,\n",
       "       -0.44577218, -0.42518638, -0.40460058, -0.38401479, -0.36342899,\n",
       "       -0.34284319, -0.32225739, -0.30167159, -0.28108579, -0.26049999,\n",
       "       -0.23991419, -0.21932839, -0.19874259, -0.1781568 , -0.157571  ,\n",
       "       -0.1369852 , -0.1163994 , -0.0958136 , -0.0752278 , -0.054642  ,\n",
       "       -0.0340562 , -0.0134704 ,  0.0071154 ,  0.02770119,  0.04828699])"
      ]
     },
     "execution_count": 80,
     "metadata": {},
     "output_type": "execute_result"
    }
   ],
   "source": [
    "np.loadtxt('qvals.txt')"
   ]
  },
  {
   "cell_type": "code",
   "execution_count": 81,
   "metadata": {},
   "outputs": [
    {
     "data": {
      "text/plain": [
       "array([-1.68964704, -1.62241441, -1.55518178, -1.48794914, -1.42071651,\n",
       "       -1.35348388, -1.28625124, -1.21901861, -1.15178598, -1.08455334,\n",
       "       -1.01732071, -0.95008807, -0.88285544, -0.81562281, -0.74839017,\n",
       "       -0.68115754, -0.61392491, -0.54669227, -0.47945964, -0.41222701,\n",
       "       -0.34499437, -0.27776174, -0.2105291 , -0.14329647, -0.07606384,\n",
       "       -0.0088312 ,  0.05840143,  0.12563406,  0.1928667 ,  0.26009933,\n",
       "        0.32733196,  0.3945646 ,  0.46179723,  0.52902987,  0.5962625 ,\n",
       "        0.66349513,  0.73072777,  0.7979604 ,  0.86519303,  0.93242567,\n",
       "        0.9996583 ,  1.06689093,  1.13412357,  1.2013562 ,  1.26858883,\n",
       "        1.33582147,  1.4030541 ,  1.47028674,  1.53751937,  1.604752  ,\n",
       "        1.67198464,  1.73921727,  1.8064499 ,  1.87368254,  1.94091517,\n",
       "        2.0081478 ,  2.07538044,  2.14261307,  2.20984571,  2.27707834,\n",
       "        2.34431097,  2.41154361,  2.47877624,  2.54600887,  2.61324151,\n",
       "        2.68047414,  2.74770677,  2.81493941,  2.88217204,  2.94940467,\n",
       "        3.01663731,  3.08386994,  3.15110258,  3.21833521,  3.28556784,\n",
       "        3.35280048,  3.42003311,  3.48726574,  3.55449838,  3.62173101,\n",
       "        3.68896364,  3.75619628,  3.82342891,  3.89066155,  3.95789418,\n",
       "        4.02512681,  4.09235945,  4.15959208,  4.22682471,  4.29405735,\n",
       "        4.36128998,  4.42852261,  4.49575525,  4.56298788,  4.63022052,\n",
       "        4.69745315,  4.76468578,  4.83191842,  4.89915105,  4.96638368])"
      ]
     },
     "execution_count": 81,
     "metadata": {},
     "output_type": "execute_result"
    }
   ],
   "source": [
    "np.loadtxt('energies.txt')"
   ]
  },
  {
   "cell_type": "markdown",
   "metadata": {},
   "source": [
    "# NOW Trying to run the calculation along a given direction for the fitted energy and Q centroids"
   ]
  },
  {
   "cell_type": "code",
   "execution_count": 265,
   "metadata": {},
   "outputs": [
    {
     "name": "stdout",
     "output_type": "stream",
     "text": [
      "/SNS/users/3qn/AgBiSe2/Resolution\n"
     ]
    }
   ],
   "source": [
    "cd {workdir}"
   ]
  },
  {
   "cell_type": "code",
   "execution_count": 15,
   "metadata": {},
   "outputs": [],
   "source": [
    "hkl_projection = np.array([0,0,1])"
   ]
  },
  {
   "cell_type": "code",
   "execution_count": 267,
   "metadata": {},
   "outputs": [
    {
     "data": {
      "text/plain": [
       "array([-2, -2,  0])"
      ]
     },
     "execution_count": 267,
     "metadata": {},
     "output_type": "execute_result"
    }
   ],
   "source": [
    "hkl0 = np.array([-2,-2,0])\n",
    "hkl0"
   ]
  },
  {
   "cell_type": "markdown",
   "metadata": {},
   "source": [
    "** Define point of interest **"
   ]
  },
  {
   "cell_type": "code",
   "execution_count": 333,
   "metadata": {
    "collapsed": true
   },
   "outputs": [],
   "source": [
    "#E = 2.87\n",
    "#x = 0.3\n",
    "tag = 'm2m2mL'\n",
    "\n",
    "Evals = [2.868,3.3942,3.7917,4.1122,4.4037,4.5681,4.6188,4.7303]\n",
    "Lvals = [-0.3,-0.4,-0.5,-0.6,-0.7,-0.8,-0.9,-1.0]\n"
   ]
  },
  {
   "cell_type": "code",
   "execution_count": 376,
   "metadata": {
    "collapsed": true
   },
   "outputs": [],
   "source": [
    "run = 7\n",
    "E = Evals[run]\n",
    "x = Lvals[run]"
   ]
  },
  {
   "cell_type": "code",
   "execution_count": 377,
   "metadata": {
    "collapsed": true
   },
   "outputs": [],
   "source": [
    "hkl = hkl0 + hkl_projection*x"
   ]
  },
  {
   "cell_type": "code",
   "execution_count": 378,
   "metadata": {
    "scrolled": true
   },
   "outputs": [
    {
     "data": {
      "text/plain": [
       "array([-2., -2., -1.])"
      ]
     },
     "execution_count": 378,
     "metadata": {},
     "output_type": "execute_result"
    }
   ],
   "source": [
    "hkl"
   ]
  },
  {
   "cell_type": "markdown",
   "metadata": {},
   "source": [
    "** Run simulation setup **"
   ]
  },
  {
   "cell_type": "code",
   "execution_count": 379,
   "metadata": {
    "scrolled": true
   },
   "outputs": [
    {
     "name": "stdout",
     "output_type": "stream",
     "text": [
      "15.1557796266 125.075700477\n",
      "Ei=15.1557796266, t0=125.075700477\n",
      "Computed:\n",
      "* psi=66.1808076703 degree\n",
      "* Q=[  2.35138923e+00  -2.21509440e+00  -5.46835878e-17]\n",
      "* hkl2Qmat=[[ -6.96565193e-01   3.07500614e-01  -7.61419527e-01]\n",
      " [ -6.96565193e-01   3.07500614e-01   7.61419527e-01]\n",
      " [  4.34871538e-01   9.85091943e-01   5.46835878e-17]]\n",
      "* ki=2.70446581426\n",
      "* vectors ki=[ 2.70446581  0.          0.        ], kf=[  3.53076581e-01   2.21509440e+00   5.46835878e-17]\n",
      "These two numbers should be very close:\n",
      "4.7303\n",
      "4.7303\n",
      "  Ei=15.1557796266, Ef=10.4254796266\n",
      "* Ef=10.4254796266\n",
      "* pixel positon=[  5.50930200e-01   3.45636745e+00   8.53266447e-17]\n",
      "* pixel_position=[  5.50930200e-01   3.45636745e+00   8.53266447e-17]\n",
      "t_m2s=0.0214218792754, t_s2p=0.00247826579355, t_m2p=0.023900145069\n"
     ]
    }
   ],
   "source": [
    "use_res_comps.setup(\n",
    "    '{0}_{1}'.format(tag,x),\n",
    "    sampleyml, beam, E, hkl, hkl_projection,\n",
    "    psi_axis, instrument, pixel)"
   ]
  },
  {
   "cell_type": "code",
   "execution_count": 380,
   "metadata": {},
   "outputs": [
    {
     "data": {
      "text/plain": [
       "u'/SNS/users/3qn/AgBiSe2/Resolution'"
      ]
     },
     "execution_count": 380,
     "metadata": {},
     "output_type": "execute_result"
    }
   ],
   "source": [
    "pwd"
   ]
  },
  {
   "cell_type": "markdown",
   "metadata": {},
   "source": [
    "** Run simulation. This will take a couple minutes **"
   ]
  },
  {
   "cell_type": "code",
   "execution_count": 381,
   "metadata": {
    "scrolled": false
   },
   "outputs": [
    {
     "name": "stdout",
     "output_type": "stream",
     "text": [
      "weight:  1.0\n",
      "0-99999: ........../SNS/software/miniconda2/envs/mcvine-unstable/lib/python2.7/site-packages/mcni/SimulationContext.py:39: UserWarning: output directory was not set\n",
      "  warnings.warn(\"output directory was not set\")\n",
      "\n",
      "100000-199999: ..........\n",
      "200000-299999: ..........\n",
      "300000-399999: ..........\n",
      "400000-499999: ..........\n",
      "500000-599999: ..........\n",
      "Done.\n"
     ]
    }
   ],
   "source": [
    "!cd m2m2mL_-1.0 && python run.py"
   ]
  },
  {
   "cell_type": "code",
   "execution_count": 382,
   "metadata": {
    "scrolled": true
   },
   "outputs": [
    {
     "name": "stdout",
     "output_type": "stream",
     "text": [
      "plot z in (0.0, 1.33698126626)\n"
     ]
    },
    {
     "data": {
      "image/png": "[encoded data removed]",
      "text/plain": [
       "<matplotlib.figure.Figure at 0x7f1ab1aa03d0>"
      ]
     },
     "metadata": {},
     "output_type": "display_data"
    }
   ],
   "source": [
    "H.plot(hh.load(\"{0}_{1}/res.h5\".format(tag,x)))"
   ]
  },
  {
   "cell_type": "code",
   "execution_count": 383,
   "metadata": {
    "collapsed": true
   },
   "outputs": [],
   "source": [
    "##now try extracting the intensities for overplotting"
   ]
  },
  {
   "cell_type": "code",
   "execution_count": null,
   "metadata": {},
   "outputs": [],
   "source": []
  },
  {
   "cell_type": "code",
   "execution_count": 384,
   "metadata": {},
   "outputs": [
    {
     "name": "stdout",
     "output_type": "stream",
     "text": [
      "/SNS/users/3qn/AgBiSe2/Resolution\n"
     ]
    }
   ],
   "source": [
    "cd {workdir}"
   ]
  },
  {
   "cell_type": "code",
   "execution_count": 385,
   "metadata": {
    "collapsed": true
   },
   "outputs": [],
   "source": [
    "res = hh.load(\"{0}_{1}/res.h5\".format(tag,x))\n",
    "I = res.I\n",
    "resx = res.x\n",
    "resE = res.E"
   ]
  },
  {
   "cell_type": "code",
   "execution_count": 386,
   "metadata": {},
   "outputs": [
    {
     "name": "stdout",
     "output_type": "stream",
     "text": [
      "142097189162.0\n"
     ]
    }
   ],
   "source": [
    "print I.max()"
   ]
  },
  {
   "cell_type": "code",
   "execution_count": 387,
   "metadata": {},
   "outputs": [
    {
     "name": "stdout",
     "output_type": "stream",
     "text": [
      "[-0.99448436 -0.98345307 -0.97242178 -0.96139049 -0.95035921 -0.93932792\n",
      " -0.92829663 -0.91726534 -0.90623405 -0.89520276 -0.88417148 -0.87314019\n",
      " -0.8621089  -0.85107761 -0.84004632 -0.82901504 -0.81798375 -0.80695246\n",
      " -0.79592117 -0.78488988 -0.7738586  -0.76282731 -0.75179602 -0.74076473\n",
      " -0.72973344 -0.71870215 -0.70767087 -0.69663958 -0.68560829 -0.674577\n",
      " -0.66354571 -0.65251443 -0.64148314 -0.63045185 -0.61942056 -0.60838927\n",
      " -0.59735798 -0.5863267  -0.57529541 -0.56426412 -0.55323283 -0.54220154\n",
      " -0.53117026 -0.52013897 -0.50910768 -0.49807639 -0.4870451  -0.47601381\n",
      " -0.46498253 -0.45395124 -0.44291995 -0.43188866 -0.42085737 -0.40982609\n",
      " -0.3987948  -0.38776351 -0.37673222 -0.36570093 -0.35466965 -0.34363836\n",
      " -0.33260707 -0.32157578 -0.31054449 -0.2995132  -0.28848192 -0.27745063\n",
      " -0.26641934 -0.25538805 -0.24435676 -0.23332548 -0.22229419 -0.2112629\n",
      " -0.20023161 -0.18920032 -0.17816903 -0.16713775 -0.15610646 -0.14507517\n",
      " -0.13404388 -0.12301259 -0.11198131 -0.10095002 -0.08991873 -0.07888744\n",
      " -0.06785615 -0.05682487 -0.04579358 -0.03476229 -0.023731   -0.01269971\n",
      " -0.00166842  0.00936286  0.02039415  0.03142544  0.04245673  0.05348802\n",
      "  0.0645193   0.07555059  0.08658188  0.09761317]\n"
     ]
    }
   ],
   "source": [
    "print resx"
   ]
  },
  {
   "cell_type": "code",
   "execution_count": 388,
   "metadata": {
    "scrolled": true
   },
   "outputs": [
    {
     "name": "stdout",
     "output_type": "stream",
     "text": [
      "[-1.77075481 -1.70541758 -1.64008034 -1.57474311 -1.50940587 -1.44406864\n",
      " -1.37873141 -1.31339417 -1.24805694 -1.1827197  -1.11738247 -1.05204523\n",
      " -0.986708   -0.92137077 -0.85603353 -0.7906963  -0.72535906 -0.66002183\n",
      " -0.59468459 -0.52934736 -0.46401013 -0.39867289 -0.33333566 -0.26799842\n",
      " -0.20266119 -0.13732395 -0.07198672 -0.00664949  0.05868775  0.12402498\n",
      "  0.18936222  0.25469945  0.32003669  0.38537392  0.45071115  0.51604839\n",
      "  0.58138562  0.64672286  0.71206009  0.77739733  0.84273456  0.90807179\n",
      "  0.97340903  1.03874626  1.1040835   1.16942073  1.23475797  1.3000952\n",
      "  1.36543243  1.43076967  1.4961069   1.56144414  1.62678137  1.69211861\n",
      "  1.75745584  1.82279307  1.88813031  1.95346754  2.01880478  2.08414201\n",
      "  2.14947925  2.21481648  2.28015371  2.34549095  2.41082818  2.47616542\n",
      "  2.54150265  2.60683989  2.67217712  2.73751435  2.80285159  2.86818882\n",
      "  2.93352606  2.99886329  3.06420053  3.12953776  3.19487499  3.26021223\n",
      "  3.32554946  3.3908867   3.45622393  3.52156117  3.5868984   3.65223563\n",
      "  3.71757287  3.7829101   3.84824734  3.91358457  3.97892181  4.04425904\n",
      "  4.10959627  4.17493351  4.24027074  4.30560798  4.37094521  4.43628245\n",
      "  4.50161968  4.56695691  4.63229415  4.69763138]\n"
     ]
    }
   ],
   "source": [
    "print resE"
   ]
  },
  {
   "cell_type": "code",
   "execution_count": 389,
   "metadata": {
    "collapsed": true
   },
   "outputs": [],
   "source": [
    "import numpy as np\n",
    "np.save(\"{2}_{0}/resE_{0}_{1}\".format(x,E,tag),resE)\n",
    "np.save(\"{2}_{0}/resX_{0}_{1}\".format(x,E,tag),resx)\n",
    "np.save(\"{2}_{0}/res_{0}_{1}\".format(x,E,tag),I)"
   ]
  },
  {
   "cell_type": "code",
   "execution_count": null,
   "metadata": {
    "collapsed": true
   },
   "outputs": [],
   "source": []
  }
 ],
 "metadata": {
  "kernelspec": {
   "display_name": "python2-default at jnrk-sns-analysis",
   "language": "python",
   "name": "jnrk-sns-analysis-python2-default"
  },
  "language_info": {
   "codemirror_mode": {
    "name": "ipython",
    "version": 2
   },
   "file_extension": ".py",
   "mimetype": "text/x-python",
   "name": "python",
   "nbconvert_exporter": "python",
   "pygments_lexer": "ipython2",
   "version": "2.7.12"
  }
 },
 "nbformat": 4,
 "nbformat_minor": 1
}
