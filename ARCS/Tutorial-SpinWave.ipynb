{
 "cells": [
  {
   "cell_type": "markdown",
   "metadata": {},
   "source": [
    "# Spin Wave Simulation"
   ]
  },
  {
   "cell_type": "markdown",
   "metadata": {},
   "source": [
    "Instrument: ARCS\n",
    "* Ei=100meV\n",
    "* Fermi chopper: 600 Hz\n",
    "* T0: 120Hz\n",
    " \n",
    "Sample: some crystal\n",
    "* lattice parameters: 2, 2.5, 3        90 90 90\n",
    "* Orientation: u,v = [1 0 2] and  [1 0 0]\n",
    "* psi angles: -90, 90, step 2\n"
   ]
  },
  {
   "cell_type": "markdown",
   "metadata": {},
   "source": [
    "## Step 0. some goodies"
   ]
  },
  {
   "cell_type": "code",
   "execution_count": 1,
   "metadata": {
    "collapsed": false
   },
   "outputs": [],
   "source": [
    "%matplotlib inline\n",
    "from matplotlib import pyplot as plt\n",
    "import numpy as np\n",
    "import histogram.hdf as hh, histogram as H"
   ]
  },
  {
   "cell_type": "markdown",
   "metadata": {},
   "source": [
    "## Step 1. create dir structure"
   ]
  },
  {
   "cell_type": "code",
   "execution_count": 2,
   "metadata": {
    "collapsed": true
   },
   "outputs": [],
   "source": [
    "# Change this!!!\n",
    "workdir = \"/SNS/users/lj7/simulations/ARCS/spinwave-demo/\"\n",
    "!mkdir -p {workdir}"
   ]
  },
  {
   "cell_type": "code",
   "execution_count": 3,
   "metadata": {
    "collapsed": false
   },
   "outputs": [
    {
     "name": "stdout",
     "output_type": "stream",
     "text": [
      "/SNS/users/lj7/simulations/ARCS/spinwave-demo\n",
      "beam  samples  scattering\r\n"
     ]
    }
   ],
   "source": [
    "%cd {workdir}\n",
    "!ls"
   ]
  },
  {
   "cell_type": "code",
   "execution_count": 5,
   "metadata": {
    "collapsed": true
   },
   "outputs": [],
   "source": [
    "!mkdir -p samples/X/sampleassembly\n",
    "!mkdir -p beam\n",
    "!mkdir -p scattering"
   ]
  },
  {
   "cell_type": "code",
   "execution_count": 6,
   "metadata": {
    "collapsed": false
   },
   "outputs": [
    {
     "name": "stdout",
     "output_type": "stream",
     "text": [
      ".\r\n",
      "./samples\r\n",
      "./samples/X\r\n",
      "./samples/X/sampleassembly\r\n",
      "./beam\r\n",
      "./scattering\r\n"
     ]
    }
   ],
   "source": [
    "!find ."
   ]
  },
  {
   "cell_type": "markdown",
   "metadata": {},
   "source": [
    "## Step 2. obtain beam simulation"
   ]
  },
  {
   "cell_type": "code",
   "execution_count": 8,
   "metadata": {
    "collapsed": true
   },
   "outputs": [],
   "source": [
    "!ln -s /SNS/users/lj7/simulations/ARCS/beam/100meV beam/100meV"
   ]
  },
  {
   "cell_type": "code",
   "execution_count": 9,
   "metadata": {
    "collapsed": false
   },
   "outputs": [
    {
     "name": "stdout",
     "output_type": "stream",
     "text": [
      "/SNS/users/lj7/simulations/ARCS/beam/100meV\n"
     ]
    }
   ],
   "source": [
    "%cd beam/100meV"
   ]
  },
  {
   "cell_type": "code",
   "execution_count": 10,
   "metadata": {
    "collapsed": false
   },
   "outputs": [
    {
     "data": {
      "text/plain": [
       "[<matplotlib.lines.Line2D at 0x7fcab39d41d0>]"
      ]
     },
     "execution_count": 10,
     "metadata": {},
     "output_type": "execute_result"
    },
    {
     "data": {
      "image/png": "[encoded data removed]",
      "text/plain": [
       "<matplotlib.figure.Figure at 0x7fcab5afac10>"
      ]
     },
     "metadata": {},
     "output_type": "display_data"
    }
   ],
   "source": [
    "# check\n",
    "import histogram.hdf as hh\n",
    "ie = hh.load(\"out/ienergy.h5\")\n",
    "plt.plot(ie.energy, ie.I)"
   ]
  },
  {
   "cell_type": "markdown",
   "metadata": {},
   "source": [
    "## Step 3. Create sample assembly"
   ]
  },
  {
   "cell_type": "code",
   "execution_count": 21,
   "metadata": {
    "collapsed": false
   },
   "outputs": [
    {
     "name": "stdout",
     "output_type": "stream",
     "text": [
      "/SNS/users/lj7/simulations/ARCS/spinwave-demo/samples/X/sampleassembly\n"
     ]
    }
   ],
   "source": [
    "%cd \"{workdir}/samples/X/sampleassembly\""
   ]
  },
  {
   "cell_type": "code",
   "execution_count": 12,
   "metadata": {
    "collapsed": true
   },
   "outputs": [],
   "source": [
    "%cp -a /SNS/users/lj7/simulations/samples/spinwave/* ."
   ]
  },
  {
   "cell_type": "code",
   "execution_count": 22,
   "metadata": {
    "collapsed": false
   },
   "outputs": [
    {
     "name": "stdout",
     "output_type": "stream",
     "text": [
      "Overwriting ./X.xyz\n"
     ]
    }
   ],
   "source": [
    "%%file ./X.xyz\n",
    "8\n",
    "2 0 0    0 2.5 0  0 0 3\n",
    "V 0 0 0\n",
    "V 0 0 0\n",
    "V 0 0 0\n",
    "V 0 0 0\n",
    "V 0 0 0\n",
    "V 0 0 0\n",
    "V 0 0 0\n",
    "V 0 0 0\n"
   ]
  },
  {
   "cell_type": "code",
   "execution_count": 23,
   "metadata": {
    "collapsed": false
   },
   "outputs": [
    {
     "name": "stdout",
     "output_type": "stream",
     "text": [
      "Overwriting ./X-scatterer.xml\n"
     ]
    }
   ],
   "source": [
    "%%file ./X-scatterer.xml\n",
    "<?xml version=\"1.0\"?>\n",
    "\n",
    "<!DOCTYPE scatterer>\n",
    "\n",
    "<!-- weights: absorption, scattering, transmission -->\n",
    "<homogeneous_scatterer \n",
    "  mcweights=\"0, 1, 0.1\"\n",
    "  max_multiplescattering_loops=\"3\"\n",
    "  >\n",
    "  \n",
    "  <KernelContainer average=\"yes\">\n",
    "    \n",
    "    <E_Q_Kernel \n",
    "\tE_Q=\"0\" \n",
    "\tS_Q=\"1\"\n",
    "\tQmin=\"0./angstrom\"\n",
    "\tQmax=\"16./angstrom\"\n",
    "\t/>\n",
    "    \n",
    "    <E_vQ_Kernel \n",
    "\tE_Q=\"pi:=3.1415926535897932; twopi:=2*pi; a:=2; b:=2.5; c:=3; \n",
    "    h:=a*Qx/twopi; k:=b*Qy/twopi; l:=c*Qz/twopi; \n",
    "    cospih2:=cos(h*pi)^2; cospil2:=cos(l*pi)^2; cospik2:=cos(k*pi)^2; \n",
    "    (80.^2*(1-cospih2*cospik2*cospil2)) ^ (0.5)\"\n",
    "\tS_Q=\"1\"\n",
    "\tEmax=\"80*meV\"\n",
    "\t/>\n",
    "    \n",
    "  </KernelContainer>\n",
    "  \n",
    "</homogeneous_scatterer>"
   ]
  },
  {
   "cell_type": "code",
   "execution_count": 26,
   "metadata": {
    "collapsed": false
   },
   "outputs": [
    {
     "data": {
      "text/plain": [
       "(array([ 3.14159265,  0.        ,  0.        ]),\n",
       " array([ 0.        ,  2.51327412,  0.        ]),\n",
       " array([ 0.       ,  0.       ,  2.0943951]))"
      ]
     },
     "execution_count": 26,
     "metadata": {},
     "output_type": "execute_result"
    }
   ],
   "source": [
    "a,b,c=2,2.5,3\n",
    "\n",
    "from numpy import sin, cos, deg2rad\n",
    "a1 = [a, 0, 0]\n",
    "a2 = [0, b, 0]\n",
    "a3 = [0, 0, c]\n",
    "\n",
    "twopi = 2*np.pi\n",
    "f = twopi/np.dot(a1, np.cross(a2, a3))\n",
    "b1 = np.cross(a2,a3) * f\n",
    "b2 = np.cross(a3,a1) * f\n",
    "b3 = np.cross(a1,a2) * f\n",
    "b1,b2,b3"
   ]
  },
  {
   "cell_type": "markdown",
   "metadata": {},
   "source": [
    "#### Orientation of the kernel\n",
    "Here we need to use the convention that z is along beam, y vertical up.\n",
    "The kernel has its own cartesian axis e’x e’y e’z. Because we know\n",
    "u = 102 v = 100\n",
    ", we have the basis vectors of the instrument coordinate system\n",
    "\n",
    "    ez along b1 + 2*b3\n",
    "    ex along b1\n",
    "    \n",
    "\n",
    "So we have them in the reciprocal cartesian axis"
   ]
  },
  {
   "cell_type": "code",
   "execution_count": 27,
   "metadata": {
    "collapsed": false
   },
   "outputs": [
    {
     "data": {
      "text/plain": [
       "(array([ 0.8,  0. , -0.6]), array([ 0.,  1.,  0.]), array([ 0.6,  0. ,  0.8]))"
      ]
     },
     "execution_count": 27,
     "metadata": {},
     "output_type": "execute_result"
    }
   ],
   "source": [
    "ez = b1 + 2*b3; ez /= np.linalg.norm(ez)\n",
    "ex1 = b1\n",
    "ey = np.cross(ez, ex1); ey/=np.linalg.norm(ey)\n",
    "ex = np.cross(ey, ez)\n",
    "ex, ey, ez"
   ]
  },
  {
   "cell_type": "markdown",
   "metadata": {},
   "source": [
    "The rotation matrix is define as\n",
    "```\n",
    "    ex.ex’ ex.ey’ ex.ez’ \n",
    "R = ey.ex’ ey.ey’ ey.ez’\n",
    "    ez.ex’ ez.ey’ ez.ez’\n",
    "```\n",
    "So"
   ]
  },
  {
   "cell_type": "code",
   "execution_count": 28,
   "metadata": {
    "collapsed": false
   },
   "outputs": [
    {
     "data": {
      "text/plain": [
       "(array([[ 0.8,  0. , -0.6],\n",
       "        [ 0. ,  1. ,  0. ],\n",
       "        [ 0.6,  0. ,  0.8]]),\n",
       " array([ 0.8,  0. , -0.6,  0. ,  1. ,  0. ,  0.6,  0. ,  0.8]))"
      ]
     },
     "execution_count": 28,
     "metadata": {},
     "output_type": "execute_result"
    }
   ],
   "source": [
    "R = np.array([ ex, ey, ez ])\n",
    "Rflat = R.copy(); Rflat.shape = -1,\n",
    "R, Rflat"
   ]
  },
  {
   "cell_type": "markdown",
   "metadata": {},
   "source": [
    "Now we add an extra kernel parameter:"
   ]
  },
  {
   "cell_type": "code",
   "execution_count": 29,
   "metadata": {
    "collapsed": false
   },
   "outputs": [
    {
     "data": {
      "text/plain": [
       "'orientation=\"0.8,0.0,-0.6,0.0,1.0,0.0,0.6,0.0,0.8\"'"
      ]
     },
     "execution_count": 29,
     "metadata": {},
     "output_type": "execute_result"
    }
   ],
   "source": [
    "'orientation=\"%s\"' % (','.join(str(e) for e in Rflat),)"
   ]
  },
  {
   "cell_type": "code",
   "execution_count": 30,
   "metadata": {
    "collapsed": false
   },
   "outputs": [
    {
     "name": "stdout",
     "output_type": "stream",
     "text": [
      "Overwriting ./X-scatterer.xml\n"
     ]
    }
   ],
   "source": [
    "%%file ./X-scatterer.xml\n",
    "<?xml version=\"1.0\"?>\n",
    "\n",
    "<!DOCTYPE scatterer>\n",
    "\n",
    "<!-- weights: absorption, scattering, transmission -->\n",
    "<homogeneous_scatterer \n",
    "  mcweights=\"0, 1, 0.1\"\n",
    "  max_multiplescattering_loops=\"3\"\n",
    "  >\n",
    "  \n",
    "  <KernelContainer average=\"yes\">\n",
    "    \n",
    "    <E_Q_Kernel \n",
    "\tE_Q=\"0\" \n",
    "\tS_Q=\"1\"\n",
    "\tQmin=\"0./angstrom\"\n",
    "\tQmax=\"16./angstrom\"\n",
    "\t/>\n",
    "    \n",
    "    <E_vQ_Kernel \n",
    "\tE_Q=\"pi:=3.1415926535897932; twopi:=2*pi; a:=4; b:=5; c:=6; \n",
    "    h:=a*Qx/twopi; k:=b*Qy/twopi; l:=c*Qz/twopi;\n",
    "    cospih2:=cos(h*pi)^2; cospil2:=cos(l*pi)^2; cospik2:=cos(k*pi)^2; \n",
    "    (80.^2*(1-cospih2*cospik2*cospil2)) ^ (0.5)\"\n",
    "\tS_Q=\"1\"\n",
    "\tEmax=\"80*meV\"\n",
    "\torientation=\"0.8,0.0,-0.6,0.0,1.0,0.0,0.6,0.0,0.8\"\n",
    "\t/>\n",
    "    \n",
    "  </KernelContainer>\n",
    "  \n",
    "</homogeneous_scatterer>"
   ]
  },
  {
   "cell_type": "markdown",
   "metadata": {},
   "source": [
    "** !!! Edit X-scatterer.xml **"
   ]
  },
  {
   "cell_type": "code",
   "execution_count": 32,
   "metadata": {
    "collapsed": true
   },
   "outputs": [
    {
     "name": "stdout",
     "output_type": "stream",
     "text": [
      "<?xml version=\"1.0\"?>\r\n",
      "\r\n",
      "<!DOCTYPE scatterer>\r\n",
      "\r\n",
      "<!-- weights: absorption, scattering, transmission -->\r\n",
      "<homogeneous_scatterer \r\n",
      "  mcweights=\"0, 1, 0.1\"\r\n",
      "  max_multiplescattering_loops=\"3\"\r\n",
      "  >\r\n",
      "  \r\n",
      "  <KernelContainer average=\"yes\">\r\n",
      "    \r\n",
      "    <E_Q_Kernel \r\n",
      "\tE_Q=\"0\" \r\n",
      "\tS_Q=\"1\"\r\n",
      "\tQmin=\"0./angstrom\"\r\n",
      "\tQmax=\"16./angstrom\"\r\n",
      "\t/>\r\n",
      "    \r\n",
      "    <E_vQ_Kernel \r\n",
      "\tE_Q=\"pi:=3.1415926535897932; twopi:=2*pi; a:=4; b:=5; c:=6; \r\n",
      "    h:=a*Qx/twopi; k:=b*Qy/twopi; l:=c*Qz/twopi;\r\n",
      "    cospih2:=cos(h*pi)^2; cospil2:=cos(l*pi)^2; cospik2:=cos(k*pi)^2; \r\n",
      "    (80.^2*(1-cospih2*cospik2*cospil2)) ^ (0.5)\"\r\n",
      "\tS_Q=\"1\"\r\n",
      "\tEmax=\"80*meV\"\r\n",
      "\torientation=\"0.8,0.0,-0.6,0.0,1.0,0.0,0.6,0.0,0.8\"\r\n",
      "\t/>\r\n",
      "    \r\n",
      "  </KernelContainer>\r\n",
      "  \r\n",
      "</homogeneous_scatterer>"
     ]
    }
   ],
   "source": [
    "!cat X-scatterer.xml"
   ]
  },
  {
   "cell_type": "markdown",
   "metadata": {},
   "source": [
    "## Step 4. Scattering"
   ]
  },
  {
   "cell_type": "code",
   "execution_count": 33,
   "metadata": {
    "collapsed": false
   },
   "outputs": [
    {
     "name": "stdout",
     "output_type": "stream",
     "text": [
      "/SNS/users/lj7/simulations/ARCS/spinwave-demo/scattering\n"
     ]
    }
   ],
   "source": [
    "%cd \"{workdir}/scattering\""
   ]
  },
  {
   "cell_type": "code",
   "execution_count": 28,
   "metadata": {
    "collapsed": false
   },
   "outputs": [
    {
     "name": "stdout",
     "output_type": "stream",
     "text": [
      "scripts  template\r\n"
     ]
    }
   ],
   "source": [
    "!rsync -a ~lj7/simulations/mcvine_workflow/DGS/ARCS/single-crystal/* ./\n",
    "!ls"
   ]
  },
  {
   "cell_type": "code",
   "execution_count": 29,
   "metadata": {
    "collapsed": false
   },
   "outputs": [
    {
     "name": "stdout",
     "output_type": "stream",
     "text": [
      "/SNS/users/lj7/simulations/ARCS/spinwave-demo/scattering/template\n",
      "/SNS/users/lj7/simulations/ARCS/spinwave-demo/scattering\n"
     ]
    }
   ],
   "source": [
    "%cd template\n",
    "\n",
    "!ln -s ../../samples/X/sampleassembly\n",
    "\n",
    "!ln -s ../../beam/100meV beam\n",
    "\n",
    "%cd .."
   ]
  },
  {
   "cell_type": "code",
   "execution_count": 36,
   "metadata": {
    "collapsed": false
   },
   "outputs": [
    {
     "name": "stdout",
     "output_type": "stream",
     "text": [
      "Overwriting sim.yml\n"
     ]
    }
   ],
   "source": [
    "%%file sim.yml\n",
    "\n",
    "cluster:\n",
    "  nodes: 1\n",
    "instrument:\n",
    "  name: arcs\n",
    "scatter:\n",
    "  ncount: 1e6\n",
    "  multiple_scattering: off\n",
    "  template: ./template\n"
   ]
  },
  {
   "cell_type": "code",
   "execution_count": 35,
   "metadata": {
    "collapsed": false
   },
   "outputs": [
    {
     "name": "stdout",
     "output_type": "stream",
     "text": [
      "SAMPLE_ANGLE=30.0 time ./scatter &> log.scatter\n",
      "time ./create-nxs &> log.create-nxs\n",
      "\n",
      "real\t2m38.687s\n",
      "user\t20m26.507s\n",
      "sys\t3m7.381s\n",
      "cp sim.nxs sim-30.0.nxs\n",
      "mcvine instruments arcs nxs populate_metadata --type=Ei --beam_outdir=beam/out --nxs=sim-30.0.nxs\n",
      "/SNS/users/lj7/software/miniconda2/envs/mcvine/lib/python2.7/site-packages/mcvine/deployment_info.py:41: UserWarning: Neither environment variable MCVINE_DIR nor DANSE_DIR was defined. Assumed that it is /SNS/users/lj7/software/miniconda2/envs/mcvine.\n",
      "  warnings.warn(msg)\n"
     ]
    }
   ],
   "source": [
    "!./scripts/sim.py --angle=30.0"
   ]
  },
  {
   "cell_type": "markdown",
   "metadata": {},
   "source": [
    "## Step 5. Reduction"
   ]
  },
  {
   "cell_type": "code",
   "execution_count": 39,
   "metadata": {
    "collapsed": false
   },
   "outputs": [
    {
     "name": "stdout",
     "output_type": "stream",
     "text": [
      "/SNS/users/lj7/simulations/ARCS/spinwave-demo/scattering\n",
      "config.py\t   template    work_26.0   work_50.0   work_70.0\r\n",
      "config.pyc\t   work_-10.0  work_-30.0  work_-54.0  work_-74.0\r\n",
      "create_bunch.py    work_10.0   work_30.0   work_54.0   work_74.0\r\n",
      "run1\t\t   work_-14.0  work_-34.0  work_-58.0  work_-78.0\r\n",
      "run2\t\t   work_14.0   work_34.0   work_58.0   work_78.0\r\n",
      "runall\t\t   work_-18.0  work_-38.0  work_-6.0   work_-82.0\r\n",
      "scripts\t\t   work_18.0   work_38.0   work_6.0    work_82.0\r\n",
      "sim.yml\t\t   work_-2.0   work_-42.0  work_-62.0  work_-86.0\r\n",
      "slice_H00_-5,5.h5  work_2.0    work_42.0   work_62.0   work_86.0\r\n",
      "slice_H00.h5\t   work_-22.0  work_-46.0  work_-66.0  work_-90.0\r\n",
      "slice_H00.nxs\t   work_22.0   work_46.0   work_66.0   work_90.0\r\n",
      "slice_H00.yml\t   work_-26.0  work_-50.0  work_-70.0  X.xyz\r\n"
     ]
    }
   ],
   "source": [
    "%cd \"{workdir}/scattering\"\n",
    "!ls"
   ]
  },
  {
   "cell_type": "markdown",
   "metadata": {},
   "source": [
    "First we reduce event-mode nexus data for each angle using Mantid"
   ]
  },
  {
   "cell_type": "code",
   "execution_count": 41,
   "metadata": {
    "collapsed": false
   },
   "outputs": [
    {
     "name": "stdout",
     "output_type": "stream",
     "text": [
      "ls: cannot access work_2.0/reduced*: No such file or directory\r\n"
     ]
    }
   ],
   "source": [
    "!ls work_2.0/reduced*"
   ]
  },
  {
   "cell_type": "code",
   "execution_count": 17,
   "metadata": {
    "collapsed": true
   },
   "outputs": [
    {
     "name": "stdout",
     "output_type": "stream",
     "text": [
      "work_-90.0 ['python', '../scripts/reduce/reduceKeepingEvents.py', 'sim--90.0.nxs', '-90.0', '100', '0,0.5,80', 'reduced_-90.0.nxs']\n",
      "work_-86.0 ['python', '../scripts/reduce/reduceKeepingEvents.py', 'sim--86.0.nxs', '-86.0', '100', '0,0.5,80', 'reduced_-86.0.nxs']\n",
      "work_-82.0 ['python', '../scripts/reduce/reduceKeepingEvents.py', 'sim--82.0.nxs', '-82.0', '100', '0,0.5,80', 'reduced_-82.0.nxs']\n",
      "work_-78.0 ['python', '../scripts/reduce/reduceKeepingEvents.py', 'sim--78.0.nxs', '-78.0', '100', '0,0.5,80', 'reduced_-78.0.nxs']\n",
      "work_-74.0 ['python', '../scripts/reduce/reduceKeepingEvents.py', 'sim--74.0.nxs', '-74.0', '100', '0,0.5,80', 'reduced_-74.0.nxs']\n",
      "work_-70.0 ['python', '../scripts/reduce/reduceKeepingEvents.py', 'sim--70.0.nxs', '-70.0', '100', '0,0.5,80', 'reduced_-70.0.nxs']\n",
      "work_-66.0 ['python', '../scripts/reduce/reduceKeepingEvents.py', 'sim--66.0.nxs', '-66.0', '100', '0,0.5,80', 'reduced_-66.0.nxs']\n",
      "work_-62.0 ['python', '../scripts/reduce/reduceKeepingEvents.py', 'sim--62.0.nxs', '-62.0', '100', '0,0.5,80', 'reduced_-62.0.nxs']\n",
      "work_-58.0 ['python', '../scripts/reduce/reduceKeepingEvents.py', 'sim--58.0.nxs', '-58.0', '100', '0,0.5,80', 'reduced_-58.0.nxs']\n",
      "work_-54.0 ['python', '../scripts/reduce/reduceKeepingEvents.py', 'sim--54.0.nxs', '-54.0', '100', '0,0.5,80', 'reduced_-54.0.nxs']\n",
      "work_-50.0 ['python', '../scripts/reduce/reduceKeepingEvents.py', 'sim--50.0.nxs', '-50.0', '100', '0,0.5,80', 'reduced_-50.0.nxs']\n",
      "work_-46.0 ['python', '../scripts/reduce/reduceKeepingEvents.py', 'sim--46.0.nxs', '-46.0', '100', '0,0.5,80', 'reduced_-46.0.nxs']\n",
      "work_-42.0 ['python', '../scripts/reduce/reduceKeepingEvents.py', 'sim--42.0.nxs', '-42.0', '100', '0,0.5,80', 'reduced_-42.0.nxs']\n",
      "work_-38.0 ['python', '../scripts/reduce/reduceKeepingEvents.py', 'sim--38.0.nxs', '-38.0', '100', '0,0.5,80', 'reduced_-38.0.nxs']\n",
      "work_-34.0 ['python', '../scripts/reduce/reduceKeepingEvents.py', 'sim--34.0.nxs', '-34.0', '100', '0,0.5,80', 'reduced_-34.0.nxs']\n",
      "work_-30.0 ['python', '../scripts/reduce/reduceKeepingEvents.py', 'sim--30.0.nxs', '-30.0', '100', '0,0.5,80', 'reduced_-30.0.nxs']\n",
      "work_-26.0 ['python', '../scripts/reduce/reduceKeepingEvents.py', 'sim--26.0.nxs', '-26.0', '100', '0,0.5,80', 'reduced_-26.0.nxs']\n",
      "work_-22.0 ['python', '../scripts/reduce/reduceKeepingEvents.py', 'sim--22.0.nxs', '-22.0', '100', '0,0.5,80', 'reduced_-22.0.nxs']\n",
      "work_-18.0 ['python', '../scripts/reduce/reduceKeepingEvents.py', 'sim--18.0.nxs', '-18.0', '100', '0,0.5,80', 'reduced_-18.0.nxs']\n",
      "work_-14.0 ['python', '../scripts/reduce/reduceKeepingEvents.py', 'sim--14.0.nxs', '-14.0', '100', '0,0.5,80', 'reduced_-14.0.nxs']\n",
      "work_-10.0 ['python', '../scripts/reduce/reduceKeepingEvents.py', 'sim--10.0.nxs', '-10.0', '100', '0,0.5,80', 'reduced_-10.0.nxs']\n",
      "work_-6.0 ['python', '../scripts/reduce/reduceKeepingEvents.py', 'sim--6.0.nxs', '-6.0', '100', '0,0.5,80', 'reduced_-6.0.nxs']\n",
      "work_-2.0 ['python', '../scripts/reduce/reduceKeepingEvents.py', 'sim--2.0.nxs', '-2.0', '100', '0,0.5,80', 'reduced_-2.0.nxs']\n",
      "work_2.0 ['python', '../scripts/reduce/reduceKeepingEvents.py', 'sim-2.0.nxs', '2.0', '100', '0,0.5,80', 'reduced_2.0.nxs']\n",
      "work_6.0 ['python', '../scripts/reduce/reduceKeepingEvents.py', 'sim-6.0.nxs', '6.0', '100', '0,0.5,80', 'reduced_6.0.nxs']\n",
      "work_10.0 ['python', '../scripts/reduce/reduceKeepingEvents.py', 'sim-10.0.nxs', '10.0', '100', '0,0.5,80', 'reduced_10.0.nxs']\n",
      "work_14.0 ['python', '../scripts/reduce/reduceKeepingEvents.py', 'sim-14.0.nxs', '14.0', '100', '0,0.5,80', 'reduced_14.0.nxs']\n",
      "work_18.0 ['python', '../scripts/reduce/reduceKeepingEvents.py', 'sim-18.0.nxs', '18.0', '100', '0,0.5,80', 'reduced_18.0.nxs']\n",
      "work_22.0 ['python', '../scripts/reduce/reduceKeepingEvents.py', 'sim-22.0.nxs', '22.0', '100', '0,0.5,80', 'reduced_22.0.nxs']\n",
      "work_26.0 ['python', '../scripts/reduce/reduceKeepingEvents.py', 'sim-26.0.nxs', '26.0', '100', '0,0.5,80', 'reduced_26.0.nxs']\n",
      "work_30.0 ['python', '../scripts/reduce/reduceKeepingEvents.py', 'sim-30.0.nxs', '30.0', '100', '0,0.5,80', 'reduced_30.0.nxs']\n",
      "work_34.0 ['python', '../scripts/reduce/reduceKeepingEvents.py', 'sim-34.0.nxs', '34.0', '100', '0,0.5,80', 'reduced_34.0.nxs']\n",
      "work_38.0 ['python', '../scripts/reduce/reduceKeepingEvents.py', 'sim-38.0.nxs', '38.0', '100', '0,0.5,80', 'reduced_38.0.nxs']\n",
      "work_42.0 ['python', '../scripts/reduce/reduceKeepingEvents.py', 'sim-42.0.nxs', '42.0', '100', '0,0.5,80', 'reduced_42.0.nxs']\n",
      "work_46.0 ['python', '../scripts/reduce/reduceKeepingEvents.py', 'sim-46.0.nxs', '46.0', '100', '0,0.5,80', 'reduced_46.0.nxs']\n",
      "work_50.0 ['python', '../scripts/reduce/reduceKeepingEvents.py', 'sim-50.0.nxs', '50.0', '100', '0,0.5,80', 'reduced_50.0.nxs']\n",
      "work_54.0 ['python', '../scripts/reduce/reduceKeepingEvents.py', 'sim-54.0.nxs', '54.0', '100', '0,0.5,80', 'reduced_54.0.nxs']\n",
      "work_58.0 ['python', '../scripts/reduce/reduceKeepingEvents.py', 'sim-58.0.nxs', '58.0', '100', '0,0.5,80', 'reduced_58.0.nxs']\n",
      "work_62.0 ['python', '../scripts/reduce/reduceKeepingEvents.py', 'sim-62.0.nxs', '62.0', '100', '0,0.5,80', 'reduced_62.0.nxs']\n",
      "work_66.0 ['python', '../scripts/reduce/reduceKeepingEvents.py', 'sim-66.0.nxs', '66.0', '100', '0,0.5,80', 'reduced_66.0.nxs']\n",
      "work_70.0 ['python', '../scripts/reduce/reduceKeepingEvents.py', 'sim-70.0.nxs', '70.0', '100', '0,0.5,80', 'reduced_70.0.nxs']\n",
      "work_74.0 ['python', '../scripts/reduce/reduceKeepingEvents.py', 'sim-74.0.nxs', '74.0', '100', '0,0.5,80', 'reduced_74.0.nxs']\n",
      "work_78.0 ['python', '../scripts/reduce/reduceKeepingEvents.py', 'sim-78.0.nxs', '78.0', '100', '0,0.5,80', 'reduced_78.0.nxs']\n",
      "work_82.0 ['python', '../scripts/reduce/reduceKeepingEvents.py', 'sim-82.0.nxs', '82.0', '100', '0,0.5,80', 'reduced_82.0.nxs']\n",
      "work_86.0 ['python', '../scripts/reduce/reduceKeepingEvents.py', 'sim-86.0.nxs', '86.0', '100', '0,0.5,80', 'reduced_86.0.nxs']\n"
     ]
    }
   ],
   "source": [
    "!./scripts/reduce/reduceKeepingEvents_batch.py -90,90.1,4. 100 0,80,0.5"
   ]
  },
  {
   "cell_type": "code",
   "execution_count": 15,
   "metadata": {
    "collapsed": false
   },
   "outputs": [
    {
     "name": "stdout",
     "output_type": "stream",
     "text": [
      "Overwriting slice_H00.yml\n"
     ]
    }
   ],
   "source": [
    "%%file slice_H00.yml\n",
    "\n",
    "angles: -90,90.1,4.0\n",
    "filename_pattern: work_%(angle)s/reduced_%(angle)s.nxs\n",
    "lattice: 2., 2.5, 3., 90, 90, 90\n",
    "orientation:\n",
    " u: 1, 0, 2\n",
    " v: 1,0,0\n",
    "Eaxis:\n",
    " min: 0\n",
    " max: 80\n",
    " N: 160\n",
    "Q_projections:\n",
    " U:\n",
    "  proj: 1,0,0\n",
    "  proj_name: H,0,0\n",
    "  min: -5\n",
    "  max: 0\n",
    "  N: 251\n",
    " V:\n",
    "  proj: 0,1,0\n",
    "  proj_name: 0,K,0\n",
    "  min: -0.3\n",
    "  max: 0.3\n",
    "  N: 1\n",
    " W:\n",
    "  proj: 0,0,1\n",
    "  proj_name: 0,0,L\n",
    "  min: -.3\n",
    "  max: .3\n",
    "  N: 1\n",
    "output: slice_H00.nxs\n"
   ]
  },
  {
   "cell_type": "code",
   "execution_count": 8,
   "metadata": {
    "collapsed": true
   },
   "outputs": [],
   "source": [
    "!cp /SNS/users/lj7/simulations/mcvine_workflow/DGS/ARCS/single-crystal/scripts/config.py ."
   ]
  },
  {
   "cell_type": "code",
   "execution_count": 16,
   "metadata": {
    "collapsed": false,
    "scrolled": true
   },
   "outputs": [
    {
     "name": "stdout",
     "output_type": "stream",
     "text": [
      "-90.0 work_-90.0/reduced_-90.0.nxs\n",
      "FrameworkManager-[Notice] Welcome to Mantid 3.6.100\n",
      "FrameworkManager-[Notice] Please cite: http://dx.doi.org/10.1016/j.nima.2014.07.029 and this release: http://dx.doi.org/10.5286/Software/Mantid3.6.100\n",
      "Load-[Notice] Load started\n",
      "Load-[Notice] Load successful, Duration 33.31 seconds\n",
      "CompressEvents-[Notice] CompressEvents started\n",
      "CompressEvents-[Notice] CompressEvents started\n",
      "CompressEvents-[Notice] CompressEvents successful, Duration 0.53 seconds\n",
      "CompressEvents-[Notice] CompressEvents started\n",
      "CompressEvents-[Notice] CompressEvents successful, Duration 0.65 seconds\n",
      "CompressEvents-[Notice] CompressEvents started\n",
      "CompressEvents-[Notice] CompressEvents successful, Duration 0.70 seconds\n",
      "CompressEvents-[Notice] CompressEvents started\n",
      "CompressEvents-[Notice] CompressEvents successful, Duration 0.90 seconds\n",
      "CompressEvents-[Notice] CompressEvents started\n",
      "CompressEvents-[Notice] CompressEvents successful, Duration 0.42 seconds\n",
      "CompressEvents-[Notice] CompressEvents started\n",
      "CompressEvents-[Notice] CompressEvents successful, Duration 0.48 seconds\n",
      "CompressEvents-[Notice] CompressEvents started\n",
      "CompressEvents-[Notice] CompressEvents successful, Duration 0.58 seconds\n",
      "CompressEvents-[Notice] CompressEvents started\n",
      "CompressEvents-[Notice] CompressEvents successful, Duration 0.54 seconds\n",
      "CompressEvents-[Notice] CompressEvents started\n",
      "CompressEvents-[Notice] CompressEvents successful, Duration 0.68 seconds\n",
      "CompressEvents-[Notice] CompressEvents started\n",
      "CompressEvents-[Notice] CompressEvents successful, Duration 0.94 seconds\n",
      "CompressEvents-[Notice] CompressEvents started\n",
      "CompressEvents-[Notice] CompressEvents successful, Duration 0.57 seconds\n",
      "CompressEvents-[Notice] CompressEvents started\n",
      "CompressEvents-[Notice] CompressEvents successful, Duration 1.32 seconds\n",
      "CompressEvents-[Notice] CompressEvents started\n",
      "CompressEvents-[Notice] CompressEvents successful, Duration 0.55 seconds\n",
      "CompressEvents-[Notice] CompressEvents started\n",
      "CompressEvents-[Notice] CompressEvents successful, Duration 1.15 seconds\n",
      "CompressEvents-[Notice] CompressEvents started\n",
      "CompressEvents-[Notice] CompressEvents successful, Duration 0.57 seconds\n",
      "CompressEvents-[Notice] CompressEvents started\n",
      "CompressEvents-[Notice] CompressEvents successful, Duration 0.49 seconds\n",
      "CompressEvents-[Notice] CompressEvents started\n",
      "CompressEvents-[Notice] CompressEvents successful, Duration 0.58 seconds\n",
      "CompressEvents-[Notice] CompressEvents started\n",
      "CompressEvents-[Notice] CompressEvents successful, Duration 0.48 seconds\n",
      "CompressEvents-[Notice] CompressEvents started\n",
      "CompressEvents-[Notice] CompressEvents successful, Duration 0.82 seconds\n",
      "CompressEvents-[Notice] CompressEvents started\n",
      "CompressEvents-[Notice] CompressEvents successful, Duration 0.49 seconds\n",
      "CompressEvents-[Notice] CompressEvents started\n",
      "CompressEvents-[Notice] CompressEvents successful, Duration 0.87 seconds\n",
      "CompressEvents-[Notice] CompressEvents started\n",
      "CompressEvents-[Notice] CompressEvents successful, Duration 0.50 seconds\n",
      "CompressEvents-[Notice] CompressEvents started\n",
      "CompressEvents-[Notice] CompressEvents successful, Duration 0.60 seconds\n",
      "CompressEvents-[Notice] CompressEvents started\n",
      "CompressEvents-[Notice] CompressEvents successful, Duration 0.49 seconds\n",
      "CompressEvents-[Notice] CompressEvents started\n",
      "CompressEvents-[Notice] CompressEvents successful, Duration 0.54 seconds\n",
      "CompressEvents-[Notice] CompressEvents started\n",
      "CompressEvents-[Notice] CompressEvents successful, Duration 0.58 seconds\n",
      "CompressEvents-[Notice] CompressEvents started\n",
      "CompressEvents-[Notice] CompressEvents successful, Duration 0.51 seconds\n",
      "CompressEvents-[Notice] CompressEvents started\n",
      "CompressEvents-[Notice] CompressEvents successful, Duration 0.54 seconds\n",
      "CompressEvents-[Notice] CompressEvents started\n",
      "CompressEvents-[Notice] CompressEvents successful, Duration 0.54 seconds\n",
      "CompressEvents-[Notice] CompressEvents started\n",
      "CompressEvents-[Notice] CompressEvents successful, Duration 0.78 seconds\n",
      "CompressEvents-[Notice] CompressEvents started\n",
      "CompressEvents-[Notice] CompressEvents successful, Duration 0.58 seconds\n",
      "CompressEvents-[Notice] CompressEvents started\n",
      "CompressEvents-[Notice] CompressEvents successful, Duration 0.56 seconds\n",
      "CompressEvents-[Notice] CompressEvents started\n",
      "CompressEvents-[Notice] CompressEvents successful, Duration 0.50 seconds\n",
      "CompressEvents-[Notice] CompressEvents started\n",
      "CompressEvents-[Notice] CompressEvents successful, Duration 0.83 seconds\n",
      "CompressEvents-[Notice] CompressEvents started\n",
      "CompressEvents-[Notice] CompressEvents successful, Duration 0.67 seconds\n",
      "CompressEvents-[Notice] CompressEvents started\n",
      "CompressEvents-[Notice] CompressEvents successful, Duration 0.53 seconds\n",
      "CompressEvents-[Notice] CompressEvents started\n",
      "CompressEvents-[Notice] CompressEvents successful, Duration 0.51 seconds\n",
      "CompressEvents-[Notice] CompressEvents started\n",
      "CompressEvents-[Notice] CompressEvents successful, Duration 0.40 seconds\n",
      "CompressEvents-[Notice] CompressEvents started\n",
      "CompressEvents-[Notice] CompressEvents successful, Duration 0.53 seconds\n",
      "CompressEvents-[Notice] CompressEvents started\n",
      "CompressEvents-[Notice] CompressEvents successful, Duration 0.48 seconds\n",
      "CompressEvents-[Notice] CompressEvents started\n",
      "CompressEvents-[Notice] CompressEvents successful, Duration 0.48 seconds\n",
      "CompressEvents-[Notice] CompressEvents started\n",
      "CompressEvents-[Notice] CompressEvents successful, Duration 0.47 seconds\n",
      "CompressEvents-[Notice] CompressEvents started\n",
      "CompressEvents-[Notice] CompressEvents successful, Duration 0.53 seconds\n",
      "CompressEvents-[Notice] CompressEvents started\n",
      "CompressEvents-[Notice] CompressEvents successful, Duration 0.46 seconds\n",
      "CompressEvents-[Notice] CompressEvents started\n",
      "CompressEvents-[Notice] CompressEvents successful, Duration 0.70 seconds\n",
      "CompressEvents-[Notice] CompressEvents started\n",
      "CompressEvents-[Notice] CompressEvents successful, Duration 0.76 seconds\n",
      "CompressEvents-[Notice] CompressEvents successful, Duration 28.44 seconds. Processed as a workspace group\n",
      "DeleteWorkspace-[Notice] DeleteWorkspace started\n",
      "DeleteWorkspace-[Notice] DeleteWorkspace started\n",
      "DeleteWorkspace-[Notice] DeleteWorkspace successful, Duration 0.00 seconds\n",
      "DeleteWorkspace-[Notice] DeleteWorkspace started\n",
      "DeleteWorkspace-[Notice] DeleteWorkspace successful, Duration 0.00 seconds\n",
      "DeleteWorkspace-[Notice] DeleteWorkspace started\n",
      "DeleteWorkspace-[Notice] DeleteWorkspace successful, Duration 0.00 seconds\n",
      "DeleteWorkspace-[Notice] DeleteWorkspace started\n",
      "DeleteWorkspace-[Notice] DeleteWorkspace successful, Duration 0.00 seconds\n",
      "DeleteWorkspace-[Notice] DeleteWorkspace started\n",
      "DeleteWorkspace-[Notice] DeleteWorkspace successful, Duration 0.00 seconds\n",
      "DeleteWorkspace-[Notice] DeleteWorkspace started\n",
      "DeleteWorkspace-[Notice] DeleteWorkspace successful, Duration 0.00 seconds\n",
      "DeleteWorkspace-[Notice] DeleteWorkspace started\n",
      "DeleteWorkspace-[Notice] DeleteWorkspace successful, Duration 0.00 seconds\n",
      "DeleteWorkspace-[Notice] DeleteWorkspace started\n",
      "DeleteWorkspace-[Notice] DeleteWorkspace successful, Duration 0.00 seconds\n",
      "DeleteWorkspace-[Notice] DeleteWorkspace started\n",
      "DeleteWorkspace-[Notice] DeleteWorkspace successful, Duration 0.00 seconds\n",
      "DeleteWorkspace-[Notice] DeleteWorkspace started\n",
      "DeleteWorkspace-[Notice] DeleteWorkspace successful, Duration 0.00 seconds\n",
      "DeleteWorkspace-[Notice] DeleteWorkspace started\n",
      "DeleteWorkspace-[Notice] DeleteWorkspace successful, Duration 0.00 seconds\n",
      "DeleteWorkspace-[Notice] DeleteWorkspace started\n",
      "DeleteWorkspace-[Notice] DeleteWorkspace successful, Duration 0.00 seconds\n",
      "DeleteWorkspace-[Notice] DeleteWorkspace started\n",
      "DeleteWorkspace-[Notice] DeleteWorkspace successful, Duration 0.00 seconds\n",
      "DeleteWorkspace-[Notice] DeleteWorkspace started\n",
      "DeleteWorkspace-[Notice] DeleteWorkspace successful, Duration 0.00 seconds\n",
      "DeleteWorkspace-[Notice] DeleteWorkspace started\n",
      "DeleteWorkspace-[Notice] DeleteWorkspace successful, Duration 0.00 seconds\n",
      "DeleteWorkspace-[Notice] DeleteWorkspace started\n",
      "DeleteWorkspace-[Notice] DeleteWorkspace successful, Duration 0.00 seconds\n",
      "DeleteWorkspace-[Notice] DeleteWorkspace started\n",
      "DeleteWorkspace-[Notice] DeleteWorkspace successful, Duration 0.00 seconds\n",
      "DeleteWorkspace-[Notice] DeleteWorkspace started\n",
      "DeleteWorkspace-[Notice] DeleteWorkspace successful, Duration 0.00 seconds\n",
      "DeleteWorkspace-[Notice] DeleteWorkspace started\n",
      "DeleteWorkspace-[Notice] DeleteWorkspace successful, Duration 0.00 seconds\n",
      "DeleteWorkspace-[Notice] DeleteWorkspace started\n",
      "DeleteWorkspace-[Notice] DeleteWorkspace successful, Duration 0.00 seconds\n",
      "DeleteWorkspace-[Notice] DeleteWorkspace started\n",
      "DeleteWorkspace-[Notice] DeleteWorkspace successful, Duration 0.00 seconds\n",
      "DeleteWorkspace-[Notice] DeleteWorkspace started\n",
      "DeleteWorkspace-[Notice] DeleteWorkspace successful, Duration 0.00 seconds\n",
      "DeleteWorkspace-[Notice] DeleteWorkspace started\n",
      "DeleteWorkspace-[Notice] DeleteWorkspace successful, Duration 0.00 seconds\n",
      "DeleteWorkspace-[Notice] DeleteWorkspace started\n",
      "DeleteWorkspace-[Notice] DeleteWorkspace successful, Duration 0.00 seconds\n",
      "DeleteWorkspace-[Notice] DeleteWorkspace started\n",
      "DeleteWorkspace-[Notice] DeleteWorkspace successful, Duration 0.00 seconds\n",
      "DeleteWorkspace-[Notice] DeleteWorkspace started\n",
      "DeleteWorkspace-[Notice] DeleteWorkspace successful, Duration 0.00 seconds\n",
      "DeleteWorkspace-[Notice] DeleteWorkspace started\n",
      "DeleteWorkspace-[Notice] DeleteWorkspace successful, Duration 0.00 seconds\n",
      "DeleteWorkspace-[Notice] DeleteWorkspace started\n",
      "DeleteWorkspace-[Notice] DeleteWorkspace successful, Duration 0.00 seconds\n",
      "DeleteWorkspace-[Notice] DeleteWorkspace started\n",
      "DeleteWorkspace-[Notice] DeleteWorkspace successful, Duration 0.00 seconds\n",
      "DeleteWorkspace-[Notice] DeleteWorkspace started\n",
      "DeleteWorkspace-[Notice] DeleteWorkspace successful, Duration 0.00 seconds\n",
      "DeleteWorkspace-[Notice] DeleteWorkspace started\n",
      "DeleteWorkspace-[Notice] DeleteWorkspace successful, Duration 0.00 seconds\n",
      "DeleteWorkspace-[Notice] DeleteWorkspace started\n",
      "DeleteWorkspace-[Notice] DeleteWorkspace successful, Duration 0.00 seconds\n",
      "DeleteWorkspace-[Notice] DeleteWorkspace started\n",
      "DeleteWorkspace-[Notice] DeleteWorkspace successful, Duration 0.00 seconds\n",
      "DeleteWorkspace-[Notice] DeleteWorkspace started\n",
      "DeleteWorkspace-[Notice] DeleteWorkspace successful, Duration 0.00 seconds\n",
      "DeleteWorkspace-[Notice] DeleteWorkspace started\n",
      "DeleteWorkspace-[Notice] DeleteWorkspace successful, Duration 0.00 seconds\n",
      "DeleteWorkspace-[Notice] DeleteWorkspace started\n",
      "DeleteWorkspace-[Notice] DeleteWorkspace successful, Duration 0.00 seconds\n",
      "DeleteWorkspace-[Notice] DeleteWorkspace started\n",
      "DeleteWorkspace-[Notice] DeleteWorkspace successful, Duration 0.00 seconds\n",
      "DeleteWorkspace-[Notice] DeleteWorkspace started\n",
      "DeleteWorkspace-[Notice] DeleteWorkspace successful, Duration 0.00 seconds\n",
      "DeleteWorkspace-[Notice] DeleteWorkspace started\n",
      "DeleteWorkspace-[Notice] DeleteWorkspace successful, Duration 0.00 seconds\n",
      "DeleteWorkspace-[Notice] DeleteWorkspace started\n",
      "DeleteWorkspace-[Notice] DeleteWorkspace successful, Duration 0.00 seconds\n",
      "DeleteWorkspace-[Notice] DeleteWorkspace started\n",
      "DeleteWorkspace-[Notice] DeleteWorkspace successful, Duration 0.00 seconds\n",
      "DeleteWorkspace-[Notice] DeleteWorkspace started\n",
      "DeleteWorkspace-[Notice] DeleteWorkspace successful, Duration 0.00 seconds\n",
      "DeleteWorkspace-[Notice] DeleteWorkspace started\n",
      "DeleteWorkspace-[Notice] DeleteWorkspace successful, Duration 0.00 seconds\n",
      "DeleteWorkspace-[Notice] DeleteWorkspace started\n",
      "DeleteWorkspace-[Notice] DeleteWorkspace successful, Duration 0.00 seconds\n",
      "DeleteWorkspace-[Notice] DeleteWorkspace started\n",
      "DeleteWorkspace-[Notice] DeleteWorkspace successful, Duration 0.00 seconds\n",
      "DeleteWorkspace-[Notice] DeleteWorkspace started\n",
      "DeleteWorkspace-[Notice] DeleteWorkspace successful, Duration 0.00 seconds\n",
      "DeleteWorkspace-[Notice] DeleteWorkspace successful, Duration 0.02 seconds. Processed as a workspace group\n",
      "SetGoniometer-[Notice] SetGoniometer started\n",
      "SetGoniometer-[Notice] SetGoniometer started\n",
      "SetGoniometer-[Notice] SetGoniometer successful, Duration 0.00 seconds\n",
      "SetGoniometer-[Notice] SetGoniometer started\n",
      "SetGoniometer-[Notice] SetGoniometer successful, Duration 0.00 seconds\n",
      "SetGoniometer-[Notice] SetGoniometer started\n",
      "SetGoniometer-[Notice] SetGoniometer successful, Duration 0.00 seconds\n",
      "SetGoniometer-[Notice] SetGoniometer started\n",
      "SetGoniometer-[Notice] SetGoniometer successful, Duration 0.00 seconds\n",
      "SetGoniometer-[Notice] SetGoniometer started\n",
      "SetGoniometer-[Notice] SetGoniometer successful, Duration 0.00 seconds\n",
      "SetGoniometer-[Notice] SetGoniometer started\n",
      "SetGoniometer-[Notice] SetGoniometer successful, Duration 0.00 seconds\n",
      "SetGoniometer-[Notice] SetGoniometer started\n",
      "SetGoniometer-[Notice] SetGoniometer successful, Duration 0.00 seconds\n",
      "SetGoniometer-[Notice] SetGoniometer started\n",
      "SetGoniometer-[Notice] SetGoniometer successful, Duration 0.00 seconds\n",
      "SetGoniometer-[Notice] SetGoniometer started\n",
      "SetGoniometer-[Notice] SetGoniometer successful, Duration 0.00 seconds\n",
      "SetGoniometer-[Notice] SetGoniometer started\n",
      "SetGoniometer-[Notice] SetGoniometer successful, Duration 0.00 seconds\n",
      "SetGoniometer-[Notice] SetGoniometer started\n",
      "SetGoniometer-[Notice] SetGoniometer successful, Duration 0.00 seconds\n",
      "SetGoniometer-[Notice] SetGoniometer started\n",
      "SetGoniometer-[Notice] SetGoniometer successful, Duration 0.00 seconds\n",
      "SetGoniometer-[Notice] SetGoniometer started\n",
      "SetGoniometer-[Notice] SetGoniometer successful, Duration 0.00 seconds\n",
      "SetGoniometer-[Notice] SetGoniometer started\n",
      "SetGoniometer-[Notice] SetGoniometer successful, Duration 0.00 seconds\n",
      "SetGoniometer-[Notice] SetGoniometer started\n",
      "SetGoniometer-[Notice] SetGoniometer successful, Duration 0.00 seconds\n",
      "SetGoniometer-[Notice] SetGoniometer started\n",
      "SetGoniometer-[Notice] SetGoniometer successful, Duration 0.00 seconds\n",
      "SetGoniometer-[Notice] SetGoniometer started\n",
      "SetGoniometer-[Notice] SetGoniometer successful, Duration 0.00 seconds\n",
      "SetGoniometer-[Notice] SetGoniometer started\n",
      "SetGoniometer-[Notice] SetGoniometer successful, Duration 0.00 seconds\n",
      "SetGoniometer-[Notice] SetGoniometer started\n",
      "SetGoniometer-[Notice] SetGoniometer successful, Duration 0.00 seconds\n",
      "SetGoniometer-[Notice] SetGoniometer started\n",
      "SetGoniometer-[Notice] SetGoniometer successful, Duration 0.00 seconds\n",
      "SetGoniometer-[Notice] SetGoniometer started\n",
      "SetGoniometer-[Notice] SetGoniometer successful, Duration 0.00 seconds\n",
      "SetGoniometer-[Notice] SetGoniometer started\n",
      "SetGoniometer-[Notice] SetGoniometer successful, Duration 0.00 seconds\n",
      "SetGoniometer-[Notice] SetGoniometer started\n",
      "SetGoniometer-[Notice] SetGoniometer successful, Duration 0.00 seconds\n",
      "SetGoniometer-[Notice] SetGoniometer started\n",
      "SetGoniometer-[Notice] SetGoniometer successful, Duration 0.00 seconds\n",
      "SetGoniometer-[Notice] SetGoniometer started\n",
      "SetGoniometer-[Notice] SetGoniometer successful, Duration 0.00 seconds\n",
      "SetGoniometer-[Notice] SetGoniometer started\n",
      "SetGoniometer-[Notice] SetGoniometer successful, Duration 0.00 seconds\n",
      "SetGoniometer-[Notice] SetGoniometer started\n",
      "SetGoniometer-[Notice] SetGoniometer successful, Duration 0.00 seconds\n",
      "SetGoniometer-[Notice] SetGoniometer started\n",
      "SetGoniometer-[Notice] SetGoniometer successful, Duration 0.00 seconds\n",
      "SetGoniometer-[Notice] SetGoniometer started\n",
      "SetGoniometer-[Notice] SetGoniometer successful, Duration 0.00 seconds\n",
      "SetGoniometer-[Notice] SetGoniometer started\n",
      "SetGoniometer-[Notice] SetGoniometer successful, Duration 0.00 seconds\n",
      "SetGoniometer-[Notice] SetGoniometer started\n",
      "SetGoniometer-[Notice] SetGoniometer successful, Duration 0.00 seconds\n",
      "SetGoniometer-[Notice] SetGoniometer started\n",
      "SetGoniometer-[Notice] SetGoniometer successful, Duration 0.00 seconds\n",
      "SetGoniometer-[Notice] SetGoniometer started\n",
      "SetGoniometer-[Notice] SetGoniometer successful, Duration 0.00 seconds\n",
      "SetGoniometer-[Notice] SetGoniometer started\n",
      "SetGoniometer-[Notice] SetGoniometer successful, Duration 0.00 seconds\n",
      "SetGoniometer-[Notice] SetGoniometer started\n",
      "SetGoniometer-[Notice] SetGoniometer successful, Duration 0.00 seconds\n",
      "SetGoniometer-[Notice] SetGoniometer started\n",
      "SetGoniometer-[Notice] SetGoniometer successful, Duration 0.00 seconds\n",
      "SetGoniometer-[Notice] SetGoniometer started\n",
      "SetGoniometer-[Notice] SetGoniometer successful, Duration 0.00 seconds\n",
      "SetGoniometer-[Notice] SetGoniometer started\n",
      "SetGoniometer-[Notice] SetGoniometer successful, Duration 0.00 seconds\n",
      "SetGoniometer-[Notice] SetGoniometer started\n",
      "SetGoniometer-[Notice] SetGoniometer successful, Duration 0.00 seconds\n",
      "SetGoniometer-[Notice] SetGoniometer started\n",
      "SetGoniometer-[Notice] SetGoniometer successful, Duration 0.00 seconds\n",
      "SetGoniometer-[Notice] SetGoniometer started\n",
      "SetGoniometer-[Notice] SetGoniometer successful, Duration 0.00 seconds\n",
      "SetGoniometer-[Notice] SetGoniometer started\n",
      "SetGoniometer-[Notice] SetGoniometer successful, Duration 0.00 seconds\n",
      "SetGoniometer-[Notice] SetGoniometer started\n",
      "SetGoniometer-[Notice] SetGoniometer successful, Duration 0.00 seconds\n",
      "SetGoniometer-[Notice] SetGoniometer started\n",
      "SetGoniometer-[Notice] SetGoniometer successful, Duration 0.00 seconds\n",
      "SetGoniometer-[Notice] SetGoniometer started\n",
      "SetGoniometer-[Notice] SetGoniometer successful, Duration 0.00 seconds\n",
      "SetGoniometer-[Notice] SetGoniometer started\n",
      "SetGoniometer-[Notice] SetGoniometer successful, Duration 0.00 seconds\n",
      "SetGoniometer-[Notice] SetGoniometer successful, Duration 0.02 seconds. Processed as a workspace group\n",
      "SetUB-[Notice] SetUB started\n",
      "SetUB-[Notice] SetUB started\n",
      "SetUB-[Notice] SetUB successful, Duration 0.00 seconds\n",
      "SetUB-[Notice] SetUB started\n",
      "SetUB-[Notice] SetUB successful, Duration 0.00 seconds\n",
      "SetUB-[Notice] SetUB started\n",
      "SetUB-[Notice] SetUB successful, Duration 0.00 seconds\n",
      "SetUB-[Notice] SetUB started\n",
      "SetUB-[Notice] SetUB successful, Duration 0.00 seconds\n",
      "SetUB-[Notice] SetUB started\n",
      "SetUB-[Notice] SetUB successful, Duration 0.00 seconds\n",
      "SetUB-[Notice] SetUB started\n",
      "SetUB-[Notice] SetUB successful, Duration 0.00 seconds\n",
      "SetUB-[Notice] SetUB started\n",
      "SetUB-[Notice] SetUB successful, Duration 0.00 seconds\n",
      "SetUB-[Notice] SetUB started\n",
      "SetUB-[Notice] SetUB successful, Duration 0.00 seconds\n",
      "SetUB-[Notice] SetUB started\n",
      "SetUB-[Notice] SetUB successful, Duration 0.00 seconds\n",
      "SetUB-[Notice] SetUB started\n",
      "SetUB-[Notice] SetUB successful, Duration 0.00 seconds\n",
      "SetUB-[Notice] SetUB started\n",
      "SetUB-[Notice] SetUB successful, Duration 0.00 seconds\n",
      "SetUB-[Notice] SetUB started\n",
      "SetUB-[Notice] SetUB successful, Duration 0.00 seconds\n",
      "SetUB-[Notice] SetUB started\n",
      "SetUB-[Notice] SetUB successful, Duration 0.00 seconds\n",
      "SetUB-[Notice] SetUB started\n",
      "SetUB-[Notice] SetUB successful, Duration 0.00 seconds\n",
      "SetUB-[Notice] SetUB started\n",
      "SetUB-[Notice] SetUB successful, Duration 0.00 seconds\n",
      "SetUB-[Notice] SetUB started\n",
      "SetUB-[Notice] SetUB successful, Duration 0.00 seconds\n",
      "SetUB-[Notice] SetUB started\n",
      "SetUB-[Notice] SetUB successful, Duration 0.00 seconds\n",
      "SetUB-[Notice] SetUB started\n",
      "SetUB-[Notice] SetUB successful, Duration 0.00 seconds\n",
      "SetUB-[Notice] SetUB started\n",
      "SetUB-[Notice] SetUB successful, Duration 0.00 seconds\n",
      "SetUB-[Notice] SetUB started\n",
      "SetUB-[Notice] SetUB successful, Duration 0.00 seconds\n",
      "SetUB-[Notice] SetUB started\n",
      "SetUB-[Notice] SetUB successful, Duration 0.00 seconds\n",
      "SetUB-[Notice] SetUB started\n",
      "SetUB-[Notice] SetUB successful, Duration 0.00 seconds\n",
      "SetUB-[Notice] SetUB started\n",
      "SetUB-[Notice] SetUB successful, Duration 0.00 seconds\n",
      "SetUB-[Notice] SetUB started\n",
      "SetUB-[Notice] SetUB successful, Duration 0.00 seconds\n",
      "SetUB-[Notice] SetUB started\n",
      "SetUB-[Notice] SetUB successful, Duration 0.00 seconds\n",
      "SetUB-[Notice] SetUB started\n",
      "SetUB-[Notice] SetUB successful, Duration 0.00 seconds\n",
      "SetUB-[Notice] SetUB started\n",
      "SetUB-[Notice] SetUB successful, Duration 0.00 seconds\n",
      "SetUB-[Notice] SetUB started\n",
      "SetUB-[Notice] SetUB successful, Duration 0.00 seconds\n",
      "SetUB-[Notice] SetUB started\n",
      "SetUB-[Notice] SetUB successful, Duration 0.00 seconds\n",
      "SetUB-[Notice] SetUB started\n",
      "SetUB-[Notice] SetUB successful, Duration 0.00 seconds\n",
      "SetUB-[Notice] SetUB started\n",
      "SetUB-[Notice] SetUB successful, Duration 0.00 seconds\n",
      "SetUB-[Notice] SetUB started\n",
      "SetUB-[Notice] SetUB successful, Duration 0.00 seconds\n",
      "SetUB-[Notice] SetUB started\n",
      "SetUB-[Notice] SetUB successful, Duration 0.00 seconds\n",
      "SetUB-[Notice] SetUB started\n",
      "SetUB-[Notice] SetUB successful, Duration 0.00 seconds\n",
      "SetUB-[Notice] SetUB started\n",
      "SetUB-[Notice] SetUB successful, Duration 0.00 seconds\n",
      "SetUB-[Notice] SetUB started\n",
      "SetUB-[Notice] SetUB successful, Duration 0.00 seconds\n",
      "SetUB-[Notice] SetUB started\n",
      "SetUB-[Notice] SetUB successful, Duration 0.00 seconds\n",
      "SetUB-[Notice] SetUB started\n",
      "SetUB-[Notice] SetUB successful, Duration 0.00 seconds\n",
      "SetUB-[Notice] SetUB started\n",
      "SetUB-[Notice] SetUB successful, Duration 0.00 seconds\n",
      "SetUB-[Notice] SetUB started\n",
      "SetUB-[Notice] SetUB successful, Duration 0.00 seconds\n",
      "SetUB-[Notice] SetUB started\n",
      "SetUB-[Notice] SetUB successful, Duration 0.00 seconds\n",
      "SetUB-[Notice] SetUB started\n",
      "SetUB-[Notice] SetUB successful, Duration 0.00 seconds\n",
      "SetUB-[Notice] SetUB started\n",
      "SetUB-[Notice] SetUB successful, Duration 0.00 seconds\n",
      "SetUB-[Notice] SetUB started\n",
      "SetUB-[Notice] SetUB successful, Duration 0.00 seconds\n",
      "SetUB-[Notice] SetUB started\n",
      "SetUB-[Notice] SetUB successful, Duration 0.00 seconds\n",
      "SetUB-[Notice] SetUB started\n",
      "SetUB-[Notice] SetUB successful, Duration 0.00 seconds\n",
      "SetUB-[Notice] SetUB successful, Duration 0.03 seconds. Processed as a workspace group\n",
      "CropWorkspace-[Notice] CropWorkspace started\n",
      "CropWorkspace-[Notice] CropWorkspace started\n",
      "CropWorkspace-[Notice] CropWorkspace successful, Duration 0.57 seconds\n",
      "CropWorkspace-[Notice] CropWorkspace started\n",
      "CropWorkspace-[Notice] CropWorkspace successful, Duration 0.84 seconds\n",
      "CropWorkspace-[Notice] CropWorkspace started\n",
      "CropWorkspace-[Notice] CropWorkspace successful, Duration 0.55 seconds\n",
      "CropWorkspace-[Notice] CropWorkspace started\n",
      "CropWorkspace-[Notice] CropWorkspace successful, Duration 0.67 seconds\n",
      "CropWorkspace-[Notice] CropWorkspace started\n",
      "CropWorkspace-[Notice] CropWorkspace successful, Duration 0.79 seconds\n",
      "CropWorkspace-[Notice] CropWorkspace started\n",
      "CropWorkspace-[Notice] CropWorkspace successful, Duration 0.71 seconds\n",
      "CropWorkspace-[Notice] CropWorkspace started\n",
      "CropWorkspace-[Notice] CropWorkspace successful, Duration 1.10 seconds\n",
      "CropWorkspace-[Notice] CropWorkspace started\n",
      "CropWorkspace-[Notice] CropWorkspace successful, Duration 0.73 seconds\n",
      "CropWorkspace-[Notice] CropWorkspace started\n",
      "CropWorkspace-[Notice] CropWorkspace successful, Duration 1.10 seconds\n",
      "CropWorkspace-[Notice] CropWorkspace started\n",
      "CropWorkspace-[Notice] CropWorkspace successful, Duration 0.93 seconds\n",
      "CropWorkspace-[Notice] CropWorkspace started\n",
      "CropWorkspace-[Notice] CropWorkspace successful, Duration 1.03 seconds\n",
      "CropWorkspace-[Notice] CropWorkspace started\n",
      "CropWorkspace-[Notice] CropWorkspace successful, Duration 0.78 seconds\n",
      "CropWorkspace-[Notice] CropWorkspace started\n",
      "CropWorkspace-[Notice] CropWorkspace successful, Duration 0.73 seconds\n",
      "CropWorkspace-[Notice] CropWorkspace started\n",
      "CropWorkspace-[Notice] CropWorkspace successful, Duration 0.68 seconds\n",
      "CropWorkspace-[Notice] CropWorkspace started\n",
      "CropWorkspace-[Notice] CropWorkspace successful, Duration 0.63 seconds\n",
      "CropWorkspace-[Notice] CropWorkspace started\n",
      "CropWorkspace-[Notice] CropWorkspace successful, Duration 0.86 seconds\n",
      "CropWorkspace-[Notice] CropWorkspace started\n",
      "CropWorkspace-[Notice] CropWorkspace successful, Duration 0.99 seconds\n",
      "CropWorkspace-[Notice] CropWorkspace started\n",
      "CropWorkspace-[Notice] CropWorkspace successful, Duration 0.72 seconds\n",
      "CropWorkspace-[Notice] CropWorkspace started\n",
      "CropWorkspace-[Notice] CropWorkspace successful, Duration 0.83 seconds\n",
      "CropWorkspace-[Notice] CropWorkspace started\n",
      "CropWorkspace-[Notice] CropWorkspace successful, Duration 0.93 seconds\n",
      "CropWorkspace-[Notice] CropWorkspace started\n",
      "CropWorkspace-[Notice] CropWorkspace successful, Duration 0.70 seconds\n",
      "CropWorkspace-[Notice] CropWorkspace started\n",
      "CropWorkspace-[Notice] CropWorkspace successful, Duration 0.69 seconds\n",
      "CropWorkspace-[Notice] CropWorkspace started\n",
      "CropWorkspace-[Notice] CropWorkspace successful, Duration 0.94 seconds\n",
      "CropWorkspace-[Notice] CropWorkspace started\n",
      "CropWorkspace-[Notice] CropWorkspace successful, Duration 0.72 seconds\n",
      "CropWorkspace-[Notice] CropWorkspace started\n",
      "CropWorkspace-[Notice] CropWorkspace successful, Duration 0.55 seconds\n",
      "CropWorkspace-[Notice] CropWorkspace started\n",
      "CropWorkspace-[Notice] CropWorkspace successful, Duration 0.92 seconds\n",
      "CropWorkspace-[Notice] CropWorkspace started\n",
      "CropWorkspace-[Notice] CropWorkspace successful, Duration 0.55 seconds\n",
      "CropWorkspace-[Notice] CropWorkspace started\n",
      "CropWorkspace-[Notice] CropWorkspace successful, Duration 0.63 seconds\n",
      "CropWorkspace-[Notice] CropWorkspace started\n",
      "CropWorkspace-[Notice] CropWorkspace successful, Duration 0.74 seconds\n",
      "CropWorkspace-[Notice] CropWorkspace started\n",
      "CropWorkspace-[Notice] CropWorkspace successful, Duration 0.62 seconds\n",
      "CropWorkspace-[Notice] CropWorkspace started\n",
      "CropWorkspace-[Notice] CropWorkspace successful, Duration 0.81 seconds\n",
      "CropWorkspace-[Notice] CropWorkspace started\n",
      "CropWorkspace-[Notice] CropWorkspace successful, Duration 0.72 seconds\n",
      "CropWorkspace-[Notice] CropWorkspace started\n",
      "CropWorkspace-[Notice] CropWorkspace successful, Duration 0.86 seconds\n",
      "CropWorkspace-[Notice] CropWorkspace started\n",
      "CropWorkspace-[Notice] CropWorkspace successful, Duration 0.82 seconds\n",
      "CropWorkspace-[Notice] CropWorkspace started\n",
      "CropWorkspace-[Notice] CropWorkspace successful, Duration 1.04 seconds\n",
      "CropWorkspace-[Notice] CropWorkspace started\n",
      "CropWorkspace-[Notice] CropWorkspace successful, Duration 0.74 seconds\n",
      "CropWorkspace-[Notice] CropWorkspace started\n",
      "CropWorkspace-[Notice] CropWorkspace successful, Duration 0.74 seconds\n",
      "CropWorkspace-[Notice] CropWorkspace started\n",
      "CropWorkspace-[Notice] CropWorkspace successful, Duration 0.73 seconds\n",
      "CropWorkspace-[Notice] CropWorkspace started\n",
      "CropWorkspace-[Notice] CropWorkspace successful, Duration 0.66 seconds\n",
      "CropWorkspace-[Notice] CropWorkspace started\n",
      "CropWorkspace-[Notice] CropWorkspace successful, Duration 0.71 seconds\n",
      "CropWorkspace-[Notice] CropWorkspace started\n",
      "CropWorkspace-[Notice] CropWorkspace successful, Duration 0.75 seconds\n",
      "CropWorkspace-[Notice] CropWorkspace started\n",
      "CropWorkspace-[Notice] CropWorkspace successful, Duration 0.67 seconds\n",
      "CropWorkspace-[Notice] CropWorkspace started\n",
      "CropWorkspace-[Notice] CropWorkspace successful, Duration 0.84 seconds\n",
      "CropWorkspace-[Notice] CropWorkspace started\n",
      "CropWorkspace-[Notice] CropWorkspace successful, Duration 0.74 seconds\n",
      "CropWorkspace-[Notice] CropWorkspace started\n",
      "CropWorkspace-[Notice] CropWorkspace successful, Duration 0.98 seconds\n",
      "CropWorkspace-[Notice] CropWorkspace started\n",
      "CropWorkspace-[Notice] CropWorkspace successful, Duration 0.74 seconds\n",
      "CropWorkspace-[Notice] CropWorkspace successful, Duration 36.04 seconds. Processed as a workspace group\n",
      "DeleteWorkspace-[Notice] DeleteWorkspace started\n",
      "DeleteWorkspace-[Notice] DeleteWorkspace started\n",
      "DeleteWorkspace-[Notice] DeleteWorkspace successful, Duration 0.00 seconds\n",
      "DeleteWorkspace-[Notice] DeleteWorkspace started\n",
      "DeleteWorkspace-[Notice] DeleteWorkspace successful, Duration 0.00 seconds\n",
      "DeleteWorkspace-[Notice] DeleteWorkspace started\n",
      "DeleteWorkspace-[Notice] DeleteWorkspace successful, Duration 0.00 seconds\n",
      "DeleteWorkspace-[Notice] DeleteWorkspace started\n",
      "DeleteWorkspace-[Notice] DeleteWorkspace successful, Duration 0.00 seconds\n",
      "DeleteWorkspace-[Notice] DeleteWorkspace started\n",
      "DeleteWorkspace-[Notice] DeleteWorkspace successful, Duration 0.00 seconds\n",
      "DeleteWorkspace-[Notice] DeleteWorkspace started\n",
      "DeleteWorkspace-[Notice] DeleteWorkspace successful, Duration 0.00 seconds\n",
      "DeleteWorkspace-[Notice] DeleteWorkspace started\n",
      "DeleteWorkspace-[Notice] DeleteWorkspace successful, Duration 0.00 seconds\n",
      "DeleteWorkspace-[Notice] DeleteWorkspace started\n",
      "DeleteWorkspace-[Notice] DeleteWorkspace successful, Duration 0.00 seconds\n",
      "DeleteWorkspace-[Notice] DeleteWorkspace started\n",
      "DeleteWorkspace-[Notice] DeleteWorkspace successful, Duration 0.00 seconds\n",
      "DeleteWorkspace-[Notice] DeleteWorkspace started\n",
      "DeleteWorkspace-[Notice] DeleteWorkspace successful, Duration 0.00 seconds\n",
      "DeleteWorkspace-[Notice] DeleteWorkspace started\n",
      "DeleteWorkspace-[Notice] DeleteWorkspace successful, Duration 0.00 seconds\n",
      "DeleteWorkspace-[Notice] DeleteWorkspace started\n",
      "DeleteWorkspace-[Notice] DeleteWorkspace successful, Duration 0.00 seconds\n",
      "DeleteWorkspace-[Notice] DeleteWorkspace started\n",
      "DeleteWorkspace-[Notice] DeleteWorkspace successful, Duration 0.00 seconds\n",
      "DeleteWorkspace-[Notice] DeleteWorkspace started\n",
      "DeleteWorkspace-[Notice] DeleteWorkspace successful, Duration 0.00 seconds\n",
      "DeleteWorkspace-[Notice] DeleteWorkspace started\n",
      "DeleteWorkspace-[Notice] DeleteWorkspace successful, Duration 0.00 seconds\n",
      "DeleteWorkspace-[Notice] DeleteWorkspace started\n",
      "DeleteWorkspace-[Notice] DeleteWorkspace successful, Duration 0.00 seconds\n",
      "DeleteWorkspace-[Notice] DeleteWorkspace started\n",
      "DeleteWorkspace-[Notice] DeleteWorkspace successful, Duration 0.00 seconds\n",
      "DeleteWorkspace-[Notice] DeleteWorkspace started\n",
      "DeleteWorkspace-[Notice] DeleteWorkspace successful, Duration 0.00 seconds\n",
      "DeleteWorkspace-[Notice] DeleteWorkspace started\n",
      "DeleteWorkspace-[Notice] DeleteWorkspace successful, Duration 0.00 seconds\n",
      "DeleteWorkspace-[Notice] DeleteWorkspace started\n",
      "DeleteWorkspace-[Notice] DeleteWorkspace successful, Duration 0.00 seconds\n",
      "DeleteWorkspace-[Notice] DeleteWorkspace started\n",
      "DeleteWorkspace-[Notice] DeleteWorkspace successful, Duration 0.00 seconds\n",
      "DeleteWorkspace-[Notice] DeleteWorkspace started\n",
      "DeleteWorkspace-[Notice] DeleteWorkspace successful, Duration 0.00 seconds\n",
      "DeleteWorkspace-[Notice] DeleteWorkspace started\n",
      "DeleteWorkspace-[Notice] DeleteWorkspace successful, Duration 0.00 seconds\n",
      "DeleteWorkspace-[Notice] DeleteWorkspace started\n",
      "DeleteWorkspace-[Notice] DeleteWorkspace successful, Duration 0.00 seconds\n",
      "DeleteWorkspace-[Notice] DeleteWorkspace started\n",
      "DeleteWorkspace-[Notice] DeleteWorkspace successful, Duration 0.00 seconds\n",
      "DeleteWorkspace-[Notice] DeleteWorkspace started\n",
      "DeleteWorkspace-[Notice] DeleteWorkspace successful, Duration 0.00 seconds\n",
      "DeleteWorkspace-[Notice] DeleteWorkspace started\n",
      "DeleteWorkspace-[Notice] DeleteWorkspace successful, Duration 0.00 seconds\n",
      "DeleteWorkspace-[Notice] DeleteWorkspace started\n",
      "DeleteWorkspace-[Notice] DeleteWorkspace successful, Duration 0.00 seconds\n",
      "DeleteWorkspace-[Notice] DeleteWorkspace started\n",
      "DeleteWorkspace-[Notice] DeleteWorkspace successful, Duration 0.00 seconds\n",
      "DeleteWorkspace-[Notice] DeleteWorkspace started\n",
      "DeleteWorkspace-[Notice] DeleteWorkspace successful, Duration 0.00 seconds\n",
      "DeleteWorkspace-[Notice] DeleteWorkspace started\n",
      "DeleteWorkspace-[Notice] DeleteWorkspace successful, Duration 0.00 seconds\n",
      "DeleteWorkspace-[Notice] DeleteWorkspace started\n",
      "DeleteWorkspace-[Notice] DeleteWorkspace successful, Duration 0.00 seconds\n",
      "DeleteWorkspace-[Notice] DeleteWorkspace started\n",
      "DeleteWorkspace-[Notice] DeleteWorkspace successful, Duration 0.00 seconds\n",
      "DeleteWorkspace-[Notice] DeleteWorkspace started\n",
      "DeleteWorkspace-[Notice] DeleteWorkspace successful, Duration 0.00 seconds\n",
      "DeleteWorkspace-[Notice] DeleteWorkspace started\n",
      "DeleteWorkspace-[Notice] DeleteWorkspace successful, Duration 0.00 seconds\n",
      "DeleteWorkspace-[Notice] DeleteWorkspace started\n",
      "DeleteWorkspace-[Notice] DeleteWorkspace successful, Duration 0.00 seconds\n",
      "DeleteWorkspace-[Notice] DeleteWorkspace started\n",
      "DeleteWorkspace-[Notice] DeleteWorkspace successful, Duration 0.00 seconds\n",
      "DeleteWorkspace-[Notice] DeleteWorkspace started\n",
      "DeleteWorkspace-[Notice] DeleteWorkspace successful, Duration 0.00 seconds\n",
      "DeleteWorkspace-[Notice] DeleteWorkspace started\n",
      "DeleteWorkspace-[Notice] DeleteWorkspace successful, Duration 0.00 seconds\n",
      "DeleteWorkspace-[Notice] DeleteWorkspace started\n",
      "DeleteWorkspace-[Notice] DeleteWorkspace successful, Duration 0.00 seconds\n",
      "DeleteWorkspace-[Notice] DeleteWorkspace started\n",
      "DeleteWorkspace-[Notice] DeleteWorkspace successful, Duration 0.00 seconds\n",
      "DeleteWorkspace-[Notice] DeleteWorkspace started\n",
      "DeleteWorkspace-[Notice] DeleteWorkspace successful, Duration 0.00 seconds\n",
      "DeleteWorkspace-[Notice] DeleteWorkspace started\n",
      "DeleteWorkspace-[Notice] DeleteWorkspace successful, Duration 0.00 seconds\n",
      "DeleteWorkspace-[Notice] DeleteWorkspace started\n",
      "DeleteWorkspace-[Notice] DeleteWorkspace successful, Duration 0.00 seconds\n",
      "DeleteWorkspace-[Notice] DeleteWorkspace started\n",
      "DeleteWorkspace-[Notice] DeleteWorkspace successful, Duration 0.00 seconds\n",
      "DeleteWorkspace-[Notice] DeleteWorkspace started\n",
      "DeleteWorkspace-[Notice] DeleteWorkspace successful, Duration 0.00 seconds\n",
      "DeleteWorkspace-[Notice] DeleteWorkspace successful, Duration 0.01 seconds. Processed as a workspace group\n",
      "ConvertToMD-[Notice] ConvertToMD started\n",
      "ConvertToMD-[Notice] ConvertToMD successful, Duration 2.31 seconds\n",
      "{'AlignedDim1': 'DeltaE,0,80, 160', 'AlignedDim0': '[H,0,0],-5,0,251', 'AlignedDim3': '[0,0,L],-.2,0.2,1', 'AlignedDim2': '[0,K,0],-0.2,0.2,1'}\n",
      "MDNormDirectSC-[Notice] MDNormDirectSC started\n",
      "MDNormDirectSC-[Notice] MDNormDirectSC successful, Duration 1.41 seconds\n",
      "rotation angle #0: -90.0\n",
      "CloneMDWorkspace-[Notice] CloneMDWorkspace started\n",
      "CloneMDWorkspace-[Notice] CloneMDWorkspace successful, Duration 0.00 seconds\n",
      "CloneMDWorkspace-[Notice] CloneMDWorkspace started\n",
      "CloneMDWorkspace-[Notice] CloneMDWorkspace successful, Duration 0.00 seconds\n",
      "ConvertToMD-[Notice] ConvertToMD started\n",
      "ConvertToMD-[Notice] ConvertToMD successful, Duration 0.30 seconds\n",
      "{'AlignedDim1': 'DeltaE,0,80, 160', 'AlignedDim0': '[H,0,0],-5,0,251', 'AlignedDim3': '[0,0,L],-.2,0.2,1', 'AlignedDim2': '[0,K,0],-0.2,0.2,1'}\n",
      "MDNormDirectSC-[Notice] MDNormDirectSC started\n",
      "MDNormDirectSC-[Notice] MDNormDirectSC successful, Duration 0.85 seconds\n",
      "rotation angle #1: -86.0\n",
      "PlusMD-[Notice] PlusMD started\n",
      "PlusMD-[Notice] PlusMD successful, Duration 0.00 seconds\n",
      "PlusMD-[Notice] PlusMD started\n",
      "PlusMD-[Notice] PlusMD successful, Duration 0.00 seconds\n",
      "ConvertToMD-[Notice] ConvertToMD started\n",
      "ConvertToMD-[Notice] ConvertToMD successful, Duration 0.61 seconds\n",
      "{'AlignedDim1': 'DeltaE,0,80, 160', 'AlignedDim0': '[H,0,0],-5,0,251', 'AlignedDim3': '[0,0,L],-.2,0.2,1', 'AlignedDim2': '[0,K,0],-0.2,0.2,1'}\n",
      "MDNormDirectSC-[Notice] MDNormDirectSC started\n",
      "MDNormDirectSC-[Notice] MDNormDirectSC successful, Duration 1.53 seconds\n",
      "rotation angle #2: -82.0\n",
      "PlusMD-[Notice] PlusMD started\n",
      "PlusMD-[Notice] PlusMD successful, Duration 0.01 seconds\n",
      "PlusMD-[Notice] PlusMD started\n",
      "PlusMD-[Notice] PlusMD successful, Duration 0.01 seconds\n",
      "ConvertToMD-[Notice] ConvertToMD started\n",
      "ConvertToMD-[Notice] ConvertToMD successful, Duration 0.36 seconds\n",
      "{'AlignedDim1': 'DeltaE,0,80, 160', 'AlignedDim0': '[H,0,0],-5,0,251', 'AlignedDim3': '[0,0,L],-.2,0.2,1', 'AlignedDim2': '[0,K,0],-0.2,0.2,1'}\n",
      "MDNormDirectSC-[Notice] MDNormDirectSC started\n",
      "MDNormDirectSC-[Notice] MDNormDirectSC successful, Duration 0.96 seconds\n",
      "rotation angle #3: -78.0\n",
      "PlusMD-[Notice] PlusMD started\n",
      "PlusMD-[Notice] PlusMD successful, Duration 0.00 seconds\n",
      "PlusMD-[Notice] PlusMD started\n",
      "PlusMD-[Notice] PlusMD successful, Duration 0.00 seconds\n",
      "ConvertToMD-[Notice] ConvertToMD started\n",
      "ConvertToMD-[Notice] ConvertToMD successful, Duration 0.33 seconds\n",
      "{'AlignedDim1': 'DeltaE,0,80, 160', 'AlignedDim0': '[H,0,0],-5,0,251', 'AlignedDim3': '[0,0,L],-.2,0.2,1', 'AlignedDim2': '[0,K,0],-0.2,0.2,1'}\n",
      "MDNormDirectSC-[Notice] MDNormDirectSC started\n",
      "MDNormDirectSC-[Notice] MDNormDirectSC successful, Duration 1.26 seconds\n",
      "rotation angle #4: -74.0\n",
      "PlusMD-[Notice] PlusMD started\n",
      "PlusMD-[Notice] PlusMD successful, Duration 0.00 seconds\n",
      "PlusMD-[Notice] PlusMD started\n",
      "PlusMD-[Notice] PlusMD successful, Duration 0.00 seconds\n",
      "ConvertToMD-[Notice] ConvertToMD started\n",
      "ConvertToMD-[Notice] ConvertToMD successful, Duration 0.39 seconds\n",
      "{'AlignedDim1': 'DeltaE,0,80, 160', 'AlignedDim0': '[H,0,0],-5,0,251', 'AlignedDim3': '[0,0,L],-.2,0.2,1', 'AlignedDim2': '[0,K,0],-0.2,0.2,1'}\n",
      "MDNormDirectSC-[Notice] MDNormDirectSC started\n",
      "MDNormDirectSC-[Notice] MDNormDirectSC successful, Duration 1.03 seconds\n",
      "rotation angle #5: -70.0\n",
      "PlusMD-[Notice] PlusMD started\n",
      "PlusMD-[Notice] PlusMD successful, Duration 0.00 seconds\n",
      "PlusMD-[Notice] PlusMD started\n",
      "PlusMD-[Notice] PlusMD successful, Duration 0.00 seconds\n",
      "ConvertToMD-[Notice] ConvertToMD started\n",
      "ConvertToMD-[Notice] ConvertToMD successful, Duration 0.34 seconds\n",
      "{'AlignedDim1': 'DeltaE,0,80, 160', 'AlignedDim0': '[H,0,0],-5,0,251', 'AlignedDim3': '[0,0,L],-.2,0.2,1', 'AlignedDim2': '[0,K,0],-0.2,0.2,1'}\n",
      "MDNormDirectSC-[Notice] MDNormDirectSC started\n",
      "MDNormDirectSC-[Notice] MDNormDirectSC successful, Duration 1.40 seconds\n",
      "rotation angle #6: -66.0\n",
      "PlusMD-[Notice] PlusMD started\n",
      "PlusMD-[Notice] PlusMD successful, Duration 0.00 seconds\n",
      "PlusMD-[Notice] PlusMD started\n",
      "PlusMD-[Notice] PlusMD successful, Duration 0.00 seconds\n",
      "ConvertToMD-[Notice] ConvertToMD started\n",
      "ConvertToMD-[Notice] ConvertToMD successful, Duration 0.39 seconds\n",
      "{'AlignedDim1': 'DeltaE,0,80, 160', 'AlignedDim0': '[H,0,0],-5,0,251', 'AlignedDim3': '[0,0,L],-.2,0.2,1', 'AlignedDim2': '[0,K,0],-0.2,0.2,1'}\n",
      "MDNormDirectSC-[Notice] MDNormDirectSC started\n",
      "MDNormDirectSC-[Notice] MDNormDirectSC successful, Duration 1.04 seconds\n",
      "rotation angle #7: -62.0\n",
      "PlusMD-[Notice] PlusMD started\n",
      "PlusMD-[Notice] PlusMD successful, Duration 0.00 seconds\n",
      "PlusMD-[Notice] PlusMD started\n",
      "PlusMD-[Notice] PlusMD successful, Duration 0.00 seconds\n",
      "ConvertToMD-[Notice] ConvertToMD started\n",
      "ConvertToMD-[Notice] ConvertToMD successful, Duration 0.38 seconds\n",
      "{'AlignedDim1': 'DeltaE,0,80, 160', 'AlignedDim0': '[H,0,0],-5,0,251', 'AlignedDim3': '[0,0,L],-.2,0.2,1', 'AlignedDim2': '[0,K,0],-0.2,0.2,1'}\n",
      "MDNormDirectSC-[Notice] MDNormDirectSC started\n",
      "MDNormDirectSC-[Notice] MDNormDirectSC successful, Duration 1.19 seconds\n",
      "rotation angle #8: -58.0\n",
      "PlusMD-[Notice] PlusMD started\n",
      "PlusMD-[Notice] PlusMD successful, Duration 0.00 seconds\n",
      "PlusMD-[Notice] PlusMD started\n",
      "PlusMD-[Notice] PlusMD successful, Duration 0.00 seconds\n",
      "ConvertToMD-[Notice] ConvertToMD started\n",
      "ConvertToMD-[Notice] ConvertToMD successful, Duration 0.37 seconds\n",
      "{'AlignedDim1': 'DeltaE,0,80, 160', 'AlignedDim0': '[H,0,0],-5,0,251', 'AlignedDim3': '[0,0,L],-.2,0.2,1', 'AlignedDim2': '[0,K,0],-0.2,0.2,1'}\n",
      "MDNormDirectSC-[Notice] MDNormDirectSC started\n",
      "MDNormDirectSC-[Notice] MDNormDirectSC successful, Duration 1.24 seconds\n",
      "rotation angle #9: -54.0\n",
      "PlusMD-[Notice] PlusMD started\n",
      "PlusMD-[Notice] PlusMD successful, Duration 0.00 seconds\n",
      "PlusMD-[Notice] PlusMD started\n",
      "PlusMD-[Notice] PlusMD successful, Duration 0.00 seconds\n",
      "ConvertToMD-[Notice] ConvertToMD started\n",
      "ConvertToMD-[Notice] ConvertToMD successful, Duration 0.39 seconds\n",
      "{'AlignedDim1': 'DeltaE,0,80, 160', 'AlignedDim0': '[H,0,0],-5,0,251', 'AlignedDim3': '[0,0,L],-.2,0.2,1', 'AlignedDim2': '[0,K,0],-0.2,0.2,1'}\n",
      "MDNormDirectSC-[Notice] MDNormDirectSC started\n",
      "MDNormDirectSC-[Notice] MDNormDirectSC successful, Duration 1.19 seconds\n",
      "rotation angle #10: -50.0\n",
      "PlusMD-[Notice] PlusMD started\n",
      "PlusMD-[Notice] PlusMD successful, Duration 0.00 seconds\n",
      "PlusMD-[Notice] PlusMD started\n",
      "PlusMD-[Notice] PlusMD successful, Duration 0.00 seconds\n",
      "ConvertToMD-[Notice] ConvertToMD started\n",
      "ConvertToMD-[Notice] ConvertToMD successful, Duration 0.33 seconds\n",
      "{'AlignedDim1': 'DeltaE,0,80, 160', 'AlignedDim0': '[H,0,0],-5,0,251', 'AlignedDim3': '[0,0,L],-.2,0.2,1', 'AlignedDim2': '[0,K,0],-0.2,0.2,1'}\n",
      "MDNormDirectSC-[Notice] MDNormDirectSC started\n",
      "MDNormDirectSC-[Notice] MDNormDirectSC successful, Duration 1.24 seconds\n",
      "rotation angle #11: -46.0\n",
      "PlusMD-[Notice] PlusMD started\n",
      "PlusMD-[Notice] PlusMD successful, Duration 0.00 seconds\n",
      "PlusMD-[Notice] PlusMD started\n",
      "PlusMD-[Notice] PlusMD successful, Duration 0.00 seconds\n",
      "ConvertToMD-[Notice] ConvertToMD started\n",
      "ConvertToMD-[Notice] ConvertToMD successful, Duration 0.31 seconds\n",
      "{'AlignedDim1': 'DeltaE,0,80, 160', 'AlignedDim0': '[H,0,0],-5,0,251', 'AlignedDim3': '[0,0,L],-.2,0.2,1', 'AlignedDim2': '[0,K,0],-0.2,0.2,1'}\n",
      "MDNormDirectSC-[Notice] MDNormDirectSC started\n",
      "MDNormDirectSC-[Notice] MDNormDirectSC successful, Duration 0.77 seconds\n",
      "rotation angle #12: -42.0\n",
      "PlusMD-[Notice] PlusMD started\n",
      "PlusMD-[Notice] PlusMD successful, Duration 0.00 seconds\n",
      "PlusMD-[Notice] PlusMD started\n",
      "PlusMD-[Notice] PlusMD successful, Duration 0.00 seconds\n",
      "ConvertToMD-[Notice] ConvertToMD started\n",
      "ConvertToMD-[Notice] ConvertToMD successful, Duration 0.29 seconds\n",
      "{'AlignedDim1': 'DeltaE,0,80, 160', 'AlignedDim0': '[H,0,0],-5,0,251', 'AlignedDim3': '[0,0,L],-.2,0.2,1', 'AlignedDim2': '[0,K,0],-0.2,0.2,1'}\n",
      "MDNormDirectSC-[Notice] MDNormDirectSC started\n",
      "MDNormDirectSC-[Notice] MDNormDirectSC successful, Duration 1.01 seconds\n",
      "rotation angle #13: -38.0\n",
      "PlusMD-[Notice] PlusMD started\n",
      "PlusMD-[Notice] PlusMD successful, Duration 0.00 seconds\n",
      "PlusMD-[Notice] PlusMD started\n",
      "PlusMD-[Notice] PlusMD successful, Duration 0.00 seconds\n",
      "ConvertToMD-[Notice] ConvertToMD started\n",
      "ConvertToMD-[Notice] ConvertToMD successful, Duration 0.39 seconds\n",
      "{'AlignedDim1': 'DeltaE,0,80, 160', 'AlignedDim0': '[H,0,0],-5,0,251', 'AlignedDim3': '[0,0,L],-.2,0.2,1', 'AlignedDim2': '[0,K,0],-0.2,0.2,1'}\n",
      "MDNormDirectSC-[Notice] MDNormDirectSC started\n",
      "MDNormDirectSC-[Notice] MDNormDirectSC successful, Duration 0.95 seconds\n",
      "rotation angle #14: -34.0\n",
      "PlusMD-[Notice] PlusMD started\n",
      "PlusMD-[Notice] PlusMD successful, Duration 0.00 seconds\n",
      "PlusMD-[Notice] PlusMD started\n",
      "PlusMD-[Notice] PlusMD successful, Duration 0.00 seconds\n",
      "ConvertToMD-[Notice] ConvertToMD started\n",
      "ConvertToMD-[Notice] ConvertToMD successful, Duration 0.43 seconds\n",
      "{'AlignedDim1': 'DeltaE,0,80, 160', 'AlignedDim0': '[H,0,0],-5,0,251', 'AlignedDim3': '[0,0,L],-.2,0.2,1', 'AlignedDim2': '[0,K,0],-0.2,0.2,1'}\n",
      "MDNormDirectSC-[Notice] MDNormDirectSC started\n",
      "MDNormDirectSC-[Notice] MDNormDirectSC successful, Duration 0.87 seconds\n",
      "rotation angle #15: -30.0\n",
      "PlusMD-[Notice] PlusMD started\n",
      "PlusMD-[Notice] PlusMD successful, Duration 0.00 seconds\n",
      "PlusMD-[Notice] PlusMD started\n",
      "PlusMD-[Notice] PlusMD successful, Duration 0.00 seconds\n",
      "ConvertToMD-[Notice] ConvertToMD started\n",
      "ConvertToMD-[Notice] ConvertToMD successful, Duration 0.38 seconds\n",
      "{'AlignedDim1': 'DeltaE,0,80, 160', 'AlignedDim0': '[H,0,0],-5,0,251', 'AlignedDim3': '[0,0,L],-.2,0.2,1', 'AlignedDim2': '[0,K,0],-0.2,0.2,1'}\n",
      "MDNormDirectSC-[Notice] MDNormDirectSC started\n",
      "MDNormDirectSC-[Notice] MDNormDirectSC successful, Duration 0.85 seconds\n",
      "rotation angle #16: -26.0\n",
      "PlusMD-[Notice] PlusMD started\n",
      "PlusMD-[Notice] PlusMD successful, Duration 0.00 seconds\n",
      "PlusMD-[Notice] PlusMD started\n",
      "PlusMD-[Notice] PlusMD successful, Duration 0.00 seconds\n",
      "ConvertToMD-[Notice] ConvertToMD started\n",
      "ConvertToMD-[Notice] ConvertToMD successful, Duration 0.38 seconds\n",
      "{'AlignedDim1': 'DeltaE,0,80, 160', 'AlignedDim0': '[H,0,0],-5,0,251', 'AlignedDim3': '[0,0,L],-.2,0.2,1', 'AlignedDim2': '[0,K,0],-0.2,0.2,1'}\n",
      "MDNormDirectSC-[Notice] MDNormDirectSC started\n",
      "MDNormDirectSC-[Notice] MDNormDirectSC successful, Duration 1.00 seconds\n",
      "rotation angle #17: -22.0\n",
      "PlusMD-[Notice] PlusMD started\n",
      "PlusMD-[Notice] PlusMD successful, Duration 0.00 seconds\n",
      "PlusMD-[Notice] PlusMD started\n",
      "PlusMD-[Notice] PlusMD successful, Duration 0.00 seconds\n",
      "ConvertToMD-[Notice] ConvertToMD started\n",
      "ConvertToMD-[Notice] ConvertToMD successful, Duration 0.54 seconds\n",
      "{'AlignedDim1': 'DeltaE,0,80, 160', 'AlignedDim0': '[H,0,0],-5,0,251', 'AlignedDim3': '[0,0,L],-.2,0.2,1', 'AlignedDim2': '[0,K,0],-0.2,0.2,1'}\n",
      "MDNormDirectSC-[Notice] MDNormDirectSC started\n",
      "MDNormDirectSC-[Notice] MDNormDirectSC successful, Duration 0.86 seconds\n",
      "rotation angle #18: -18.0\n",
      "PlusMD-[Notice] PlusMD started\n",
      "PlusMD-[Notice] PlusMD successful, Duration 0.00 seconds\n",
      "PlusMD-[Notice] PlusMD started\n",
      "PlusMD-[Notice] PlusMD successful, Duration 0.00 seconds\n",
      "ConvertToMD-[Notice] ConvertToMD started\n",
      "ConvertToMD-[Notice] ConvertToMD successful, Duration 0.31 seconds\n",
      "{'AlignedDim1': 'DeltaE,0,80, 160', 'AlignedDim0': '[H,0,0],-5,0,251', 'AlignedDim3': '[0,0,L],-.2,0.2,1', 'AlignedDim2': '[0,K,0],-0.2,0.2,1'}\n",
      "MDNormDirectSC-[Notice] MDNormDirectSC started\n",
      "MDNormDirectSC-[Notice] MDNormDirectSC successful, Duration 0.92 seconds\n",
      "rotation angle #19: -14.0\n",
      "PlusMD-[Notice] PlusMD started\n",
      "PlusMD-[Notice] PlusMD successful, Duration 0.00 seconds\n",
      "PlusMD-[Notice] PlusMD started\n",
      "PlusMD-[Notice] PlusMD successful, Duration 0.00 seconds\n",
      "ConvertToMD-[Notice] ConvertToMD started\n",
      "ConvertToMD-[Notice] ConvertToMD successful, Duration 0.35 seconds\n",
      "{'AlignedDim1': 'DeltaE,0,80, 160', 'AlignedDim0': '[H,0,0],-5,0,251', 'AlignedDim3': '[0,0,L],-.2,0.2,1', 'AlignedDim2': '[0,K,0],-0.2,0.2,1'}\n",
      "MDNormDirectSC-[Notice] MDNormDirectSC started\n",
      "MDNormDirectSC-[Notice] MDNormDirectSC successful, Duration 0.71 seconds\n",
      "rotation angle #20: -10.0\n",
      "PlusMD-[Notice] PlusMD started\n",
      "PlusMD-[Notice] PlusMD successful, Duration 0.00 seconds\n",
      "PlusMD-[Notice] PlusMD started\n",
      "PlusMD-[Notice] PlusMD successful, Duration 0.00 seconds\n",
      "ConvertToMD-[Notice] ConvertToMD started\n",
      "ConvertToMD-[Notice] ConvertToMD successful, Duration 0.35 seconds\n",
      "{'AlignedDim1': 'DeltaE,0,80, 160', 'AlignedDim0': '[H,0,0],-5,0,251', 'AlignedDim3': '[0,0,L],-.2,0.2,1', 'AlignedDim2': '[0,K,0],-0.2,0.2,1'}\n",
      "MDNormDirectSC-[Notice] MDNormDirectSC started\n",
      "MDNormDirectSC-[Notice] MDNormDirectSC successful, Duration 0.99 seconds\n",
      "rotation angle #21: -6.0\n",
      "PlusMD-[Notice] PlusMD started\n",
      "PlusMD-[Notice] PlusMD successful, Duration 0.00 seconds\n",
      "PlusMD-[Notice] PlusMD started\n",
      "PlusMD-[Notice] PlusMD successful, Duration 0.00 seconds\n",
      "ConvertToMD-[Notice] ConvertToMD started\n",
      "ConvertToMD-[Notice] ConvertToMD successful, Duration 0.35 seconds\n",
      "{'AlignedDim1': 'DeltaE,0,80, 160', 'AlignedDim0': '[H,0,0],-5,0,251', 'AlignedDim3': '[0,0,L],-.2,0.2,1', 'AlignedDim2': '[0,K,0],-0.2,0.2,1'}\n",
      "MDNormDirectSC-[Notice] MDNormDirectSC started\n",
      "MDNormDirectSC-[Notice] MDNormDirectSC successful, Duration 0.78 seconds\n",
      "rotation angle #22: -2.0\n",
      "PlusMD-[Notice] PlusMD started\n",
      "PlusMD-[Notice] PlusMD successful, Duration 0.00 seconds\n",
      "PlusMD-[Notice] PlusMD started\n",
      "PlusMD-[Notice] PlusMD successful, Duration 0.00 seconds\n",
      "ConvertToMD-[Notice] ConvertToMD started\n",
      "ConvertToMD-[Notice] ConvertToMD successful, Duration 0.28 seconds\n",
      "{'AlignedDim1': 'DeltaE,0,80, 160', 'AlignedDim0': '[H,0,0],-5,0,251', 'AlignedDim3': '[0,0,L],-.2,0.2,1', 'AlignedDim2': '[0,K,0],-0.2,0.2,1'}\n",
      "MDNormDirectSC-[Notice] MDNormDirectSC started\n",
      "MDNormDirectSC-[Notice] MDNormDirectSC successful, Duration 0.76 seconds\n",
      "rotation angle #23: 2.0\n",
      "PlusMD-[Notice] PlusMD started\n",
      "PlusMD-[Notice] PlusMD successful, Duration 0.00 seconds\n",
      "PlusMD-[Notice] PlusMD started\n",
      "PlusMD-[Notice] PlusMD successful, Duration 0.00 seconds\n",
      "ConvertToMD-[Notice] ConvertToMD started\n",
      "ConvertToMD-[Notice] ConvertToMD successful, Duration 0.42 seconds\n",
      "{'AlignedDim1': 'DeltaE,0,80, 160', 'AlignedDim0': '[H,0,0],-5,0,251', 'AlignedDim3': '[0,0,L],-.2,0.2,1', 'AlignedDim2': '[0,K,0],-0.2,0.2,1'}\n",
      "MDNormDirectSC-[Notice] MDNormDirectSC started\n",
      "MDNormDirectSC-[Notice] MDNormDirectSC successful, Duration 0.78 seconds\n",
      "rotation angle #24: 6.0\n",
      "PlusMD-[Notice] PlusMD started\n",
      "PlusMD-[Notice] PlusMD successful, Duration 0.00 seconds\n",
      "PlusMD-[Notice] PlusMD started\n",
      "PlusMD-[Notice] PlusMD successful, Duration 0.00 seconds\n",
      "ConvertToMD-[Notice] ConvertToMD started\n",
      "ConvertToMD-[Notice] ConvertToMD successful, Duration 0.36 seconds\n",
      "{'AlignedDim1': 'DeltaE,0,80, 160', 'AlignedDim0': '[H,0,0],-5,0,251', 'AlignedDim3': '[0,0,L],-.2,0.2,1', 'AlignedDim2': '[0,K,0],-0.2,0.2,1'}\n",
      "MDNormDirectSC-[Notice] MDNormDirectSC started\n",
      "MDNormDirectSC-[Notice] MDNormDirectSC successful, Duration 0.72 seconds\n",
      "rotation angle #25: 10.0\n",
      "PlusMD-[Notice] PlusMD started\n",
      "PlusMD-[Notice] PlusMD successful, Duration 0.00 seconds\n",
      "PlusMD-[Notice] PlusMD started\n",
      "PlusMD-[Notice] PlusMD successful, Duration 0.00 seconds\n",
      "ConvertToMD-[Notice] ConvertToMD started\n",
      "ConvertToMD-[Notice] ConvertToMD successful, Duration 0.28 seconds\n",
      "{'AlignedDim1': 'DeltaE,0,80, 160', 'AlignedDim0': '[H,0,0],-5,0,251', 'AlignedDim3': '[0,0,L],-.2,0.2,1', 'AlignedDim2': '[0,K,0],-0.2,0.2,1'}\n",
      "MDNormDirectSC-[Notice] MDNormDirectSC started\n",
      "MDNormDirectSC-[Notice] MDNormDirectSC successful, Duration 0.66 seconds\n",
      "rotation angle #26: 14.0\n",
      "PlusMD-[Notice] PlusMD started\n",
      "PlusMD-[Notice] PlusMD successful, Duration 0.00 seconds\n",
      "PlusMD-[Notice] PlusMD started\n",
      "PlusMD-[Notice] PlusMD successful, Duration 0.00 seconds\n",
      "ConvertToMD-[Notice] ConvertToMD started\n",
      "ConvertToMD-[Notice] ConvertToMD successful, Duration 0.35 seconds\n",
      "{'AlignedDim1': 'DeltaE,0,80, 160', 'AlignedDim0': '[H,0,0],-5,0,251', 'AlignedDim3': '[0,0,L],-.2,0.2,1', 'AlignedDim2': '[0,K,0],-0.2,0.2,1'}\n",
      "MDNormDirectSC-[Notice] MDNormDirectSC started\n",
      "MDNormDirectSC-[Notice] MDNormDirectSC successful, Duration 0.87 seconds\n",
      "rotation angle #27: 18.0\n",
      "PlusMD-[Notice] PlusMD started\n",
      "PlusMD-[Notice] PlusMD successful, Duration 0.00 seconds\n",
      "PlusMD-[Notice] PlusMD started\n",
      "PlusMD-[Notice] PlusMD successful, Duration 0.00 seconds\n",
      "ConvertToMD-[Notice] ConvertToMD started\n",
      "ConvertToMD-[Notice] ConvertToMD successful, Duration 0.39 seconds\n",
      "{'AlignedDim1': 'DeltaE,0,80, 160', 'AlignedDim0': '[H,0,0],-5,0,251', 'AlignedDim3': '[0,0,L],-.2,0.2,1', 'AlignedDim2': '[0,K,0],-0.2,0.2,1'}\n",
      "MDNormDirectSC-[Notice] MDNormDirectSC started\n",
      "MDNormDirectSC-[Notice] MDNormDirectSC successful, Duration 0.84 seconds\n",
      "rotation angle #28: 22.0\n",
      "PlusMD-[Notice] PlusMD started\n",
      "PlusMD-[Notice] PlusMD successful, Duration 0.00 seconds\n",
      "PlusMD-[Notice] PlusMD started\n",
      "PlusMD-[Notice] PlusMD successful, Duration 0.00 seconds\n",
      "ConvertToMD-[Notice] ConvertToMD started\n",
      "ConvertToMD-[Notice] ConvertToMD successful, Duration 0.38 seconds\n",
      "{'AlignedDim1': 'DeltaE,0,80, 160', 'AlignedDim0': '[H,0,0],-5,0,251', 'AlignedDim3': '[0,0,L],-.2,0.2,1', 'AlignedDim2': '[0,K,0],-0.2,0.2,1'}\n",
      "MDNormDirectSC-[Notice] MDNormDirectSC started\n",
      "MDNormDirectSC-[Notice] MDNormDirectSC successful, Duration 0.79 seconds\n",
      "rotation angle #29: 26.0\n",
      "PlusMD-[Notice] PlusMD started\n",
      "PlusMD-[Notice] PlusMD successful, Duration 0.02 seconds\n",
      "PlusMD-[Notice] PlusMD started\n",
      "PlusMD-[Notice] PlusMD successful, Duration 0.00 seconds\n",
      "ConvertToMD-[Notice] ConvertToMD started\n",
      "ConvertToMD-[Notice] ConvertToMD successful, Duration 0.42 seconds\n",
      "{'AlignedDim1': 'DeltaE,0,80, 160', 'AlignedDim0': '[H,0,0],-5,0,251', 'AlignedDim3': '[0,0,L],-.2,0.2,1', 'AlignedDim2': '[0,K,0],-0.2,0.2,1'}\n",
      "MDNormDirectSC-[Notice] MDNormDirectSC started\n",
      "MDNormDirectSC-[Notice] MDNormDirectSC successful, Duration 1.01 seconds\n",
      "rotation angle #30: 30.0\n",
      "PlusMD-[Notice] PlusMD started\n",
      "PlusMD-[Notice] PlusMD successful, Duration 0.01 seconds\n",
      "PlusMD-[Notice] PlusMD started\n",
      "PlusMD-[Notice] PlusMD successful, Duration 0.01 seconds\n",
      "ConvertToMD-[Notice] ConvertToMD started\n",
      "ConvertToMD-[Notice] ConvertToMD successful, Duration 0.59 seconds\n",
      "{'AlignedDim1': 'DeltaE,0,80, 160', 'AlignedDim0': '[H,0,0],-5,0,251', 'AlignedDim3': '[0,0,L],-.2,0.2,1', 'AlignedDim2': '[0,K,0],-0.2,0.2,1'}\n",
      "MDNormDirectSC-[Notice] MDNormDirectSC started\n",
      "MDNormDirectSC-[Notice] MDNormDirectSC successful, Duration 0.89 seconds\n",
      "rotation angle #31: 34.0\n",
      "PlusMD-[Notice] PlusMD started\n",
      "PlusMD-[Notice] PlusMD successful, Duration 0.00 seconds\n",
      "PlusMD-[Notice] PlusMD started\n",
      "PlusMD-[Notice] PlusMD successful, Duration 0.00 seconds\n",
      "ConvertToMD-[Notice] ConvertToMD started\n",
      "ConvertToMD-[Notice] ConvertToMD successful, Duration 0.28 seconds\n",
      "{'AlignedDim1': 'DeltaE,0,80, 160', 'AlignedDim0': '[H,0,0],-5,0,251', 'AlignedDim3': '[0,0,L],-.2,0.2,1', 'AlignedDim2': '[0,K,0],-0.2,0.2,1'}\n",
      "MDNormDirectSC-[Notice] MDNormDirectSC started\n",
      "MDNormDirectSC-[Notice] MDNormDirectSC successful, Duration 0.70 seconds\n",
      "rotation angle #32: 38.0\n",
      "PlusMD-[Notice] PlusMD started\n",
      "PlusMD-[Notice] PlusMD successful, Duration 0.00 seconds\n",
      "PlusMD-[Notice] PlusMD started\n",
      "PlusMD-[Notice] PlusMD successful, Duration 0.00 seconds\n",
      "ConvertToMD-[Notice] ConvertToMD started\n",
      "ConvertToMD-[Notice] ConvertToMD successful, Duration 0.28 seconds\n",
      "{'AlignedDim1': 'DeltaE,0,80, 160', 'AlignedDim0': '[H,0,0],-5,0,251', 'AlignedDim3': '[0,0,L],-.2,0.2,1', 'AlignedDim2': '[0,K,0],-0.2,0.2,1'}\n",
      "MDNormDirectSC-[Notice] MDNormDirectSC started\n",
      "MDNormDirectSC-[Notice] MDNormDirectSC successful, Duration 1.07 seconds\n",
      "rotation angle #33: 42.0\n",
      "PlusMD-[Notice] PlusMD started\n",
      "PlusMD-[Notice] PlusMD successful, Duration 0.00 seconds\n",
      "PlusMD-[Notice] PlusMD started\n",
      "PlusMD-[Notice] PlusMD successful, Duration 0.00 seconds\n",
      "ConvertToMD-[Notice] ConvertToMD started\n",
      "ConvertToMD-[Notice] ConvertToMD successful, Duration 0.28 seconds\n",
      "{'AlignedDim1': 'DeltaE,0,80, 160', 'AlignedDim0': '[H,0,0],-5,0,251', 'AlignedDim3': '[0,0,L],-.2,0.2,1', 'AlignedDim2': '[0,K,0],-0.2,0.2,1'}\n",
      "MDNormDirectSC-[Notice] MDNormDirectSC started\n",
      "MDNormDirectSC-[Notice] MDNormDirectSC successful, Duration 1.00 seconds\n",
      "rotation angle #34: 46.0\n",
      "PlusMD-[Notice] PlusMD started\n",
      "PlusMD-[Notice] PlusMD successful, Duration 0.01 seconds\n",
      "PlusMD-[Notice] PlusMD started\n",
      "PlusMD-[Notice] PlusMD successful, Duration 0.01 seconds\n",
      "ConvertToMD-[Notice] ConvertToMD started\n",
      "ConvertToMD-[Notice] ConvertToMD successful, Duration 0.37 seconds\n",
      "{'AlignedDim1': 'DeltaE,0,80, 160', 'AlignedDim0': '[H,0,0],-5,0,251', 'AlignedDim3': '[0,0,L],-.2,0.2,1', 'AlignedDim2': '[0,K,0],-0.2,0.2,1'}\n",
      "MDNormDirectSC-[Notice] MDNormDirectSC started\n",
      "MDNormDirectSC-[Notice] MDNormDirectSC successful, Duration 0.67 seconds\n",
      "rotation angle #35: 50.0\n",
      "PlusMD-[Notice] PlusMD started\n",
      "PlusMD-[Notice] PlusMD successful, Duration 0.00 seconds\n",
      "PlusMD-[Notice] PlusMD started\n",
      "PlusMD-[Notice] PlusMD successful, Duration 0.00 seconds\n",
      "ConvertToMD-[Notice] ConvertToMD started\n",
      "ConvertToMD-[Notice] ConvertToMD successful, Duration 0.29 seconds\n",
      "{'AlignedDim1': 'DeltaE,0,80, 160', 'AlignedDim0': '[H,0,0],-5,0,251', 'AlignedDim3': '[0,0,L],-.2,0.2,1', 'AlignedDim2': '[0,K,0],-0.2,0.2,1'}\n",
      "MDNormDirectSC-[Notice] MDNormDirectSC started\n",
      "MDNormDirectSC-[Notice] MDNormDirectSC successful, Duration 0.97 seconds\n",
      "rotation angle #36: 54.0\n",
      "PlusMD-[Notice] PlusMD started\n",
      "PlusMD-[Notice] PlusMD successful, Duration 0.01 seconds\n",
      "PlusMD-[Notice] PlusMD started\n",
      "PlusMD-[Notice] PlusMD successful, Duration 0.01 seconds\n",
      "ConvertToMD-[Notice] ConvertToMD started\n",
      "ConvertToMD-[Notice] ConvertToMD successful, Duration 0.30 seconds\n",
      "{'AlignedDim1': 'DeltaE,0,80, 160', 'AlignedDim0': '[H,0,0],-5,0,251', 'AlignedDim3': '[0,0,L],-.2,0.2,1', 'AlignedDim2': '[0,K,0],-0.2,0.2,1'}\n",
      "MDNormDirectSC-[Notice] MDNormDirectSC started\n",
      "MDNormDirectSC-[Notice] MDNormDirectSC successful, Duration 1.08 seconds\n",
      "rotation angle #37: 58.0\n",
      "PlusMD-[Notice] PlusMD started\n",
      "PlusMD-[Notice] PlusMD successful, Duration 0.00 seconds\n",
      "PlusMD-[Notice] PlusMD started\n",
      "PlusMD-[Notice] PlusMD successful, Duration 0.00 seconds\n",
      "ConvertToMD-[Notice] ConvertToMD started\n",
      "ConvertToMD-[Notice] ConvertToMD successful, Duration 0.32 seconds\n",
      "{'AlignedDim1': 'DeltaE,0,80, 160', 'AlignedDim0': '[H,0,0],-5,0,251', 'AlignedDim3': '[0,0,L],-.2,0.2,1', 'AlignedDim2': '[0,K,0],-0.2,0.2,1'}\n",
      "MDNormDirectSC-[Notice] MDNormDirectSC started\n",
      "MDNormDirectSC-[Notice] MDNormDirectSC successful, Duration 0.78 seconds\n",
      "rotation angle #38: 62.0\n",
      "PlusMD-[Notice] PlusMD started\n",
      "PlusMD-[Notice] PlusMD successful, Duration 0.00 seconds\n",
      "PlusMD-[Notice] PlusMD started\n",
      "PlusMD-[Notice] PlusMD successful, Duration 0.00 seconds\n",
      "ConvertToMD-[Notice] ConvertToMD started\n",
      "ConvertToMD-[Notice] ConvertToMD successful, Duration 0.29 seconds\n",
      "{'AlignedDim1': 'DeltaE,0,80, 160', 'AlignedDim0': '[H,0,0],-5,0,251', 'AlignedDim3': '[0,0,L],-.2,0.2,1', 'AlignedDim2': '[0,K,0],-0.2,0.2,1'}\n",
      "MDNormDirectSC-[Notice] MDNormDirectSC started\n",
      "MDNormDirectSC-[Notice] MDNormDirectSC successful, Duration 0.69 seconds\n",
      "rotation angle #39: 66.0\n",
      "PlusMD-[Notice] PlusMD started\n",
      "PlusMD-[Notice] PlusMD successful, Duration 0.00 seconds\n",
      "PlusMD-[Notice] PlusMD started\n",
      "PlusMD-[Notice] PlusMD successful, Duration 0.00 seconds\n",
      "ConvertToMD-[Notice] ConvertToMD started\n",
      "ConvertToMD-[Notice] ConvertToMD successful, Duration 0.27 seconds\n",
      "{'AlignedDim1': 'DeltaE,0,80, 160', 'AlignedDim0': '[H,0,0],-5,0,251', 'AlignedDim3': '[0,0,L],-.2,0.2,1', 'AlignedDim2': '[0,K,0],-0.2,0.2,1'}\n",
      "MDNormDirectSC-[Notice] MDNormDirectSC started\n",
      "MDNormDirectSC-[Notice] MDNormDirectSC successful, Duration 0.86 seconds\n",
      "rotation angle #40: 70.0\n",
      "PlusMD-[Notice] PlusMD started\n",
      "PlusMD-[Notice] PlusMD successful, Duration 0.00 seconds\n",
      "PlusMD-[Notice] PlusMD started\n",
      "PlusMD-[Notice] PlusMD successful, Duration 0.00 seconds\n",
      "ConvertToMD-[Notice] ConvertToMD started\n",
      "ConvertToMD-[Notice] ConvertToMD successful, Duration 0.51 seconds\n",
      "{'AlignedDim1': 'DeltaE,0,80, 160', 'AlignedDim0': '[H,0,0],-5,0,251', 'AlignedDim3': '[0,0,L],-.2,0.2,1', 'AlignedDim2': '[0,K,0],-0.2,0.2,1'}\n",
      "MDNormDirectSC-[Notice] MDNormDirectSC started\n",
      "MDNormDirectSC-[Notice] MDNormDirectSC successful, Duration 0.88 seconds\n",
      "rotation angle #41: 74.0\n",
      "PlusMD-[Notice] PlusMD started\n",
      "PlusMD-[Notice] PlusMD successful, Duration 0.00 seconds\n",
      "PlusMD-[Notice] PlusMD started\n",
      "PlusMD-[Notice] PlusMD successful, Duration 0.00 seconds\n",
      "ConvertToMD-[Notice] ConvertToMD started\n",
      "ConvertToMD-[Notice] ConvertToMD successful, Duration 0.36 seconds\n",
      "{'AlignedDim1': 'DeltaE,0,80, 160', 'AlignedDim0': '[H,0,0],-5,0,251', 'AlignedDim3': '[0,0,L],-.2,0.2,1', 'AlignedDim2': '[0,K,0],-0.2,0.2,1'}\n",
      "MDNormDirectSC-[Notice] MDNormDirectSC started\n",
      "MDNormDirectSC-[Notice] MDNormDirectSC successful, Duration 1.18 seconds\n",
      "rotation angle #42: 78.0\n",
      "PlusMD-[Notice] PlusMD started\n",
      "PlusMD-[Notice] PlusMD successful, Duration 0.00 seconds\n",
      "PlusMD-[Notice] PlusMD started\n",
      "PlusMD-[Notice] PlusMD successful, Duration 0.00 seconds\n",
      "ConvertToMD-[Notice] ConvertToMD started\n",
      "ConvertToMD-[Notice] ConvertToMD successful, Duration 0.26 seconds\n",
      "{'AlignedDim1': 'DeltaE,0,80, 160', 'AlignedDim0': '[H,0,0],-5,0,251', 'AlignedDim3': '[0,0,L],-.2,0.2,1', 'AlignedDim2': '[0,K,0],-0.2,0.2,1'}\n",
      "MDNormDirectSC-[Notice] MDNormDirectSC started\n",
      "MDNormDirectSC-[Notice] MDNormDirectSC successful, Duration 1.01 seconds\n",
      "rotation angle #43: 82.0\n",
      "PlusMD-[Notice] PlusMD started\n",
      "PlusMD-[Notice] PlusMD successful, Duration 0.00 seconds\n",
      "PlusMD-[Notice] PlusMD started\n",
      "PlusMD-[Notice] PlusMD successful, Duration 0.00 seconds\n",
      "ConvertToMD-[Notice] ConvertToMD started\n",
      "ConvertToMD-[Notice] ConvertToMD successful, Duration 0.25 seconds\n",
      "{'AlignedDim1': 'DeltaE,0,80, 160', 'AlignedDim0': '[H,0,0],-5,0,251', 'AlignedDim3': '[0,0,L],-.2,0.2,1', 'AlignedDim2': '[0,K,0],-0.2,0.2,1'}\n",
      "MDNormDirectSC-[Notice] MDNormDirectSC started\n",
      "MDNormDirectSC-[Notice] MDNormDirectSC successful, Duration 0.79 seconds\n",
      "rotation angle #44: 86.0\n",
      "PlusMD-[Notice] PlusMD started\n",
      "PlusMD-[Notice] PlusMD successful, Duration 0.00 seconds\n",
      "PlusMD-[Notice] PlusMD started\n",
      "PlusMD-[Notice] PlusMD successful, Duration 0.00 seconds\n",
      "ConvertToMD-[Notice] ConvertToMD started\n",
      "ConvertToMD-[Notice] ConvertToMD successful, Duration 0.25 seconds\n",
      "{'AlignedDim1': 'DeltaE,0,80, 160', 'AlignedDim0': '[H,0,0],-5,0,251', 'AlignedDim3': '[0,0,L],-.2,0.2,1', 'AlignedDim2': '[0,K,0],-0.2,0.2,1'}\n",
      "MDNormDirectSC-[Notice] MDNormDirectSC started\n",
      "MDNormDirectSC-[Notice] MDNormDirectSC successful, Duration 1.56 seconds\n",
      "rotation angle #45: 90.0\n",
      "PlusMD-[Notice] PlusMD started\n",
      "PlusMD-[Notice] PlusMD successful, Duration 0.00 seconds\n",
      "PlusMD-[Notice] PlusMD started\n",
      "PlusMD-[Notice] PlusMD successful, Duration 0.00 seconds\n",
      "RemoveWorkspaceHistory-[Notice] RemoveWorkspaceHistory started\n",
      "RemoveWorkspaceHistory-[Notice] RemoveWorkspaceHistory successful, Duration 0.00 seconds\n",
      "RemoveWorkspaceHistory-[Notice] RemoveWorkspaceHistory started\n",
      "RemoveWorkspaceHistory-[Notice] RemoveWorkspaceHistory successful, Duration 0.01 seconds\n",
      "SmoothMD-[Notice] SmoothMD started\n",
      "SmoothMD-[Notice] SmoothMD successful, Duration 0.01 seconds\n",
      "SmoothMD-[Notice] SmoothMD started\n",
      "SmoothMD-[Notice] SmoothMD successful, Duration 0.01 seconds\n",
      "DivideMD-[Notice] DivideMD started\n",
      "DivideMD-[Notice] DivideMD successful, Duration 0.00 seconds\n",
      "SaveMD-[Notice] SaveMD started\n",
      "SaveMD-[Notice] SaveMD successful, Duration 1.31 seconds\n"
     ]
    }
   ],
   "source": [
    "! PYTHONPATH=$PWD:$PYTHONPATH ./scripts/reduce/getaslice.py slice_H00.yml"
   ]
  },
  {
   "cell_type": "code",
   "execution_count": 17,
   "metadata": {
    "collapsed": false
   },
   "outputs": [
    {
     "name": "stdout",
     "output_type": "stream",
     "text": [
      "FrameworkManager-[Notice] Welcome to Mantid 3.6.100\n",
      "FrameworkManager-[Notice] Please cite: http://dx.doi.org/10.1016/j.nima.2014.07.029 and this release: http://dx.doi.org/10.5286/Software/Mantid3.6.100\n",
      "Load-[Notice] Load started\n",
      "Load-[Notice] Load successful, Duration 1.81 seconds\n"
     ]
    }
   ],
   "source": [
    "!./scripts/reduce/slice2hist.py slice_H00.nxs slice_H00.h5"
   ]
  },
  {
   "cell_type": "code",
   "execution_count": 19,
   "metadata": {
    "collapsed": false
   },
   "outputs": [
    {
     "name": "stdout",
     "output_type": "stream",
     "text": [
      "plot z in (0, 1e-06)\n"
     ]
    },
    {
     "data": {
      "image/png": "[encoded data removed]",
      "text/plain": [
       "<matplotlib.figure.Figure at 0x7f51f779e350>"
      ]
     },
     "metadata": {},
     "output_type": "display_data"
    }
   ],
   "source": [
    "H.plot(hh.load(\"./slice_H00.h5\"), min=0, max=1e-6)"
   ]
  },
  {
   "cell_type": "code",
   "execution_count": null,
   "metadata": {
    "collapsed": true
   },
   "outputs": [],
   "source": []
  }
 ],
 "metadata": {
  "kernelspec": {
   "display_name": "Python 2",
   "language": "python",
   "name": "python2"
  },
  "language_info": {
   "codemirror_mode": {
    "name": "ipython",
    "version": 2
   },
   "file_extension": ".py",
   "mimetype": "text/x-python",
   "name": "python",
   "nbconvert_exporter": "python",
   "pygments_lexer": "ipython2",
   "version": "2.7.11"
  },
  "widgets": {
   "state": {},
   "version": "1.1.2"
  }
 },
 "nbformat": 4,
 "nbformat_minor": 0
}
