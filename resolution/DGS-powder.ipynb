{
 "cells": [
  {
   "cell_type": "markdown",
   "metadata": {},
   "source": [
    "Please wait for the kernel to be ready. It may take *a couple minutes*. When it is ready, the **circle** on the top-right corner of this browser window should be **open**.\n",
    "\n",
    "<img src=\"https://raw.githubusercontent.com/mcvine/training/master/images/kernel-ready.png\"/>"
   ]
  },
  {
   "cell_type": "markdown",
   "metadata": {},
   "source": [
    "# Resolution function for DGS instruments"
   ]
  },
  {
   "cell_type": "markdown",
   "metadata": {},
   "source": [
    "import tools"
   ]
  },
  {
   "cell_type": "code",
   "execution_count": null,
   "metadata": {},
   "outputs": [],
   "source": [
    "import os, numpy as np\n",
    "from matplotlib import pyplot as plt\n",
    "%matplotlib notebook"
   ]
  },
  {
   "cell_type": "markdown",
   "metadata": {},
   "source": [
    "define and enter working dir"
   ]
  },
  {
   "cell_type": "code",
   "execution_count": null,
   "metadata": {},
   "outputs": [],
   "source": [
    "workdir = '~/simulations/mcvine/resolution/demo'\n",
    "!mkdir -p {workdir}\n",
    "%cd {workdir}"
   ]
  },
  {
   "cell_type": "markdown",
   "metadata": {},
   "source": [
    "Define the beam path by modifying the following cell. A DGS beam can be simulated using <a href=\"../jui/DGS-beam.ipynb\">this notebook </a>"
   ]
  },
  {
   "cell_type": "code",
   "execution_count": null,
   "metadata": {},
   "outputs": [],
   "source": [
    "beam = \"/SNS/users/lj7/simulations/ARCS/beam/100meV-n1e10\"\n",
    "instrument = 'ARCS'\n",
    "Ei = 100."
   ]
  },
  {
   "cell_type": "markdown",
   "metadata": {},
   "source": [
    "Point of interest and plotting axes"
   ]
  },
  {
   "cell_type": "code",
   "execution_count": null,
   "metadata": {},
   "outputs": [],
   "source": [
    "E = 50.\n",
    "Q = 5\n",
    "dQ_axis=(-2, 2, 0.02)\n",
    "dE_axis=(-30, 30, 1.)"
   ]
  },
  {
   "cell_type": "markdown",
   "metadata": {},
   "source": [
    "Sim params"
   ]
  },
  {
   "cell_type": "code",
   "execution_count": null,
   "metadata": {},
   "outputs": [],
   "source": [
    "ncount = 1e7\n",
    "nodes = 10"
   ]
  },
  {
   "cell_type": "markdown",
   "metadata": {},
   "source": [
    "Run sim"
   ]
  },
  {
   "cell_type": "code",
   "execution_count": null,
   "metadata": {},
   "outputs": [],
   "source": [
    "from dgsres.powder import  use_ConstantQEKernel\n",
    "sim = use_ConstantQEKernel.Sim(\n",
    "    instrument = instrument,\n",
    "    workdir = \".\",\n",
    "    beamdir = beam,\n",
    "    Ei = Ei,\n",
    "    Q = Q,\n",
    "    dQ_axis=dQ_axis,\n",
    "    dE_axis=dE_axis,\n",
    "    ncount = ncount,\n",
    "    nodes = nodes,\n",
    "    )\n",
    "sim.run(E=E)"
   ]
  },
  {
   "cell_type": "markdown",
   "metadata": {},
   "source": [
    "Results"
   ]
  },
  {
   "cell_type": "code",
   "execution_count": null,
   "metadata": {},
   "outputs": [],
   "source": [
    "ls out"
   ]
  },
  {
   "cell_type": "code",
   "execution_count": null,
   "metadata": {},
   "outputs": [],
   "source": [
    "import histogram.hdf as hh, histogram as H\n",
    "%matplotlib notebook"
   ]
  },
  {
   "cell_type": "code",
   "execution_count": null,
   "metadata": {},
   "outputs": [],
   "source": [
    "plt.figure()\n",
    "H.plot(hh.load(\"./out/iqe-E_5-Q_50.0.h5\"))\n",
    "plt.close()"
   ]
  },
  {
   "cell_type": "code",
   "execution_count": null,
   "metadata": {},
   "outputs": [],
   "source": [
    "plt.figure()\n",
    "H.plot(hh.load(\"./out/ie-E_5-Q_50.0.h5\"))\n",
    "plt.close()"
   ]
  }
 ],
 "metadata": {
  "kernelspec": {
   "display_name": "python2-default at jnrk-sns-analysis",
   "language": "python",
   "name": "jnrk-sns-analysis-python2-default"
  },
  "language_info": {
   "codemirror_mode": {
    "name": "ipython",
    "version": 2
   },
   "file_extension": ".py",
   "mimetype": "text/x-python",
   "name": "python",
   "nbconvert_exporter": "python",
   "pygments_lexer": "ipython2",
   "version": "2.7.12"
  }
 },
 "nbformat": 4,
 "nbformat_minor": 2
}
