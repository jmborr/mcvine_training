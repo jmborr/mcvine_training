{
 "cells": [
  {
   "cell_type": "markdown",
   "metadata": {},
   "source": [
    "# Use MCViNE at jupyter.sns.gov\n",
    "\n",
    "[MCViNE](http://mcvine.org) is an open-source software for Monte Carlo neutron ray tracing simulation of neutron experiments. This notebook allows you to obtain the latest examples for MCViNE simulations, and to launch MCViNE simulations at SNS analysis clusters."
   ]
  },
  {
   "cell_type": "markdown",
   "metadata": {},
   "source": [
    "## Get the most recent notebook examples"
   ]
  },
  {
   "cell_type": "code",
   "execution_count": null,
   "metadata": {},
   "outputs": [],
   "source": [
    "import sje; sje.setup(); sje.init()"
   ]
  },
  {
   "cell_type": "markdown",
   "metadata": {},
   "source": [
    "## Simulation of powder experiments at direct geometry spectrometers\n",
    "\n",
    "\n",
    "* <a href=\"./jui/1 - DGS.ipynb\">Scattering experiments</a>\n",
    "* <a href=\"./resolution/DGS-powder.ipynb\">Resolution calculation</a>"
   ]
  }
 ],
 "metadata": {
  "kernelspec": {
   "display_name": "sje",
   "language": "python",
   "name": "sje"
  },
  "language_info": {
   "codemirror_mode": {
    "name": "ipython",
    "version": 2
   },
   "file_extension": ".py",
   "mimetype": "text/x-python",
   "name": "python",
   "nbconvert_exporter": "python",
   "pygments_lexer": "ipython2",
   "version": "2.7.14"
  }
 },
 "nbformat": 4,
 "nbformat_minor": 2
}
