{
 "cells": [
  {
   "cell_type": "markdown",
   "metadata": {},
   "source": [
    "# Preparation"
   ]
  },
  {
   "cell_type": "markdown",
   "metadata": {},
   "source": [
    "## import tools"
   ]
  },
  {
   "cell_type": "code",
   "execution_count": null,
   "metadata": {},
   "outputs": [],
   "source": [
    "import os, numpy as np\n",
    "import histogram.hdf as hh\n",
    "import mcvine, mcvine.components, mcvine.run_script\n",
    "\n",
    "from matplotlib import pyplot as plt\n",
    "%matplotlib notebook"
   ]
  },
  {
   "cell_type": "markdown",
   "metadata": {},
   "source": [
    "## work dir"
   ]
  },
  {
   "cell_type": "code",
   "execution_count": null,
   "metadata": {},
   "outputs": [],
   "source": [
    "workdir = os.path.expanduser(\"~/simulations/mcvine/demo/convert-mcstas-instrument\")\n",
    "!mkdir -p {workdir}\n",
    "%cd {workdir}"
   ]
  },
  {
   "cell_type": "markdown",
   "metadata": {},
   "source": [
    "# Get McStas instrument"
   ]
  },
  {
   "cell_type": "code",
   "execution_count": null,
   "metadata": {},
   "outputs": [],
   "source": [
    "!wget https://raw.githubusercontent.com/mcvine/mcvine/master/packages/legacycomponents/mcstas2/tests/cli/simple.instr"
   ]
  },
  {
   "cell_type": "code",
   "execution_count": null,
   "metadata": {},
   "outputs": [],
   "source": [
    "cat simple.instr"
   ]
  },
  {
   "cell_type": "markdown",
   "metadata": {},
   "source": [
    "# Convert"
   ]
  },
  {
   "cell_type": "markdown",
   "metadata": {},
   "source": [
    "## Run conversion script"
   ]
  },
  {
   "cell_type": "code",
   "execution_count": null,
   "metadata": {},
   "outputs": [],
   "source": [
    "!mcvine mcstas convertinstrument simple.instr"
   ]
  },
  {
   "cell_type": "markdown",
   "metadata": {},
   "source": [
    "## View the converted script"
   ]
  },
  {
   "cell_type": "code",
   "execution_count": null,
   "metadata": {},
   "outputs": [],
   "source": [
    "cat simple_mcvine.py"
   ]
  },
  {
   "cell_type": "markdown",
   "metadata": {},
   "source": [
    "## Revise script"
   ]
  },
  {
   "cell_type": "code",
   "execution_count": null,
   "metadata": {},
   "outputs": [],
   "source": [
    "%%file simple_mcvine_revised.py\n",
    "import mcvine, mcvine.components as mcomps\n",
    "\n",
    "def instrument(coll_div, ROT):\n",
    "    instrument = mcvine.instrument()\n",
    "\n",
    "    arm = mcomps.optics.Arm(name='arm')\n",
    "    instrument.append(arm, position=(0.0, 0.0, 0.0), orientation=(0, 0, 0))\n",
    "\n",
    "    source = mcomps.sources.Source_simple(name='source', yh=0.015, dist=1, dE=0.2, xw=0.024, radius=0.015, E0=5)\n",
    "    instrument.append(source, position=(0.0, 0.0, 0.0), orientation=(0, 0, 0), relativeTo=arm)\n",
    "\n",
    "    collimator = mcomps.optics.Collimator_linear(name='collimator', ymax=0.03, divergence=coll_div, len=0.2, xmax=0.02, xmin=-0.02, ymin=-0.03)\n",
    "    instrument.append(collimator, position=(0.0, 0.0, 0.4), orientation=(0, 0, 0), relativeTo=arm)\n",
    "\n",
    "    target = mcomps.samples.V_sample(name='target', focus_r=0, yheight=0.015, target_z=1, target_x=0, target_y=0, xwidth=0.02, zthick=0.004, pack=1)\n",
    "    instrument.append(target, position=(0.0, 0.0, 1.0), orientation=(0, 0, 0), relativeTo=arm)\n",
    "\n",
    "    arm2 = mcomps.optics.Arm(name='arm2')\n",
    "    instrument.append(arm2, position=(0.0, 0.0, 0.0), orientation=(0.0, ROT, 0.0), relativeTo=target)\n",
    "\n",
    "    PSD_4pi = mcomps.monitors.PSD_monitor_4PI(name='PSD_4pi', nx=101, ny=51, radius=10, filename=\"vanadium.psd\")\n",
    "    instrument.append(PSD_4pi, position=(0.0, 0.0, 0.0), orientation=(0, 0, 0), relativeTo=arm2)\n",
    "    return instrument"
   ]
  },
  {
   "cell_type": "markdown",
   "metadata": {},
   "source": [
    "# Debug "
   ]
  },
  {
   "cell_type": "code",
   "execution_count": null,
   "metadata": {},
   "outputs": [],
   "source": [
    "%%file params.yaml\n",
    "coll_div: 0.1\n",
    "ROT: 0."
   ]
  },
  {
   "cell_type": "code",
   "execution_count": null,
   "metadata": {},
   "outputs": [],
   "source": [
    "!python -m \"mcvine.run_script\" simple_mcvine_revised.py \\\n",
    "    --workdir debug --overwrite_datafiles \\\n",
    "    --ncount 100000 --buffer_size 20000 \\\n",
    "    --run-pps \\\n",
    "    --additional-kargs params.yaml"
   ]
  },
  {
   "cell_type": "markdown",
   "metadata": {},
   "source": [
    "# Production run"
   ]
  },
  {
   "cell_type": "code",
   "execution_count": null,
   "metadata": {},
   "outputs": [],
   "source": [
    "%%time\n",
    "mcvine.run_script.run_mpi(\n",
    "    'simple_mcvine_revised.py', \"out\", 1e6, nodes=10, overwrite_datafiles=True,\n",
    "    coll_div = 0.1, ROT=0.\n",
    ")"
   ]
  }
 ],
 "metadata": {
  "kernelspec": {
   "display_name": "python2-default at jnrk-sns-analysis",
   "language": "python",
   "name": "jnrk-sns-analysis-python2-default"
  },
  "language_info": {
   "codemirror_mode": {
    "name": "ipython",
    "version": 2
   },
   "file_extension": ".py",
   "mimetype": "text/x-python",
   "name": "python",
   "nbconvert_exporter": "python",
   "pygments_lexer": "ipython2",
   "version": "2.7.12"
  },
  "toc": {
   "base_numbering": 1,
   "nav_menu": {},
   "number_sections": true,
   "sideBar": true,
   "skip_h1_title": false,
   "title_cell": "Table of Contents",
   "title_sidebar": "Contents",
   "toc_cell": false,
   "toc_position": {},
   "toc_section_display": true,
   "toc_window_display": false
  }
 },
 "nbformat": 4,
 "nbformat_minor": 2
}
