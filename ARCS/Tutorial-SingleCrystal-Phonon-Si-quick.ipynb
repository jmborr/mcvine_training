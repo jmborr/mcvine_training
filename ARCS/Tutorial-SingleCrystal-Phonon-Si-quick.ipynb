{
 "cells": [
  {
   "cell_type": "markdown",
   "metadata": {},
   "source": [
    "# Simulation of Phonon Scattering in Single Crystal Silicon"
   ]
  },
  {
   "cell_type": "markdown",
   "metadata": {},
   "source": [
    "Instrument: ARCS\n",
    "* Ei=100meV\n",
    "* Fermi chopper: 600 Hz\n",
    "* T0: 120Hz\n",
    " \n",
    "Sample: silicon\n"
   ]
  },
  {
   "cell_type": "markdown",
   "metadata": {},
   "source": [
    "## Step 0. some goodies"
   ]
  },
  {
   "cell_type": "code",
   "execution_count": 1,
   "metadata": {
    "collapsed": false
   },
   "outputs": [
    {
     "name": "stderr",
     "output_type": "stream",
     "text": [
      "/home/lj7/anaconda2/envs/mcvine/lib/python2.7/site-packages/matplotlib/font_manager.py:273: UserWarning: Matplotlib is building the font cache using fc-list. This may take a moment.\n",
      "  warnings.warn('Matplotlib is building the font cache using fc-list. This may take a moment.')\n"
     ]
    }
   ],
   "source": [
    "%matplotlib notebook\n",
    "from matplotlib import pyplot as plt\n",
    "import numpy as np\n",
    "import histogram.hdf as hh, histogram as H"
   ]
  },
  {
   "cell_type": "markdown",
   "metadata": {},
   "source": [
    "## Step 1. Prepare input data"
   ]
  },
  {
   "cell_type": "code",
   "execution_count": 6,
   "metadata": {
    "collapsed": true
   },
   "outputs": [],
   "source": [
    "# Change this!!!\n",
    "inputsdir = \"/SNS/users/lj7/simulations/ARCS/Si/demo/inputs\"\n",
    "!mkdir -p {inputsdir}"
   ]
  },
  {
   "cell_type": "code",
   "execution_count": 109,
   "metadata": {
    "collapsed": false
   },
   "outputs": [
    {
     "name": "stdout",
     "output_type": "stream",
     "text": [
      "/SNS/users/lj7/simulations/ARCS/Si/demo/inputs\n"
     ]
    }
   ],
   "source": [
    "%cd {inputsdir}\n",
    "#!ls -l"
   ]
  },
  {
   "cell_type": "markdown",
   "metadata": {},
   "source": [
    "### Beam"
   ]
  },
  {
   "cell_type": "code",
   "execution_count": 8,
   "metadata": {
    "collapsed": true
   },
   "outputs": [],
   "source": [
    "!ln -s /SNS/users/lj7/simulations/ARCS/beam/100meV beam"
   ]
  },
  {
   "cell_type": "code",
   "execution_count": 19,
   "metadata": {
    "collapsed": false
   },
   "outputs": [
    {
     "data": {
      "application/javascript": [
       "/* Put everything inside the global mpl namespace */\n",
       "window.mpl = {};\n",
       "\n",
       "mpl.get_websocket_type = function() {\n",
       "    if (typeof(WebSocket) !== 'undefined') {\n",
       "        return WebSocket;\n",
       "    } else if (typeof(MozWebSocket) !== 'undefined') {\n",
       "        return MozWebSocket;\n",
       "    } else {\n",
       "        alert('Your browser does not have WebSocket support.' +\n",
       "              'Please try Chrome, Safari or Firefox ≥ 6. ' +\n",
       "              'Firefox 4 and 5 are also supported but you ' +\n",
       "              'have to enable WebSockets in about:config.');\n",
       "    };\n",
       "}\n",
       "\n",
       "mpl.figure = function(figure_id, websocket, ondownload, parent_element) {\n",
       "    this.id = figure_id;\n",
       "\n",
       "    this.ws = websocket;\n",
       "\n",
       "    this.supports_binary = (this.ws.binaryType != undefined);\n",
       "\n",
       "    if (!this.supports_binary) {\n",
       "        var warnings = document.getElementById(\"mpl-warnings\");\n",
       "        if (warnings) {\n",
       "            warnings.style.display = 'block';\n",
       "            warnings.textContent = (\n",
       "                \"This browser does not support binary websocket messages. \" +\n",
       "                    \"Performance may be slow.\");\n",
       "        }\n",
       "    }\n",
       "\n",
       "    this.imageObj = new Image();\n",
       "\n",
       "    this.context = undefined;\n",
       "    this.message = undefined;\n",
       "    this.canvas = undefined;\n",
       "    this.rubberband_canvas = undefined;\n",
       "    this.rubberband_context = undefined;\n",
       "    this.format_dropdown = undefined;\n",
       "\n",
       "    this.image_mode = 'full';\n",
       "\n",
       "    this.root = $('<div/>');\n",
       "    this._root_extra_style(this.root)\n",
       "    this.root.attr('style', 'display: inline-block');\n",
       "\n",
       "    $(parent_element).append(this.root);\n",
       "\n",
       "    this._init_header(this);\n",
       "    this._init_canvas(this);\n",
       "    this._init_toolbar(this);\n",
       "\n",
       "    var fig = this;\n",
       "\n",
       "    this.waiting = false;\n",
       "\n",
       "    this.ws.onopen =  function () {\n",
       "            fig.send_message(\"supports_binary\", {value: fig.supports_binary});\n",
       "            fig.send_message(\"send_image_mode\", {});\n",
       "            fig.send_message(\"refresh\", {});\n",
       "        }\n",
       "\n",
       "    this.imageObj.onload = function() {\n",
       "            if (fig.image_mode == 'full') {\n",
       "                // Full images could contain transparency (where diff images\n",
       "                // almost always do), so we need to clear the canvas so that\n",
       "                // there is no ghosting.\n",
       "                fig.context.clearRect(0, 0, fig.canvas.width, fig.canvas.height);\n",
       "            }\n",
       "            fig.context.drawImage(fig.imageObj, 0, 0);\n",
       "        };\n",
       "\n",
       "    this.imageObj.onunload = function() {\n",
       "        this.ws.close();\n",
       "    }\n",
       "\n",
       "    this.ws.onmessage = this._make_on_message_function(this);\n",
       "\n",
       "    this.ondownload = ondownload;\n",
       "}\n",
       "\n",
       "mpl.figure.prototype._init_header = function() {\n",
       "    var titlebar = $(\n",
       "        '<div class=\"ui-dialog-titlebar ui-widget-header ui-corner-all ' +\n",
       "        'ui-helper-clearfix\"/>');\n",
       "    var titletext = $(\n",
       "        '<div class=\"ui-dialog-title\" style=\"width: 100%; ' +\n",
       "        'text-align: center; padding: 3px;\"/>');\n",
       "    titlebar.append(titletext)\n",
       "    this.root.append(titlebar);\n",
       "    this.header = titletext[0];\n",
       "}\n",
       "\n",
       "\n",
       "\n",
       "mpl.figure.prototype._canvas_extra_style = function(canvas_div) {\n",
       "\n",
       "}\n",
       "\n",
       "\n",
       "mpl.figure.prototype._root_extra_style = function(canvas_div) {\n",
       "\n",
       "}\n",
       "\n",
       "mpl.figure.prototype._init_canvas = function() {\n",
       "    var fig = this;\n",
       "\n",
       "    var canvas_div = $('<div/>');\n",
       "\n",
       "    canvas_div.attr('style', 'position: relative; clear: both; outline: 0');\n",
       "\n",
       "    function canvas_keyboard_event(event) {\n",
       "        return fig.key_event(event, event['data']);\n",
       "    }\n",
       "\n",
       "    canvas_div.keydown('key_press', canvas_keyboard_event);\n",
       "    canvas_div.keyup('key_release', canvas_keyboard_event);\n",
       "    this.canvas_div = canvas_div\n",
       "    this._canvas_extra_style(canvas_div)\n",
       "    this.root.append(canvas_div);\n",
       "\n",
       "    var canvas = $('<canvas/>');\n",
       "    canvas.addClass('mpl-canvas');\n",
       "    canvas.attr('style', \"left: 0; top: 0; z-index: 0; outline: 0\")\n",
       "\n",
       "    this.canvas = canvas[0];\n",
       "    this.context = canvas[0].getContext(\"2d\");\n",
       "\n",
       "    var rubberband = $('<canvas/>');\n",
       "    rubberband.attr('style', \"position: absolute; left: 0; top: 0; z-index: 1;\")\n",
       "\n",
       "    var pass_mouse_events = true;\n",
       "\n",
       "    canvas_div.resizable({\n",
       "        start: function(event, ui) {\n",
       "            pass_mouse_events = false;\n",
       "        },\n",
       "        resize: function(event, ui) {\n",
       "            fig.request_resize(ui.size.width, ui.size.height);\n",
       "        },\n",
       "        stop: function(event, ui) {\n",
       "            pass_mouse_events = true;\n",
       "            fig.request_resize(ui.size.width, ui.size.height);\n",
       "        },\n",
       "    });\n",
       "\n",
       "    function mouse_event_fn(event) {\n",
       "        if (pass_mouse_events)\n",
       "            return fig.mouse_event(event, event['data']);\n",
       "    }\n",
       "\n",
       "    rubberband.mousedown('button_press', mouse_event_fn);\n",
       "    rubberband.mouseup('button_release', mouse_event_fn);\n",
       "    // Throttle sequential mouse events to 1 every 20ms.\n",
       "    rubberband.mousemove('motion_notify', mouse_event_fn);\n",
       "\n",
       "    rubberband.mouseenter('figure_enter', mouse_event_fn);\n",
       "    rubberband.mouseleave('figure_leave', mouse_event_fn);\n",
       "\n",
       "    canvas_div.on(\"wheel\", function (event) {\n",
       "        event = event.originalEvent;\n",
       "        event['data'] = 'scroll'\n",
       "        if (event.deltaY < 0) {\n",
       "            event.step = 1;\n",
       "        } else {\n",
       "            event.step = -1;\n",
       "        }\n",
       "        mouse_event_fn(event);\n",
       "    });\n",
       "\n",
       "    canvas_div.append(canvas);\n",
       "    canvas_div.append(rubberband);\n",
       "\n",
       "    this.rubberband = rubberband;\n",
       "    this.rubberband_canvas = rubberband[0];\n",
       "    this.rubberband_context = rubberband[0].getContext(\"2d\");\n",
       "    this.rubberband_context.strokeStyle = \"#000000\";\n",
       "\n",
       "    this._resize_canvas = function(width, height) {\n",
       "        // Keep the size of the canvas, canvas container, and rubber band\n",
       "        // canvas in synch.\n",
       "        canvas_div.css('width', width)\n",
       "        canvas_div.css('height', height)\n",
       "\n",
       "        canvas.attr('width', width);\n",
       "        canvas.attr('height', height);\n",
       "\n",
       "        rubberband.attr('width', width);\n",
       "        rubberband.attr('height', height);\n",
       "    }\n",
       "\n",
       "    // Set the figure to an initial 600x600px, this will subsequently be updated\n",
       "    // upon first draw.\n",
       "    this._resize_canvas(600, 600);\n",
       "\n",
       "    // Disable right mouse context menu.\n",
       "    $(this.rubberband_canvas).bind(\"contextmenu\",function(e){\n",
       "        return false;\n",
       "    });\n",
       "\n",
       "    function set_focus () {\n",
       "        canvas.focus();\n",
       "        canvas_div.focus();\n",
       "    }\n",
       "\n",
       "    window.setTimeout(set_focus, 100);\n",
       "}\n",
       "\n",
       "mpl.figure.prototype._init_toolbar = function() {\n",
       "    var fig = this;\n",
       "\n",
       "    var nav_element = $('<div/>')\n",
       "    nav_element.attr('style', 'width: 100%');\n",
       "    this.root.append(nav_element);\n",
       "\n",
       "    // Define a callback function for later on.\n",
       "    function toolbar_event(event) {\n",
       "        return fig.toolbar_button_onclick(event['data']);\n",
       "    }\n",
       "    function toolbar_mouse_event(event) {\n",
       "        return fig.toolbar_button_onmouseover(event['data']);\n",
       "    }\n",
       "\n",
       "    for(var toolbar_ind in mpl.toolbar_items) {\n",
       "        var name = mpl.toolbar_items[toolbar_ind][0];\n",
       "        var tooltip = mpl.toolbar_items[toolbar_ind][1];\n",
       "        var image = mpl.toolbar_items[toolbar_ind][2];\n",
       "        var method_name = mpl.toolbar_items[toolbar_ind][3];\n",
       "\n",
       "        if (!name) {\n",
       "            // put a spacer in here.\n",
       "            continue;\n",
       "        }\n",
       "        var button = $('<button/>');\n",
       "        button.addClass('ui-button ui-widget ui-state-default ui-corner-all ' +\n",
       "                        'ui-button-icon-only');\n",
       "        button.attr('role', 'button');\n",
       "        button.attr('aria-disabled', 'false');\n",
       "        button.click(method_name, toolbar_event);\n",
       "        button.mouseover(tooltip, toolbar_mouse_event);\n",
       "\n",
       "        var icon_img = $('<span/>');\n",
       "        icon_img.addClass('ui-button-icon-primary ui-icon');\n",
       "        icon_img.addClass(image);\n",
       "        icon_img.addClass('ui-corner-all');\n",
       "\n",
       "        var tooltip_span = $('<span/>');\n",
       "        tooltip_span.addClass('ui-button-text');\n",
       "        tooltip_span.html(tooltip);\n",
       "\n",
       "        button.append(icon_img);\n",
       "        button.append(tooltip_span);\n",
       "\n",
       "        nav_element.append(button);\n",
       "    }\n",
       "\n",
       "    var fmt_picker_span = $('<span/>');\n",
       "\n",
       "    var fmt_picker = $('<select/>');\n",
       "    fmt_picker.addClass('mpl-toolbar-option ui-widget ui-widget-content');\n",
       "    fmt_picker_span.append(fmt_picker);\n",
       "    nav_element.append(fmt_picker_span);\n",
       "    this.format_dropdown = fmt_picker[0];\n",
       "\n",
       "    for (var ind in mpl.extensions) {\n",
       "        var fmt = mpl.extensions[ind];\n",
       "        var option = $(\n",
       "            '<option/>', {selected: fmt === mpl.default_extension}).html(fmt);\n",
       "        fmt_picker.append(option)\n",
       "    }\n",
       "\n",
       "    // Add hover states to the ui-buttons\n",
       "    $( \".ui-button\" ).hover(\n",
       "        function() { $(this).addClass(\"ui-state-hover\");},\n",
       "        function() { $(this).removeClass(\"ui-state-hover\");}\n",
       "    );\n",
       "\n",
       "    var status_bar = $('<span class=\"mpl-message\"/>');\n",
       "    nav_element.append(status_bar);\n",
       "    this.message = status_bar[0];\n",
       "}\n",
       "\n",
       "mpl.figure.prototype.request_resize = function(x_pixels, y_pixels) {\n",
       "    // Request matplotlib to resize the figure. Matplotlib will then trigger a resize in the client,\n",
       "    // which will in turn request a refresh of the image.\n",
       "    this.send_message('resize', {'width': x_pixels, 'height': y_pixels});\n",
       "}\n",
       "\n",
       "mpl.figure.prototype.send_message = function(type, properties) {\n",
       "    properties['type'] = type;\n",
       "    properties['figure_id'] = this.id;\n",
       "    this.ws.send(JSON.stringify(properties));\n",
       "}\n",
       "\n",
       "mpl.figure.prototype.send_draw_message = function() {\n",
       "    if (!this.waiting) {\n",
       "        this.waiting = true;\n",
       "        this.ws.send(JSON.stringify({type: \"draw\", figure_id: this.id}));\n",
       "    }\n",
       "}\n",
       "\n",
       "\n",
       "mpl.figure.prototype.handle_save = function(fig, msg) {\n",
       "    var format_dropdown = fig.format_dropdown;\n",
       "    var format = format_dropdown.options[format_dropdown.selectedIndex].value;\n",
       "    fig.ondownload(fig, format);\n",
       "}\n",
       "\n",
       "\n",
       "mpl.figure.prototype.handle_resize = function(fig, msg) {\n",
       "    var size = msg['size'];\n",
       "    if (size[0] != fig.canvas.width || size[1] != fig.canvas.height) {\n",
       "        fig._resize_canvas(size[0], size[1]);\n",
       "        fig.send_message(\"refresh\", {});\n",
       "    };\n",
       "}\n",
       "\n",
       "mpl.figure.prototype.handle_rubberband = function(fig, msg) {\n",
       "    var x0 = msg['x0'];\n",
       "    var y0 = fig.canvas.height - msg['y0'];\n",
       "    var x1 = msg['x1'];\n",
       "    var y1 = fig.canvas.height - msg['y1'];\n",
       "    x0 = Math.floor(x0) + 0.5;\n",
       "    y0 = Math.floor(y0) + 0.5;\n",
       "    x1 = Math.floor(x1) + 0.5;\n",
       "    y1 = Math.floor(y1) + 0.5;\n",
       "    var min_x = Math.min(x0, x1);\n",
       "    var min_y = Math.min(y0, y1);\n",
       "    var width = Math.abs(x1 - x0);\n",
       "    var height = Math.abs(y1 - y0);\n",
       "\n",
       "    fig.rubberband_context.clearRect(\n",
       "        0, 0, fig.canvas.width, fig.canvas.height);\n",
       "\n",
       "    fig.rubberband_context.strokeRect(min_x, min_y, width, height);\n",
       "}\n",
       "\n",
       "mpl.figure.prototype.handle_figure_label = function(fig, msg) {\n",
       "    // Updates the figure title.\n",
       "    fig.header.textContent = msg['label'];\n",
       "}\n",
       "\n",
       "mpl.figure.prototype.handle_cursor = function(fig, msg) {\n",
       "    var cursor = msg['cursor'];\n",
       "    switch(cursor)\n",
       "    {\n",
       "    case 0:\n",
       "        cursor = 'pointer';\n",
       "        break;\n",
       "    case 1:\n",
       "        cursor = 'default';\n",
       "        break;\n",
       "    case 2:\n",
       "        cursor = 'crosshair';\n",
       "        break;\n",
       "    case 3:\n",
       "        cursor = 'move';\n",
       "        break;\n",
       "    }\n",
       "    fig.rubberband_canvas.style.cursor = cursor;\n",
       "}\n",
       "\n",
       "mpl.figure.prototype.handle_message = function(fig, msg) {\n",
       "    fig.message.textContent = msg['message'];\n",
       "}\n",
       "\n",
       "mpl.figure.prototype.handle_draw = function(fig, msg) {\n",
       "    // Request the server to send over a new figure.\n",
       "    fig.send_draw_message();\n",
       "}\n",
       "\n",
       "mpl.figure.prototype.handle_image_mode = function(fig, msg) {\n",
       "    fig.image_mode = msg['mode'];\n",
       "}\n",
       "\n",
       "mpl.figure.prototype.updated_canvas_event = function() {\n",
       "    // Called whenever the canvas gets updated.\n",
       "    this.send_message(\"ack\", {});\n",
       "}\n",
       "\n",
       "// A function to construct a web socket function for onmessage handling.\n",
       "// Called in the figure constructor.\n",
       "mpl.figure.prototype._make_on_message_function = function(fig) {\n",
       "    return function socket_on_message(evt) {\n",
       "        if (evt.data instanceof Blob) {\n",
       "            /* FIXME: We get \"Resource interpreted as Image but\n",
       "             * transferred with MIME type text/plain:\" errors on\n",
       "             * Chrome.  But how to set the MIME type?  It doesn't seem\n",
       "             * to be part of the websocket stream */\n",
       "            evt.data.type = \"image/png\";\n",
       "\n",
       "            /* Free the memory for the previous frames */\n",
       "            if (fig.imageObj.src) {\n",
       "                (window.URL || window.webkitURL).revokeObjectURL(\n",
       "                    fig.imageObj.src);\n",
       "            }\n",
       "\n",
       "            fig.imageObj.src = (window.URL || window.webkitURL).createObjectURL(\n",
       "                evt.data);\n",
       "            fig.updated_canvas_event();\n",
       "            fig.waiting = false;\n",
       "            return;\n",
       "        }\n",
       "        else if (typeof evt.data === 'string' && evt.data.slice(0, 21) == \"data:image/png;base64\") {\n",
       "            fig.imageObj.src = evt.data;\n",
       "            fig.updated_canvas_event();\n",
       "            fig.waiting = false;\n",
       "            return;\n",
       "        }\n",
       "\n",
       "        var msg = JSON.parse(evt.data);\n",
       "        var msg_type = msg['type'];\n",
       "\n",
       "        // Call the  \"handle_{type}\" callback, which takes\n",
       "        // the figure and JSON message as its only arguments.\n",
       "        try {\n",
       "            var callback = fig[\"handle_\" + msg_type];\n",
       "        } catch (e) {\n",
       "            console.log(\"No handler for the '\" + msg_type + \"' message type: \", msg);\n",
       "            return;\n",
       "        }\n",
       "\n",
       "        if (callback) {\n",
       "            try {\n",
       "                // console.log(\"Handling '\" + msg_type + \"' message: \", msg);\n",
       "                callback(fig, msg);\n",
       "            } catch (e) {\n",
       "                console.log(\"Exception inside the 'handler_\" + msg_type + \"' callback:\", e, e.stack, msg);\n",
       "            }\n",
       "        }\n",
       "    };\n",
       "}\n",
       "\n",
       "// from http://stackoverflow.com/questions/1114465/getting-mouse-location-in-canvas\n",
       "mpl.findpos = function(e) {\n",
       "    //this section is from http://www.quirksmode.org/js/events_properties.html\n",
       "    var targ;\n",
       "    if (!e)\n",
       "        e = window.event;\n",
       "    if (e.target)\n",
       "        targ = e.target;\n",
       "    else if (e.srcElement)\n",
       "        targ = e.srcElement;\n",
       "    if (targ.nodeType == 3) // defeat Safari bug\n",
       "        targ = targ.parentNode;\n",
       "\n",
       "    // jQuery normalizes the pageX and pageY\n",
       "    // pageX,Y are the mouse positions relative to the document\n",
       "    // offset() returns the position of the element relative to the document\n",
       "    var x = e.pageX - $(targ).offset().left;\n",
       "    var y = e.pageY - $(targ).offset().top;\n",
       "\n",
       "    return {\"x\": x, \"y\": y};\n",
       "};\n",
       "\n",
       "/*\n",
       " * return a copy of an object with only non-object keys\n",
       " * we need this to avoid circular references\n",
       " * http://stackoverflow.com/a/24161582/3208463\n",
       " */\n",
       "function simpleKeys (original) {\n",
       "  return Object.keys(original).reduce(function (obj, key) {\n",
       "    if (typeof original[key] !== 'object')\n",
       "        obj[key] = original[key]\n",
       "    return obj;\n",
       "  }, {});\n",
       "}\n",
       "\n",
       "mpl.figure.prototype.mouse_event = function(event, name) {\n",
       "    var canvas_pos = mpl.findpos(event)\n",
       "\n",
       "    if (name === 'button_press')\n",
       "    {\n",
       "        this.canvas.focus();\n",
       "        this.canvas_div.focus();\n",
       "    }\n",
       "\n",
       "    var x = canvas_pos.x;\n",
       "    var y = canvas_pos.y;\n",
       "\n",
       "    this.send_message(name, {x: x, y: y, button: event.button,\n",
       "                             step: event.step,\n",
       "                             guiEvent: simpleKeys(event)});\n",
       "\n",
       "    /* This prevents the web browser from automatically changing to\n",
       "     * the text insertion cursor when the button is pressed.  We want\n",
       "     * to control all of the cursor setting manually through the\n",
       "     * 'cursor' event from matplotlib */\n",
       "    event.preventDefault();\n",
       "    return false;\n",
       "}\n",
       "\n",
       "mpl.figure.prototype._key_event_extra = function(event, name) {\n",
       "    // Handle any extra behaviour associated with a key event\n",
       "}\n",
       "\n",
       "mpl.figure.prototype.key_event = function(event, name) {\n",
       "\n",
       "    // Prevent repeat events\n",
       "    if (name == 'key_press')\n",
       "    {\n",
       "        if (event.which === this._key)\n",
       "            return;\n",
       "        else\n",
       "            this._key = event.which;\n",
       "    }\n",
       "    if (name == 'key_release')\n",
       "        this._key = null;\n",
       "\n",
       "    var value = '';\n",
       "    if (event.ctrlKey && event.which != 17)\n",
       "        value += \"ctrl+\";\n",
       "    if (event.altKey && event.which != 18)\n",
       "        value += \"alt+\";\n",
       "    if (event.shiftKey && event.which != 16)\n",
       "        value += \"shift+\";\n",
       "\n",
       "    value += 'k';\n",
       "    value += event.which.toString();\n",
       "\n",
       "    this._key_event_extra(event, name);\n",
       "\n",
       "    this.send_message(name, {key: value,\n",
       "                             guiEvent: simpleKeys(event)});\n",
       "    return false;\n",
       "}\n",
       "\n",
       "mpl.figure.prototype.toolbar_button_onclick = function(name) {\n",
       "    if (name == 'download') {\n",
       "        this.handle_save(this, null);\n",
       "    } else {\n",
       "        this.send_message(\"toolbar_button\", {name: name});\n",
       "    }\n",
       "};\n",
       "\n",
       "mpl.figure.prototype.toolbar_button_onmouseover = function(tooltip) {\n",
       "    this.message.textContent = tooltip;\n",
       "};\n",
       "mpl.toolbar_items = [[\"Home\", \"Reset original view\", \"fa fa-home icon-home\", \"home\"], [\"Back\", \"Back to  previous view\", \"fa fa-arrow-left icon-arrow-left\", \"back\"], [\"Forward\", \"Forward to next view\", \"fa fa-arrow-right icon-arrow-right\", \"forward\"], [\"\", \"\", \"\", \"\"], [\"Pan\", \"Pan axes with left mouse, zoom with right\", \"fa fa-arrows icon-move\", \"pan\"], [\"Zoom\", \"Zoom to rectangle\", \"fa fa-square-o icon-check-empty\", \"zoom\"], [\"\", \"\", \"\", \"\"], [\"Download\", \"Download plot\", \"fa fa-floppy-o icon-save\", \"download\"]];\n",
       "\n",
       "mpl.extensions = [\"eps\", \"pdf\", \"png\", \"ps\", \"raw\", \"svg\"];\n",
       "\n",
       "mpl.default_extension = \"png\";var comm_websocket_adapter = function(comm) {\n",
       "    // Create a \"websocket\"-like object which calls the given IPython comm\n",
       "    // object with the appropriate methods. Currently this is a non binary\n",
       "    // socket, so there is still some room for performance tuning.\n",
       "    var ws = {};\n",
       "\n",
       "    ws.close = function() {\n",
       "        comm.close()\n",
       "    };\n",
       "    ws.send = function(m) {\n",
       "        //console.log('sending', m);\n",
       "        comm.send(m);\n",
       "    };\n",
       "    // Register the callback with on_msg.\n",
       "    comm.on_msg(function(msg) {\n",
       "        //console.log('receiving', msg['content']['data'], msg);\n",
       "        // Pass the mpl event to the overriden (by mpl) onmessage function.\n",
       "        ws.onmessage(msg['content']['data'])\n",
       "    });\n",
       "    return ws;\n",
       "}\n",
       "\n",
       "mpl.mpl_figure_comm = function(comm, msg) {\n",
       "    // This is the function which gets called when the mpl process\n",
       "    // starts-up an IPython Comm through the \"matplotlib\" channel.\n",
       "\n",
       "    var id = msg.content.data.id;\n",
       "    // Get hold of the div created by the display call when the Comm\n",
       "    // socket was opened in Python.\n",
       "    var element = $(\"#\" + id);\n",
       "    var ws_proxy = comm_websocket_adapter(comm)\n",
       "\n",
       "    function ondownload(figure, format) {\n",
       "        window.open(figure.imageObj.src);\n",
       "    }\n",
       "\n",
       "    var fig = new mpl.figure(id, ws_proxy,\n",
       "                           ondownload,\n",
       "                           element.get(0));\n",
       "\n",
       "    // Call onopen now - mpl needs it, as it is assuming we've passed it a real\n",
       "    // web socket which is closed, not our websocket->open comm proxy.\n",
       "    ws_proxy.onopen();\n",
       "\n",
       "    fig.parent_element = element.get(0);\n",
       "    fig.cell_info = mpl.find_output_cell(\"<div id='\" + id + \"'></div>\");\n",
       "    if (!fig.cell_info) {\n",
       "        console.error(\"Failed to find cell for figure\", id, fig);\n",
       "        return;\n",
       "    }\n",
       "\n",
       "    var output_index = fig.cell_info[2]\n",
       "    var cell = fig.cell_info[0];\n",
       "\n",
       "};\n",
       "\n",
       "mpl.figure.prototype.handle_close = function(fig, msg) {\n",
       "    fig.root.unbind('remove')\n",
       "\n",
       "    // Update the output cell to use the data from the current canvas.\n",
       "    fig.push_to_output();\n",
       "    var dataURL = fig.canvas.toDataURL();\n",
       "    // Re-enable the keyboard manager in IPython - without this line, in FF,\n",
       "    // the notebook keyboard shortcuts fail.\n",
       "    IPython.keyboard_manager.enable()\n",
       "    $(fig.parent_element).html('<img src=\"' + dataURL + '\">');\n",
       "    fig.close_ws(fig, msg);\n",
       "}\n",
       "\n",
       "mpl.figure.prototype.close_ws = function(fig, msg){\n",
       "    fig.send_message('closing', msg);\n",
       "    // fig.ws.close()\n",
       "}\n",
       "\n",
       "mpl.figure.prototype.push_to_output = function(remove_interactive) {\n",
       "    // Turn the data on the canvas into data in the output cell.\n",
       "    var dataURL = this.canvas.toDataURL();\n",
       "    this.cell_info[1]['text/html'] = '<img src=\"' + dataURL + '\">';\n",
       "}\n",
       "\n",
       "mpl.figure.prototype.updated_canvas_event = function() {\n",
       "    // Tell IPython that the notebook contents must change.\n",
       "    IPython.notebook.set_dirty(true);\n",
       "    this.send_message(\"ack\", {});\n",
       "    var fig = this;\n",
       "    // Wait a second, then push the new image to the DOM so\n",
       "    // that it is saved nicely (might be nice to debounce this).\n",
       "    setTimeout(function () { fig.push_to_output() }, 1000);\n",
       "}\n",
       "\n",
       "mpl.figure.prototype._init_toolbar = function() {\n",
       "    var fig = this;\n",
       "\n",
       "    var nav_element = $('<div/>')\n",
       "    nav_element.attr('style', 'width: 100%');\n",
       "    this.root.append(nav_element);\n",
       "\n",
       "    // Define a callback function for later on.\n",
       "    function toolbar_event(event) {\n",
       "        return fig.toolbar_button_onclick(event['data']);\n",
       "    }\n",
       "    function toolbar_mouse_event(event) {\n",
       "        return fig.toolbar_button_onmouseover(event['data']);\n",
       "    }\n",
       "\n",
       "    for(var toolbar_ind in mpl.toolbar_items){\n",
       "        var name = mpl.toolbar_items[toolbar_ind][0];\n",
       "        var tooltip = mpl.toolbar_items[toolbar_ind][1];\n",
       "        var image = mpl.toolbar_items[toolbar_ind][2];\n",
       "        var method_name = mpl.toolbar_items[toolbar_ind][3];\n",
       "\n",
       "        if (!name) { continue; };\n",
       "\n",
       "        var button = $('<button class=\"btn btn-default\" href=\"#\" title=\"' + name + '\"><i class=\"fa ' + image + ' fa-lg\"></i></button>');\n",
       "        button.click(method_name, toolbar_event);\n",
       "        button.mouseover(tooltip, toolbar_mouse_event);\n",
       "        nav_element.append(button);\n",
       "    }\n",
       "\n",
       "    // Add the status bar.\n",
       "    var status_bar = $('<span class=\"mpl-message\" style=\"text-align:right; float: right;\"/>');\n",
       "    nav_element.append(status_bar);\n",
       "    this.message = status_bar[0];\n",
       "\n",
       "    // Add the close button to the window.\n",
       "    var buttongrp = $('<div class=\"btn-group inline pull-right\"></div>');\n",
       "    var button = $('<button class=\"btn btn-mini btn-primary\" href=\"#\" title=\"Stop Interaction\"><i class=\"fa fa-power-off icon-remove icon-large\"></i></button>');\n",
       "    button.click(function (evt) { fig.handle_close(fig, {}); } );\n",
       "    button.mouseover('Stop Interaction', toolbar_mouse_event);\n",
       "    buttongrp.append(button);\n",
       "    var titlebar = this.root.find($('.ui-dialog-titlebar'));\n",
       "    titlebar.prepend(buttongrp);\n",
       "}\n",
       "\n",
       "mpl.figure.prototype._root_extra_style = function(el){\n",
       "    var fig = this\n",
       "    el.on(\"remove\", function(){\n",
       "\tfig.close_ws(fig, {});\n",
       "    });\n",
       "}\n",
       "\n",
       "mpl.figure.prototype._canvas_extra_style = function(el){\n",
       "    // this is important to make the div 'focusable\n",
       "    el.attr('tabindex', 0)\n",
       "    // reach out to IPython and tell the keyboard manager to turn it's self\n",
       "    // off when our div gets focus\n",
       "\n",
       "    // location in version 3\n",
       "    if (IPython.notebook.keyboard_manager) {\n",
       "        IPython.notebook.keyboard_manager.register_events(el);\n",
       "    }\n",
       "    else {\n",
       "        // location in version 2\n",
       "        IPython.keyboard_manager.register_events(el);\n",
       "    }\n",
       "\n",
       "}\n",
       "\n",
       "mpl.figure.prototype._key_event_extra = function(event, name) {\n",
       "    var manager = IPython.notebook.keyboard_manager;\n",
       "    if (!manager)\n",
       "        manager = IPython.keyboard_manager;\n",
       "\n",
       "    // Check for shift+enter\n",
       "    if (event.shiftKey && event.which == 13) {\n",
       "        this.canvas_div.blur();\n",
       "        event.shiftKey = false;\n",
       "        // Send a \"J\" for go to next cell\n",
       "        event.which = 74;\n",
       "        event.keyCode = 74;\n",
       "        manager.command_mode();\n",
       "        manager.handle_keydown(event);\n",
       "    }\n",
       "}\n",
       "\n",
       "mpl.figure.prototype.handle_save = function(fig, msg) {\n",
       "    fig.ondownload(fig, null);\n",
       "}\n",
       "\n",
       "\n",
       "mpl.find_output_cell = function(html_output) {\n",
       "    // Return the cell and output element which can be found *uniquely* in the notebook.\n",
       "    // Note - this is a bit hacky, but it is done because the \"notebook_saving.Notebook\"\n",
       "    // IPython event is triggered only after the cells have been serialised, which for\n",
       "    // our purposes (turning an active figure into a static one), is too late.\n",
       "    var cells = IPython.notebook.get_cells();\n",
       "    var ncells = cells.length;\n",
       "    for (var i=0; i<ncells; i++) {\n",
       "        var cell = cells[i];\n",
       "        if (cell.cell_type === 'code'){\n",
       "            for (var j=0; j<cell.output_area.outputs.length; j++) {\n",
       "                var data = cell.output_area.outputs[j];\n",
       "                if (data.data) {\n",
       "                    // IPython >= 3 moved mimebundle to data attribute of output\n",
       "                    data = data.data;\n",
       "                }\n",
       "                if (data['text/html'] == html_output) {\n",
       "                    return [cell, data, j];\n",
       "                }\n",
       "            }\n",
       "        }\n",
       "    }\n",
       "}\n",
       "\n",
       "// Register the function which deals with the matplotlib target/channel.\n",
       "// The kernel may be null if the page has been refreshed.\n",
       "if (IPython.notebook.kernel != null) {\n",
       "    IPython.notebook.kernel.comm_manager.register_target('matplotlib', mpl.mpl_figure_comm);\n",
       "}\n"
      ],
      "text/plain": [
       "<IPython.core.display.Javascript object>"
      ]
     },
     "metadata": {},
     "output_type": "display_data"
    },
    {
     "data": {
      "text/html": [
       "<img src=\"data:image/png;base64,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\">"
      ],
      "text/plain": [
       "<IPython.core.display.HTML object>"
      ]
     },
     "metadata": {},
     "output_type": "display_data"
    },
    {
     "data": {
      "text/plain": [
       "[<matplotlib.lines.Line2D at 0x7fb9f4d44b50>]"
      ]
     },
     "execution_count": 19,
     "metadata": {},
     "output_type": "execute_result"
    }
   ],
   "source": [
    "# check beam\n",
    "import histogram.hdf as hh\n",
    "ie = hh.load(\"beam/out/ienergy.h5\")\n",
    "plt.plot(ie.energy, ie.I)"
   ]
  },
  {
   "cell_type": "markdown",
   "metadata": {},
   "source": [
    "### Sample"
   ]
  },
  {
   "cell_type": "code",
   "execution_count": 23,
   "metadata": {
    "collapsed": false
   },
   "outputs": [
    {
     "name": "stdout",
     "output_type": "stream",
     "text": [
      "sending incremental file list\n",
      "created directory sampleassembly\n",
      "./\n",
      ".sampleassembly.xml.swp\n",
      "Si-scatterer.xml\n",
      "Si.xyz\n",
      "sampleassembly.xml\n",
      "Si-phonons/\n",
      "Si-phonons/DOS\n",
      "Si-phonons/FORCE_CONSTANTS\n",
      "Si-phonons/Omega2\n",
      "Si-phonons/POSCAR\n",
      "Si-phonons/Polarizations\n",
      "Si-phonons/Qgridinfo\n",
      "Si-phonons/compute.py\n",
      "Si-phonons/dos-withbroadening.dat\n",
      "Si-phonons/run.sh\n",
      "\n",
      "sent 72,300,928 bytes  received 315 bytes  9,640,165.73 bytes/sec\n",
      "total size is 91,492,002  speedup is 1.27\n"
     ]
    }
   ],
   "source": [
    "!rsync -avzL /SNS/users/lj7/simulations/samples/Si/demo/ sampleassembly/"
   ]
  },
  {
   "cell_type": "code",
   "execution_count": 24,
   "metadata": {
    "collapsed": false
   },
   "outputs": [
    {
     "name": "stdout",
     "output_type": "stream",
     "text": [
      ".\r\n",
      "./beam\r\n",
      "./sampleassembly\r\n",
      "./sampleassembly/Si-phonons\r\n",
      "./sampleassembly/Si-phonons/DOS\r\n",
      "./sampleassembly/Si-phonons/FORCE_CONSTANTS\r\n",
      "./sampleassembly/Si-phonons/Omega2\r\n",
      "./sampleassembly/Si-phonons/POSCAR\r\n",
      "./sampleassembly/Si-phonons/Polarizations\r\n",
      "./sampleassembly/Si-phonons/Qgridinfo\r\n",
      "./sampleassembly/Si-phonons/compute.py\r\n",
      "./sampleassembly/Si-phonons/dos-withbroadening.dat\r\n",
      "./sampleassembly/Si-phonons/run.sh\r\n",
      "./sampleassembly/.sampleassembly.xml.swp\r\n",
      "./sampleassembly/Si-scatterer.xml\r\n",
      "./sampleassembly/Si.xyz\r\n",
      "./sampleassembly/sampleassembly.xml\r\n"
     ]
    }
   ],
   "source": [
    "!find ."
   ]
  },
  {
   "cell_type": "markdown",
   "metadata": {},
   "source": [
    "### Scattering template"
   ]
  },
  {
   "cell_type": "code",
   "execution_count": 25,
   "metadata": {
    "collapsed": false
   },
   "outputs": [
    {
     "name": "stdout",
     "output_type": "stream",
     "text": [
      "/SNS/users/lj7/simulations/ARCS/Si/demo/inputs/scattering\n"
     ]
    }
   ],
   "source": [
    "!mkdir {inputsdir}/scattering\n",
    "%cd \"{inputsdir}/scattering\""
   ]
  },
  {
   "cell_type": "code",
   "execution_count": 27,
   "metadata": {
    "collapsed": false
   },
   "outputs": [
    {
     "name": "stdout",
     "output_type": "stream",
     "text": [
      "scripts  template\r\n"
     ]
    }
   ],
   "source": [
    "!rsync -a /SNS/users/lj7/simulations/mcvine_workflow/DGS/ARCS/single-crystal/* ./\n",
    "!ls"
   ]
  },
  {
   "cell_type": "code",
   "execution_count": 28,
   "metadata": {
    "collapsed": false
   },
   "outputs": [
    {
     "name": "stdout",
     "output_type": "stream",
     "text": [
      "/SNS/users/lj7/simulations/ARCS/Si/demo/inputs/scattering/template\n"
     ]
    }
   ],
   "source": [
    "%cd template/"
   ]
  },
  {
   "cell_type": "code",
   "execution_count": 29,
   "metadata": {
    "collapsed": false
   },
   "outputs": [
    {
     "name": "stdout",
     "output_type": "stream",
     "text": [
      "/SNS/users/lj7/simulations/ARCS/Si/demo/inputs/scattering\n"
     ]
    }
   ],
   "source": [
    "!ln -s ../../sampleassembly\n",
    "!ln -s ../../beam\n",
    "%cd .."
   ]
  },
  {
   "cell_type": "markdown",
   "metadata": {},
   "source": [
    "## Step 2. Staging the simulation files"
   ]
  },
  {
   "cell_type": "code",
   "execution_count": 60,
   "metadata": {
    "collapsed": true
   },
   "outputs": [],
   "source": [
    "cluster = \"ndav2.sns.gov\"\n",
    "workdir = \"/SNS/users/lj7/simulations/ARCS/Si/June2016/test-orientation\""
   ]
  },
  {
   "cell_type": "code",
   "execution_count": 61,
   "metadata": {
    "collapsed": true
   },
   "outputs": [],
   "source": [
    "!mkdir -p {workdir}"
   ]
  },
  {
   "cell_type": "code",
   "execution_count": 82,
   "metadata": {
    "collapsed": false
   },
   "outputs": [
    {
     "name": "stdout",
     "output_type": "stream",
     "text": [
      "Overwriting /SNS/users/lj7/simulations/ARCS/Si/demo/inputs/scattering/sim.yml\n"
     ]
    }
   ],
   "source": [
    "%%file {inputsdir}/scattering/sim.yml\n",
    "\n",
    "cluster:\n",
    "  nodes: 50\n",
    "instrument:\n",
    "  name: arcs\n",
    "scatter:\n",
    "  ncount: 1e8\n",
    "  multiple_scattering: off\n",
    "  template: ./template"
   ]
  },
  {
   "cell_type": "code",
   "execution_count": 81,
   "metadata": {
    "collapsed": false
   },
   "outputs": [
    {
     "name": "stdout",
     "output_type": "stream",
     "text": [
      "sending incremental file list\n",
      "scattering/\n",
      "scattering/sim.yml\n",
      "\n",
      "sent 3,379 bytes  received 134 bytes  1,405.20 bytes/sec\n",
      "total size is 232,660,241  speedup is 66,228.36\n"
     ]
    }
   ],
   "source": [
    "# staging\n",
    "# don't use -L for rsync, otherwise the beam and sampleassembly will be copied a lot of times\n",
    "!rsync -avz {inputsdir}/ {cluster}:{workdir}/"
   ]
  },
  {
   "cell_type": "markdown",
   "metadata": {},
   "source": [
    "## Step 3. Test drive"
   ]
  },
  {
   "cell_type": "code",
   "execution_count": 68,
   "metadata": {
    "collapsed": true
   },
   "outputs": [],
   "source": [
    "setupenv_cluster = \". ~/.use-miniconda2; source activate mcvine \""
   ]
  },
  {
   "cell_type": "code",
   "execution_count": 76,
   "metadata": {
    "collapsed": false,
    "scrolled": true
   },
   "outputs": [],
   "source": [
    "cmd = \"time ./scripts/sim.py --angle=30.0\""
   ]
  },
  {
   "cell_type": "code",
   "execution_count": 77,
   "metadata": {
    "collapsed": false
   },
   "outputs": [
    {
     "name": "stdout",
     "output_type": "stream",
     "text": [
      "ndav2.sns.gov . ~/.use-miniconda2; source activate mcvine  /SNS/users/lj7/simulations/ARCS/Si/June2016/test-orientation time ./scripts/sim.py --angle=30.0\n"
     ]
    }
   ],
   "source": [
    "print cluster, setupenv_cluster, workdir, cmd"
   ]
  },
  {
   "cell_type": "code",
   "execution_count": 79,
   "metadata": {
    "collapsed": false
   },
   "outputs": [],
   "source": [
    "!ssh -f {cluster} \"bash -c '{setupenv_cluster}; cd {workdir}/scattering; {cmd} </dev/null >log.-30.0 2>&1 &'\""
   ]
  },
  {
   "cell_type": "code",
   "execution_count": 57,
   "metadata": {
    "collapsed": false
   },
   "outputs": [],
   "source": [
    "#!ssh {cluster} \"bash -c 'ls < /dev/null > ~/log.ls &'\""
   ]
  },
  {
   "cell_type": "code",
   "execution_count": 56,
   "metadata": {
    "collapsed": false
   },
   "outputs": [],
   "source": [
    "#!ssh {cluster} ls"
   ]
  },
  {
   "cell_type": "markdown",
   "metadata": {},
   "source": [
    "** Timing: n=1e8. 1.5 hours **"
   ]
  },
  {
   "cell_type": "markdown",
   "metadata": {},
   "source": [
    "## Step 4. Run all angles"
   ]
  },
  {
   "cell_type": "code",
   "execution_count": 102,
   "metadata": {
    "collapsed": false
   },
   "outputs": [
    {
     "name": "stdout",
     "output_type": "stream",
     "text": [
      "Overwriting /SNS/users/lj7/simulations/ARCS/Si/demo/inputs/scattering/sim.yml\n"
     ]
    }
   ],
   "source": [
    "%%file {inputsdir}/scattering/sim.yml\n",
    "\n",
    "cluster:\n",
    "  nodes: 1\n",
    "instrument:\n",
    "  name: arcs\n",
    "scatter:\n",
    "  ncount: 1e7\n",
    "  multiple_scattering: off\n",
    "  template: ./template"
   ]
  },
  {
   "cell_type": "code",
   "execution_count": 88,
   "metadata": {
    "collapsed": false
   },
   "outputs": [
    {
     "name": "stdout",
     "output_type": "stream",
     "text": [
      "Overwriting /SNS/users/lj7/simulations/ARCS/Si/demo/inputs/scattering/create_sim_all.py\n"
     ]
    }
   ],
   "source": [
    "%%file {inputsdir}/scattering/create_sim_all.py\n",
    "import numpy as np\n",
    "ostream = open('simall.sh', 'wt')\n",
    "for a in np.arange(-5, 90.1, 2.):\n",
    "    ostream.write('time ./scripts/sim.py --angle=%s >log.%s 2>&1 &\\n' % (a,a))\n",
    "    continue\n",
    "ostream.close()"
   ]
  },
  {
   "cell_type": "code",
   "execution_count": 85,
   "metadata": {
    "collapsed": false
   },
   "outputs": [
    {
     "name": "stdout",
     "output_type": "stream",
     "text": [
      "/SNS/users/lj7/simulations/ARCS/Si/demo/inputs/scattering\n"
     ]
    }
   ],
   "source": [
    "%cd {inputsdir}/scattering"
   ]
  },
  {
   "cell_type": "code",
   "execution_count": 89,
   "metadata": {
    "collapsed": true
   },
   "outputs": [],
   "source": [
    "!python ./create_sim_all.py"
   ]
  },
  {
   "cell_type": "code",
   "execution_count": 91,
   "metadata": {
    "collapsed": false
   },
   "outputs": [],
   "source": [
    "#!cat simall.sh"
   ]
  },
  {
   "cell_type": "code",
   "execution_count": 94,
   "metadata": {
    "collapsed": true
   },
   "outputs": [],
   "source": [
    "!chmod +x simall.sh"
   ]
  },
  {
   "cell_type": "code",
   "execution_count": 103,
   "metadata": {
    "collapsed": false
   },
   "outputs": [
    {
     "name": "stdout",
     "output_type": "stream",
     "text": [
      "sending incremental file list\n",
      "cannot delete non-empty directory: beam\n",
      "could not make way for new symlink: beam\n",
      "scattering/\n",
      "scattering/sim.yml\n",
      "\n",
      "sent 1,620 bytes  received 177 bytes  3,594.00 bytes/sec\n",
      "total size is 91,522,181  speedup is 50,930.54\n",
      "rsync error: some files/attrs were not transferred (see previous errors) (code 23) at main.c(1183) [sender=3.1.0]\n"
     ]
    }
   ],
   "source": [
    "# staging\n",
    "# don't use -L for rsync, otherwise the beam and sampleassembly will be copied a lot of times\n",
    "!rsync -avz {inputsdir}/ {cluster}:{workdir}/"
   ]
  },
  {
   "cell_type": "code",
   "execution_count": 96,
   "metadata": {
    "collapsed": true
   },
   "outputs": [],
   "source": [
    "cmd = \"./simall.sh\""
   ]
  },
  {
   "cell_type": "code",
   "execution_count": 104,
   "metadata": {
    "collapsed": false
   },
   "outputs": [
    {
     "name": "stdout",
     "output_type": "stream",
     "text": [
      "\r\n",
      "cluster:\r\n",
      "  nodes: 1\r\n",
      "instrument:\r\n",
      "  name: arcs\r\n",
      "scatter:\r\n",
      "  ncount: 1e7\r\n",
      "  multiple_scattering: off\r\n",
      "  template: ./template"
     ]
    }
   ],
   "source": [
    "# one last check of sim config\n",
    "!ssh {cluster} cat {workdir}/scattering/sim.yml"
   ]
  },
  {
   "cell_type": "code",
   "execution_count": 97,
   "metadata": {
    "collapsed": false
   },
   "outputs": [
    {
     "name": "stdout",
     "output_type": "stream",
     "text": [
      "ndav2.sns.gov . ~/.use-miniconda2; source activate mcvine  /SNS/users/lj7/simulations/ARCS/Si/June2016/test-orientation ./simall.sh\n"
     ]
    }
   ],
   "source": [
    "print cluster, setupenv_cluster, workdir, cmd"
   ]
  },
  {
   "cell_type": "code",
   "execution_count": 98,
   "metadata": {
    "collapsed": false
   },
   "outputs": [
    {
     "name": "stdout",
     "output_type": "stream",
     "text": [
      "ssh -f ndav2.sns.gov bash -c '. ~/.use-miniconda2; source activate mcvine ; cd /SNS/users/lj7/simulations/ARCS/Si/June2016/test-orientation/scattering; ./simall.sh </dev/null >log.simall 2>&1 &'\r\n"
     ]
    }
   ],
   "source": [
    "!echo ssh -f {cluster} \"bash -c '{setupenv_cluster}; cd {workdir}/scattering; {cmd} </dev/null >log.simall 2>&1 &'\""
   ]
  },
  {
   "cell_type": "code",
   "execution_count": 105,
   "metadata": {
    "collapsed": true
   },
   "outputs": [],
   "source": [
    "!ssh -f {cluster} \"bash -c '{setupenv_cluster}; cd {workdir}/scattering; {cmd} </dev/null >log.simall 2>&1 &'\""
   ]
  },
  {
   "cell_type": "markdown",
   "metadata": {},
   "source": [
    "## Step 5. Reduction"
   ]
  },
  {
   "cell_type": "code",
   "execution_count": 112,
   "metadata": {
    "collapsed": false
   },
   "outputs": [
    {
     "name": "stdout",
     "output_type": "stream",
     "text": [
      "/SNS/users/lj7/simulations/ARCS/Si/June2016/test-orientation/scattering\n",
      "create_sim_all.py  log.37.0  log.69.0\t template   work_37.0  work_69.0\r\n",
      "log.-1.0\t   log.39.0  log.7.0\t work_-1.0  work_39.0  work_7.0\r\n",
      "log.1.0\t\t   log.41.0  log.71.0\t work_1.0   work_41.0  work_71.0\r\n",
      "log.11.0\t   log.43.0  log.73.0\t work_11.0  work_43.0  work_73.0\r\n",
      "log.13.0\t   log.45.0  log.75.0\t work_13.0  work_45.0  work_75.0\r\n",
      "log.15.0\t   log.47.0  log.77.0\t work_15.0  work_47.0  work_77.0\r\n",
      "log.17.0\t   log.49.0  log.79.0\t work_17.0  work_49.0  work_79.0\r\n",
      "log.19.0\t   log.-5.0  log.81.0\t work_19.0  work_-5.0  work_81.0\r\n",
      "log.21.0\t   log.5.0   log.83.0\t work_21.0  work_5.0   work_83.0\r\n",
      "log.23.0\t   log.51.0  log.85.0\t work_23.0  work_51.0  work_85.0\r\n",
      "log.25.0\t   log.53.0  log.87.0\t work_25.0  work_53.0  work_87.0\r\n",
      "log.27.0\t   log.55.0  log.89.0\t work_27.0  work_55.0  work_89.0\r\n",
      "log.29.0\t   log.57.0  log.9.0\t work_29.0  work_57.0  work_9.0\r\n",
      "log.-3.0\t   log.59.0  log.reduce  work_-3.0  work_59.0\r\n",
      "log.3.0\t\t   log.61.0  log.simall  work_3.0   work_61.0\r\n",
      "log.31.0\t   log.63.0  scripts\t work_31.0  work_63.0\r\n",
      "log.33.0\t   log.65.0  simall.sh\t work_33.0  work_65.0\r\n",
      "log.35.0\t   log.67.0  sim.yml\t work_35.0  work_67.0\r\n"
     ]
    }
   ],
   "source": [
    "# Here we run reduction locally for convenience, taking advantage\n",
    "# locally mounted folders.\n",
    "# When this is not practical, reduction can be run remotely too.\n",
    "%cd \"{workdir}/scattering\"\n",
    "!ls"
   ]
  },
  {
   "cell_type": "markdown",
   "metadata": {},
   "source": [
    "First we reduce event-mode nexus data for each angle using Mantid"
   ]
  },
  {
   "cell_type": "code",
   "execution_count": 107,
   "metadata": {
    "collapsed": false
   },
   "outputs": [
    {
     "name": "stdout",
     "output_type": "stream",
     "text": [
      "ls: cannot access work_2.0/reduced*: No such file or directory\r\n"
     ]
    }
   ],
   "source": [
    "# check if there is reduced data\n",
    "!ls work_2.0/reduced*"
   ]
  },
  {
   "cell_type": "code",
   "execution_count": 108,
   "metadata": {
    "collapsed": false,
    "scrolled": true
   },
   "outputs": [],
   "source": [
    "# reduce tof events to E events\n",
    "# this takes about 30 minutes\n",
    "!./scripts/reduce/reduceKeepingEvents_batch.py -5,90.1,2. 100 0,75,0.5 > log.reduce"
   ]
  },
  {
   "cell_type": "code",
   "execution_count": 110,
   "metadata": {
    "collapsed": true
   },
   "outputs": [],
   "source": [
    "# create configuration file for getting a slice"
   ]
  },
  {
   "cell_type": "code",
   "execution_count": 114,
   "metadata": {
    "collapsed": false
   },
   "outputs": [
    {
     "name": "stdout",
     "output_type": "stream",
     "text": [
      "5.4305300713\n"
     ]
    }
   ],
   "source": [
    "ha = 2.71526503565\n",
    "a = ha*2\n",
    "print a"
   ]
  },
  {
   "cell_type": "code",
   "execution_count": 115,
   "metadata": {
    "collapsed": false
   },
   "outputs": [
    {
     "name": "stdout",
     "output_type": "stream",
     "text": [
      "Writing slice_111.yml\n"
     ]
    }
   ],
   "source": [
    "%%file slice_111.yml\n",
    "\n",
    "angles: -5,90.1,2.0\n",
    "filename_pattern: work_%(angle)s/reduced_%(angle)s.nxs\n",
    "lattice: 5.4305300713, 5.4305300713, 5.4305300713, 90, 90, 90\n",
    "orientation:\n",
    " u: -1, 1, -1\n",
    " v: 2,1,-1\n",
    "Eaxis:\n",
    " min: 0\n",
    " max: 75\n",
    " N: 151\n",
    "Q_projections:\n",
    " U:\n",
    "  proj: -1,1,-1\n",
    "  proj_name: -H,H,-H\n",
    "  min: -6\n",
    "  max: 6\n",
    "  N: 241\n",
    " V:\n",
    "  proj: 1,.5,-.5\n",
    "  proj_name: H,0.5H,-0.5H\n",
    "  min: -5.45\n",
    "  max: -5.15\n",
    "  N: 1\n",
    " W:\n",
    "  proj: 0,-1,-1\n",
    "  proj_name: 0,-K,-K\n",
    "  min: -0.3\n",
    "  max: 0.3\n",
    "  N: 1\n",
    "output: slice_111.nxs\n"
   ]
  },
  {
   "cell_type": "code",
   "execution_count": 116,
   "metadata": {
    "collapsed": true
   },
   "outputs": [],
   "source": [
    "# hack for now. copy the config python file to current dir\n",
    "!cp /SNS/users/lj7/simulations/mcvine_workflow/DGS/ARCS/single-crystal/scripts/config.py ."
   ]
  },
  {
   "cell_type": "code",
   "execution_count": 117,
   "metadata": {
    "collapsed": false,
    "scrolled": true
   },
   "outputs": [],
   "source": [
    "# run script to calculate the slice\n",
    "# this take ~15 minutes \n",
    "! PYTHONPATH=$PWD:$PYTHONPATH ./scripts/reduce/getaslice.py slice_111.yml > log.slice_111"
   ]
  },
  {
   "cell_type": "code",
   "execution_count": 118,
   "metadata": {
    "collapsed": false
   },
   "outputs": [
    {
     "name": "stdout",
     "output_type": "stream",
     "text": [
      "FrameworkManager-[Notice] Welcome to Mantid 3.6.100\n",
      "FrameworkManager-[Notice] Please cite: http://dx.doi.org/10.1016/j.nima.2014.07.029 and this release: http://dx.doi.org/10.5286/Software/Mantid3.6.100\n",
      "Load-[Notice] Load started\n",
      "Load-[Notice] Load successful, Duration 0.97 seconds\n"
     ]
    }
   ],
   "source": [
    "# convert slice nexus to slice histogram for plotting\n",
    "!./scripts/reduce/slice2hist.py slice_111.nxs slice_111.h5"
   ]
  },
  {
   "cell_type": "code",
   "execution_count": 120,
   "metadata": {
    "collapsed": false,
    "scrolled": true
   },
   "outputs": [
    {
     "name": "stdout",
     "output_type": "stream",
     "text": [
      "plot z in (0, 1e-06)\n"
     ]
    },
    {
     "data": {
      "application/javascript": [
       "/* Put everything inside the global mpl namespace */\n",
       "window.mpl = {};\n",
       "\n",
       "mpl.get_websocket_type = function() {\n",
       "    if (typeof(WebSocket) !== 'undefined') {\n",
       "        return WebSocket;\n",
       "    } else if (typeof(MozWebSocket) !== 'undefined') {\n",
       "        return MozWebSocket;\n",
       "    } else {\n",
       "        alert('Your browser does not have WebSocket support.' +\n",
       "              'Please try Chrome, Safari or Firefox ≥ 6. ' +\n",
       "              'Firefox 4 and 5 are also supported but you ' +\n",
       "              'have to enable WebSockets in about:config.');\n",
       "    };\n",
       "}\n",
       "\n",
       "mpl.figure = function(figure_id, websocket, ondownload, parent_element) {\n",
       "    this.id = figure_id;\n",
       "\n",
       "    this.ws = websocket;\n",
       "\n",
       "    this.supports_binary = (this.ws.binaryType != undefined);\n",
       "\n",
       "    if (!this.supports_binary) {\n",
       "        var warnings = document.getElementById(\"mpl-warnings\");\n",
       "        if (warnings) {\n",
       "            warnings.style.display = 'block';\n",
       "            warnings.textContent = (\n",
       "                \"This browser does not support binary websocket messages. \" +\n",
       "                    \"Performance may be slow.\");\n",
       "        }\n",
       "    }\n",
       "\n",
       "    this.imageObj = new Image();\n",
       "\n",
       "    this.context = undefined;\n",
       "    this.message = undefined;\n",
       "    this.canvas = undefined;\n",
       "    this.rubberband_canvas = undefined;\n",
       "    this.rubberband_context = undefined;\n",
       "    this.format_dropdown = undefined;\n",
       "\n",
       "    this.image_mode = 'full';\n",
       "\n",
       "    this.root = $('<div/>');\n",
       "    this._root_extra_style(this.root)\n",
       "    this.root.attr('style', 'display: inline-block');\n",
       "\n",
       "    $(parent_element).append(this.root);\n",
       "\n",
       "    this._init_header(this);\n",
       "    this._init_canvas(this);\n",
       "    this._init_toolbar(this);\n",
       "\n",
       "    var fig = this;\n",
       "\n",
       "    this.waiting = false;\n",
       "\n",
       "    this.ws.onopen =  function () {\n",
       "            fig.send_message(\"supports_binary\", {value: fig.supports_binary});\n",
       "            fig.send_message(\"send_image_mode\", {});\n",
       "            fig.send_message(\"refresh\", {});\n",
       "        }\n",
       "\n",
       "    this.imageObj.onload = function() {\n",
       "            if (fig.image_mode == 'full') {\n",
       "                // Full images could contain transparency (where diff images\n",
       "                // almost always do), so we need to clear the canvas so that\n",
       "                // there is no ghosting.\n",
       "                fig.context.clearRect(0, 0, fig.canvas.width, fig.canvas.height);\n",
       "            }\n",
       "            fig.context.drawImage(fig.imageObj, 0, 0);\n",
       "        };\n",
       "\n",
       "    this.imageObj.onunload = function() {\n",
       "        this.ws.close();\n",
       "    }\n",
       "\n",
       "    this.ws.onmessage = this._make_on_message_function(this);\n",
       "\n",
       "    this.ondownload = ondownload;\n",
       "}\n",
       "\n",
       "mpl.figure.prototype._init_header = function() {\n",
       "    var titlebar = $(\n",
       "        '<div class=\"ui-dialog-titlebar ui-widget-header ui-corner-all ' +\n",
       "        'ui-helper-clearfix\"/>');\n",
       "    var titletext = $(\n",
       "        '<div class=\"ui-dialog-title\" style=\"width: 100%; ' +\n",
       "        'text-align: center; padding: 3px;\"/>');\n",
       "    titlebar.append(titletext)\n",
       "    this.root.append(titlebar);\n",
       "    this.header = titletext[0];\n",
       "}\n",
       "\n",
       "\n",
       "\n",
       "mpl.figure.prototype._canvas_extra_style = function(canvas_div) {\n",
       "\n",
       "}\n",
       "\n",
       "\n",
       "mpl.figure.prototype._root_extra_style = function(canvas_div) {\n",
       "\n",
       "}\n",
       "\n",
       "mpl.figure.prototype._init_canvas = function() {\n",
       "    var fig = this;\n",
       "\n",
       "    var canvas_div = $('<div/>');\n",
       "\n",
       "    canvas_div.attr('style', 'position: relative; clear: both; outline: 0');\n",
       "\n",
       "    function canvas_keyboard_event(event) {\n",
       "        return fig.key_event(event, event['data']);\n",
       "    }\n",
       "\n",
       "    canvas_div.keydown('key_press', canvas_keyboard_event);\n",
       "    canvas_div.keyup('key_release', canvas_keyboard_event);\n",
       "    this.canvas_div = canvas_div\n",
       "    this._canvas_extra_style(canvas_div)\n",
       "    this.root.append(canvas_div);\n",
       "\n",
       "    var canvas = $('<canvas/>');\n",
       "    canvas.addClass('mpl-canvas');\n",
       "    canvas.attr('style', \"left: 0; top: 0; z-index: 0; outline: 0\")\n",
       "\n",
       "    this.canvas = canvas[0];\n",
       "    this.context = canvas[0].getContext(\"2d\");\n",
       "\n",
       "    var rubberband = $('<canvas/>');\n",
       "    rubberband.attr('style', \"position: absolute; left: 0; top: 0; z-index: 1;\")\n",
       "\n",
       "    var pass_mouse_events = true;\n",
       "\n",
       "    canvas_div.resizable({\n",
       "        start: function(event, ui) {\n",
       "            pass_mouse_events = false;\n",
       "        },\n",
       "        resize: function(event, ui) {\n",
       "            fig.request_resize(ui.size.width, ui.size.height);\n",
       "        },\n",
       "        stop: function(event, ui) {\n",
       "            pass_mouse_events = true;\n",
       "            fig.request_resize(ui.size.width, ui.size.height);\n",
       "        },\n",
       "    });\n",
       "\n",
       "    function mouse_event_fn(event) {\n",
       "        if (pass_mouse_events)\n",
       "            return fig.mouse_event(event, event['data']);\n",
       "    }\n",
       "\n",
       "    rubberband.mousedown('button_press', mouse_event_fn);\n",
       "    rubberband.mouseup('button_release', mouse_event_fn);\n",
       "    // Throttle sequential mouse events to 1 every 20ms.\n",
       "    rubberband.mousemove('motion_notify', mouse_event_fn);\n",
       "\n",
       "    rubberband.mouseenter('figure_enter', mouse_event_fn);\n",
       "    rubberband.mouseleave('figure_leave', mouse_event_fn);\n",
       "\n",
       "    canvas_div.on(\"wheel\", function (event) {\n",
       "        event = event.originalEvent;\n",
       "        event['data'] = 'scroll'\n",
       "        if (event.deltaY < 0) {\n",
       "            event.step = 1;\n",
       "        } else {\n",
       "            event.step = -1;\n",
       "        }\n",
       "        mouse_event_fn(event);\n",
       "    });\n",
       "\n",
       "    canvas_div.append(canvas);\n",
       "    canvas_div.append(rubberband);\n",
       "\n",
       "    this.rubberband = rubberband;\n",
       "    this.rubberband_canvas = rubberband[0];\n",
       "    this.rubberband_context = rubberband[0].getContext(\"2d\");\n",
       "    this.rubberband_context.strokeStyle = \"#000000\";\n",
       "\n",
       "    this._resize_canvas = function(width, height) {\n",
       "        // Keep the size of the canvas, canvas container, and rubber band\n",
       "        // canvas in synch.\n",
       "        canvas_div.css('width', width)\n",
       "        canvas_div.css('height', height)\n",
       "\n",
       "        canvas.attr('width', width);\n",
       "        canvas.attr('height', height);\n",
       "\n",
       "        rubberband.attr('width', width);\n",
       "        rubberband.attr('height', height);\n",
       "    }\n",
       "\n",
       "    // Set the figure to an initial 600x600px, this will subsequently be updated\n",
       "    // upon first draw.\n",
       "    this._resize_canvas(600, 600);\n",
       "\n",
       "    // Disable right mouse context menu.\n",
       "    $(this.rubberband_canvas).bind(\"contextmenu\",function(e){\n",
       "        return false;\n",
       "    });\n",
       "\n",
       "    function set_focus () {\n",
       "        canvas.focus();\n",
       "        canvas_div.focus();\n",
       "    }\n",
       "\n",
       "    window.setTimeout(set_focus, 100);\n",
       "}\n",
       "\n",
       "mpl.figure.prototype._init_toolbar = function() {\n",
       "    var fig = this;\n",
       "\n",
       "    var nav_element = $('<div/>')\n",
       "    nav_element.attr('style', 'width: 100%');\n",
       "    this.root.append(nav_element);\n",
       "\n",
       "    // Define a callback function for later on.\n",
       "    function toolbar_event(event) {\n",
       "        return fig.toolbar_button_onclick(event['data']);\n",
       "    }\n",
       "    function toolbar_mouse_event(event) {\n",
       "        return fig.toolbar_button_onmouseover(event['data']);\n",
       "    }\n",
       "\n",
       "    for(var toolbar_ind in mpl.toolbar_items) {\n",
       "        var name = mpl.toolbar_items[toolbar_ind][0];\n",
       "        var tooltip = mpl.toolbar_items[toolbar_ind][1];\n",
       "        var image = mpl.toolbar_items[toolbar_ind][2];\n",
       "        var method_name = mpl.toolbar_items[toolbar_ind][3];\n",
       "\n",
       "        if (!name) {\n",
       "            // put a spacer in here.\n",
       "            continue;\n",
       "        }\n",
       "        var button = $('<button/>');\n",
       "        button.addClass('ui-button ui-widget ui-state-default ui-corner-all ' +\n",
       "                        'ui-button-icon-only');\n",
       "        button.attr('role', 'button');\n",
       "        button.attr('aria-disabled', 'false');\n",
       "        button.click(method_name, toolbar_event);\n",
       "        button.mouseover(tooltip, toolbar_mouse_event);\n",
       "\n",
       "        var icon_img = $('<span/>');\n",
       "        icon_img.addClass('ui-button-icon-primary ui-icon');\n",
       "        icon_img.addClass(image);\n",
       "        icon_img.addClass('ui-corner-all');\n",
       "\n",
       "        var tooltip_span = $('<span/>');\n",
       "        tooltip_span.addClass('ui-button-text');\n",
       "        tooltip_span.html(tooltip);\n",
       "\n",
       "        button.append(icon_img);\n",
       "        button.append(tooltip_span);\n",
       "\n",
       "        nav_element.append(button);\n",
       "    }\n",
       "\n",
       "    var fmt_picker_span = $('<span/>');\n",
       "\n",
       "    var fmt_picker = $('<select/>');\n",
       "    fmt_picker.addClass('mpl-toolbar-option ui-widget ui-widget-content');\n",
       "    fmt_picker_span.append(fmt_picker);\n",
       "    nav_element.append(fmt_picker_span);\n",
       "    this.format_dropdown = fmt_picker[0];\n",
       "\n",
       "    for (var ind in mpl.extensions) {\n",
       "        var fmt = mpl.extensions[ind];\n",
       "        var option = $(\n",
       "            '<option/>', {selected: fmt === mpl.default_extension}).html(fmt);\n",
       "        fmt_picker.append(option)\n",
       "    }\n",
       "\n",
       "    // Add hover states to the ui-buttons\n",
       "    $( \".ui-button\" ).hover(\n",
       "        function() { $(this).addClass(\"ui-state-hover\");},\n",
       "        function() { $(this).removeClass(\"ui-state-hover\");}\n",
       "    );\n",
       "\n",
       "    var status_bar = $('<span class=\"mpl-message\"/>');\n",
       "    nav_element.append(status_bar);\n",
       "    this.message = status_bar[0];\n",
       "}\n",
       "\n",
       "mpl.figure.prototype.request_resize = function(x_pixels, y_pixels) {\n",
       "    // Request matplotlib to resize the figure. Matplotlib will then trigger a resize in the client,\n",
       "    // which will in turn request a refresh of the image.\n",
       "    this.send_message('resize', {'width': x_pixels, 'height': y_pixels});\n",
       "}\n",
       "\n",
       "mpl.figure.prototype.send_message = function(type, properties) {\n",
       "    properties['type'] = type;\n",
       "    properties['figure_id'] = this.id;\n",
       "    this.ws.send(JSON.stringify(properties));\n",
       "}\n",
       "\n",
       "mpl.figure.prototype.send_draw_message = function() {\n",
       "    if (!this.waiting) {\n",
       "        this.waiting = true;\n",
       "        this.ws.send(JSON.stringify({type: \"draw\", figure_id: this.id}));\n",
       "    }\n",
       "}\n",
       "\n",
       "\n",
       "mpl.figure.prototype.handle_save = function(fig, msg) {\n",
       "    var format_dropdown = fig.format_dropdown;\n",
       "    var format = format_dropdown.options[format_dropdown.selectedIndex].value;\n",
       "    fig.ondownload(fig, format);\n",
       "}\n",
       "\n",
       "\n",
       "mpl.figure.prototype.handle_resize = function(fig, msg) {\n",
       "    var size = msg['size'];\n",
       "    if (size[0] != fig.canvas.width || size[1] != fig.canvas.height) {\n",
       "        fig._resize_canvas(size[0], size[1]);\n",
       "        fig.send_message(\"refresh\", {});\n",
       "    };\n",
       "}\n",
       "\n",
       "mpl.figure.prototype.handle_rubberband = function(fig, msg) {\n",
       "    var x0 = msg['x0'];\n",
       "    var y0 = fig.canvas.height - msg['y0'];\n",
       "    var x1 = msg['x1'];\n",
       "    var y1 = fig.canvas.height - msg['y1'];\n",
       "    x0 = Math.floor(x0) + 0.5;\n",
       "    y0 = Math.floor(y0) + 0.5;\n",
       "    x1 = Math.floor(x1) + 0.5;\n",
       "    y1 = Math.floor(y1) + 0.5;\n",
       "    var min_x = Math.min(x0, x1);\n",
       "    var min_y = Math.min(y0, y1);\n",
       "    var width = Math.abs(x1 - x0);\n",
       "    var height = Math.abs(y1 - y0);\n",
       "\n",
       "    fig.rubberband_context.clearRect(\n",
       "        0, 0, fig.canvas.width, fig.canvas.height);\n",
       "\n",
       "    fig.rubberband_context.strokeRect(min_x, min_y, width, height);\n",
       "}\n",
       "\n",
       "mpl.figure.prototype.handle_figure_label = function(fig, msg) {\n",
       "    // Updates the figure title.\n",
       "    fig.header.textContent = msg['label'];\n",
       "}\n",
       "\n",
       "mpl.figure.prototype.handle_cursor = function(fig, msg) {\n",
       "    var cursor = msg['cursor'];\n",
       "    switch(cursor)\n",
       "    {\n",
       "    case 0:\n",
       "        cursor = 'pointer';\n",
       "        break;\n",
       "    case 1:\n",
       "        cursor = 'default';\n",
       "        break;\n",
       "    case 2:\n",
       "        cursor = 'crosshair';\n",
       "        break;\n",
       "    case 3:\n",
       "        cursor = 'move';\n",
       "        break;\n",
       "    }\n",
       "    fig.rubberband_canvas.style.cursor = cursor;\n",
       "}\n",
       "\n",
       "mpl.figure.prototype.handle_message = function(fig, msg) {\n",
       "    fig.message.textContent = msg['message'];\n",
       "}\n",
       "\n",
       "mpl.figure.prototype.handle_draw = function(fig, msg) {\n",
       "    // Request the server to send over a new figure.\n",
       "    fig.send_draw_message();\n",
       "}\n",
       "\n",
       "mpl.figure.prototype.handle_image_mode = function(fig, msg) {\n",
       "    fig.image_mode = msg['mode'];\n",
       "}\n",
       "\n",
       "mpl.figure.prototype.updated_canvas_event = function() {\n",
       "    // Called whenever the canvas gets updated.\n",
       "    this.send_message(\"ack\", {});\n",
       "}\n",
       "\n",
       "// A function to construct a web socket function for onmessage handling.\n",
       "// Called in the figure constructor.\n",
       "mpl.figure.prototype._make_on_message_function = function(fig) {\n",
       "    return function socket_on_message(evt) {\n",
       "        if (evt.data instanceof Blob) {\n",
       "            /* FIXME: We get \"Resource interpreted as Image but\n",
       "             * transferred with MIME type text/plain:\" errors on\n",
       "             * Chrome.  But how to set the MIME type?  It doesn't seem\n",
       "             * to be part of the websocket stream */\n",
       "            evt.data.type = \"image/png\";\n",
       "\n",
       "            /* Free the memory for the previous frames */\n",
       "            if (fig.imageObj.src) {\n",
       "                (window.URL || window.webkitURL).revokeObjectURL(\n",
       "                    fig.imageObj.src);\n",
       "            }\n",
       "\n",
       "            fig.imageObj.src = (window.URL || window.webkitURL).createObjectURL(\n",
       "                evt.data);\n",
       "            fig.updated_canvas_event();\n",
       "            fig.waiting = false;\n",
       "            return;\n",
       "        }\n",
       "        else if (typeof evt.data === 'string' && evt.data.slice(0, 21) == \"data:image/png;base64\") {\n",
       "            fig.imageObj.src = evt.data;\n",
       "            fig.updated_canvas_event();\n",
       "            fig.waiting = false;\n",
       "            return;\n",
       "        }\n",
       "\n",
       "        var msg = JSON.parse(evt.data);\n",
       "        var msg_type = msg['type'];\n",
       "\n",
       "        // Call the  \"handle_{type}\" callback, which takes\n",
       "        // the figure and JSON message as its only arguments.\n",
       "        try {\n",
       "            var callback = fig[\"handle_\" + msg_type];\n",
       "        } catch (e) {\n",
       "            console.log(\"No handler for the '\" + msg_type + \"' message type: \", msg);\n",
       "            return;\n",
       "        }\n",
       "\n",
       "        if (callback) {\n",
       "            try {\n",
       "                // console.log(\"Handling '\" + msg_type + \"' message: \", msg);\n",
       "                callback(fig, msg);\n",
       "            } catch (e) {\n",
       "                console.log(\"Exception inside the 'handler_\" + msg_type + \"' callback:\", e, e.stack, msg);\n",
       "            }\n",
       "        }\n",
       "    };\n",
       "}\n",
       "\n",
       "// from http://stackoverflow.com/questions/1114465/getting-mouse-location-in-canvas\n",
       "mpl.findpos = function(e) {\n",
       "    //this section is from http://www.quirksmode.org/js/events_properties.html\n",
       "    var targ;\n",
       "    if (!e)\n",
       "        e = window.event;\n",
       "    if (e.target)\n",
       "        targ = e.target;\n",
       "    else if (e.srcElement)\n",
       "        targ = e.srcElement;\n",
       "    if (targ.nodeType == 3) // defeat Safari bug\n",
       "        targ = targ.parentNode;\n",
       "\n",
       "    // jQuery normalizes the pageX and pageY\n",
       "    // pageX,Y are the mouse positions relative to the document\n",
       "    // offset() returns the position of the element relative to the document\n",
       "    var x = e.pageX - $(targ).offset().left;\n",
       "    var y = e.pageY - $(targ).offset().top;\n",
       "\n",
       "    return {\"x\": x, \"y\": y};\n",
       "};\n",
       "\n",
       "/*\n",
       " * return a copy of an object with only non-object keys\n",
       " * we need this to avoid circular references\n",
       " * http://stackoverflow.com/a/24161582/3208463\n",
       " */\n",
       "function simpleKeys (original) {\n",
       "  return Object.keys(original).reduce(function (obj, key) {\n",
       "    if (typeof original[key] !== 'object')\n",
       "        obj[key] = original[key]\n",
       "    return obj;\n",
       "  }, {});\n",
       "}\n",
       "\n",
       "mpl.figure.prototype.mouse_event = function(event, name) {\n",
       "    var canvas_pos = mpl.findpos(event)\n",
       "\n",
       "    if (name === 'button_press')\n",
       "    {\n",
       "        this.canvas.focus();\n",
       "        this.canvas_div.focus();\n",
       "    }\n",
       "\n",
       "    var x = canvas_pos.x;\n",
       "    var y = canvas_pos.y;\n",
       "\n",
       "    this.send_message(name, {x: x, y: y, button: event.button,\n",
       "                             step: event.step,\n",
       "                             guiEvent: simpleKeys(event)});\n",
       "\n",
       "    /* This prevents the web browser from automatically changing to\n",
       "     * the text insertion cursor when the button is pressed.  We want\n",
       "     * to control all of the cursor setting manually through the\n",
       "     * 'cursor' event from matplotlib */\n",
       "    event.preventDefault();\n",
       "    return false;\n",
       "}\n",
       "\n",
       "mpl.figure.prototype._key_event_extra = function(event, name) {\n",
       "    // Handle any extra behaviour associated with a key event\n",
       "}\n",
       "\n",
       "mpl.figure.prototype.key_event = function(event, name) {\n",
       "\n",
       "    // Prevent repeat events\n",
       "    if (name == 'key_press')\n",
       "    {\n",
       "        if (event.which === this._key)\n",
       "            return;\n",
       "        else\n",
       "            this._key = event.which;\n",
       "    }\n",
       "    if (name == 'key_release')\n",
       "        this._key = null;\n",
       "\n",
       "    var value = '';\n",
       "    if (event.ctrlKey && event.which != 17)\n",
       "        value += \"ctrl+\";\n",
       "    if (event.altKey && event.which != 18)\n",
       "        value += \"alt+\";\n",
       "    if (event.shiftKey && event.which != 16)\n",
       "        value += \"shift+\";\n",
       "\n",
       "    value += 'k';\n",
       "    value += event.which.toString();\n",
       "\n",
       "    this._key_event_extra(event, name);\n",
       "\n",
       "    this.send_message(name, {key: value,\n",
       "                             guiEvent: simpleKeys(event)});\n",
       "    return false;\n",
       "}\n",
       "\n",
       "mpl.figure.prototype.toolbar_button_onclick = function(name) {\n",
       "    if (name == 'download') {\n",
       "        this.handle_save(this, null);\n",
       "    } else {\n",
       "        this.send_message(\"toolbar_button\", {name: name});\n",
       "    }\n",
       "};\n",
       "\n",
       "mpl.figure.prototype.toolbar_button_onmouseover = function(tooltip) {\n",
       "    this.message.textContent = tooltip;\n",
       "};\n",
       "mpl.toolbar_items = [[\"Home\", \"Reset original view\", \"fa fa-home icon-home\", \"home\"], [\"Back\", \"Back to  previous view\", \"fa fa-arrow-left icon-arrow-left\", \"back\"], [\"Forward\", \"Forward to next view\", \"fa fa-arrow-right icon-arrow-right\", \"forward\"], [\"\", \"\", \"\", \"\"], [\"Pan\", \"Pan axes with left mouse, zoom with right\", \"fa fa-arrows icon-move\", \"pan\"], [\"Zoom\", \"Zoom to rectangle\", \"fa fa-square-o icon-check-empty\", \"zoom\"], [\"\", \"\", \"\", \"\"], [\"Download\", \"Download plot\", \"fa fa-floppy-o icon-save\", \"download\"]];\n",
       "\n",
       "mpl.extensions = [\"eps\", \"pdf\", \"png\", \"ps\", \"raw\", \"svg\"];\n",
       "\n",
       "mpl.default_extension = \"png\";var comm_websocket_adapter = function(comm) {\n",
       "    // Create a \"websocket\"-like object which calls the given IPython comm\n",
       "    // object with the appropriate methods. Currently this is a non binary\n",
       "    // socket, so there is still some room for performance tuning.\n",
       "    var ws = {};\n",
       "\n",
       "    ws.close = function() {\n",
       "        comm.close()\n",
       "    };\n",
       "    ws.send = function(m) {\n",
       "        //console.log('sending', m);\n",
       "        comm.send(m);\n",
       "    };\n",
       "    // Register the callback with on_msg.\n",
       "    comm.on_msg(function(msg) {\n",
       "        //console.log('receiving', msg['content']['data'], msg);\n",
       "        // Pass the mpl event to the overriden (by mpl) onmessage function.\n",
       "        ws.onmessage(msg['content']['data'])\n",
       "    });\n",
       "    return ws;\n",
       "}\n",
       "\n",
       "mpl.mpl_figure_comm = function(comm, msg) {\n",
       "    // This is the function which gets called when the mpl process\n",
       "    // starts-up an IPython Comm through the \"matplotlib\" channel.\n",
       "\n",
       "    var id = msg.content.data.id;\n",
       "    // Get hold of the div created by the display call when the Comm\n",
       "    // socket was opened in Python.\n",
       "    var element = $(\"#\" + id);\n",
       "    var ws_proxy = comm_websocket_adapter(comm)\n",
       "\n",
       "    function ondownload(figure, format) {\n",
       "        window.open(figure.imageObj.src);\n",
       "    }\n",
       "\n",
       "    var fig = new mpl.figure(id, ws_proxy,\n",
       "                           ondownload,\n",
       "                           element.get(0));\n",
       "\n",
       "    // Call onopen now - mpl needs it, as it is assuming we've passed it a real\n",
       "    // web socket which is closed, not our websocket->open comm proxy.\n",
       "    ws_proxy.onopen();\n",
       "\n",
       "    fig.parent_element = element.get(0);\n",
       "    fig.cell_info = mpl.find_output_cell(\"<div id='\" + id + \"'></div>\");\n",
       "    if (!fig.cell_info) {\n",
       "        console.error(\"Failed to find cell for figure\", id, fig);\n",
       "        return;\n",
       "    }\n",
       "\n",
       "    var output_index = fig.cell_info[2]\n",
       "    var cell = fig.cell_info[0];\n",
       "\n",
       "};\n",
       "\n",
       "mpl.figure.prototype.handle_close = function(fig, msg) {\n",
       "    fig.root.unbind('remove')\n",
       "\n",
       "    // Update the output cell to use the data from the current canvas.\n",
       "    fig.push_to_output();\n",
       "    var dataURL = fig.canvas.toDataURL();\n",
       "    // Re-enable the keyboard manager in IPython - without this line, in FF,\n",
       "    // the notebook keyboard shortcuts fail.\n",
       "    IPython.keyboard_manager.enable()\n",
       "    $(fig.parent_element).html('<img src=\"' + dataURL + '\">');\n",
       "    fig.close_ws(fig, msg);\n",
       "}\n",
       "\n",
       "mpl.figure.prototype.close_ws = function(fig, msg){\n",
       "    fig.send_message('closing', msg);\n",
       "    // fig.ws.close()\n",
       "}\n",
       "\n",
       "mpl.figure.prototype.push_to_output = function(remove_interactive) {\n",
       "    // Turn the data on the canvas into data in the output cell.\n",
       "    var dataURL = this.canvas.toDataURL();\n",
       "    this.cell_info[1]['text/html'] = '<img src=\"' + dataURL + '\">';\n",
       "}\n",
       "\n",
       "mpl.figure.prototype.updated_canvas_event = function() {\n",
       "    // Tell IPython that the notebook contents must change.\n",
       "    IPython.notebook.set_dirty(true);\n",
       "    this.send_message(\"ack\", {});\n",
       "    var fig = this;\n",
       "    // Wait a second, then push the new image to the DOM so\n",
       "    // that it is saved nicely (might be nice to debounce this).\n",
       "    setTimeout(function () { fig.push_to_output() }, 1000);\n",
       "}\n",
       "\n",
       "mpl.figure.prototype._init_toolbar = function() {\n",
       "    var fig = this;\n",
       "\n",
       "    var nav_element = $('<div/>')\n",
       "    nav_element.attr('style', 'width: 100%');\n",
       "    this.root.append(nav_element);\n",
       "\n",
       "    // Define a callback function for later on.\n",
       "    function toolbar_event(event) {\n",
       "        return fig.toolbar_button_onclick(event['data']);\n",
       "    }\n",
       "    function toolbar_mouse_event(event) {\n",
       "        return fig.toolbar_button_onmouseover(event['data']);\n",
       "    }\n",
       "\n",
       "    for(var toolbar_ind in mpl.toolbar_items){\n",
       "        var name = mpl.toolbar_items[toolbar_ind][0];\n",
       "        var tooltip = mpl.toolbar_items[toolbar_ind][1];\n",
       "        var image = mpl.toolbar_items[toolbar_ind][2];\n",
       "        var method_name = mpl.toolbar_items[toolbar_ind][3];\n",
       "\n",
       "        if (!name) { continue; };\n",
       "\n",
       "        var button = $('<button class=\"btn btn-default\" href=\"#\" title=\"' + name + '\"><i class=\"fa ' + image + ' fa-lg\"></i></button>');\n",
       "        button.click(method_name, toolbar_event);\n",
       "        button.mouseover(tooltip, toolbar_mouse_event);\n",
       "        nav_element.append(button);\n",
       "    }\n",
       "\n",
       "    // Add the status bar.\n",
       "    var status_bar = $('<span class=\"mpl-message\" style=\"text-align:right; float: right;\"/>');\n",
       "    nav_element.append(status_bar);\n",
       "    this.message = status_bar[0];\n",
       "\n",
       "    // Add the close button to the window.\n",
       "    var buttongrp = $('<div class=\"btn-group inline pull-right\"></div>');\n",
       "    var button = $('<button class=\"btn btn-mini btn-primary\" href=\"#\" title=\"Stop Interaction\"><i class=\"fa fa-power-off icon-remove icon-large\"></i></button>');\n",
       "    button.click(function (evt) { fig.handle_close(fig, {}); } );\n",
       "    button.mouseover('Stop Interaction', toolbar_mouse_event);\n",
       "    buttongrp.append(button);\n",
       "    var titlebar = this.root.find($('.ui-dialog-titlebar'));\n",
       "    titlebar.prepend(buttongrp);\n",
       "}\n",
       "\n",
       "mpl.figure.prototype._root_extra_style = function(el){\n",
       "    var fig = this\n",
       "    el.on(\"remove\", function(){\n",
       "\tfig.close_ws(fig, {});\n",
       "    });\n",
       "}\n",
       "\n",
       "mpl.figure.prototype._canvas_extra_style = function(el){\n",
       "    // this is important to make the div 'focusable\n",
       "    el.attr('tabindex', 0)\n",
       "    // reach out to IPython and tell the keyboard manager to turn it's self\n",
       "    // off when our div gets focus\n",
       "\n",
       "    // location in version 3\n",
       "    if (IPython.notebook.keyboard_manager) {\n",
       "        IPython.notebook.keyboard_manager.register_events(el);\n",
       "    }\n",
       "    else {\n",
       "        // location in version 2\n",
       "        IPython.keyboard_manager.register_events(el);\n",
       "    }\n",
       "\n",
       "}\n",
       "\n",
       "mpl.figure.prototype._key_event_extra = function(event, name) {\n",
       "    var manager = IPython.notebook.keyboard_manager;\n",
       "    if (!manager)\n",
       "        manager = IPython.keyboard_manager;\n",
       "\n",
       "    // Check for shift+enter\n",
       "    if (event.shiftKey && event.which == 13) {\n",
       "        this.canvas_div.blur();\n",
       "        event.shiftKey = false;\n",
       "        // Send a \"J\" for go to next cell\n",
       "        event.which = 74;\n",
       "        event.keyCode = 74;\n",
       "        manager.command_mode();\n",
       "        manager.handle_keydown(event);\n",
       "    }\n",
       "}\n",
       "\n",
       "mpl.figure.prototype.handle_save = function(fig, msg) {\n",
       "    fig.ondownload(fig, null);\n",
       "}\n",
       "\n",
       "\n",
       "mpl.find_output_cell = function(html_output) {\n",
       "    // Return the cell and output element which can be found *uniquely* in the notebook.\n",
       "    // Note - this is a bit hacky, but it is done because the \"notebook_saving.Notebook\"\n",
       "    // IPython event is triggered only after the cells have been serialised, which for\n",
       "    // our purposes (turning an active figure into a static one), is too late.\n",
       "    var cells = IPython.notebook.get_cells();\n",
       "    var ncells = cells.length;\n",
       "    for (var i=0; i<ncells; i++) {\n",
       "        var cell = cells[i];\n",
       "        if (cell.cell_type === 'code'){\n",
       "            for (var j=0; j<cell.output_area.outputs.length; j++) {\n",
       "                var data = cell.output_area.outputs[j];\n",
       "                if (data.data) {\n",
       "                    // IPython >= 3 moved mimebundle to data attribute of output\n",
       "                    data = data.data;\n",
       "                }\n",
       "                if (data['text/html'] == html_output) {\n",
       "                    return [cell, data, j];\n",
       "                }\n",
       "            }\n",
       "        }\n",
       "    }\n",
       "}\n",
       "\n",
       "// Register the function which deals with the matplotlib target/channel.\n",
       "// The kernel may be null if the page has been refreshed.\n",
       "if (IPython.notebook.kernel != null) {\n",
       "    IPython.notebook.kernel.comm_manager.register_target('matplotlib', mpl.mpl_figure_comm);\n",
       "}\n"
      ],
      "text/plain": [
       "<IPython.core.display.Javascript object>"
      ]
     },
     "metadata": {},
     "output_type": "display_data"
    },
    {
     "data": {
      "text/html": [
       "<img src=\"data:image/png;base64,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\">"
      ],
      "text/plain": [
       "<IPython.core.display.HTML object>"
      ]
     },
     "metadata": {},
     "output_type": "display_data"
    }
   ],
   "source": [
    "# plot\n",
    "H.plot(hh.load(\"./slice_111.h5\"), min=0, max=1e-6)"
   ]
  },
  {
   "cell_type": "markdown",
   "metadata": {},
   "source": [
    "### Comments\n",
    "This simulation has 2 degrees step size and was not run too long. Result is noisy. It was a quick simulation (~6hours). It is OK. We can run longer on different computing resources."
   ]
  },
  {
   "cell_type": "code",
   "execution_count": null,
   "metadata": {
    "collapsed": true
   },
   "outputs": [],
   "source": []
  }
 ],
 "metadata": {
  "kernelspec": {
   "display_name": "Python 2",
   "language": "python",
   "name": "python2"
  },
  "language_info": {
   "codemirror_mode": {
    "name": "ipython",
    "version": 2
   },
   "file_extension": ".py",
   "mimetype": "text/x-python",
   "name": "python",
   "nbconvert_exporter": "python",
   "pygments_lexer": "ipython2",
   "version": "2.7.11"
  },
  "widgets": {
   "state": {},
   "version": "1.1.2"
  }
 },
 "nbformat": 4,
 "nbformat_minor": 0
}
