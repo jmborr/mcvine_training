{
 "cells": [
  {
   "cell_type": "markdown",
   "id": "wired-saturday",
   "metadata": {},
   "source": [
    "# Tools"
   ]
  },
  {
   "cell_type": "code",
   "execution_count": 1,
   "id": "insured-indiana",
   "metadata": {},
   "outputs": [],
   "source": [
    "import os, numpy as np, glob\n",
    "from matplotlib import pyplot as plt\n",
    "%matplotlib notebook"
   ]
  },
  {
   "cell_type": "code",
   "execution_count": 2,
   "id": "liquid-flight",
   "metadata": {},
   "outputs": [],
   "source": [
    "import mcvine\n",
    "from mccomponents.sample import matter\n",
    "from sampleassembly.visitors.CrossSectionCalculator import CrossSectionCalculator\n",
    "from mcvine.workflow.sampleassembly import scaffolding\n",
    "from mcvine.workflow.sample import loadSampleYml"
   ]
  },
  {
   "cell_type": "code",
   "execution_count": 3,
   "id": "straight-harmony",
   "metadata": {},
   "outputs": [
    {
     "data": {
      "text/plain": [
       "<module 'mcvine.workflow.sampleassembly.scaffolding._kernel_helpers' from '/home/97n/dv/mcvine/export-3.7/lib/python3.7/site-packages/mcvine/workflow/sampleassembly/scaffolding/_kernel_helpers.py'>"
      ]
     },
     "execution_count": 3,
     "metadata": {},
     "output_type": "execute_result"
    }
   ],
   "source": [
    "from mcvine.workflow.sampleassembly.scaffolding import sample, phonon_powder_incoherent, _kernel_helpers\n",
    "import imp\n",
    "imp.reload(sample)\n",
    "imp.reload(phonon_powder_incoherent)\n",
    "imp.reload(_kernel_helpers)"
   ]
  },
  {
   "cell_type": "markdown",
   "id": "parental-minnesota",
   "metadata": {},
   "source": [
    "# Al crystal"
   ]
  },
  {
   "cell_type": "code",
   "execution_count": 4,
   "id": "exempt-corruption",
   "metadata": {},
   "outputs": [
    {
     "name": "stdout",
     "output_type": "stream",
     "text": [
      "Al_mp-134_symmetrized.cif\r\n"
     ]
    }
   ],
   "source": [
    "ls Al*.cif"
   ]
  },
  {
   "cell_type": "code",
   "execution_count": 5,
   "id": "harmful-brain",
   "metadata": {},
   "outputs": [
    {
     "name": "stdout",
     "output_type": "stream",
     "text": [
      "# generated using pymatgen\r\n",
      "data_Al\r\n",
      "_symmetry_space_group_name_H-M   Fm-3m\r\n",
      "_cell_length_a   4.03893000\r\n",
      "_cell_length_b   4.03893000\r\n",
      "_cell_length_c   4.03893000\r\n",
      "_cell_angle_alpha   90.00000000\r\n",
      "_cell_angle_beta   90.00000000\r\n",
      "_cell_angle_gamma   90.00000000\r\n",
      "_symmetry_Int_Tables_number   225\r\n"
     ]
    }
   ],
   "source": [
    "!head -n 10 Al_mp-134_symmetrized.cif"
   ]
  },
  {
   "cell_type": "markdown",
   "id": "personalized-registrar",
   "metadata": {},
   "source": [
    "## Common information that might be useful"
   ]
  },
  {
   "cell_type": "code",
   "execution_count": 6,
   "id": "mysterious-cosmetic",
   "metadata": {},
   "outputs": [],
   "source": [
    "structure = matter.loadCif('./Al_mp-134_symmetrized.cif')"
   ]
  },
  {
   "cell_type": "code",
   "execution_count": 7,
   "id": "quick-fabric",
   "metadata": {},
   "outputs": [
    {
     "name": "stdout",
     "output_type": "stream",
     "text": [
      "abs (2200m/s), inc, coh cross sections =  [9.24e-29*m**2 3.28e-30*m**2 5.98e-28*m**2]\n",
      "abs (2200m/s), inc, coh inverse length = [1.4024*m**-1 0.0497823*m**-1 9.07616*m**-1]\n"
     ]
    }
   ],
   "source": [
    "xscalc = CrossSectionCalculator()\n",
    "xscalc.include_density = False\n",
    "print(\"abs (2200m/s), inc, coh cross sections = \", xscalc.onUnitCell(structure))\n",
    "xscalc.include_density = True\n",
    "print(\"abs (2200m/s), inc, coh inverse length =\", xscalc.onUnitCell(structure))"
   ]
  },
  {
   "cell_type": "markdown",
   "id": "thousand-combine",
   "metadata": {},
   "source": [
    "# Sample with Incoherent Elastic Kernel"
   ]
  },
  {
   "cell_type": "code",
   "execution_count": 8,
   "id": "wound-bible",
   "metadata": {},
   "outputs": [],
   "source": [
    "!rm -rf Al-inc-el/\n",
    "!mkdir -p Al-inc-el"
   ]
  },
  {
   "cell_type": "markdown",
   "id": "piano-korea",
   "metadata": {},
   "source": [
    "## Yaml spec"
   ]
  },
  {
   "cell_type": "code",
   "execution_count": 9,
   "id": "varying-turtle",
   "metadata": {},
   "outputs": [
    {
     "name": "stdout",
     "output_type": "stream",
     "text": [
      "Overwriting Al-inc-el.yaml\n"
     ]
    }
   ],
   "source": [
    "%%file Al-inc-el.yaml\n",
    "name: Al\n",
    "structure_file: Al_mp-134_symmetrized.cif\n",
    "excitation:\n",
    " type: powder_elastic_incoherent\n",
    " dw_core: 0.0*angstrom**2\n",
    " scattering_xs: 0.033*barn\n",
    " absorption_xs: 0.92*barn\n",
    "shape: cylinder radius=\"1*mm\" height=\"3*mm\"\n",
    "temperature: 300*K"
   ]
  },
  {
   "cell_type": "markdown",
   "id": "magnetic-virus",
   "metadata": {},
   "source": [
    "## Convert to xml"
   ]
  },
  {
   "cell_type": "code",
   "execution_count": 10,
   "id": "quality-impression",
   "metadata": {},
   "outputs": [
    {
     "name": "stderr",
     "output_type": "stream",
     "text": [
      "/home/97n/dv/mcvine/export-3.7/lib/python3.7/site-packages/mcvine/workflow/sampleassembly/scaffolding/sampleassembly_xml.py:22: UserWarning: assume average temperature\n",
      "  warnings.warn(\"assume average temperature\")\n"
     ]
    }
   ],
   "source": [
    "spec = loadSampleYml('Al-inc-el.yaml')\n",
    "scaffolding.createSampleAssembly('Al-inc-el', spec, add_elastic_line=False)"
   ]
  },
  {
   "cell_type": "code",
   "execution_count": 11,
   "id": "noted-trinidad",
   "metadata": {},
   "outputs": [
    {
     "name": "stdout",
     "output_type": "stream",
     "text": [
      "Al_mp-134_symmetrized.cif  Al-scatterer.xml  sampleassembly.xml\r\n"
     ]
    }
   ],
   "source": [
    "ls Al-inc-el"
   ]
  },
  {
   "cell_type": "code",
   "execution_count": 12,
   "id": "acknowledged-bread",
   "metadata": {},
   "outputs": [
    {
     "name": "stdout",
     "output_type": "stream",
     "text": [
      "cartesian coordinates of atom: [0. 0. 0.]\n",
      "cartesian coordinates of atom: [2.019465 2.019465 0.      ]\n",
      "cartesian coordinates of atom: [2.019465 0.       2.019465]\n",
      "cartesian coordinates of atom: [0.       2.019465 2.019465]\n",
      "weight:  1.0\n"
     ]
    }
   ],
   "source": [
    "!mcvine sampleassembly check Al-inc-el/sampleassembly.xml"
   ]
  },
  {
   "cell_type": "markdown",
   "id": "permanent-exploration",
   "metadata": {},
   "source": [
    "# Sample with Incoherent Inelastic Phonon Kernel"
   ]
  },
  {
   "cell_type": "code",
   "execution_count": 13,
   "id": "differential-romantic",
   "metadata": {},
   "outputs": [],
   "source": [
    "!rm -rf Al-inc-inel/\n",
    "!mkdir -p Al-inc-inel"
   ]
  },
  {
   "cell_type": "markdown",
   "id": "governing-calgary",
   "metadata": {},
   "source": [
    "## Yaml spec"
   ]
  },
  {
   "cell_type": "code",
   "execution_count": 14,
   "id": "speaking-interest",
   "metadata": {},
   "outputs": [
    {
     "name": "stdout",
     "output_type": "stream",
     "text": [
      "Overwriting Al-inc-inel.yaml\n"
     ]
    }
   ],
   "source": [
    "%%file Al-inc-inel.yaml\n",
    "name: Al\n",
    "structure_file: Al_mp-134_symmetrized.cif\n",
    "excitation:\n",
    " type: phonon_powder_incoherent\n",
    " DOS: Al-dos.txt\n",
    "shape: cylinder radius=\"1*mm\" height=\"3*mm\"\n",
    "temperature: 300*K"
   ]
  },
  {
   "cell_type": "markdown",
   "id": "abandoned-preliminary",
   "metadata": {},
   "source": [
    "## Convert to xml"
   ]
  },
  {
   "cell_type": "code",
   "execution_count": 15,
   "id": "multiple-sixth",
   "metadata": {},
   "outputs": [
    {
     "name": "stdout",
     "output_type": "stream",
     "text": [
      "Copying Al-dos.txt to Al-inc-inel/\n"
     ]
    }
   ],
   "source": [
    "spec = loadSampleYml('Al-inc-inel.yaml')\n",
    "scaffolding.createSampleAssembly('Al-inc-inel', spec, add_elastic_line=False)"
   ]
  },
  {
   "cell_type": "code",
   "execution_count": 16,
   "id": "healthy-yorkshire",
   "metadata": {},
   "outputs": [
    {
     "name": "stdout",
     "output_type": "stream",
     "text": [
      "Al-dos.txt  Al_mp-134_symmetrized.cif  Al-scatterer.xml  sampleassembly.xml\r\n"
     ]
    }
   ],
   "source": [
    "ls Al-inc-inel"
   ]
  },
  {
   "cell_type": "code",
   "execution_count": 17,
   "id": "exclusive-macedonia",
   "metadata": {},
   "outputs": [
    {
     "name": "stdout",
     "output_type": "stream",
     "text": [
      "DOS: fit first 100 points to parbolic\r\n",
      "cartesian coordinates of atom: [0. 0. 0.]\r\n",
      "cartesian coordinates of atom: [2.019465 2.019465 0.      ]\r\n",
      "cartesian coordinates of atom: [2.019465 0.       2.019465]\r\n",
      "cartesian coordinates of atom: [0.       2.019465 2.019465]\r\n",
      "weight:  1.0\r\n"
     ]
    }
   ],
   "source": [
    "!mcvine sampleassembly check Al-inc-inel/sampleassembly.xml"
   ]
  },
  {
   "cell_type": "markdown",
   "id": "applied-ranking",
   "metadata": {},
   "source": [
    "# Sample with Powder Diffraction Kernel"
   ]
  },
  {
   "cell_type": "code",
   "execution_count": 18,
   "id": "productive-protection",
   "metadata": {},
   "outputs": [],
   "source": [
    "!rm -rf Al-powder-diffraction\n",
    "!mkdir -p Al-powder-diffraction"
   ]
  },
  {
   "cell_type": "markdown",
   "id": "finnish-scott",
   "metadata": {},
   "source": [
    "## Peaks python file\n",
    "\n",
    "* If you have a laz file, you may want to use that.\n",
    "* Shown here is a quick way to create diffraction peaks from crystal structure"
   ]
  },
  {
   "cell_type": "code",
   "execution_count": 19,
   "id": "lyric-passport",
   "metadata": {},
   "outputs": [],
   "source": [
    "from mccomponents.sample import diffraction"
   ]
  },
  {
   "cell_type": "code",
   "execution_count": 20,
   "id": "another-generation",
   "metadata": {},
   "outputs": [
    {
     "name": "stderr",
     "output_type": "stream",
     "text": [
      "/home/97n/dv/mcvine/export-3.7/lib/python3.7/site-packages/mccomponents/sample/diffraction/calcpeaks.py:85: RuntimeWarning: divide by zero encountered in double_scalars\n",
      "  return 1./np.linalg.norm(recvec)\n"
     ]
    }
   ],
   "source": [
    "diffraction.create_peaks_py('Al-diffr-peaks.py', structure, 300., max_index=20, min_dspacing=.5)"
   ]
  },
  {
   "cell_type": "code",
   "execution_count": 21,
   "id": "absent-gardening",
   "metadata": {},
   "outputs": [
    {
     "name": "stdout",
     "output_type": "stream",
     "text": [
      "from mccomponents.sample.diffraction.SimplePowderDiffractionKernel import Peak\r\n",
      "\r\n",
      "peaks = [\r\n",
      "    Peak(hkl=(1, 1, 1), d=2.331877322738055, q=2.6944750677544076, F=(13.336929215115559-2.4499541510619136e-15j), F_squared=1.778736808890029, multiplicity=8, intrinsic_line_width=0, DebyeWaller_factor=0),\r\n",
      "    Peak(hkl=(0, 0, 2), d=2.019465, q=3.1113118113854843, F=(13.187325715565134-1.614981622688042e-15j), F_squared=1.7390555952840545, multiplicity=6, intrinsic_line_width=0, DebyeWaller_factor=0),\r\n",
      "    Peak(hkl=(0, 2, 2), d=1.427977395868891, q=4.400059360432953, F=(12.605505909568386-3.0874584927571937e-15j), F_squared=1.5889877923616351, multiplicity=12, intrinsic_line_width=0, DebyeWaller_factor=0),\r\n",
      "    Peak(hkl=(1, 1, 3), d=1.2177832149554666, q=5.15952694208333, F=(12.186049582243726-3.73090165378643e-15j), F_squared=1.4849980442090247, multiplicity=24, intrinsic_line_width=0, DebyeWaller_factor=0),\r\n",
      "    Peak(hkl=(2, 2, 2), d=1.1659386613690275, q=5.388950135508815, F=(12.04935577261231-4.4268614936152044e-15j), F_squared=1.4518697453498561, multiplicity=8, intrinsic_line_width=0, DebyeWaller_factor=0),\r\n",
      "    Peak(hkl=(0, 0, 4), d=1.0097325, q=6.222623622770969, F=(11.517742768640439-2.8210333630036177e-15j), F_squared=1.3265839848456913, multiplicity=6, intrinsic_line_width=0, DebyeWaller_factor=0),\r\n",
      "    Peak(hkl=(1, 3, 3), d=0.926594090001828, q=6.7809468838369025, F=(11.134482460370155-4.772532906839129e-15j), F_squared=1.2397669966029061, multiplicity=24, intrinsic_line_width=0, DebyeWaller_factor=0),\r\n"
     ]
    }
   ],
   "source": [
    "!head -n 10 Al-diffr-peaks.py"
   ]
  },
  {
   "cell_type": "markdown",
   "id": "asian-configuration",
   "metadata": {},
   "source": [
    "## Yaml spec"
   ]
  },
  {
   "cell_type": "code",
   "execution_count": 22,
   "id": "reported-cookie",
   "metadata": {},
   "outputs": [
    {
     "name": "stdout",
     "output_type": "stream",
     "text": [
      "Overwriting Al-powder-diffraction.yaml\n"
     ]
    }
   ],
   "source": [
    "%%file Al-powder-diffraction.yaml\n",
    "name: Al\n",
    "structure_file: Al_mp-134_symmetrized.cif\n",
    "excitation:\n",
    " type: powder_diffraction\n",
    " Dd_over_d: 1e-5\n",
    " peaks_py_path: Al-diffr-peaks.py\n",
    "shape: cylinder radius=\"1*mm\" height=\"3*mm\"\n",
    "temperature: 300*K"
   ]
  },
  {
   "cell_type": "markdown",
   "id": "placed-spyware",
   "metadata": {},
   "source": [
    "## Convert to xml"
   ]
  },
  {
   "cell_type": "code",
   "execution_count": 23,
   "id": "false-hormone",
   "metadata": {},
   "outputs": [
    {
     "name": "stdout",
     "output_type": "stream",
     "text": [
      "Copying Al-diffr-peaks.py to Al-powder-diffraction/\n"
     ]
    }
   ],
   "source": [
    "spec = loadSampleYml('Al-powder-diffraction.yaml')\n",
    "scaffolding.createSampleAssembly('Al-powder-diffraction', spec, add_elastic_line=False)"
   ]
  },
  {
   "cell_type": "code",
   "execution_count": 24,
   "id": "civil-scotland",
   "metadata": {},
   "outputs": [
    {
     "name": "stdout",
     "output_type": "stream",
     "text": [
      "Al-diffr-peaks.py          Al-scatterer.xml\r\n",
      "Al_mp-134_symmetrized.cif  sampleassembly.xml\r\n"
     ]
    }
   ],
   "source": [
    "ls Al-powder-diffraction/"
   ]
  },
  {
   "cell_type": "code",
   "execution_count": 25,
   "id": "medical-spell",
   "metadata": {},
   "outputs": [
    {
     "name": "stdout",
     "output_type": "stream",
     "text": [
      "weight:  1.0\r\n"
     ]
    }
   ],
   "source": [
    "!mcvine sampleassembly check Al-powder-diffraction//sampleassembly.xml"
   ]
  }
 ],
 "metadata": {
  "kernelspec": {
   "display_name": "dev-mcvine-py37",
   "language": "python",
   "name": "dev-mcvine-py3"
  },
  "language_info": {
   "codemirror_mode": {
    "name": "ipython",
    "version": 3
   },
   "file_extension": ".py",
   "mimetype": "text/x-python",
   "name": "python",
   "nbconvert_exporter": "python",
   "pygments_lexer": "ipython3",
   "version": "3.7.10"
  },
  "toc": {
   "base_numbering": 1,
   "nav_menu": {},
   "number_sections": true,
   "sideBar": true,
   "skip_h1_title": false,
   "title_cell": "Table of Contents",
   "title_sidebar": "Contents",
   "toc_cell": false,
   "toc_position": {
    "height": "calc(100% - 180px)",
    "left": "10px",
    "top": "150px",
    "width": "276.2px"
   },
   "toc_section_display": true,
   "toc_window_display": true
  }
 },
 "nbformat": 4,
 "nbformat_minor": 5
}
