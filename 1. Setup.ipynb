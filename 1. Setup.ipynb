{
 "cells": [
  {
   "cell_type": "markdown",
   "metadata": {},
   "source": [
    "# Setup MCViNE, Mantid, and jupyter"
   ]
  },
  {
   "cell_type": "markdown",
   "metadata": {},
   "source": [
    "## SNS analysis cluster users\n",
    "\n",
    "```\n",
    "$ source ~lj7/.use-miniconda2\n",
    "$ source activate mcvine\n",
    "```"
   ]
  },
  {
   "cell_type": "markdown",
   "metadata": {
    "collapsed": true
   },
   "source": [
    "## General MCViNE users\n",
    "\n",
    "* Install [miniconda](http://conda.pydata.org/miniconda.html)\n",
    "* Create an environment for mcvine\n",
    "\n",
    "```\n",
    "$ conda create -n mcvine python\n",
    "```\n",
    "* Enter the mcvine environment\n",
    "\n",
    "```\n",
    "$ source activate mcvine\n",
    "```\n",
    "\n",
    "* Install mcvine, mantid, and jupyter\n",
    "\n",
    "```\n",
    "$ conda install -c mcvine mantid \n",
    "$ conda install -c mcvine mcvine \n",
    "$ conda install jupyter\n",
    "```\n"
   ]
  }
 ],
 "metadata": {
  "kernelspec": {
   "display_name": "Python 2",
   "language": "python",
   "name": "python2"
  },
  "language_info": {
   "codemirror_mode": {
    "name": "ipython",
    "version": 2
   },
   "file_extension": ".py",
   "mimetype": "text/x-python",
   "name": "python",
   "nbconvert_exporter": "python",
   "pygments_lexer": "ipython2",
   "version": "2.7.11"
  },
  "widgets": {
   "state": {},
   "version": "1.1.2"
  }
 },
 "nbformat": 4,
 "nbformat_minor": 0
}
