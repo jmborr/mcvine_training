{
 "cells": [
  {
   "cell_type": "markdown",
   "id": "wired-saturday",
   "metadata": {},
   "source": [
    "# Tools"
   ]
  },
  {
   "cell_type": "code",
   "execution_count": 1,
   "id": "insured-indiana",
   "metadata": {},
   "outputs": [],
   "source": [
    "import os, numpy as np, glob\n",
    "import mcvine\n",
    "from mccomponents.sample import matter\n",
    "from sampleassembly.visitors.CrossSectionCalculator import CrossSectionCalculator\n",
    "from mcvine.workflow.sampleassembly import scaffolding\n",
    "from mcvine.workflow.sample import loadSampleYml\n",
    "from matplotlib import pyplot as plt\n",
    "%matplotlib notebook"
   ]
  },
  {
   "cell_type": "markdown",
   "id": "parental-minnesota",
   "metadata": {},
   "source": [
    "# Al crystal"
   ]
  },
  {
   "cell_type": "code",
   "execution_count": 2,
   "id": "spanish-property",
   "metadata": {},
   "outputs": [],
   "source": [
    "from sampleassembly.crystal.ioutils import xyzfile2unitcell"
   ]
  },
  {
   "cell_type": "code",
   "execution_count": 3,
   "id": "sized-check",
   "metadata": {},
   "outputs": [],
   "source": [
    "structure = xyzfile2unitcell('Al.xyz')"
   ]
  },
  {
   "cell_type": "code",
   "execution_count": 4,
   "id": "quick-fabric",
   "metadata": {},
   "outputs": [
    {
     "name": "stdout",
     "output_type": "stream",
     "text": [
      "abs (2200m/s), inc, coh cross sections =  [2.31e-29*m**2 8.2e-31*m**2 1.495e-28*m**2]\n",
      "abs (2200m/s), inc, coh inverse length = [1.39164*m**-1 0.0494001*m**-1 9.00648*m**-1]\n"
     ]
    }
   ],
   "source": [
    "xscalc = CrossSectionCalculator()\n",
    "xscalc.include_density = False\n",
    "print(\"abs (2200m/s), inc, coh cross sections = \", xscalc.onUnitCell(structure))\n",
    "xscalc.include_density = True\n",
    "print(\"abs (2200m/s), inc, coh inverse length =\", xscalc.onUnitCell(structure))"
   ]
  },
  {
   "cell_type": "markdown",
   "id": "permanent-exploration",
   "metadata": {},
   "source": [
    "# Sample with Coherent Inelastic Phonon Kernel"
   ]
  },
  {
   "cell_type": "code",
   "execution_count": 5,
   "id": "differential-romantic",
   "metadata": {},
   "outputs": [],
   "source": [
    "!rm -rf Al-coh-inel/\n",
    "!mkdir -p Al-coh-inel"
   ]
  },
  {
   "cell_type": "markdown",
   "id": "governing-calgary",
   "metadata": {},
   "source": [
    "## Yaml spec"
   ]
  },
  {
   "cell_type": "code",
   "execution_count": 6,
   "id": "veterinary-princess",
   "metadata": {},
   "outputs": [],
   "source": [
    "from mcvine import resources"
   ]
  },
  {
   "cell_type": "code",
   "execution_count": 7,
   "id": "injured-snowboard",
   "metadata": {},
   "outputs": [
    {
     "data": {
      "text/plain": [
       "'/home/97n/dv/mcvine/resources/samples/Al/300K/phonons'"
      ]
     },
     "execution_count": 7,
     "metadata": {},
     "output_type": "execute_result"
    }
   ],
   "source": [
    "resources.sample('Al', '300K', 'phonons')"
   ]
  },
  {
   "cell_type": "code",
   "execution_count": 8,
   "id": "speaking-interest",
   "metadata": {},
   "outputs": [
    {
     "name": "stdout",
     "output_type": "stream",
     "text": [
      "Overwriting Al-coh-inel.yaml\n"
     ]
    }
   ],
   "source": [
    "%%file Al-coh-inel.yaml\n",
    "name: Al\n",
    "structure_file: Al.xyz\n",
    "excitation:\n",
    " type: phonon_powder_coherent\n",
    " IDF-data-dir: /home/97n/dv/mcvine/resources/samples/Al/300K/phonons\n",
    " Ei: 60*meV\n",
    " max_E: 50*meV\n",
    " max_Q: 10./angstrom\n",
    "shape: cylinder radius=\"1*mm\" height=\"3*mm\"\n",
    "temperature: 300*K"
   ]
  },
  {
   "cell_type": "markdown",
   "id": "abandoned-preliminary",
   "metadata": {},
   "source": [
    "## Convert to xml"
   ]
  },
  {
   "cell_type": "code",
   "execution_count": 9,
   "id": "multiple-sixth",
   "metadata": {},
   "outputs": [
    {
     "name": "stdout",
     "output_type": "stream",
     "text": [
      "{'orig_dict': {'type': 'phonon_powder_coherent', 'IDF-data-dir': '/home/97n/dv/mcvine/resources/samples/Al/300K/phonons', 'Ei': '60*meV', 'max_E': '50*meV', 'max_Q': '10./angstrom'}, 'type': 'phonon_powder_coherent', 'IDF-data-dir': '/home/97n/dv/mcvine/resources/samples/Al/300K/phonons', 'Ei': '60*meV', 'max_E': '50*meV', 'max_Q': '10./angstrom'}\n",
      "Copying /home/97n/dv/mcvine/resources/samples/Al/300K/phonons to Al-coh-inel/\n"
     ]
    },
    {
     "name": "stderr",
     "output_type": "stream",
     "text": [
      "/home/97n/dv/mcvine/export-3.7/lib/python3.7/site-packages/mcvine/workflow/sampleassembly/scaffolding/sampleassembly_xml.py:22: UserWarning: assume average temperature\n",
      "  warnings.warn(\"assume average temperature\")\n"
     ]
    }
   ],
   "source": [
    "spec = loadSampleYml('Al-coh-inel.yaml')\n",
    "scaffolding.createSampleAssembly('Al-coh-inel', spec, add_elastic_line=False)"
   ]
  },
  {
   "cell_type": "code",
   "execution_count": 10,
   "id": "healthy-yorkshire",
   "metadata": {},
   "outputs": [
    {
     "name": "stdout",
     "output_type": "stream",
     "text": [
      "Al-scatterer.xml  Al.xyz  \u001b[0m\u001b[01;34mphonons\u001b[0m/  sampleassembly.xml\r\n"
     ]
    }
   ],
   "source": [
    "ls Al-coh-inel"
   ]
  },
  {
   "cell_type": "code",
   "execution_count": 11,
   "id": "exclusive-macedonia",
   "metadata": {},
   "outputs": [
    {
     "name": "stdout",
     "output_type": "stream",
     "text": [
      "DOS: fit first 100 points to parbolic\n",
      "cartesian coordinates of atom: [0. 0. 0.]\n",
      "weight:  1.0\n"
     ]
    }
   ],
   "source": [
    "!mcvine sampleassembly check Al-coh-inel/sampleassembly.xml"
   ]
  }
 ],
 "metadata": {
  "kernelspec": {
   "display_name": "dev-mcvine-py37",
   "language": "python",
   "name": "dev-mcvine-py3"
  },
  "language_info": {
   "codemirror_mode": {
    "name": "ipython",
    "version": 3
   },
   "file_extension": ".py",
   "mimetype": "text/x-python",
   "name": "python",
   "nbconvert_exporter": "python",
   "pygments_lexer": "ipython3",
   "version": "3.7.10"
  },
  "toc": {
   "base_numbering": 1,
   "nav_menu": {},
   "number_sections": true,
   "sideBar": true,
   "skip_h1_title": false,
   "title_cell": "Table of Contents",
   "title_sidebar": "Contents",
   "toc_cell": false,
   "toc_position": {
    "height": "calc(100% - 180px)",
    "left": "10px",
    "top": "150px",
    "width": "276.2px"
   },
   "toc_section_display": true,
   "toc_window_display": true
  }
 },
 "nbformat": 4,
 "nbformat_minor": 5
}
