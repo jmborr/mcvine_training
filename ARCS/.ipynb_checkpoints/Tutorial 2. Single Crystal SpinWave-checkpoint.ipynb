{
 "cells": [
  {
   "cell_type": "markdown",
   "metadata": {},
   "source": [
    "# Spin Wave Simulation"
   ]
  },
  {
   "cell_type": "markdown",
   "metadata": {},
   "source": [
    "Instrument: ARCS\n",
    "* Ei=100meV\n",
    "* Fermi chopper: 600 Hz\n",
    "* T0: 120Hz\n",
    " \n",
    "Sample: some crystal\n",
    "* lattice parameters: 2, 2.5, 3        90 90 90\n",
    "* spin wave: E = 80 * | sin($\\pi$h) |\n",
    "* Orientation: u,v = [1 0 2] and  [1 0 0]\n",
    "* psi angles: -90, 90, step 3\n"
   ]
  },
  {
   "cell_type": "markdown",
   "metadata": {},
   "source": [
    "## Step 0. some goodies"
   ]
  },
  {
   "cell_type": "code",
   "execution_count": 26,
   "metadata": {
    "collapsed": false
   },
   "outputs": [],
   "source": [
    "# %matplotlib notebook\n",
    "%matplotlib inline\n",
    "from matplotlib import pyplot as plt\n",
    "import numpy as np\n",
    "import histogram.hdf as hh, histogram as H"
   ]
  },
  {
   "cell_type": "code",
   "execution_count": 6,
   "metadata": {
    "collapsed": false
   },
   "outputs": [
    {
     "name": "stdout",
     "output_type": "stream",
     "text": [
      "/home/lj7/dv/mcvine/training/ARCS\n"
     ]
    }
   ],
   "source": [
    "# where am I?\n",
    "import os\n",
    "PWD=os.path.abspath(\".\")\n",
    "print PWD"
   ]
  },
  {
   "cell_type": "markdown",
   "metadata": {},
   "source": [
    "## Step 1. create dir structure"
   ]
  },
  {
   "cell_type": "code",
   "execution_count": 7,
   "metadata": {
    "collapsed": true
   },
   "outputs": [],
   "source": [
    "# Change this to your own directory!!!\n",
    "workdir = \"/SNS/users/lj7/simulations/ARCS/spinwave-demo/\""
   ]
  },
  {
   "cell_type": "code",
   "execution_count": 3,
   "metadata": {
    "collapsed": true
   },
   "outputs": [],
   "source": [
    "# Prepare sample description"
   ]
  },
  {
   "cell_type": "code",
   "execution_count": 3,
   "metadata": {
    "collapsed": false
   },
   "outputs": [
    {
     "name": "stdout",
     "output_type": "stream",
     "text": [
      "Overwriting SpinWaveDemoSample.yml\n"
     ]
    }
   ],
   "source": [
    "%%file SpinWaveDemoSample.yml\n",
    "name: swdemo\n",
    "chemical_formula: V8\n",
    "lattice: \n",
    " constants: 2, 2.5, 3, 90, 90, 90\n",
    " basis_vectors:\n",
    "  - 2.0, 0, 0\n",
    "  - 0, 2.5, 0\n",
    "  - 0, 0, 3.0\n",
    "excitation:\n",
    " type: spinwave\n",
    " E_Q: 80.*sqrt(1-cos(h*pi)^2)\n",
    " S_Q: 1\n",
    " Emax: 80.1\n",
    "orientation:\n",
    " u: 1, 0, 2\n",
    " v: 1, 0, 0\n",
    "shape: block width=\"5*cm\" height=\"5*cm\" thickness=\"2*mm\"\n",
    "temperature: 300*K"
   ]
  },
  {
   "cell_type": "code",
   "execution_count": 4,
   "metadata": {
    "collapsed": false
   },
   "outputs": [],
   "source": [
    "!mcvine workflow singlecrystal --outdir={workdir} --type=DGS \\\n",
    "    --instrument=ARCS --sample=SpinWaveDemoSample.yml"
   ]
  },
  {
   "cell_type": "code",
   "execution_count": 8,
   "metadata": {
    "collapsed": false
   },
   "outputs": [
    {
     "name": "stdout",
     "output_type": "stream",
     "text": [
      "/SNS/users/lj7/simulations/ARCS/spinwave-demo\n",
      "beam  README.md  sampleassembly  scattering\n"
     ]
    }
   ],
   "source": [
    "%cd {workdir}\n",
    "!ls ."
   ]
  },
  {
   "cell_type": "code",
   "execution_count": 9,
   "metadata": {
    "collapsed": true
   },
   "outputs": [],
   "source": [
    "# move sample yml here\n",
    "!mv {PWD}/SpinWaveDemoSample.yml ."
   ]
  },
  {
   "cell_type": "code",
   "execution_count": 10,
   "metadata": {
    "collapsed": false
   },
   "outputs": [
    {
     "name": "stdout",
     "output_type": "stream",
     "text": [
      "beam  README.md  sampleassembly  scattering  SpinWaveDemoSample.yml\r\n"
     ]
    }
   ],
   "source": [
    "!ls ."
   ]
  },
  {
   "cell_type": "code",
   "execution_count": 6,
   "metadata": {
    "collapsed": false
   },
   "outputs": [
    {
     "name": "stdout",
     "output_type": "stream",
     "text": [
      "total 32\r\n",
      "-rwxr-xr-x 1 lj7 users  159 May 17 12:09 create-nxs\r\n",
      "-rwxr-xr-x 1 lj7 users   88 May 17 12:09 debug\r\n",
      "-rw-r--r-- 1 lj7 users 1081 Jul 28 19:07 Makefile\r\n",
      "-rw-r--r-- 1 lj7 users   56 May 17 12:09 README\r\n",
      "-rw-r--r-- 1 lj7 users  157 May 18 11:21 s\r\n",
      "-rwxr-xr-x 1 lj7 users  313 May 17 12:09 scatter\r\n",
      "-rwxr-xr-x 1 lj7 users  388 May 17 12:09 sss\r\n",
      "-rw-r--r-- 1 lj7 users 1308 May 17 12:09 sss.pml\r\n"
     ]
    }
   ],
   "source": [
    "!ls -l scattering/template/"
   ]
  },
  {
   "cell_type": "markdown",
   "metadata": {},
   "source": [
    "## Step 2. Setup beam simulation"
   ]
  },
  {
   "cell_type": "code",
   "execution_count": 7,
   "metadata": {
    "collapsed": true
   },
   "outputs": [],
   "source": [
    "# In this example we won't simulate a new beam but will reuse an existing beam\n",
    "# First remove the beam dir\n",
    "!rm -rf beam\n",
    "# Then make a symlink\n",
    "!ln -s /SNS/users/lj7/simulations/ARCS/beam/100meV beam"
   ]
  },
  {
   "cell_type": "code",
   "execution_count": 21,
   "metadata": {
    "collapsed": false
   },
   "outputs": [
    {
     "name": "stdout",
     "output_type": "stream",
     "text": [
      "/SNS/users/lj7/simulations/ARCS/spinwave-demo\n"
     ]
    }
   ],
   "source": [
    "%cd {workdir}"
   ]
  },
  {
   "cell_type": "code",
   "execution_count": 22,
   "metadata": {
    "collapsed": false
   },
   "outputs": [
    {
     "name": "stdout",
     "output_type": "stream",
     "text": [
      "\u001b[0m\u001b[01;36mbeam\u001b[0m@  README.md  \u001b[01;34msampleassembly\u001b[0m/  \u001b[01;34mscattering\u001b[0m/  SpinWaveDemoSample.yml\r\n"
     ]
    }
   ],
   "source": [
    "ls"
   ]
  },
  {
   "cell_type": "code",
   "execution_count": 27,
   "metadata": {
    "collapsed": false
   },
   "outputs": [
    {
     "data": {
      "text/plain": [
       "[<matplotlib.lines.Line2D at 0x7f6c1edc8ad0>]"
      ]
     },
     "execution_count": 27,
     "metadata": {},
     "output_type": "execute_result"
    },
    {
     "data": {
      "image/png": "[encoded data removed]",
      "text/plain": [
       "<matplotlib.figure.Figure at 0x7f6c1ee18f90>"
      ]
     },
     "metadata": {},
     "output_type": "display_data"
    }
   ],
   "source": [
    "# check\n",
    "import histogram.hdf as hh\n",
    "ie = hh.load(\"beam/out/ienergy.h5\")\n",
    "plt.plot(ie.energy, ie.I)"
   ]
  },
  {
   "cell_type": "markdown",
   "metadata": {},
   "source": [
    "## Step 3. Check and update sample assembly"
   ]
  },
  {
   "cell_type": "code",
   "execution_count": 9,
   "metadata": {
    "collapsed": false
   },
   "outputs": [
    {
     "name": "stdout",
     "output_type": "stream",
     "text": [
      "/SNS/users/lj7/simulations/ARCS/spinwave-demo/sampleassembly\n"
     ]
    }
   ],
   "source": [
    "%cd \"{workdir}/sampleassembly\""
   ]
  },
  {
   "cell_type": "code",
   "execution_count": 10,
   "metadata": {
    "collapsed": false
   },
   "outputs": [
    {
     "name": "stdout",
     "output_type": "stream",
     "text": [
      "8\r\n",
      "2.0 0 0\t0 2.5 0\t0 0 3.0\r\n",
      "V\t0 0 0\r\n",
      "V\t0 0 0\r\n",
      "V\t0 0 0\r\n",
      "V\t0 0 0\r\n",
      "V\t0 0 0\r\n",
      "V\t0 0 0\r\n",
      "V\t0 0 0\r\n",
      "V\t0 0 0\r\n"
     ]
    }
   ],
   "source": [
    "!cat \"./swdemo.xyz\""
   ]
  },
  {
   "cell_type": "code",
   "execution_count": 11,
   "metadata": {
    "collapsed": false,
    "scrolled": true
   },
   "outputs": [
    {
     "name": "stdout",
     "output_type": "stream",
     "text": [
      "<?xml version=\"1.0\"?>\r\n",
      "\r\n",
      "<!DOCTYPE scatterer>\r\n",
      "\r\n",
      "<!-- weights: absorption, scattering, transmission -->\r\n",
      "<homogeneous_scatterer \r\n",
      "  mcweights=\"0, 1, 0.1\"\r\n",
      "  max_multiplescattering_loops=\"3\"\r\n",
      "  >\r\n",
      "  \r\n",
      "  <KernelContainer average=\"yes\">\r\n",
      "    \r\n",
      "    <!-- a simple kernel for elastic scattering. more realistic kernel exists. -->\r\n",
      "    <E_Q_Kernel \r\n",
      "\tE_Q=\"1\" \r\n",
      "\tS_Q=\"1\"\r\n",
      "\tQmin=\"0./angstrom\"\r\n",
      "\tQmax=\"16./angstrom\"\r\n",
      "\t/>\r\n",
      "    \r\n",
      "    <!-- kernel for spin wave\r\n",
      "      E_Q: expression for E(Q)\r\n",
      "      S_Q: expression for E(Q)\r\n",
      "      Emax: set this to maximum energy of the spin-wave excitation to help speed up the sim.\r\n",
      "      orientation: flattened rotation matrix M. M dot Q_crystal = Q_instrument\r\n",
      "     -->\r\n",
      "    <E_vQ_Kernel \r\n",
      "\tE_Q=\"pi:=3.1415926535897932; twopi:=2*pi; \r\n",
      "             h:=0.318309886184*Qx+0.0*Qy+0.0*Qz;\r\n",
      "             k:=0.0*Qx+0.39788735773*Qy+0.0*Qz;\r\n",
      "             l:=0.0*Qx+0.0*Qy+0.477464829276*Qz;\r\n",
      "             80.*sqrt(1-cos(h*pi)^2)\"\r\n",
      "\tS_Q=\"pi:=3.1415926535897932; twopi:=2*pi; \r\n",
      "             h:=0.318309886184*Qx+0.0*Qy+0.0*Qz; \r\n",
      "             k:=0.0*Qx+0.39788735773*Qy+0.0*Qz; \r\n",
      "             l:=0.0*Qx+0.0*Qy+0.477464829276*Qz;\r\n",
      "             1\"\r\n",
      "\tEmax=\"80.1*meV\"\r\n",
      "        orientation=\"0.8,0.0,-0.6,0.0,1.0,0.0,0.6,0.0,0.8\"\r\n",
      "\t/>\r\n",
      "    \r\n",
      "  </KernelContainer>\r\n",
      "  \r\n",
      "</homogeneous_scatterer>\r\n"
     ]
    }
   ],
   "source": [
    "!cat ./swdemo-scatterer.xml"
   ]
  },
  {
   "cell_type": "code",
   "execution_count": 12,
   "metadata": {
    "collapsed": true
   },
   "outputs": [],
   "source": [
    "# scatterer.xml could be simplified"
   ]
  },
  {
   "cell_type": "code",
   "execution_count": 13,
   "metadata": {
    "collapsed": false
   },
   "outputs": [
    {
     "name": "stdout",
     "output_type": "stream",
     "text": [
      "Overwriting ./swdemo-scatterer.xml\n"
     ]
    }
   ],
   "source": [
    "%%file ./swdemo-scatterer.xml\n",
    "<?xml version=\"1.0\"?>\n",
    "\n",
    "<!DOCTYPE scatterer>\n",
    "\n",
    "<!-- weights: absorption, scattering, transmission -->\n",
    "<homogeneous_scatterer \n",
    "  mcweights=\"0, 1, 0.1\"\n",
    "  max_multiplescattering_loops=\"3\"\n",
    "  >\n",
    "  \n",
    "  <KernelContainer average=\"yes\">\n",
    "    \n",
    "    <!-- a simple kernel for elastic scattering. more realistic kernel exists. -->\n",
    "    <E_Q_Kernel \n",
    "\tE_Q=\"1\" \n",
    "\tS_Q=\"1\"\n",
    "\tQmin=\"0./angstrom\"\n",
    "\tQmax=\"16./angstrom\"\n",
    "\t/>\n",
    "    \n",
    "    <!-- kernel for spin wave\n",
    "      E_Q: expression for E(Q)\n",
    "      S_Q: expression for E(Q)\n",
    "      Emax: set this to maximum energy of the spin-wave excitation to help speed up the sim.\n",
    "      orientation: flattened rotation matrix M. M dot Q_crystal = Q_instrument\n",
    "     -->\n",
    "    <E_vQ_Kernel \n",
    "\tE_Q=\"pi:=3.1415926535897932; twopi:=2*pi; \n",
    "             h:=0.318309886184*Qx;\n",
    "             80.*sqrt(1-cos(h*pi)^2)\"\n",
    "\tS_Q=\"1\"\n",
    "\tEmax=\"80.1*meV\"\n",
    "        orientation=\"0.8,0.0,-0.6,0.0,1.0,0.0,0.6,0.0,0.8\"\n",
    "\t/>\n",
    "    \n",
    "  </KernelContainer>\n",
    "  \n",
    "</homogeneous_scatterer>"
   ]
  },
  {
   "cell_type": "code",
   "execution_count": 14,
   "metadata": {
    "collapsed": false
   },
   "outputs": [
    {
     "name": "stdout",
     "output_type": "stream",
     "text": [
      "<?xml version=\"1.0\"?>\r\n",
      "\r\n",
      "<!DOCTYPE SampleAssembly>\r\n",
      "\r\n",
      "<SampleAssembly name=\"X\"\r\n",
      "   max_multiplescattering_loops_among_scatterers=\"1\"\r\n",
      "   max_multiplescattering_loops_interactM_path1=\"4\"\r\n",
      "   min_neutron_probability=\".1\"\r\n",
      " >\r\n",
      "  \r\n",
      "  <PowderSample name=\"swdemo\" type=\"sample\">\r\n",
      "    <Shape>\r\n",
      "      <block width=\"5*cm\" height=\"5*cm\" thickness=\"2*mm\" />\r\n",
      "    </Shape>\r\n",
      "    <Phase type=\"crystal\">\r\n",
      "      <ChemicalFormula>V8</ChemicalFormula>\r\n",
      "      <xyzfile>swdemo.xyz</xyzfile>\r\n",
      "    </Phase>\r\n",
      "  </PowderSample>\r\n",
      "  \r\n",
      "  <LocalGeometer registry-coordinate-system=\"InstrumentScientist\">\r\n",
      "    <Register name=\"swdemo\" position=\"(0,0,0)\" orientation=\"(0, 0, 0)\"/>\r\n",
      "  </LocalGeometer>\r\n",
      "\r\n",
      "  <Environment temperature=\"300*K\"/>\r\n",
      "\r\n",
      "</SampleAssembly>\r\n"
     ]
    }
   ],
   "source": [
    "!cat sampleassembly.xml"
   ]
  },
  {
   "cell_type": "code",
   "execution_count": 15,
   "metadata": {
    "collapsed": false
   },
   "outputs": [
    {
     "name": "stdout",
     "output_type": "stream",
     "text": [
      "sampleassembly.xml  swdemo-scatterer.xml  swdemo.xyz\r\n"
     ]
    }
   ],
   "source": [
    "!ls ."
   ]
  },
  {
   "cell_type": "markdown",
   "metadata": {},
   "source": [
    "## Step 4. Scattering"
   ]
  },
  {
   "cell_type": "code",
   "execution_count": 16,
   "metadata": {
    "collapsed": false
   },
   "outputs": [
    {
     "name": "stdout",
     "output_type": "stream",
     "text": [
      "/SNS/users/lj7/simulations/ARCS/spinwave-demo/scattering\n"
     ]
    }
   ],
   "source": [
    "%cd \"{workdir}/scattering\""
   ]
  },
  {
   "cell_type": "code",
   "execution_count": 17,
   "metadata": {
    "collapsed": false
   },
   "outputs": [
    {
     "name": "stdout",
     "output_type": "stream",
     "text": [
      "scripts  template\r\n"
     ]
    }
   ],
   "source": [
    "!ls ."
   ]
  },
  {
   "cell_type": "code",
   "execution_count": 18,
   "metadata": {
    "collapsed": false
   },
   "outputs": [
    {
     "name": "stdout",
     "output_type": "stream",
     "text": [
      "Writing sim.yml\n"
     ]
    }
   ],
   "source": [
    "%%file sim.yml\n",
    "\n",
    "cluster:\n",
    "  nodes: 10\n",
    "instrument:\n",
    "  name: arcs\n",
    "scatter:\n",
    "  ncount: 1e6\n",
    "  multiple_scattering: off\n",
    "  template: ./template\n"
   ]
  },
  {
   "cell_type": "code",
   "execution_count": 22,
   "metadata": {
    "collapsed": false
   },
   "outputs": [
    {
     "name": "stdout",
     "output_type": "stream",
     "text": [
      "ln -s ../../beam\n",
      "ln -s ../../sampleassembly\n",
      "SAMPLE_ANGLE=31.0 time ./scatter >log.scatter 2>&1\n",
      "time ./create-nxs >log.create-nxs 2>&1\n",
      "cp sim.nxs sim-31.0.nxs\n",
      "mcvine instruments arcs nxs populate_metadata --type=Ei --beam_outdir=beam/out --nxs=sim-31.0.nxs\n"
     ]
    }
   ],
   "source": [
    "! ./scripts/sim.py --angle=31.0"
   ]
  },
  {
   "cell_type": "code",
   "execution_count": 23,
   "metadata": {
    "collapsed": false
   },
   "outputs": [
    {
     "name": "stdout",
     "output_type": "stream",
     "text": [
      "Overwriting sim.yml\n"
     ]
    }
   ],
   "source": [
    "%%file sim.yml\n",
    "\n",
    "cluster:\n",
    "  nodes: 30\n",
    "instrument:\n",
    "  name: arcs\n",
    "scatter:\n",
    "  ncount: 1e6\n",
    "  multiple_scattering: off\n",
    "  template: ./template\n"
   ]
  },
  {
   "cell_type": "code",
   "execution_count": null,
   "metadata": {
    "collapsed": true
   },
   "outputs": [],
   "source": [
    "# a script to create a submit script submit.sh\n",
    "# may need to create several scripts"
   ]
  },
  {
   "cell_type": "code",
   "execution_count": 29,
   "metadata": {
    "collapsed": false
   },
   "outputs": [
    {
     "name": "stdout",
     "output_type": "stream",
     "text": [
      "Writing create-run.py\n"
     ]
    }
   ],
   "source": [
    "%%file create-run.py\n",
    "import numpy as np\n",
    "ostream = open('run.sh', 'wt')\n",
    "for a in np.arange(-90, 90.1, 3.):\n",
    "    ostream.write('./scripts/sim.py --angle=%s \\n' % a)\n",
    "    continue\n",
    "ostream.close()"
   ]
  },
  {
   "cell_type": "code",
   "execution_count": 30,
   "metadata": {
    "collapsed": false
   },
   "outputs": [],
   "source": [
    "# run the script to create submit.sh\n",
    "!python ./create-run.py"
   ]
  },
  {
   "cell_type": "code",
   "execution_count": 31,
   "metadata": {
    "collapsed": false,
    "scrolled": true
   },
   "outputs": [
    {
     "name": "stdout",
     "output_type": "stream",
     "text": [
      "./scripts/sim.py --angle=-90.0 \r\n",
      "./scripts/sim.py --angle=-87.0 \r\n",
      "./scripts/sim.py --angle=-84.0 \r\n",
      "./scripts/sim.py --angle=-81.0 \r\n",
      "./scripts/sim.py --angle=-78.0 \r\n",
      "./scripts/sim.py --angle=-75.0 \r\n",
      "./scripts/sim.py --angle=-72.0 \r\n",
      "./scripts/sim.py --angle=-69.0 \r\n",
      "./scripts/sim.py --angle=-66.0 \r\n",
      "./scripts/sim.py --angle=-63.0 \r\n",
      "./scripts/sim.py --angle=-60.0 \r\n",
      "./scripts/sim.py --angle=-57.0 \r\n",
      "./scripts/sim.py --angle=-54.0 \r\n",
      "./scripts/sim.py --angle=-51.0 \r\n",
      "./scripts/sim.py --angle=-48.0 \r\n",
      "./scripts/sim.py --angle=-45.0 \r\n",
      "./scripts/sim.py --angle=-42.0 \r\n",
      "./scripts/sim.py --angle=-39.0 \r\n",
      "./scripts/sim.py --angle=-36.0 \r\n",
      "./scripts/sim.py --angle=-33.0 \r\n",
      "./scripts/sim.py --angle=-30.0 \r\n",
      "./scripts/sim.py --angle=-27.0 \r\n",
      "./scripts/sim.py --angle=-24.0 \r\n",
      "./scripts/sim.py --angle=-21.0 \r\n",
      "./scripts/sim.py --angle=-18.0 \r\n",
      "./scripts/sim.py --angle=-15.0 \r\n",
      "./scripts/sim.py --angle=-12.0 \r\n",
      "./scripts/sim.py --angle=-9.0 \r\n",
      "./scripts/sim.py --angle=-6.0 \r\n",
      "./scripts/sim.py --angle=-3.0 \r\n",
      "./scripts/sim.py --angle=0.0 \r\n",
      "./scripts/sim.py --angle=3.0 \r\n",
      "./scripts/sim.py --angle=6.0 \r\n",
      "./scripts/sim.py --angle=9.0 \r\n",
      "./scripts/sim.py --angle=12.0 \r\n",
      "./scripts/sim.py --angle=15.0 \r\n",
      "./scripts/sim.py --angle=18.0 \r\n",
      "./scripts/sim.py --angle=21.0 \r\n",
      "./scripts/sim.py --angle=24.0 \r\n",
      "./scripts/sim.py --angle=27.0 \r\n",
      "./scripts/sim.py --angle=30.0 \r\n",
      "./scripts/sim.py --angle=33.0 \r\n",
      "./scripts/sim.py --angle=36.0 \r\n",
      "./scripts/sim.py --angle=39.0 \r\n",
      "./scripts/sim.py --angle=42.0 \r\n",
      "./scripts/sim.py --angle=45.0 \r\n",
      "./scripts/sim.py --angle=48.0 \r\n",
      "./scripts/sim.py --angle=51.0 \r\n",
      "./scripts/sim.py --angle=54.0 \r\n",
      "./scripts/sim.py --angle=57.0 \r\n",
      "./scripts/sim.py --angle=60.0 \r\n",
      "./scripts/sim.py --angle=63.0 \r\n",
      "./scripts/sim.py --angle=66.0 \r\n",
      "./scripts/sim.py --angle=69.0 \r\n",
      "./scripts/sim.py --angle=72.0 \r\n",
      "./scripts/sim.py --angle=75.0 \r\n",
      "./scripts/sim.py --angle=78.0 \r\n",
      "./scripts/sim.py --angle=81.0 \r\n",
      "./scripts/sim.py --angle=84.0 \r\n",
      "./scripts/sim.py --angle=87.0 \r\n",
      "./scripts/sim.py --angle=90.0 \r\n"
     ]
    }
   ],
   "source": [
    "# check submit script\n",
    "!cat run.sh"
   ]
  },
  {
   "cell_type": "code",
   "execution_count": 32,
   "metadata": {
    "collapsed": true
   },
   "outputs": [],
   "source": [
    "# make sure run.sh is executable\n",
    "!chmod +x run.sh"
   ]
  },
  {
   "cell_type": "code",
   "execution_count": 27,
   "metadata": {
    "collapsed": true
   },
   "outputs": [],
   "source": [
    "# the following will start it in the background"
   ]
  },
  {
   "cell_type": "code",
   "execution_count": 51,
   "metadata": {
    "collapsed": false
   },
   "outputs": [
    {
     "name": "stdout",
     "output_type": "stream",
     "text": [
      "Starting job # 2 in a separate thread.\n"
     ]
    }
   ],
   "source": [
    "# %%script bash --bg\n",
    "# ./run.sh\n",
    "# this will take a while to finish."
   ]
  },
  {
   "cell_type": "code",
   "execution_count": 28,
   "metadata": {
    "collapsed": true
   },
   "outputs": [
    {
     "name": "stdout",
     "output_type": "stream",
     "text": [
      "ln -s ../../beam\n",
      "ln -s ../../sampleassembly\n",
      "SAMPLE_ANGLE=-90.0 time ./scatter >log.scatter 2>&1\n",
      "time ./create-nxs >log.create-nxs 2>&1\n",
      "cp sim.nxs sim--90.0.nxs\n",
      "mcvine instruments arcs nxs populate_metadata --type=Ei --beam_outdir=beam/out --nxs=sim--90.0.nxs\n",
      "ln -s ../../beam\n",
      "ln -s ../../sampleassembly\n",
      "SAMPLE_ANGLE=-87.0 time ./scatter >log.scatter 2>&1\n",
      "time ./create-nxs >log.create-nxs 2>&1\n",
      "cp sim.nxs sim--87.0.nxs\n",
      "mcvine instruments arcs nxs populate_metadata --type=Ei --beam_outdir=beam/out --nxs=sim--87.0.nxs\n",
      "ln -s ../../beam\n",
      "ln -s ../../sampleassembly\n",
      "SAMPLE_ANGLE=-84.0 time ./scatter >log.scatter 2>&1\n",
      "time ./create-nxs >log.create-nxs 2>&1\n",
      "cp sim.nxs sim--84.0.nxs\n",
      "mcvine instruments arcs nxs populate_metadata --type=Ei --beam_outdir=beam/out --nxs=sim--84.0.nxs\n",
      "ln -s ../../beam\n",
      "ln -s ../../sampleassembly\n",
      "SAMPLE_ANGLE=-81.0 time ./scatter >log.scatter 2>&1\n",
      "time ./create-nxs >log.create-nxs 2>&1\n",
      "cp sim.nxs sim--81.0.nxs\n",
      "mcvine instruments arcs nxs populate_metadata --type=Ei --beam_outdir=beam/out --nxs=sim--81.0.nxs\n",
      "ln -s ../../beam\n",
      "ln -s ../../sampleassembly\n",
      "SAMPLE_ANGLE=-78.0 time ./scatter >log.scatter 2>&1\n",
      "time ./create-nxs >log.create-nxs 2>&1\n",
      "cp sim.nxs sim--78.0.nxs\n",
      "mcvine instruments arcs nxs populate_metadata --type=Ei --beam_outdir=beam/out --nxs=sim--78.0.nxs\n",
      "ln -s ../../beam\n",
      "ln -s ../../sampleassembly\n",
      "SAMPLE_ANGLE=-75.0 time ./scatter >log.scatter 2>&1\n",
      "time ./create-nxs >log.create-nxs 2>&1\n",
      "cp sim.nxs sim--75.0.nxs\n",
      "mcvine instruments arcs nxs populate_metadata --type=Ei --beam_outdir=beam/out --nxs=sim--75.0.nxs\n",
      "ln -s ../../beam\n",
      "ln -s ../../sampleassembly\n",
      "SAMPLE_ANGLE=-72.0 time ./scatter >log.scatter 2>&1\n",
      "time ./create-nxs >log.create-nxs 2>&1\n",
      "cp sim.nxs sim--72.0.nxs\n",
      "mcvine instruments arcs nxs populate_metadata --type=Ei --beam_outdir=beam/out --nxs=sim--72.0.nxs\n",
      "ln -s ../../beam\n",
      "ln -s ../../sampleassembly\n",
      "SAMPLE_ANGLE=-69.0 time ./scatter >log.scatter 2>&1\n",
      "time ./create-nxs >log.create-nxs 2>&1\n",
      "cp sim.nxs sim--69.0.nxs\n",
      "mcvine instruments arcs nxs populate_metadata --type=Ei --beam_outdir=beam/out --nxs=sim--69.0.nxs\n",
      "ln -s ../../beam\n",
      "ln -s ../../sampleassembly\n",
      "SAMPLE_ANGLE=-66.0 time ./scatter >log.scatter 2>&1\n",
      "time ./create-nxs >log.create-nxs 2>&1\n",
      "cp sim.nxs sim--66.0.nxs\n",
      "mcvine instruments arcs nxs populate_metadata --type=Ei --beam_outdir=beam/out --nxs=sim--66.0.nxs\n",
      "ln -s ../../beam\n",
      "ln -s ../../sampleassembly\n",
      "SAMPLE_ANGLE=-63.0 time ./scatter >log.scatter 2>&1\n",
      "time ./create-nxs >log.create-nxs 2>&1\n",
      "cp sim.nxs sim--63.0.nxs\n",
      "mcvine instruments arcs nxs populate_metadata --type=Ei --beam_outdir=beam/out --nxs=sim--63.0.nxs\n",
      "ln -s ../../beam\n",
      "ln -s ../../sampleassembly\n",
      "SAMPLE_ANGLE=-60.0 time ./scatter >log.scatter 2>&1\n",
      "time ./create-nxs >log.create-nxs 2>&1\n",
      "cp sim.nxs sim--60.0.nxs\n",
      "mcvine instruments arcs nxs populate_metadata --type=Ei --beam_outdir=beam/out --nxs=sim--60.0.nxs\n",
      "ln -s ../../beam\n",
      "ln -s ../../sampleassembly\n",
      "SAMPLE_ANGLE=-57.0 time ./scatter >log.scatter 2>&1\n",
      "time ./create-nxs >log.create-nxs 2>&1\n",
      "cp sim.nxs sim--57.0.nxs\n",
      "mcvine instruments arcs nxs populate_metadata --type=Ei --beam_outdir=beam/out --nxs=sim--57.0.nxs\n",
      "ln -s ../../beam\n",
      "ln -s ../../sampleassembly\n",
      "SAMPLE_ANGLE=-54.0 time ./scatter >log.scatter 2>&1\n",
      "time ./create-nxs >log.create-nxs 2>&1\n",
      "cp sim.nxs sim--54.0.nxs\n",
      "mcvine instruments arcs nxs populate_metadata --type=Ei --beam_outdir=beam/out --nxs=sim--54.0.nxs\n",
      "ln -s ../../beam\n",
      "ln -s ../../sampleassembly\n",
      "SAMPLE_ANGLE=-51.0 time ./scatter >log.scatter 2>&1\n",
      "time ./create-nxs >log.create-nxs 2>&1\n",
      "cp sim.nxs sim--51.0.nxs\n",
      "mcvine instruments arcs nxs populate_metadata --type=Ei --beam_outdir=beam/out --nxs=sim--51.0.nxs\n",
      "ln -s ../../beam\n",
      "ln -s ../../sampleassembly\n",
      "SAMPLE_ANGLE=-48.0 time ./scatter >log.scatter 2>&1\n",
      "time ./create-nxs >log.create-nxs 2>&1\n",
      "cp sim.nxs sim--48.0.nxs\n",
      "mcvine instruments arcs nxs populate_metadata --type=Ei --beam_outdir=beam/out --nxs=sim--48.0.nxs\n",
      "ln -s ../../beam\n",
      "ln -s ../../sampleassembly\n",
      "SAMPLE_ANGLE=-45.0 time ./scatter >log.scatter 2>&1\n",
      "time ./create-nxs >log.create-nxs 2>&1\n",
      "cp sim.nxs sim--45.0.nxs\n",
      "mcvine instruments arcs nxs populate_metadata --type=Ei --beam_outdir=beam/out --nxs=sim--45.0.nxs\n",
      "ln -s ../../beam\n",
      "ln -s ../../sampleassembly\n",
      "SAMPLE_ANGLE=-42.0 time ./scatter >log.scatter 2>&1\n",
      "time ./create-nxs >log.create-nxs 2>&1\n",
      "cp sim.nxs sim--42.0.nxs\n",
      "mcvine instruments arcs nxs populate_metadata --type=Ei --beam_outdir=beam/out --nxs=sim--42.0.nxs\n",
      "ln -s ../../beam\n",
      "ln -s ../../sampleassembly\n",
      "SAMPLE_ANGLE=-39.0 time ./scatter >log.scatter 2>&1\n",
      "time ./create-nxs >log.create-nxs 2>&1\n",
      "cp sim.nxs sim--39.0.nxs\n",
      "mcvine instruments arcs nxs populate_metadata --type=Ei --beam_outdir=beam/out --nxs=sim--39.0.nxs\n",
      "ln -s ../../beam\n",
      "ln -s ../../sampleassembly\n",
      "SAMPLE_ANGLE=-36.0 time ./scatter >log.scatter 2>&1\n",
      "time ./create-nxs >log.create-nxs 2>&1\n",
      "cp sim.nxs sim--36.0.nxs\n",
      "mcvine instruments arcs nxs populate_metadata --type=Ei --beam_outdir=beam/out --nxs=sim--36.0.nxs\n",
      "ln -s ../../beam\n",
      "ln -s ../../sampleassembly\n",
      "SAMPLE_ANGLE=-33.0 time ./scatter >log.scatter 2>&1\n",
      "time ./create-nxs >log.create-nxs 2>&1\n",
      "cp sim.nxs sim--33.0.nxs\n",
      "mcvine instruments arcs nxs populate_metadata --type=Ei --beam_outdir=beam/out --nxs=sim--33.0.nxs\n",
      "ln -s ../../beam\n",
      "ln -s ../../sampleassembly\n",
      "SAMPLE_ANGLE=-30.0 time ./scatter >log.scatter 2>&1\n",
      "time ./create-nxs >log.create-nxs 2>&1\n",
      "cp sim.nxs sim--30.0.nxs\n",
      "mcvine instruments arcs nxs populate_metadata --type=Ei --beam_outdir=beam/out --nxs=sim--30.0.nxs\n",
      "ln -s ../../beam\n",
      "ln -s ../../sampleassembly\n",
      "SAMPLE_ANGLE=-27.0 time ./scatter >log.scatter 2>&1\n",
      "time ./create-nxs >log.create-nxs 2>&1\n",
      "cp sim.nxs sim--27.0.nxs\n",
      "mcvine instruments arcs nxs populate_metadata --type=Ei --beam_outdir=beam/out --nxs=sim--27.0.nxs\n",
      "ln -s ../../beam\n",
      "ln -s ../../sampleassembly\n",
      "SAMPLE_ANGLE=-24.0 time ./scatter >log.scatter 2>&1\n",
      "time ./create-nxs >log.create-nxs 2>&1\n",
      "cp sim.nxs sim--24.0.nxs\n",
      "mcvine instruments arcs nxs populate_metadata --type=Ei --beam_outdir=beam/out --nxs=sim--24.0.nxs\n",
      "ln -s ../../beam\n",
      "ln -s ../../sampleassembly\n",
      "SAMPLE_ANGLE=-21.0 time ./scatter >log.scatter 2>&1\n",
      "time ./create-nxs >log.create-nxs 2>&1\n",
      "cp sim.nxs sim--21.0.nxs\n",
      "mcvine instruments arcs nxs populate_metadata --type=Ei --beam_outdir=beam/out --nxs=sim--21.0.nxs\n",
      "ln -s ../../beam\n",
      "ln -s ../../sampleassembly\n",
      "SAMPLE_ANGLE=-18.0 time ./scatter >log.scatter 2>&1\n",
      "time ./create-nxs >log.create-nxs 2>&1\n",
      "cp sim.nxs sim--18.0.nxs\n",
      "mcvine instruments arcs nxs populate_metadata --type=Ei --beam_outdir=beam/out --nxs=sim--18.0.nxs\n",
      "ln -s ../../beam\n",
      "ln -s ../../sampleassembly\n",
      "SAMPLE_ANGLE=-15.0 time ./scatter >log.scatter 2>&1\n",
      "time ./create-nxs >log.create-nxs 2>&1\n",
      "cp sim.nxs sim--15.0.nxs\n",
      "mcvine instruments arcs nxs populate_metadata --type=Ei --beam_outdir=beam/out --nxs=sim--15.0.nxs\n",
      "ln -s ../../beam\n",
      "ln -s ../../sampleassembly\n",
      "SAMPLE_ANGLE=-12.0 time ./scatter >log.scatter 2>&1\n",
      "time ./create-nxs >log.create-nxs 2>&1\n",
      "cp sim.nxs sim--12.0.nxs\n",
      "mcvine instruments arcs nxs populate_metadata --type=Ei --beam_outdir=beam/out --nxs=sim--12.0.nxs\n",
      "ln -s ../../beam\n",
      "ln -s ../../sampleassembly\n",
      "SAMPLE_ANGLE=-9.0 time ./scatter >log.scatter 2>&1\n",
      "time ./create-nxs >log.create-nxs 2>&1\n",
      "cp sim.nxs sim--9.0.nxs\n",
      "mcvine instruments arcs nxs populate_metadata --type=Ei --beam_outdir=beam/out --nxs=sim--9.0.nxs\n",
      "ln -s ../../beam\n",
      "ln -s ../../sampleassembly\n",
      "SAMPLE_ANGLE=-6.0 time ./scatter >log.scatter 2>&1\n",
      "time ./create-nxs >log.create-nxs 2>&1\n",
      "cp sim.nxs sim--6.0.nxs\n",
      "mcvine instruments arcs nxs populate_metadata --type=Ei --beam_outdir=beam/out --nxs=sim--6.0.nxs\n",
      "ln -s ../../beam\n",
      "ln -s ../../sampleassembly\n",
      "SAMPLE_ANGLE=-3.0 time ./scatter >log.scatter 2>&1\n",
      "time ./create-nxs >log.create-nxs 2>&1\n",
      "cp sim.nxs sim--3.0.nxs\n",
      "mcvine instruments arcs nxs populate_metadata --type=Ei --beam_outdir=beam/out --nxs=sim--3.0.nxs\n",
      "ln -s ../../beam\n",
      "ln -s ../../sampleassembly\n",
      "SAMPLE_ANGLE=0.0 time ./scatter >log.scatter 2>&1\n",
      "time ./create-nxs >log.create-nxs 2>&1\n",
      "cp sim.nxs sim-0.0.nxs\n",
      "mcvine instruments arcs nxs populate_metadata --type=Ei --beam_outdir=beam/out --nxs=sim-0.0.nxs\n",
      "ln -s ../../beam\n",
      "ln -s ../../sampleassembly\n",
      "SAMPLE_ANGLE=3.0 time ./scatter >log.scatter 2>&1\n",
      "time ./create-nxs >log.create-nxs 2>&1\n",
      "cp sim.nxs sim-3.0.nxs\n",
      "mcvine instruments arcs nxs populate_metadata --type=Ei --beam_outdir=beam/out --nxs=sim-3.0.nxs\n",
      "ln -s ../../beam\n",
      "ln -s ../../sampleassembly\n",
      "SAMPLE_ANGLE=6.0 time ./scatter >log.scatter 2>&1\n",
      "time ./create-nxs >log.create-nxs 2>&1\n",
      "cp sim.nxs sim-6.0.nxs\n",
      "mcvine instruments arcs nxs populate_metadata --type=Ei --beam_outdir=beam/out --nxs=sim-6.0.nxs\n",
      "ln -s ../../beam\n",
      "ln -s ../../sampleassembly\n",
      "SAMPLE_ANGLE=9.0 time ./scatter >log.scatter 2>&1\n",
      "time ./create-nxs >log.create-nxs 2>&1\n",
      "cp sim.nxs sim-9.0.nxs\n",
      "mcvine instruments arcs nxs populate_metadata --type=Ei --beam_outdir=beam/out --nxs=sim-9.0.nxs\n",
      "ln -s ../../beam\n",
      "ln -s ../../sampleassembly\n",
      "SAMPLE_ANGLE=12.0 time ./scatter >log.scatter 2>&1\n",
      "time ./create-nxs >log.create-nxs 2>&1\n",
      "cp sim.nxs sim-12.0.nxs\n",
      "mcvine instruments arcs nxs populate_metadata --type=Ei --beam_outdir=beam/out --nxs=sim-12.0.nxs\n",
      "ln -s ../../beam\n",
      "ln -s ../../sampleassembly\n",
      "SAMPLE_ANGLE=15.0 time ./scatter >log.scatter 2>&1\n",
      "time ./create-nxs >log.create-nxs 2>&1\n",
      "cp sim.nxs sim-15.0.nxs\n",
      "mcvine instruments arcs nxs populate_metadata --type=Ei --beam_outdir=beam/out --nxs=sim-15.0.nxs\n",
      "ln -s ../../beam\n",
      "ln -s ../../sampleassembly\n",
      "SAMPLE_ANGLE=18.0 time ./scatter >log.scatter 2>&1\n",
      "time ./create-nxs >log.create-nxs 2>&1\n",
      "cp sim.nxs sim-18.0.nxs\n",
      "mcvine instruments arcs nxs populate_metadata --type=Ei --beam_outdir=beam/out --nxs=sim-18.0.nxs\n",
      "ln -s ../../beam\n",
      "ln -s ../../sampleassembly\n",
      "SAMPLE_ANGLE=21.0 time ./scatter >log.scatter 2>&1\n",
      "time ./create-nxs >log.create-nxs 2>&1\n",
      "cp sim.nxs sim-21.0.nxs\n",
      "mcvine instruments arcs nxs populate_metadata --type=Ei --beam_outdir=beam/out --nxs=sim-21.0.nxs\n",
      "ln -s ../../beam\n",
      "ln -s ../../sampleassembly\n",
      "SAMPLE_ANGLE=24.0 time ./scatter >log.scatter 2>&1\n",
      "time ./create-nxs >log.create-nxs 2>&1\n",
      "cp sim.nxs sim-24.0.nxs\n",
      "mcvine instruments arcs nxs populate_metadata --type=Ei --beam_outdir=beam/out --nxs=sim-24.0.nxs\n",
      "ln -s ../../beam\n",
      "ln -s ../../sampleassembly\n",
      "SAMPLE_ANGLE=27.0 time ./scatter >log.scatter 2>&1\n",
      "time ./create-nxs >log.create-nxs 2>&1\n",
      "cp sim.nxs sim-27.0.nxs\n",
      "mcvine instruments arcs nxs populate_metadata --type=Ei --beam_outdir=beam/out --nxs=sim-27.0.nxs\n",
      "make: Nothing to be done for `event-nxs'.\n",
      "ln -s ../../beam\n",
      "ln -s ../../sampleassembly\n",
      "SAMPLE_ANGLE=33.0 time ./scatter >log.scatter 2>&1\n",
      "time ./create-nxs >log.create-nxs 2>&1\n",
      "cp sim.nxs sim-33.0.nxs\n",
      "mcvine instruments arcs nxs populate_metadata --type=Ei --beam_outdir=beam/out --nxs=sim-33.0.nxs\n",
      "ln -s ../../beam\n",
      "ln -s ../../sampleassembly\n",
      "SAMPLE_ANGLE=36.0 time ./scatter >log.scatter 2>&1\n",
      "time ./create-nxs >log.create-nxs 2>&1\n",
      "cp sim.nxs sim-36.0.nxs\n",
      "mcvine instruments arcs nxs populate_metadata --type=Ei --beam_outdir=beam/out --nxs=sim-36.0.nxs\n",
      "ln -s ../../beam\n",
      "ln -s ../../sampleassembly\n",
      "SAMPLE_ANGLE=39.0 time ./scatter >log.scatter 2>&1\n",
      "time ./create-nxs >log.create-nxs 2>&1\n",
      "cp sim.nxs sim-39.0.nxs\n",
      "mcvine instruments arcs nxs populate_metadata --type=Ei --beam_outdir=beam/out --nxs=sim-39.0.nxs\n",
      "ln -s ../../beam\n",
      "ln -s ../../sampleassembly\n",
      "SAMPLE_ANGLE=42.0 time ./scatter >log.scatter 2>&1\n",
      "time ./create-nxs >log.create-nxs 2>&1\n",
      "cp sim.nxs sim-42.0.nxs\n",
      "mcvine instruments arcs nxs populate_metadata --type=Ei --beam_outdir=beam/out --nxs=sim-42.0.nxs\n",
      "ln -s ../../beam\n",
      "ln -s ../../sampleassembly\n",
      "SAMPLE_ANGLE=45.0 time ./scatter >log.scatter 2>&1\n",
      "time ./create-nxs >log.create-nxs 2>&1\n",
      "cp sim.nxs sim-45.0.nxs\n",
      "mcvine instruments arcs nxs populate_metadata --type=Ei --beam_outdir=beam/out --nxs=sim-45.0.nxs\n",
      "ln -s ../../beam\n",
      "ln -s ../../sampleassembly\n",
      "SAMPLE_ANGLE=48.0 time ./scatter >log.scatter 2>&1\n",
      "time ./create-nxs >log.create-nxs 2>&1\n",
      "cp sim.nxs sim-48.0.nxs\n",
      "mcvine instruments arcs nxs populate_metadata --type=Ei --beam_outdir=beam/out --nxs=sim-48.0.nxs\n",
      "ln -s ../../beam\n",
      "ln -s ../../sampleassembly\n",
      "SAMPLE_ANGLE=51.0 time ./scatter >log.scatter 2>&1\n",
      "time ./create-nxs >log.create-nxs 2>&1\n",
      "cp sim.nxs sim-51.0.nxs\n",
      "mcvine instruments arcs nxs populate_metadata --type=Ei --beam_outdir=beam/out --nxs=sim-51.0.nxs\n",
      "ln -s ../../beam\n",
      "ln -s ../../sampleassembly\n",
      "SAMPLE_ANGLE=54.0 time ./scatter >log.scatter 2>&1\n",
      "time ./create-nxs >log.create-nxs 2>&1\n",
      "cp sim.nxs sim-54.0.nxs\n",
      "mcvine instruments arcs nxs populate_metadata --type=Ei --beam_outdir=beam/out --nxs=sim-54.0.nxs\n",
      "ln -s ../../beam\n",
      "ln -s ../../sampleassembly\n",
      "SAMPLE_ANGLE=57.0 time ./scatter >log.scatter 2>&1\n",
      "time ./create-nxs >log.create-nxs 2>&1\n",
      "cp sim.nxs sim-57.0.nxs\n",
      "mcvine instruments arcs nxs populate_metadata --type=Ei --beam_outdir=beam/out --nxs=sim-57.0.nxs\n",
      "ln -s ../../beam\n",
      "ln -s ../../sampleassembly\n",
      "SAMPLE_ANGLE=60.0 time ./scatter >log.scatter 2>&1\n",
      "time ./create-nxs >log.create-nxs 2>&1\n",
      "cp sim.nxs sim-60.0.nxs\n",
      "mcvine instruments arcs nxs populate_metadata --type=Ei --beam_outdir=beam/out --nxs=sim-60.0.nxs\n",
      "ln -s ../../beam\n",
      "ln -s ../../sampleassembly\n",
      "SAMPLE_ANGLE=63.0 time ./scatter >log.scatter 2>&1\n",
      "time ./create-nxs >log.create-nxs 2>&1\n",
      "cp sim.nxs sim-63.0.nxs\n",
      "mcvine instruments arcs nxs populate_metadata --type=Ei --beam_outdir=beam/out --nxs=sim-63.0.nxs\n",
      "ln -s ../../beam\n",
      "ln -s ../../sampleassembly\n",
      "SAMPLE_ANGLE=66.0 time ./scatter >log.scatter 2>&1\n",
      "time ./create-nxs >log.create-nxs 2>&1\n",
      "cp sim.nxs sim-66.0.nxs\n",
      "mcvine instruments arcs nxs populate_metadata --type=Ei --beam_outdir=beam/out --nxs=sim-66.0.nxs\n",
      "ln -s ../../beam\n",
      "ln -s ../../sampleassembly\n",
      "SAMPLE_ANGLE=69.0 time ./scatter >log.scatter 2>&1\n",
      "time ./create-nxs >log.create-nxs 2>&1\n",
      "cp sim.nxs sim-69.0.nxs\n",
      "mcvine instruments arcs nxs populate_metadata --type=Ei --beam_outdir=beam/out --nxs=sim-69.0.nxs\n",
      "ln -s ../../beam\n",
      "ln -s ../../sampleassembly\n",
      "SAMPLE_ANGLE=72.0 time ./scatter >log.scatter 2>&1\n",
      "time ./create-nxs >log.create-nxs 2>&1\n",
      "cp sim.nxs sim-72.0.nxs\n",
      "mcvine instruments arcs nxs populate_metadata --type=Ei --beam_outdir=beam/out --nxs=sim-72.0.nxs\n",
      "ln -s ../../beam\n",
      "ln -s ../../sampleassembly\n",
      "SAMPLE_ANGLE=75.0 time ./scatter >log.scatter 2>&1\n",
      "time ./create-nxs >log.create-nxs 2>&1\n",
      "cp sim.nxs sim-75.0.nxs\n",
      "mcvine instruments arcs nxs populate_metadata --type=Ei --beam_outdir=beam/out --nxs=sim-75.0.nxs\n",
      "ln -s ../../beam\n",
      "ln -s ../../sampleassembly\n",
      "SAMPLE_ANGLE=78.0 time ./scatter >log.scatter 2>&1\n",
      "time ./create-nxs >log.create-nxs 2>&1\n",
      "cp sim.nxs sim-78.0.nxs\n",
      "mcvine instruments arcs nxs populate_metadata --type=Ei --beam_outdir=beam/out --nxs=sim-78.0.nxs\n",
      "ln -s ../../beam\n",
      "ln -s ../../sampleassembly\n",
      "SAMPLE_ANGLE=81.0 time ./scatter >log.scatter 2>&1\n",
      "time ./create-nxs >log.create-nxs 2>&1\n",
      "cp sim.nxs sim-81.0.nxs\n",
      "mcvine instruments arcs nxs populate_metadata --type=Ei --beam_outdir=beam/out --nxs=sim-81.0.nxs\n",
      "ln -s ../../beam\n",
      "ln -s ../../sampleassembly\n",
      "SAMPLE_ANGLE=84.0 time ./scatter >log.scatter 2>&1\n",
      "time ./create-nxs >log.create-nxs 2>&1\n",
      "cp sim.nxs sim-84.0.nxs\n",
      "mcvine instruments arcs nxs populate_metadata --type=Ei --beam_outdir=beam/out --nxs=sim-84.0.nxs\n",
      "ln -s ../../beam\n",
      "ln -s ../../sampleassembly\n",
      "SAMPLE_ANGLE=87.0 time ./scatter >log.scatter 2>&1\n",
      "time ./create-nxs >log.create-nxs 2>&1\n",
      "cp sim.nxs sim-87.0.nxs\n",
      "mcvine instruments arcs nxs populate_metadata --type=Ei --beam_outdir=beam/out --nxs=sim-87.0.nxs\n",
      "ln -s ../../beam\n",
      "ln -s ../../sampleassembly\n",
      "SAMPLE_ANGLE=90.0 time ./scatter >log.scatter 2>&1\n",
      "time ./create-nxs >log.create-nxs 2>&1\n",
      "cp sim.nxs sim-90.0.nxs\n",
      "mcvine instruments arcs nxs populate_metadata --type=Ei --beam_outdir=beam/out --nxs=sim-90.0.nxs\n"
     ]
    }
   ],
   "source": [
    "!./run.sh"
   ]
  },
  {
   "cell_type": "markdown",
   "metadata": {},
   "source": [
    "## Step 5. Reduction"
   ]
  },
  {
   "cell_type": "code",
   "execution_count": 28,
   "metadata": {
    "collapsed": false
   },
   "outputs": [
    {
     "name": "stdout",
     "output_type": "stream",
     "text": [
      "/SNS/users/lj7/simulations/ARCS/spinwave-demo/scattering\n"
     ]
    }
   ],
   "source": [
    "%cd \"{workdir}/scattering\""
   ]
  },
  {
   "cell_type": "markdown",
   "metadata": {},
   "source": [
    "First we reduce event-mode nexus data for each angle using Mantid"
   ]
  },
  {
   "cell_type": "code",
   "execution_count": 35,
   "metadata": {
    "collapsed": false
   },
   "outputs": [
    {
     "name": "stdout",
     "output_type": "stream",
     "text": [
      "work_-15.0/sim--15.0.nxs  work_-15.0/sim.nxs\r\n"
     ]
    }
   ],
   "source": [
    "!ls work_-15.0/*.nxs"
   ]
  },
  {
   "cell_type": "code",
   "execution_count": 36,
   "metadata": {
    "collapsed": false
   },
   "outputs": [
    {
     "name": "stdout",
     "output_type": "stream",
     "text": [
      "ls: cannot access work_-15.0/reduced*: No such file or directory\r\n"
     ]
    }
   ],
   "source": [
    "# check if there is reduced data\n",
    "!ls work_-15.0/reduced*"
   ]
  },
  {
   "cell_type": "code",
   "execution_count": 38,
   "metadata": {
    "collapsed": false,
    "scrolled": true
   },
   "outputs": [
    {
     "name": "stdout",
     "output_type": "stream",
     "text": [
      "/home/lj7/anaconda2/envs/dev-mcvine/lib/python2.7/site-packages/mantid/kernel/__init__.py:13: RuntimeWarning: to-Python converter for std::vector<int, std::allocator<int> > already registered; second conversion method ignored.\r\n",
      "  from ._kernel import *\r\n",
      "/home/lj7/anaconda2/envs/dev-mcvine/lib/python2.7/site-packages/mantid/kernel/__init__.py:13: RuntimeWarning: to-Python converter for std::vector<double, std::allocator<double> > already registered; second conversion method ignored.\r\n",
      "  from ._kernel import *\r\n"
     ]
    }
   ],
   "source": [
    "# reduce tof events to E events\n",
    "# this takes about 30 minutes\n",
    "!mcvine workflow sxr reduce --type batch \\\n",
    "    --eaxis 0 90 0.5 --psi-axis -90 90.1 3. --eiguess 100 \\\n",
    "    --eventnxs work_%s/sim-%s.nxs --out reduced_%s.nxs\\\n",
    "    > log.reduce"
   ]
  },
  {
   "cell_type": "code",
   "execution_count": null,
   "metadata": {
    "collapsed": true
   },
   "outputs": [],
   "source": [
    "# create configuration file for getting a slice"
   ]
  },
  {
   "cell_type": "code",
   "execution_count": 39,
   "metadata": {
    "collapsed": false
   },
   "outputs": [
    {
     "name": "stdout",
     "output_type": "stream",
     "text": [
      "Writing slice_H00.yml\n"
     ]
    }
   ],
   "source": [
    "%%file slice_H00.yml\n",
    "Eaxis:\n",
    " min: 0\n",
    " max: 90\n",
    " N: 181\n",
    "Q_projections:\n",
    " U:\n",
    "  proj: 1,0,0\n",
    "  proj_name: H,0,0\n",
    "  min: -5\n",
    "  max: 5\n",
    "  N: 251\n",
    " V:\n",
    "  proj: 0,1,0\n",
    "  proj_name: 0,K,0\n",
    "  min: -1\n",
    "  max: 1\n",
    "  N: 1\n",
    " W:\n",
    "  proj: 0,0,1\n",
    "  proj_name: 0,0,L\n",
    "  min: -1\n",
    "  max: 1\n",
    "  N: 1"
   ]
  },
  {
   "cell_type": "code",
   "execution_count": 14,
   "metadata": {
    "collapsed": false
   },
   "outputs": [
    {
     "name": "stdout",
     "output_type": "stream",
     "text": [
      "/home/lj7/anaconda2/envs/dev-mcvine/lib/python2.7/site-packages/mantid/kernel/__init__.py:13: RuntimeWarning: to-Python converter for std::vector<int, std::allocator<int> > already registered; second conversion method ignored.\r\n",
      "  from ._kernel import *\r\n",
      "/home/lj7/anaconda2/envs/dev-mcvine/lib/python2.7/site-packages/mantid/kernel/__init__.py:13: RuntimeWarning: to-Python converter for std::vector<double, std::allocator<double> > already registered; second conversion method ignored.\r\n",
      "  from ._kernel import *\r\n"
     ]
    }
   ],
   "source": [
    "!time mcvine workflow sxr slice \\\n",
    "    --sample {workdir}/SpinWaveDemoSample.yml \\\n",
    "    --psi-axis -90 90.1 3. \\\n",
    "    --nxs reduced_%s.nxs \\\n",
    "    --slice slice_H00.yml \\\n",
    "    --out slice_H00.nxs \\\n",
    "    > log.slice_H00"
   ]
  },
  {
   "cell_type": "code",
   "execution_count": 15,
   "metadata": {
    "collapsed": false
   },
   "outputs": [
    {
     "name": "stdout",
     "output_type": "stream",
     "text": [
      "/home/lj7/anaconda2/envs/dev-mcvine/lib/python2.7/site-packages/mantid/kernel/__init__.py:13: RuntimeWarning: to-Python converter for std::vector<int, std::allocator<int> > already registered; second conversion method ignored.\n",
      "  from ._kernel import *\n",
      "/home/lj7/anaconda2/envs/dev-mcvine/lib/python2.7/site-packages/mantid/kernel/__init__.py:13: RuntimeWarning: to-Python converter for std::vector<double, std::allocator<double> > already registered; second conversion method ignored.\n",
      "  from ._kernel import *\n",
      "FrameworkManager-[Notice] Welcome to Mantid 3.6.100\n",
      "FrameworkManager-[Notice] Please cite: http://dx.doi.org/10.1016/j.nima.2014.07.029 and this release: http://dx.doi.org/10.5286/Software/Mantid3.6.100\n",
      "Load-[Notice] Load started\n",
      "Load-[Notice] Load successful, Duration 1.13 seconds\n"
     ]
    }
   ],
   "source": [
    "# convert slice nexus to slice histogram for plotting\n",
    "!mcvine workflow sxr slice2hist slice_H00.nxs slice_H00.h5"
   ]
  },
  {
   "cell_type": "code",
   "execution_count": 29,
   "metadata": {
    "collapsed": false,
    "scrolled": false
   },
   "outputs": [
    {
     "name": "stdout",
     "output_type": "stream",
     "text": [
      "plot z in (0, 1e-05)\n"
     ]
    },
    {
     "data": {
      "image/png": "[encoded data removed]",
      "text/plain": [
       "<matplotlib.figure.Figure at 0x7f6c4e015b50>"
      ]
     },
     "metadata": {},
     "output_type": "display_data"
    },
    {
     "data": {
      "image/png": "[encoded data removed]",
      "text/plain": [
       "<matplotlib.figure.Figure at 0x7f6c1eca0f50>"
      ]
     },
     "metadata": {},
     "output_type": "display_data"
    }
   ],
   "source": [
    "# plot\n",
    "H.plot(hh.load(\"./slice_H00.h5\"), min=0, max=1e-5)"
   ]
  },
  {
   "cell_type": "code",
   "execution_count": null,
   "metadata": {
    "collapsed": true
   },
   "outputs": [],
   "source": []
  }
 ],
 "metadata": {
  "kernelspec": {
   "display_name": "Python 2",
   "language": "python",
   "name": "python2"
  },
  "language_info": {
   "codemirror_mode": {
    "name": "ipython",
    "version": 2
   },
   "file_extension": ".py",
   "mimetype": "text/x-python",
   "name": "python",
   "nbconvert_exporter": "python",
   "pygments_lexer": "ipython2",
   "version": "2.7.12"
  }
 },
 "nbformat": 4,
 "nbformat_minor": 0
}
