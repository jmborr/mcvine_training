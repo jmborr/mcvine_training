{
 "cells": [
  {
   "cell_type": "markdown",
   "metadata": {},
   "source": [
    "# Preparation"
   ]
  },
  {
   "cell_type": "markdown",
   "metadata": {},
   "source": [
    "## import tools"
   ]
  },
  {
   "cell_type": "code",
   "execution_count": null,
   "metadata": {},
   "outputs": [],
   "source": [
    "import os, numpy as np\n",
    "import histogram.hdf as hh\n",
    "import mcvine, mcvine.components, mcvine.run_script\n",
    "\n",
    "from matplotlib import pyplot as plt\n",
    "%matplotlib notebook"
   ]
  },
  {
   "cell_type": "markdown",
   "metadata": {},
   "source": [
    "## work dir"
   ]
  },
  {
   "cell_type": "code",
   "execution_count": null,
   "metadata": {},
   "outputs": [],
   "source": [
    "workdir = os.path.expanduser(\"~/simulations/mcvine/demo/2.adjust_parameters\")\n",
    "!mkdir -p {workdir}\n",
    "%cd {workdir}"
   ]
  },
  {
   "cell_type": "markdown",
   "metadata": {},
   "source": [
    "# Explore"
   ]
  },
  {
   "cell_type": "markdown",
   "metadata": {},
   "source": [
    "## create a script containing an instrument method with a parameter"
   ]
  },
  {
   "cell_type": "code",
   "execution_count": null,
   "metadata": {},
   "outputs": [],
   "source": [
    "%%file myinstrument.py\n",
    "import mcvine, mcvine.components\n",
    "def instrument(E0=60):\n",
    "    instrument = mcvine.instrument()\n",
    "    source = mcvine.components.sources.Source_simple('source', E0=E0)\n",
    "    instrument.append(source, position=(0,0,0))\n",
    "    monitor = mcvine.components.monitors.E_monitor('monitor', filename='IE.dat', Emin=0, Emax=130)\n",
    "    instrument.append(monitor, position=(0,0,1))\n",
    "    return instrument"
   ]
  },
  {
   "cell_type": "markdown",
   "metadata": {},
   "source": [
    "## run simulation using MPI, setting the parameter"
   ]
  },
  {
   "cell_type": "code",
   "execution_count": null,
   "metadata": {},
   "outputs": [],
   "source": [
    "%%time\n",
    "mcvine.run_script.run_mpi('myinstrument.py', \"out\", 1e6, nodes=10, overwrite_datafiles=True, E0=70)"
   ]
  },
  {
   "cell_type": "markdown",
   "metadata": {},
   "source": [
    "## check simulation results"
   ]
  },
  {
   "cell_type": "code",
   "execution_count": null,
   "metadata": {},
   "outputs": [],
   "source": [
    "IE = hh.load('./out/IE.h5')\n",
    "plt.figure()\n",
    "plt.plot(IE.energy, IE.I)"
   ]
  },
  {
   "cell_type": "markdown",
   "metadata": {},
   "source": [
    "# Run a series of simulations, varying parameters"
   ]
  },
  {
   "cell_type": "markdown",
   "metadata": {},
   "source": [
    "## simulate"
   ]
  },
  {
   "cell_type": "code",
   "execution_count": null,
   "metadata": {},
   "outputs": [],
   "source": [
    "for E0 in np.arange(20, 120, 30.):\n",
    "    print E0\n",
    "    mcvine.run_script.run_mpi('myinstrument.py', \"work\", 1e6, nodes=10, overwrite_datafiles=True, E0=E0)\n",
    "    !cp work/IE.h5 IE_E_{E0}.h5\n",
    "    !rm -rf work\n",
    "    continue"
   ]
  },
  {
   "cell_type": "markdown",
   "metadata": {},
   "source": [
    "## check results"
   ]
  },
  {
   "cell_type": "code",
   "execution_count": null,
   "metadata": {},
   "outputs": [],
   "source": [
    "ls -tl IE_E*.h5"
   ]
  },
  {
   "cell_type": "code",
   "execution_count": null,
   "metadata": {},
   "outputs": [],
   "source": [
    "plt.figure()\n",
    "for E0 in np.arange(20, 120, 30.):\n",
    "    h = hh.load('IE_E_{}.h5'.format(E0))\n",
    "    plt.plot(h.energy, h.I, label=\"={}\".format(E0))\n",
    "    continue\n",
    "plt.legend()\n",
    "plt.xlabel(\"E(meV)\")"
   ]
  },
  {
   "cell_type": "markdown",
   "metadata": {},
   "source": [
    "# Debug simulation script"
   ]
  },
  {
   "cell_type": "markdown",
   "metadata": {},
   "source": [
    "create yaml file to store the parameters"
   ]
  },
  {
   "cell_type": "code",
   "execution_count": null,
   "metadata": {},
   "outputs": [],
   "source": [
    "%%file params.yaml\n",
    "E0: 100"
   ]
  },
  {
   "cell_type": "markdown",
   "metadata": {},
   "source": [
    "run simulation"
   ]
  },
  {
   "cell_type": "code",
   "execution_count": null,
   "metadata": {},
   "outputs": [],
   "source": [
    "!python -m \"mcvine.run_script\" myinstrument.py \\\n",
    "    --workdir debug --overwrite_datafiles \\\n",
    "    --ncount 1000000 --buffer_size 20000 \\\n",
    "    --run-pps \\\n",
    "    --additional-kargs params.yaml"
   ]
  },
  {
   "cell_type": "code",
   "execution_count": null,
   "metadata": {},
   "outputs": [],
   "source": [
    "IE = hh.load('./debug/IE.h5')\n",
    "plt.figure()\n",
    "plt.plot(IE.energy, IE.I)"
   ]
  },
  {
   "cell_type": "code",
   "execution_count": null,
   "metadata": {},
   "outputs": [],
   "source": []
  }
 ],
 "metadata": {
  "kernelspec": {
   "display_name": "python2-default at jnrk-sns-analysis",
   "language": "python",
   "name": "jnrk-sns-analysis-python2-default"
  },
  "language_info": {
   "codemirror_mode": {
    "name": "ipython",
    "version": 2
   },
   "file_extension": ".py",
   "mimetype": "text/x-python",
   "name": "python",
   "nbconvert_exporter": "python",
   "pygments_lexer": "ipython2",
   "version": "2.7.12"
  },
  "toc": {
   "base_numbering": 1,
   "nav_menu": {},
   "number_sections": true,
   "sideBar": true,
   "skip_h1_title": false,
   "title_cell": "Table of Contents",
   "title_sidebar": "Contents",
   "toc_cell": false,
   "toc_position": {},
   "toc_section_display": true,
   "toc_window_display": false
  }
 },
 "nbformat": 4,
 "nbformat_minor": 2
}
