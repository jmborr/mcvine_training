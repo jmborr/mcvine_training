{
 "cells": [
  {
   "cell_type": "markdown",
   "metadata": {},
   "source": [
    "# Preparation"
   ]
  },
  {
   "cell_type": "markdown",
   "metadata": {},
   "source": [
    "## import tools"
   ]
  },
  {
   "cell_type": "code",
   "execution_count": 1,
   "metadata": {},
   "outputs": [],
   "source": [
    "import os, numpy as np\n",
    "import histogram.hdf as hh\n",
    "import mcvine, mcvine.components, mcvine.run_script\n",
    "\n",
    "from matplotlib import pyplot as plt\n",
    "%matplotlib notebook"
   ]
  },
  {
   "cell_type": "markdown",
   "metadata": {},
   "source": [
    "## work dir"
   ]
  },
  {
   "cell_type": "code",
   "execution_count": 2,
   "metadata": {},
   "outputs": [
    {
     "name": "stdout",
     "output_type": "stream",
     "text": [
      "/SNS/users/lj7/simulations/mcvine/demo/sample-scattering\n"
     ]
    }
   ],
   "source": [
    "workdir = os.path.expanduser(\"~/simulations/mcvine/demo/sample-scattering\")\n",
    "!mkdir -p {workdir}\n",
    "%cd {workdir}"
   ]
  },
  {
   "cell_type": "markdown",
   "metadata": {},
   "source": [
    "# Explore"
   ]
  },
  {
   "cell_type": "markdown",
   "metadata": {},
   "source": [
    "## create a script containing an instrument method with a parameter"
   ]
  },
  {
   "cell_type": "code",
   "execution_count": 10,
   "metadata": {},
   "outputs": [
    {
     "name": "stdout",
     "output_type": "stream",
     "text": [
      "Overwriting sss.py\n"
     ]
    }
   ],
   "source": [
    "%%file sss.py\n",
    "import mcvine, mcvine.components\n",
    "def instrument(samplexml):\n",
    "    instrument = mcvine.instrument()\n",
    "    source = mcvine.components.sources.NeutronFromStorage(\n",
    "        'source', path='/SNS/users/lj7/simulations/ARCS/beam/100meV-n1e10/out/neutrons')\n",
    "    instrument.append(source, position=(0,0,-0.15))\n",
    "    sample = mcvine.components.samples.SampleAssemblyFromXml('sample', samplexml)\n",
    "    instrument.append(sample, position=(0,0,0))\n",
    "    save = mcvine.components.monitors.NeutronToStorage('save', 'scattered.mcvine')\n",
    "    instrument.append(save, position=(0,0,0))\n",
    "    return instrument"
   ]
  },
  {
   "cell_type": "markdown",
   "metadata": {},
   "source": [
    "## run simulation, setting the parameter"
   ]
  },
  {
   "cell_type": "code",
   "execution_count": 15,
   "metadata": {},
   "outputs": [
    {
     "name": "stdout",
     "output_type": "stream",
     "text": [
      "CPU times: user 2.07 ms, sys: 8.15 ms, total: 10.2 ms\n",
      "Wall time: 19.2 s\n"
     ]
    }
   ],
   "source": [
    "%%time\n",
    "mcvine.run_script.run_mpi(\n",
    "    'sss.py', \"out\", 1e6, nodes=10, overwrite_datafiles=True,\n",
    "    samplexml='/SNS/users/linjiao/simulations/samples/V/plate/sampleassembly/sampleassembly.xml')"
   ]
  },
  {
   "cell_type": "code",
   "execution_count": 16,
   "metadata": {},
   "outputs": [],
   "source": [
    "# !python -m \"mcvine.run_script\" sss.py --workdir out --ncount 1000000 --overwrite_datafiles --buffer_size 20000 --mpi-mode=worker --additional-kargs=mcvine_run_script_kwds.yml"
   ]
  },
  {
   "cell_type": "code",
   "execution_count": 18,
   "metadata": {},
   "outputs": [
    {
     "name": "stdout",
     "output_type": "stream",
     "text": [
      "\u001b[0m\u001b[01;34mpost-processing-scripts\u001b[0m/  \u001b[01;34mrank2-step2\u001b[0m/  \u001b[01;34mrank5-step0\u001b[0m/  \u001b[01;34mrank7-step3\u001b[0m/\r\n",
      "\u001b[01;34mrank0-step0\u001b[0m/              \u001b[01;34mrank2-step3\u001b[0m/  \u001b[01;34mrank5-step1\u001b[0m/  \u001b[01;34mrank7-step4\u001b[0m/\r\n",
      "\u001b[01;34mrank0-step1\u001b[0m/              \u001b[01;34mrank2-step4\u001b[0m/  \u001b[01;34mrank5-step2\u001b[0m/  \u001b[01;34mrank8-step0\u001b[0m/\r\n",
      "\u001b[01;34mrank0-step2\u001b[0m/              \u001b[01;34mrank3-step0\u001b[0m/  \u001b[01;34mrank5-step3\u001b[0m/  \u001b[01;34mrank8-step1\u001b[0m/\r\n",
      "\u001b[01;34mrank0-step3\u001b[0m/              \u001b[01;34mrank3-step1\u001b[0m/  \u001b[01;34mrank5-step4\u001b[0m/  \u001b[01;34mrank8-step2\u001b[0m/\r\n",
      "\u001b[01;34mrank0-step4\u001b[0m/              \u001b[01;34mrank3-step2\u001b[0m/  \u001b[01;34mrank6-step0\u001b[0m/  \u001b[01;34mrank8-step3\u001b[0m/\r\n",
      "\u001b[01;34mrank1-step0\u001b[0m/              \u001b[01;34mrank3-step3\u001b[0m/  \u001b[01;34mrank6-step1\u001b[0m/  \u001b[01;34mrank8-step4\u001b[0m/\r\n",
      "\u001b[01;34mrank1-step1\u001b[0m/              \u001b[01;34mrank3-step4\u001b[0m/  \u001b[01;34mrank6-step2\u001b[0m/  \u001b[01;34mrank9-step0\u001b[0m/\r\n",
      "\u001b[01;34mrank1-step2\u001b[0m/              \u001b[01;34mrank4-step0\u001b[0m/  \u001b[01;34mrank6-step3\u001b[0m/  \u001b[01;34mrank9-step1\u001b[0m/\r\n",
      "\u001b[01;34mrank1-step3\u001b[0m/              \u001b[01;34mrank4-step1\u001b[0m/  \u001b[01;34mrank6-step4\u001b[0m/  \u001b[01;34mrank9-step2\u001b[0m/\r\n",
      "\u001b[01;34mrank1-step4\u001b[0m/              \u001b[01;34mrank4-step2\u001b[0m/  \u001b[01;34mrank7-step0\u001b[0m/  \u001b[01;34mrank9-step3\u001b[0m/\r\n",
      "\u001b[01;34mrank2-step0\u001b[0m/              \u001b[01;34mrank4-step3\u001b[0m/  \u001b[01;34mrank7-step1\u001b[0m/  \u001b[01;34mrank9-step4\u001b[0m/\r\n",
      "\u001b[01;34mrank2-step1\u001b[0m/              \u001b[01;34mrank4-step4\u001b[0m/  \u001b[01;34mrank7-step2\u001b[0m/  scattered.mcvine\r\n"
     ]
    }
   ],
   "source": [
    "ls out/"
   ]
  },
  {
   "cell_type": "code",
   "execution_count": 19,
   "metadata": {},
   "outputs": [
    {
     "name": "stdout",
     "output_type": "stream",
     "text": [
      "-rw-r--r-- 1 lj7 users 80000540 May 18 10:51 out/scattered.mcvine\r\n"
     ]
    }
   ],
   "source": [
    "ls -l out/scattered.mcvine"
   ]
  }
 ],
 "metadata": {
  "kernelspec": {
   "display_name": "mcvine-py37",
   "language": "python",
   "name": "mcvine-py37"
  },
  "language_info": {
   "codemirror_mode": {
    "name": "ipython",
    "version": 3
   },
   "file_extension": ".py",
   "mimetype": "text/x-python",
   "name": "python",
   "nbconvert_exporter": "python",
   "pygments_lexer": "ipython3",
   "version": "3.7.9"
  },
  "toc": {
   "base_numbering": 1,
   "nav_menu": {},
   "number_sections": true,
   "sideBar": true,
   "skip_h1_title": false,
   "title_cell": "Table of Contents",
   "title_sidebar": "Contents",
   "toc_cell": false,
   "toc_position": {},
   "toc_section_display": true,
   "toc_window_display": true
  }
 },
 "nbformat": 4,
 "nbformat_minor": 2
}
