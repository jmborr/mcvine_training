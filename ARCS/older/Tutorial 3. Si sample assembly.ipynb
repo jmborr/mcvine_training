{
 "cells": [
  {
   "cell_type": "markdown",
   "metadata": {},
   "source": [
    "# Sampleassembly for single crystal silicon\n",
    "* a = 5.431\n",
    "* u = -1,1,-1 / sqrt(3), v = 2,1,-1 / sqrt(6)\n",
    "* T=100K phonon data"
   ]
  },
  {
   "cell_type": "markdown",
   "metadata": {},
   "source": [
    "## Step 0. some goodies"
   ]
  },
  {
   "cell_type": "code",
   "execution_count": 1,
   "metadata": {
    "collapsed": false
   },
   "outputs": [
    {
     "name": "stderr",
     "output_type": "stream",
     "text": [
      "/home/lj7/anaconda2/envs/mcvine/lib/python2.7/site-packages/matplotlib/font_manager.py:273: UserWarning: Matplotlib is building the font cache using fc-list. This may take a moment.\n",
      "  warnings.warn('Matplotlib is building the font cache using fc-list. This may take a moment.')\n"
     ]
    }
   ],
   "source": [
    "%matplotlib notebook\n",
    "from matplotlib import pyplot as plt\n",
    "import numpy as np\n",
    "import histogram.hdf as hh, histogram as H"
   ]
  },
  {
   "cell_type": "code",
   "execution_count": 2,
   "metadata": {
    "collapsed": false
   },
   "outputs": [
    {
     "name": "stdout",
     "output_type": "stream",
     "text": [
      "/SNS/users/lj7/simulations/samples/Si/demo\n"
     ]
    }
   ],
   "source": [
    "workdir = '/SNS/users/lj7/simulations/samples/Si/demo'\n",
    "!mkdir -p {workdir}\n",
    "%cd \"{workdir}\""
   ]
  },
  {
   "cell_type": "code",
   "execution_count": 17,
   "metadata": {
    "collapsed": false
   },
   "outputs": [
    {
     "name": "stdout",
     "output_type": "stream",
     "text": [
      "sending incremental file list\n",
      "./\n",
      "Si-scatterer.xml\n",
      "sampleassembly.xml\n",
      "Si-phonons/\n",
      "Si-phonons/DOS\n",
      "Si-phonons/FORCE_CONSTANTS\n",
      "Si-phonons/Omega2\n",
      "Si-phonons/POSCAR\n",
      "Si-phonons/Polarizations\n",
      "Si-phonons/Qgridinfo\n",
      "Si-phonons/compute.py\n",
      "Si-phonons/dos-withbroadening.dat\n",
      "Si-phonons/run.sh\n",
      "\n",
      "sent 72,299,998 bytes  received 240 bytes  9,640,031.73 bytes/sec\n",
      "total size is 91,480,768  speedup is 1.27\n"
     ]
    }
   ],
   "source": [
    "!rsync -avzL /SNS/users/lj7/simulations/ARCS/Si/April2016/scan-T100K/sampleassembly/ {workdir}/"
   ]
  },
  {
   "cell_type": "code",
   "execution_count": 6,
   "metadata": {
    "collapsed": false
   },
   "outputs": [
    {
     "name": "stdout",
     "output_type": "stream",
     "text": [
      "Overwriting sampleassembly.xml\n"
     ]
    }
   ],
   "source": [
    "%%file sampleassembly.xml\n",
    "<?xml version=\"1.0\"?>\n",
    "\n",
    "<!DOCTYPE SampleAssembly>\n",
    "\n",
    "<SampleAssembly name=\"Si\"\n",
    "   max_multiplescattering_loops_among_scatterers=\"1\"\n",
    "   max_multiplescattering_loops_interactM_path1=\"4\"\n",
    "   min_neutron_probability=\".1\"\n",
    " >\n",
    "  \n",
    "  <PowderSample name=\"Si\" type=\"sample\">\n",
    "    <Shape>\n",
    "      <hollowCylinder in_radius=\"5./8*inch\" out_radius=\"1.*inch\" height=\"1.5*inch\"/>\n",
    "    </Shape>\n",
    "    <Phase type=\"crystal\">\n",
    "      <ChemicalFormula>Si</ChemicalFormula>\n",
    "      <xyzfile>Si.xyz</xyzfile>\n",
    "    </Phase>\n",
    "  </PowderSample>\n",
    "  \n",
    "  <LocalGeometer registry-coordinate-system=\"InstrumentScientist\">\n",
    "    <Register name=\"Si\" position=\"(0,0,0)\" orientation=\"(0, 0, 0)\"/>\n",
    "  </LocalGeometer>\n",
    "\n",
    "  <Environment temperature=\"300*K\"/>\n",
    "\n",
    "</SampleAssembly>"
   ]
  },
  {
   "cell_type": "code",
   "execution_count": 25,
   "metadata": {
    "collapsed": false
   },
   "outputs": [
    {
     "name": "stdout",
     "output_type": "stream",
     "text": [
      "2\r\n",
      "0.0\t2.71526503565\t2.71526503565 \t2.71526503565\t0.0\t2.71526503565 \t2.71526503565\t2.71526503565\t0.0\r\n",
      "Si\t-0.125 -0.125 -0.125\r\n",
      "Si \t0.125  0.125  0.125\r\n",
      "\r\n"
     ]
    }
   ],
   "source": [
    "!cat {workdir}/Si.xyz"
   ]
  },
  {
   "cell_type": "code",
   "execution_count": 7,
   "metadata": {
    "collapsed": false
   },
   "outputs": [
    {
     "data": {
      "text/plain": [
       "(array([ 1.15691131,  0.        ,  0.        ]),\n",
       " array([ 0.        ,  1.15691131,  0.        ]),\n",
       " array([ 0.        ,  0.        ,  1.15691131]))"
      ]
     },
     "execution_count": 7,
     "metadata": {},
     "output_type": "execute_result"
    }
   ],
   "source": [
    "a,b,c=5.431,5.431,5.431\n",
    "\n",
    "from numpy import sin, cos, deg2rad\n",
    "a1 = [a, 0, 0]\n",
    "a2 = [0, b, 0]\n",
    "a3 = [0, 0, c]\n",
    "\n",
    "twopi = 2*np.pi\n",
    "f = twopi/np.dot(a1, np.cross(a2, a3))\n",
    "b1 = np.cross(a2,a3) * f\n",
    "b2 = np.cross(a3,a1) * f\n",
    "b3 = np.cross(a1,a2) * f\n",
    "b1,b2,b3"
   ]
  },
  {
   "cell_type": "markdown",
   "metadata": {},
   "source": [
    "#### Orientation of the kernel\n",
    "Here we need to use the convention that z is along beam, y vertical up.\n",
    "The kernel has its own cartesian axis e’x e’y e’z. Because we know\n",
    "u = -11-1 v = 21-1\n",
    ", we have the basis vectors of the instrument coordinate system\n",
    "\n",
    "    ez along -b1 + b2 -b3\n",
    "    ex along 2b1+b2-b3\n",
    "    \n",
    "\n",
    "So we have them in the reciprocal cartesian axis"
   ]
  },
  {
   "cell_type": "code",
   "execution_count": 8,
   "metadata": {
    "collapsed": false
   },
   "outputs": [
    {
     "name": "stdout",
     "output_type": "stream",
     "text": [
      "[ 2.31382261  1.15691131 -1.15691131]\n"
     ]
    },
    {
     "data": {
      "text/plain": [
       "(array([ 0.81649658,  0.40824829, -0.40824829]),\n",
       " array([ 0.        , -0.70710678, -0.70710678]),\n",
       " array([-0.57735027,  0.57735027, -0.57735027]))"
      ]
     },
     "execution_count": 8,
     "metadata": {},
     "output_type": "execute_result"
    }
   ],
   "source": [
    "ez = -b1 + b2 - b3; ez /= np.linalg.norm(ez)\n",
    "ex1 = 2*b1 + b2 - b3; print ex1\n",
    "ey = np.cross(ez, ex1); ey/=np.linalg.norm(ey)\n",
    "ex = np.cross(ey, ez)\n",
    "ex, ey, ez"
   ]
  },
  {
   "cell_type": "markdown",
   "metadata": {},
   "source": [
    "The rotation matrix is define as\n",
    "```\n",
    "    ex.ex’ ex.ey’ ex.ez’ \n",
    "R = ey.ex’ ey.ey’ ey.ez’\n",
    "    ez.ex’ ez.ey’ ez.ez’\n",
    "```\n",
    "So"
   ]
  },
  {
   "cell_type": "code",
   "execution_count": 9,
   "metadata": {
    "collapsed": false
   },
   "outputs": [
    {
     "data": {
      "text/plain": [
       "(array([[ 0.81649658,  0.40824829, -0.40824829],\n",
       "        [ 0.        , -0.70710678, -0.70710678],\n",
       "        [-0.57735027,  0.57735027, -0.57735027]]),\n",
       " array([ 0.81649658,  0.40824829, -0.40824829,  0.        , -0.70710678,\n",
       "        -0.70710678, -0.57735027,  0.57735027, -0.57735027]))"
      ]
     },
     "execution_count": 9,
     "metadata": {},
     "output_type": "execute_result"
    }
   ],
   "source": [
    "R = np.array([ ex, ey, ez ])\n",
    "Rflat = R.copy(); Rflat.shape = -1,\n",
    "R, Rflat"
   ]
  },
  {
   "cell_type": "markdown",
   "metadata": {},
   "source": [
    "Now we add an extra kernel parameter:"
   ]
  },
  {
   "cell_type": "code",
   "execution_count": 10,
   "metadata": {
    "collapsed": false
   },
   "outputs": [
    {
     "data": {
      "text/plain": [
       "'orientation=\"0.816496580928,0.408248290464,-0.408248290464,0.0,-0.707106781187,-0.707106781187,-0.57735026919,0.57735026919,-0.57735026919\"'"
      ]
     },
     "execution_count": 10,
     "metadata": {},
     "output_type": "execute_result"
    }
   ],
   "source": [
    "'orientation=\"%s\"' % (','.join(str(e) for e in Rflat),)"
   ]
  },
  {
   "cell_type": "code",
   "execution_count": null,
   "metadata": {
    "collapsed": true
   },
   "outputs": [],
   "source": [
    "# modify Si-scatterer.xml to specify the orientation"
   ]
  },
  {
   "cell_type": "code",
   "execution_count": 11,
   "metadata": {
    "collapsed": false
   },
   "outputs": [
    {
     "name": "stdout",
     "output_type": "stream",
     "text": [
      "<?xml version=\"1.0\"?>\r\n",
      "\r\n",
      "<!DOCTYPE scatterer>\r\n",
      "\r\n",
      "<!-- mcweights: monte-carlo weights for 3 possible processes:\r\n",
      "     absorption, scattering, transmission -->\r\n",
      "<homogeneous_scatterer \r\n",
      "  mcweights=\"0, 9, 1\"\r\n",
      "  max_multiplescattering_loops=\"4\"\r\n",
      "  >\r\n",
      "\r\n",
      "    <!-- coherent -->\r\n",
      "    <KernelContainer average=\"yes\">\r\n",
      "\r\n",
      "      <Phonon_CoherentInelastic_SingleXtal_Kernel weight=\"1.\">\r\n",
      "\t<LinearlyInterpolatedDispersion idf-data-path=\"Si-phonons\"/>\r\n",
      "      </Phonon_CoherentInelastic_SingleXtal_Kernel>\r\n",
      "\r\n",
      "      <MultiPhonon_Kernel Qmax=\"14/angstrom\" dQ=\"0.05/angstrom\" Emax=\"80*meV\" weight=\"1.\">\r\n",
      "        <LinearlyInterpolatedDOS ascii-path=\"Si-phonons/dos-withbroadening.dat\"/>\r\n",
      "      </MultiPhonon_Kernel>\r\n",
      "      \r\n",
      "    </KernelContainer>\r\n",
      "\r\n",
      "</homogeneous_scatterer>\r\n"
     ]
    }
   ],
   "source": [
    "!cat {workdir}/Si-scatterer.xml"
   ]
  },
  {
   "cell_type": "code",
   "execution_count": 20,
   "metadata": {
    "collapsed": false
   },
   "outputs": [
    {
     "name": "stdout",
     "output_type": "stream",
     "text": [
      "Overwriting /SNS/users/lj7/simulations/samples/Si/demo/Si-scatterer.xml\n"
     ]
    }
   ],
   "source": [
    "%%file {workdir}/Si-scatterer.xml\n",
    "<?xml version=\"1.0\"?>\n",
    "\n",
    "<!DOCTYPE scatterer>\n",
    "\n",
    "<!-- mcweights: monte-carlo weights for 3 possible processes:\n",
    "     absorption, scattering, transmission -->\n",
    "<homogeneous_scatterer \n",
    "  mcweights=\"0, 7, 3\"\n",
    "  max_multiplescattering_loops=\"4\"\n",
    "  >\n",
    "\n",
    "    <!-- coherent -->\n",
    "    <KernelContainer average=\"yes\">\n",
    "\n",
    "      <Phonon_CoherentInelastic_SingleXtal_Kernel \n",
    "        weight=\"1.\"\n",
    "        orientation=\"0.816496580928,0.408248290464,-0.408248290464,0.0,-0.707106781187,-0.707106781187,-0.57735026919,0.57735026919,-0.57735026919\">\n",
    "\t<LinearlyInterpolatedDispersion idf-data-path=\"Si-phonons\"/>\n",
    "      </Phonon_CoherentInelastic_SingleXtal_Kernel>\n",
    "\n",
    "      <MultiPhonon_Kernel Qmax=\"14/angstrom\" dQ=\"0.05/angstrom\" Emax=\"80*meV\" weight=\"1.\">\n",
    "        <LinearlyInterpolatedDOS ascii-path=\"Si-phonons/dos-withbroadening.dat\"/>\n",
    "      </MultiPhonon_Kernel>\n",
    "      \n",
    "    </KernelContainer>\n",
    "\n",
    "</homogeneous_scatterer>"
   ]
  },
  {
   "cell_type": "code",
   "execution_count": 21,
   "metadata": {
    "collapsed": false
   },
   "outputs": [
    {
     "name": "stdout",
     "output_type": "stream",
     "text": [
      "<?xml version=\"1.0\"?>\r\n",
      "\r\n",
      "<!DOCTYPE scatterer>\r\n",
      "\r\n",
      "<!-- mcweights: monte-carlo weights for 3 possible processes:\r\n",
      "     absorption, scattering, transmission -->\r\n",
      "<homogeneous_scatterer \r\n",
      "  mcweights=\"0, 9, 1\"\r\n",
      "  max_multiplescattering_loops=\"4\"\r\n",
      "  >\r\n",
      "\r\n",
      "    <!-- coherent -->\r\n",
      "    <KernelContainer average=\"yes\">\r\n",
      "\r\n",
      "      <Phonon_CoherentInelastic_SingleXtal_Kernel \r\n",
      "        weight=\"1.\"\r\n",
      "        orientation=\"0.816496580928,0.408248290464,-0.408248290464,0.0,-0.707106781187,-0.707106781187,-0.57735026919,0.57735026919,-0.57735026919\">\r\n",
      "\t<LinearlyInterpolatedDispersion idf-data-path=\"Si-phonons\"/>\r\n",
      "      </Phonon_CoherentInelastic_SingleXtal_Kernel>\r\n",
      "\r\n",
      "      <MultiPhonon_Kernel Qmax=\"14/angstrom\" dQ=\"0.05/angstrom\" Emax=\"80*meV\" weight=\"1.\">\r\n",
      "        <LinearlyInterpolatedDOS ascii-path=\"Si-phonons/dos-withbroadening.dat\"/>\r\n",
      "      </MultiPhonon_Kernel>\r\n",
      "      \r\n",
      "    </KernelContainer>\r\n",
      "\r\n",
      "</homogeneous_scatterer>"
     ]
    }
   ],
   "source": [
    "!cat {workdir}/Si-scatterer.xml"
   ]
  },
  {
   "cell_type": "code",
   "execution_count": 22,
   "metadata": {
    "collapsed": true
   },
   "outputs": [],
   "source": [
    "!rm {workdir}/*~"
   ]
  },
  {
   "cell_type": "code",
   "execution_count": 24,
   "metadata": {
    "collapsed": false
   },
   "outputs": [
    {
     "name": "stdout",
     "output_type": "stream",
     "text": [
      "total 16\r\n",
      "-rw-r--r-- 1 lj7 users  730 Apr 25 13:48 sampleassembly.xml\r\n",
      "drwxr-xr-x 1 lj7 users 4096 Apr 25 13:48 Si-phonons\r\n",
      "-rw-r--r-- 1 lj7 users  889 Jun 22 10:20 Si-scatterer.xml\r\n",
      "-rw-r--r-- 1 lj7 users  149 Apr 25 13:48 Si.xyz\r\n"
     ]
    }
   ],
   "source": [
    "!ls -l {workdir}"
   ]
  },
  {
   "cell_type": "code",
   "execution_count": null,
   "metadata": {
    "collapsed": true
   },
   "outputs": [],
   "source": []
  }
 ],
 "metadata": {
  "kernelspec": {
   "display_name": "Python 2",
   "language": "python",
   "name": "python2"
  },
  "language_info": {
   "codemirror_mode": {
    "name": "ipython",
    "version": 2
   },
   "file_extension": ".py",
   "mimetype": "text/x-python",
   "name": "python",
   "nbconvert_exporter": "python",
   "pygments_lexer": "ipython2",
   "version": "2.7.11"
  },
  "widgets": {
   "state": {},
   "version": "1.1.2"
  }
 },
 "nbformat": 4,
 "nbformat_minor": 0
}
