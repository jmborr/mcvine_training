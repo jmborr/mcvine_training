{
 "cells": [
  {
   "cell_type": "markdown",
   "metadata": {},
   "source": [
    "# Simulation of HYSPEC powder experiment"
   ]
  },
  {
   "cell_type": "code",
   "execution_count": 33,
   "metadata": {
    "collapsed": false
   },
   "outputs": [],
   "source": [
    "# some goodies\n",
    "%matplotlib inline\n",
    "from matplotlib import pyplot as plt\n",
    "import numpy as np, histogram.hdf as hh, histogram as H"
   ]
  },
  {
   "cell_type": "markdown",
   "metadata": {},
   "source": [
    "## Create workflow"
   ]
  },
  {
   "cell_type": "code",
   "execution_count": 2,
   "metadata": {
    "collapsed": false
   },
   "outputs": [
    {
     "name": "stdout",
     "output_type": "stream",
     "text": [
      "/SNS/users/lj7/simulations/HYSPEC/powder-demo\n"
     ]
    }
   ],
   "source": [
    "# Change me\n",
    "workdir = \"/SNS/users/lj7/simulations/HYSPEC/powder-demo\"\n",
    "!mkdir -p {workdir}\n",
    "%cd {workdir}"
   ]
  },
  {
   "cell_type": "code",
   "execution_count": 3,
   "metadata": {
    "collapsed": false
   },
   "outputs": [],
   "source": [
    "!mcvine workflow powder --instrument=hyspec --sample=V --workdir=mysim"
   ]
  },
  {
   "cell_type": "code",
   "execution_count": 4,
   "metadata": {
    "collapsed": false
   },
   "outputs": [
    {
     "name": "stdout",
     "output_type": "stream",
     "text": [
      "beam\t    debug-scatter  README.md   sampleassembly  sss\ttest-scatter\r\n",
      "create-nxs  Makefile\t   reduce2iqe  scatter\t       sss.pml\r\n"
     ]
    }
   ],
   "source": [
    "!ls mysim/"
   ]
  },
  {
   "cell_type": "markdown",
   "metadata": {},
   "source": [
    "## Beam simulation"
   ]
  },
  {
   "cell_type": "code",
   "execution_count": 5,
   "metadata": {
    "collapsed": false
   },
   "outputs": [
    {
     "name": "stdout",
     "output_type": "stream",
     "text": [
      "/SNS/users/lj7/simulations/HYSPEC/powder-demo/mysim/beam\n"
     ]
    }
   ],
   "source": [
    "# change to beam sim directory\n",
    "%cd {workdir}/mysim/beam"
   ]
  },
  {
   "cell_type": "code",
   "execution_count": 6,
   "metadata": {
    "collapsed": false
   },
   "outputs": [
    {
     "name": "stdout",
     "output_type": "stream",
     "text": [
      "#!/usr/bin/env bash\r\n",
      "# run \r\n",
      "#   mcvine instruments hyspec beam -h \r\n",
      "# for more options\r\n",
      "#\r\n",
      "mcvine instruments hyspec beam --keep-in-cache --use-cache --ncount=1e8\r\n",
      "\r\n"
     ]
    }
   ],
   "source": [
    "# show the simulation script\n",
    "!cat run-beam.sh"
   ]
  },
  {
   "cell_type": "code",
   "execution_count": 7,
   "metadata": {
    "collapsed": true
   },
   "outputs": [],
   "source": [
    "# modify the simulation script (desired incident energy, neutron count)"
   ]
  },
  {
   "cell_type": "code",
   "execution_count": 12,
   "metadata": {
    "collapsed": false
   },
   "outputs": [
    {
     "name": "stdout",
     "output_type": "stream",
     "text": [
      "Overwriting run-beam.sh\n"
     ]
    }
   ],
   "source": [
    "%%file run-beam.sh\n",
    "#!/usr/bin/env bash\n",
    "\n",
    "mcvine instruments hyspec beam --keep-in-cache --use-cache \\\n",
    "    --E=7.5 --Emin=5 --Emax=10 --fermi_nu=180. \\\n",
    "    --ncount=1e9  --nodes=20"
   ]
  },
  {
   "cell_type": "code",
   "execution_count": null,
   "metadata": {
    "collapsed": false
   },
   "outputs": [],
   "source": [
    "# run simulation\n",
    "!./run-beam.sh >log.run"
   ]
  },
  {
   "cell_type": "markdown",
   "metadata": {},
   "source": [
    "After the beam simulation is done\n",
    "* The main output are in the new folder \"out\".\n",
    "* The \".h5\" files are histograms of various sorts.\n",
    "* The \"neutron\" file is the simulated neutrons of the beam incident on the sample"
   ]
  },
  {
   "cell_type": "code",
   "execution_count": 16,
   "metadata": {
    "collapsed": false
   },
   "outputs": [
    {
     "name": "stdout",
     "output_type": "stream",
     "text": [
      "ienergy.h5  ix_divx.h5\tix_y.h5     iy_divy.h5\tprops.json\r\n",
      "itof.h5     ix_divy.h5\tiy_divx.h5  neutrons\trank0-step0\r\n"
     ]
    }
   ],
   "source": [
    "!ls out"
   ]
  },
  {
   "cell_type": "code",
   "execution_count": 19,
   "metadata": {
    "collapsed": false
   },
   "outputs": [
    {
     "data": {
      "text/plain": [
       "[<matplotlib.lines.Line2D at 0x7f239d95ab10>]"
      ]
     },
     "execution_count": 19,
     "metadata": {},
     "output_type": "execute_result"
    },
    {
     "data": {
      "image/png": "[encoded data removed]",
      "text/plain": [
       "<matplotlib.figure.Figure at 0x7f23ac4db350>"
      ]
     },
     "metadata": {},
     "output_type": "display_data"
    }
   ],
   "source": [
    "# plot I(E) spectrum\n",
    "ie = hh.load(\"out/ienergy.h5\")\n",
    "plt.plot(ie.energy, ie.I)"
   ]
  },
  {
   "cell_type": "markdown",
   "metadata": {},
   "source": [
    "## Scattering simulation and reduction"
   ]
  },
  {
   "cell_type": "markdown",
   "metadata": {},
   "source": [
    "The simulation directory contains a Makefile and various scripts to make it easy to run the simulation and analsysis."
   ]
  },
  {
   "cell_type": "code",
   "execution_count": 21,
   "metadata": {
    "collapsed": false
   },
   "outputs": [
    {
     "name": "stdout",
     "output_type": "stream",
     "text": [
      "/SNS/users/lj7/simulations/HYSPEC/powder-demo/mysim\n",
      "beam\t    debug-scatter  README.md   sampleassembly  sss\ttest-scatter\r\n",
      "create-nxs  Makefile\t   reduce2iqe  scatter\t       sss.pml\r\n"
     ]
    }
   ],
   "source": [
    "%cd {workdir}/mysim\n",
    "!ls"
   ]
  },
  {
   "cell_type": "code",
   "execution_count": 25,
   "metadata": {
    "collapsed": true
   },
   "outputs": [],
   "source": [
    "# Modify Makefile to set some parameters"
   ]
  },
  {
   "cell_type": "code",
   "execution_count": 28,
   "metadata": {
    "collapsed": false
   },
   "outputs": [
    {
     "name": "stdout",
     "output_type": "stream",
     "text": [
      "Overwriting Makefile\n"
     ]
    }
   ],
   "source": [
    "%%file Makefile\n",
    "# -*- Makefile -*-\n",
    "\n",
    "# *** modifye the following if running mannualy ***\n",
    "# *** or use command line to change them.       ***\n",
    "INSTRUMENT=hyspec\n",
    "NCOUNT=1000000.0\n",
    "BUFFER_SIZE=100000\n",
    "NODES=10\n",
    "QAXIS=0 6 0.05\n",
    "DETECTOR_VESSEL_ANGLE=-45\n",
    "\n",
    "# default rule: we want I(Q,E)\n",
    "all: IQE\n",
    "\n",
    "# clean up\n",
    "clean:\n",
    "\trm -rf out work-* log.* *~ *.h5 *.nxs\n",
    "\n",
    "# this rule restore this directory back to the original state of template\n",
    "# don't do this unless you know what you are doing\n",
    "restore-template: clean\n",
    "\trm -f beam\n",
    "\trm -rf sampleassembly\n",
    "\trm -rf *.nxs *.h5\n",
    "\n",
    "\n",
    "plot-iqe: IQE\n",
    "\tplothist --min=0 iqe.h5\n",
    "\n",
    "# IQE comes from iqe histogram file\n",
    "IQE: iqe.h5\n",
    "\n",
    "# iqe histogram comes from reduction of simulated event mode nexus file\n",
    "iqe.h5: sim.nxs\n",
    "\tINSTRUMENT=$(INSTRUMENT) QAXIS=\"$(QAXIS)\" ./reduce2iqe >log.reduce 2>&1\n",
    "\n",
    "# nexus file comes from collecting scattered neutrons at the detector system\n",
    "sim.nxs: out/scattered-neutrons\n",
    "\tDETECTOR_VESSEL_ANGLE=${DETECTOR_VESSEL_ANGLE} INSTRUMENT=$(INSTRUMENT) NODES=$(NODES) ./create-nxs </dev/null >log.create-nxs 2>&1\n",
    "\n",
    "# scattered neutrons comes from simulation of scattering of incident beam by sample assembly\n",
    "out/scattered-neutrons: beam sampleassembly sampleassembly/*\n",
    "\tNCOUNT=$(NCOUNT) BUFFER_SIZE=$(BUFFER_SIZE) NODES=$(NODES) ./scatter </dev/null >log.scatter 2>&1\n",
    "\n",
    "# Required inputs\n",
    "beam:\n",
    "\t@echo \"** Missing incident beam\"\n",
    "\t@echo \"** Please create a symbolic link to the incident beam\"\n",
    "\t@echo \"** For example: ln -s ~/simulations/ARCS/beam/688meV beam\"\n",
    "\texit 1\n",
    "\n",
    "sampleassembly:\n",
    "\t@echo \"** Missing sample assembly\"\n",
    "\t@echo \"** Please create a sampleassembly directory.\"\n",
    "\t@echo \"** You can do this by copying, for example: cp -a ~/simulations/ARCS/He4/sim/template/sampleassembly .\"\n",
    "\texit 1\n"
   ]
  },
  {
   "cell_type": "code",
   "execution_count": 29,
   "metadata": {
    "collapsed": false
   },
   "outputs": [
    {
     "name": "stdout",
     "output_type": "stream",
     "text": [
      "NCOUNT=1000000.0 BUFFER_SIZE=100000 NODES=10 ./scatter </dev/null >log.scatter 2>&1\n",
      "DETECTOR_VESSEL_ANGLE=-45 INSTRUMENT=hyspec NODES=10 ./create-nxs </dev/null >log.create-nxs 2>&1\n",
      "INSTRUMENT=hyspec QAXIS=\"0 8 0.1\" ./reduce2iqe >log.reduce 2>&1\n"
     ]
    }
   ],
   "source": [
    "# run simulation and reduction\n",
    "!chmod +x scatter sss reduce2iqe create-nxs\n",
    "!make"
   ]
  },
  {
   "cell_type": "code",
   "execution_count": 35,
   "metadata": {
    "collapsed": false,
    "scrolled": true
   },
   "outputs": [
    {
     "name": "stdout",
     "output_type": "stream",
     "text": [
      "plot z in (0, 1e-06)\n"
     ]
    },
    {
     "data": {
      "image/png": "[encoded data removed]",
      "text/plain": [
       "<matplotlib.figure.Figure at 0x7f239d442b90>"
      ]
     },
     "metadata": {},
     "output_type": "display_data"
    },
    {
     "data": {
      "image/png": "[encoded data removed]",
      "text/plain": [
       "<matplotlib.figure.Figure at 0x7f239d10fe90>"
      ]
     },
     "metadata": {},
     "output_type": "display_data"
    }
   ],
   "source": [
    "iqe = hh.load(\"iqe.h5\")\n",
    "H.plot(iqe[(0,4), ()], min=0, max=1e-6)"
   ]
  }
 ],
 "metadata": {
  "kernelspec": {
   "display_name": "mcvine",
   "language": "python",
   "name": "mcvine"
  },
  "language_info": {
   "codemirror_mode": {
    "name": "ipython",
    "version": 2
   },
   "file_extension": ".py",
   "mimetype": "text/x-python",
   "name": "python",
   "nbconvert_exporter": "python",
   "pygments_lexer": "ipython2",
   "version": "2.7.12"
  }
 },
 "nbformat": 4,
 "nbformat_minor": 0
}
