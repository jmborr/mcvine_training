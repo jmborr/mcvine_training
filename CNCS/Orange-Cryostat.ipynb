{
 "cells": [
  {
   "cell_type": "markdown",
   "metadata": {},
   "source": [
    "# Simulation of CNCS powder experiment"
   ]
  },
  {
   "cell_type": "code",
   "execution_count": 1,
   "metadata": {},
   "outputs": [],
   "source": [
    "# some goodies\n",
    "%matplotlib inline\n",
    "from matplotlib import pyplot as plt\n",
    "import os, numpy as np, histogram.hdf as hh, histogram as H"
   ]
  },
  {
   "cell_type": "markdown",
   "metadata": {},
   "source": [
    "## Create workflow"
   ]
  },
  {
   "cell_type": "code",
   "execution_count": 2,
   "metadata": {},
   "outputs": [
    {
     "name": "stdout",
     "output_type": "stream",
     "text": [
      "/SNS/users/lj7/simulations/CNCS/sample-env-orange-cryostat/try1\n"
     ]
    }
   ],
   "source": [
    "# Change me\n",
    "workdir = os.path.expanduser(\"~/simulations/CNCS/sample-env-orange-cryostat/try1\")\n",
    "!mkdir -p {workdir}\n",
    "%cd {workdir}"
   ]
  },
  {
   "cell_type": "code",
   "execution_count": 3,
   "metadata": {},
   "outputs": [],
   "source": [
    "# rm -rf mysim/"
   ]
  },
  {
   "cell_type": "code",
   "execution_count": 4,
   "metadata": {},
   "outputs": [],
   "source": [
    "!mcvine workflow powder --instrument=CNCS --sample=V --workdir=mysim"
   ]
  },
  {
   "cell_type": "code",
   "execution_count": 5,
   "metadata": {},
   "outputs": [
    {
     "name": "stdout",
     "output_type": "stream",
     "text": [
      "beam\t    debug-scatter  README.md   sampleassembly  sss\ttest-scatter\r\n",
      "create-nxs  Makefile\t   reduce2iqe  scatter\t       sss.pml\r\n"
     ]
    }
   ],
   "source": [
    "!ls mysim/"
   ]
  },
  {
   "cell_type": "markdown",
   "metadata": {},
   "source": [
    "## Beam simulation"
   ]
  },
  {
   "cell_type": "code",
   "execution_count": 6,
   "metadata": {},
   "outputs": [
    {
     "name": "stdout",
     "output_type": "stream",
     "text": [
      "/SNS/users/lj7/simulations/CNCS/sample-env-orange-cryostat/try1/mysim\n"
     ]
    }
   ],
   "source": [
    "# change to beam sim directory\n",
    "%cd {workdir}/mysim"
   ]
  },
  {
   "cell_type": "markdown",
   "metadata": {},
   "source": [
    "** Use an existing beam simulation**"
   ]
  },
  {
   "cell_type": "code",
   "execution_count": 7,
   "metadata": {},
   "outputs": [],
   "source": [
    "rm -rf beam/"
   ]
  },
  {
   "cell_type": "code",
   "execution_count": 8,
   "metadata": {},
   "outputs": [],
   "source": [
    "!ln -s /SNS/software/miniconda2/envs/py2/share/mcvine/datastore/beam/CNCS/Ei_3.32meV-f1_60-f2_60-f3_60-f41_300-f42_300-fluxmode_9.0-ncount_2e9 \\\n",
    "        beam"
   ]
  },
  {
   "cell_type": "code",
   "execution_count": 9,
   "metadata": {},
   "outputs": [
    {
     "name": "stdout",
     "output_type": "stream",
     "text": [
      "/SNS/software/miniconda2/envs/py2/share/mcvine/datastore/beam/CNCS/Ei_3.32meV-f1_60-f2_60-f3_60-f41_300-f42_300-fluxmode_9.0-ncount_2e9\n"
     ]
    }
   ],
   "source": [
    "cd beam"
   ]
  },
  {
   "cell_type": "code",
   "execution_count": 10,
   "metadata": {},
   "outputs": [
    {
     "name": "stdout",
     "output_type": "stream",
     "text": [
      "cncs_moderator2sample.pml\r\n",
      "\u001b[0m\u001b[01;34m_m2sout\u001b[0m/\r\n",
      "mcvine-instruments-cncs-beam.params\r\n",
      "mcvine-instruments-cncs-config_mod2sample.params\r\n",
      "mcvine-instruments-cncs-mod2sample.params\r\n",
      "\u001b[01;34mout\u001b[0m/\r\n",
      "\u001b[01;32mrun-beam.sh\u001b[0m*\r\n",
      "run-m2s.sh\r\n"
     ]
    }
   ],
   "source": [
    "ls "
   ]
  },
  {
   "cell_type": "markdown",
   "metadata": {},
   "source": [
    "After the beam simulation is done\n",
    "* The main output are in the new folder \"out\".\n",
    "* The \".h5\" files are histograms of various sorts.\n",
    "* The \"neutron\" file is the simulated neutrons of the beam incident on the sample"
   ]
  },
  {
   "cell_type": "code",
   "execution_count": 12,
   "metadata": {},
   "outputs": [
    {
     "name": "stdout",
     "output_type": "stream",
     "text": [
      "ienergy.h5  ix_divx.h5\tix_y.h5     iy_divy.h5\tprops.json\r\n",
      "itof.h5     ix_divy.h5\tiy_divx.h5  neutrons\trank0-step0\r\n"
     ]
    }
   ],
   "source": [
    "!ls out"
   ]
  },
  {
   "cell_type": "code",
   "execution_count": 13,
   "metadata": {},
   "outputs": [
    {
     "data": {
      "text/plain": [
       "[<matplotlib.lines.Line2D at 0x7f8747083b10>]"
      ]
     },
     "execution_count": 13,
     "metadata": {},
     "output_type": "execute_result"
    },
    {
     "data": {
      "image/png": "[encoded data removed]",
      "text/plain": [
       "<matplotlib.figure.Figure at 0x7f8769686390>"
      ]
     },
     "metadata": {},
     "output_type": "display_data"
    }
   ],
   "source": [
    "# plot I(E) spectrum\n",
    "ie = hh.load(\"out/ienergy.h5\")\n",
    "plt.plot(ie.energy, ie.I)"
   ]
  },
  {
   "cell_type": "markdown",
   "metadata": {},
   "source": [
    "# Sample"
   ]
  },
  {
   "cell_type": "code",
   "execution_count": 14,
   "metadata": {},
   "outputs": [
    {
     "name": "stdout",
     "output_type": "stream",
     "text": [
      "/SNS/users/lj7/simulations/CNCS/sample-env-orange-cryostat/try1/mysim\n"
     ]
    }
   ],
   "source": [
    "cd {workdir}/mysim"
   ]
  },
  {
   "cell_type": "markdown",
   "metadata": {},
   "source": [
    "** Use the orange cryostat template ** "
   ]
  },
  {
   "cell_type": "code",
   "execution_count": 15,
   "metadata": {},
   "outputs": [],
   "source": [
    "rm -rf sampleassembly/"
   ]
  },
  {
   "cell_type": "code",
   "execution_count": 16,
   "metadata": {},
   "outputs": [],
   "source": [
    "cp -a  /SNS/software/miniconda2/envs/py2/share/mcvine/datastore/sample/orange-cryostat sampleassembly"
   ]
  },
  {
   "cell_type": "markdown",
   "metadata": {},
   "source": [
    "### Make sure you have all the scatterer files for the kernel with the Right name"
   ]
  },
  {
   "cell_type": "code",
   "execution_count": 17,
   "metadata": {},
   "outputs": [
    {
     "name": "stdout",
     "output_type": "stream",
     "text": [
      "total 74\r\n",
      "lrwxrwxrwx 1 lj7 users   16 Mar  8  2017 \u001b[0m\u001b[01;36mAl-can-1-scatterer.xml\u001b[0m -> Al-scatterer.xml\r\n",
      "lrwxrwxrwx 1 lj7 users   16 Mar  8  2017 \u001b[01;36mAl-can-2-scatterer.xml\u001b[0m -> Al-scatterer.xml\r\n",
      "-rw-r--r-- 1 lj7 users 4734 Nov 13  2013 Al.laz\r\n",
      "-rw-r--r-- 1 lj7 users  513 Feb 19 23:09 Al-scatterer.xml\r\n",
      "-rw-r--r-- 1 lj7 users   76 Nov 13  2013 Al.xyz\r\n",
      "lrwxrwxrwx 1 lj7 users   16 Feb 19 23:09 \u001b[01;36mOuter-window-scatterer.xml\u001b[0m -> Al-scatterer.xml\r\n",
      "-rw-r--r-- 1 lj7 users 1680 Feb 19 23:08 sampleassembly.xml\r\n",
      "lrwxrwxrwx 1 lj7 users   16 Feb 19 23:09 \u001b[01;36mShield-scatterer.xml\u001b[0m -> Al-scatterer.xml\r\n",
      "drwxr-xr-x 2 lj7 users    7 Nov 22  2016 \u001b[01;34mV-phonons\u001b[0m/\r\n",
      "-rw-rw-r-- 1 lj7 users  710 Feb 19 23:09 V-scatterer.xml\r\n",
      "lrwxrwxrwx 1 lj7 users   16 Feb 19 23:09 \u001b[01;36mVTI-soda-scatterer.xml\u001b[0m -> Al-scatterer.xml\r\n",
      "-rw-rw-r-- 1 lj7 users   57 Jun  4  2016 V.xyz\r\n"
     ]
    }
   ],
   "source": [
    "ls -l sampleassembly/"
   ]
  },
  {
   "cell_type": "markdown",
   "metadata": {},
   "source": [
    "## Scattering simulation and reduction"
   ]
  },
  {
   "cell_type": "markdown",
   "metadata": {},
   "source": [
    "The simulation directory contains a Makefile and various scripts to make it easy to run the simulation and analsysis."
   ]
  },
  {
   "cell_type": "code",
   "execution_count": 18,
   "metadata": {},
   "outputs": [
    {
     "name": "stdout",
     "output_type": "stream",
     "text": [
      "/SNS/users/lj7/simulations/CNCS/sample-env-orange-cryostat/try1/mysim\n",
      "beam\t    debug-scatter  README.md   sampleassembly  sss\ttest-scatter\r\n",
      "create-nxs  Makefile\t   reduce2iqe  scatter\t       sss.pml\r\n"
     ]
    }
   ],
   "source": [
    "%cd {workdir}/mysim\n",
    "!ls"
   ]
  },
  {
   "cell_type": "code",
   "execution_count": 19,
   "metadata": {},
   "outputs": [
    {
     "name": "stdout",
     "output_type": "stream",
     "text": [
      "rm -rf out work-* log.* *~ *.h5 *.nxs\r\n"
     ]
    }
   ],
   "source": [
    "!make clean"
   ]
  },
  {
   "cell_type": "code",
   "execution_count": 20,
   "metadata": {},
   "outputs": [
    {
     "name": "stdout",
     "output_type": "stream",
     "text": [
      "{'emission time': '167.31192132 microsecond', 'flux': '224915.953931 counts per 34kJ pulse', 'tof fwhm': '54.6029077176 microsecond', 'average tof': '45555.7668888 microsecond', 'average energy': '3.33669363864 meV'}"
     ]
    }
   ],
   "source": [
    "# print beam simulation information\n",
    "!cat {workdir}/mysim/beam/out/props.json"
   ]
  },
  {
   "cell_type": "markdown",
   "metadata": {},
   "source": [
    "** !!! Modify the following cell by setting ei_guess and t0_guess to values printed out in the cell above !!! **"
   ]
  },
  {
   "cell_type": "code",
   "execution_count": 21,
   "metadata": {},
   "outputs": [
    {
     "name": "stdout",
     "output_type": "stream",
     "text": [
      "Overwriting reduce2iqe\n"
     ]
    }
   ],
   "source": [
    "%%file reduce2iqe\n",
    "#!/usr/bin/env bash\n",
    "time mcvine instruments arcs nxs reduce sim.nxs --qaxis=0 3 0.01 --tof2E  --ei_guess=3.337 --t0_guess=167.312"
   ]
  },
  {
   "cell_type": "code",
   "execution_count": 22,
   "metadata": {},
   "outputs": [
    {
     "name": "stdout",
     "output_type": "stream",
     "text": [
      "NCOUNT=1e7 BUFFER_SIZE=1000000 NODES=10 ./scatter </dev/null >log.scatter 2>&1\n",
      "INSTRUMENT=cncs NODES=10 ./create-nxs </dev/null >log.create-nxs 2>&1\n",
      "INSTRUMENT=cncs QAXIS=\"0 15 0.1\" ./reduce2iqe >log.reduce 2>&1\n",
      "CPU times: user 1min 1s, sys: 11.1 s, total: 1min 12s\n",
      "Wall time: 48min 23s\n"
     ]
    }
   ],
   "source": [
    "%%time\n",
    "# run simulation and reduction\n",
    "# !chmod +x scatter sss reduce2iqe create-nxs\n",
    "!make NCOUNT=1e7 NODES=10 BUFFER_SIZE=1000000"
   ]
  },
  {
   "cell_type": "code",
   "execution_count": null,
   "metadata": {},
   "outputs": [],
   "source": [
    "#cat log.scatter"
   ]
  },
  {
   "cell_type": "markdown",
   "metadata": {},
   "source": [
    "## Plot the Simulation"
   ]
  },
  {
   "cell_type": "code",
   "execution_count": 23,
   "metadata": {},
   "outputs": [
    {
     "name": "stderr",
     "output_type": "stream",
     "text": [
      "/SNS/software/miniconda2/envs/py2/lib/python2.7/site-packages/histogram/hdf/Loader.py:129: FutureWarning: elementwise comparison failed; returning scalar instead, but in the future will perform elementwise comparison\n",
      "  if 'storage' in list(dataGroup): # this uses the 'storage' convention\n"
     ]
    }
   ],
   "source": [
    "iqe = hh.load(\"iqe.h5\")"
   ]
  },
  {
   "cell_type": "code",
   "execution_count": 24,
   "metadata": {
    "scrolled": false
   },
   "outputs": [
    {
     "name": "stderr",
     "output_type": "stream",
     "text": [
      "/SNS/software/miniconda2/envs/py2/lib/python2.7/site-packages/histogram/data_plotter.py:352: RuntimeWarning: invalid value encountered in less\n",
      "  negative_median = N.median( z[ z<0 ] )\n",
      "/SNS/software/miniconda2/envs/py2/lib/python2.7/site-packages/numpy/core/fromnumeric.py:2909: RuntimeWarning: Mean of empty slice.\n",
      "  out=out, **kwargs)\n",
      "/SNS/software/miniconda2/envs/py2/lib/python2.7/site-packages/numpy/core/_methods.py:80: RuntimeWarning: invalid value encountered in double_scalars\n",
      "  ret = ret.dtype.type(ret / rcount)\n",
      "/SNS/software/miniconda2/envs/py2/lib/python2.7/site-packages/histogram/data_plotter.py:334: RuntimeWarning: invalid value encountered in greater\n",
      "  positive_median = N.median( z[ z>0 ] )\n"
     ]
    },
    {
     "name": "stdout",
     "output_type": "stream",
     "text": [
      "plot z in (0, 4.02084781616e-06)\n"
     ]
    },
    {
     "data": {
      "image/png": "[encoded data removed]",
      "text/plain": [
       "<matplotlib.figure.Figure at 0x7f8744965d90>"
      ]
     },
     "metadata": {},
     "output_type": "display_data"
    },
    {
     "data": {
      "image/png": "[encoded data removed]",
      "text/plain": [
       "<matplotlib.figure.Figure at 0x7f87449841d0>"
      ]
     },
     "metadata": {},
     "output_type": "display_data"
    }
   ],
   "source": [
    "plt.figure(figsize=(9,6))\n",
    "H.plot(iqe[(0.1,2.8),()], min=0)"
   ]
  },
  {
   "cell_type": "code",
   "execution_count": null,
   "metadata": {},
   "outputs": [],
   "source": []
  }
 ],
 "metadata": {
  "kernelspec": {
   "display_name": "python2-default at jnrk-sns-analysis",
   "language": "python",
   "name": "jnrk-sns-analysis-python2-default"
  },
  "language_info": {
   "codemirror_mode": {
    "name": "ipython",
    "version": 2
   },
   "file_extension": ".py",
   "mimetype": "text/x-python",
   "name": "python",
   "nbconvert_exporter": "python",
   "pygments_lexer": "ipython2",
   "version": "2.7.12"
  }
 },
 "nbformat": 4,
 "nbformat_minor": 1
}
