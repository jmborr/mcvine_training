{
 "cells": [
  {
   "cell_type": "markdown",
   "metadata": {},
   "source": [
    "# Simulation of ARCS powder experiment for Aluminum"
   ]
  },
  {
   "cell_type": "code",
   "execution_count": null,
   "metadata": {},
   "outputs": [],
   "source": [
    "# some goodies\n",
    "%matplotlib inline\n",
    "from matplotlib import pyplot as plt\n",
    "import numpy as np, histogram.hdf as hh, histogram as H\n",
    "import os"
   ]
  },
  {
   "cell_type": "markdown",
   "metadata": {},
   "source": [
    "## Create workflow"
   ]
  },
  {
   "cell_type": "markdown",
   "metadata": {},
   "source": [
    "workdir"
   ]
  },
  {
   "cell_type": "code",
   "execution_count": null,
   "metadata": {},
   "outputs": [],
   "source": [
    "workdir = \"~/simulations/ARCS/powder-aluminum\"\n",
    "!mkdir -p {workdir}\n",
    "%cd {workdir}"
   ]
  },
  {
   "cell_type": "code",
   "execution_count": null,
   "metadata": {},
   "outputs": [],
   "source": [
    "!mcvine workflow powder --instrument=ARCS --sample=V --workdir=mysim"
   ]
  },
  {
   "cell_type": "code",
   "execution_count": null,
   "metadata": {},
   "outputs": [],
   "source": [
    "!ls mysim/"
   ]
  },
  {
   "cell_type": "markdown",
   "metadata": {},
   "source": [
    "## Beam simulation"
   ]
  },
  {
   "cell_type": "code",
   "execution_count": null,
   "metadata": {},
   "outputs": [],
   "source": [
    "# change to beam sim directory\n",
    "%cd {workdir}/mysim/beam"
   ]
  },
  {
   "cell_type": "code",
   "execution_count": null,
   "metadata": {},
   "outputs": [],
   "source": [
    "# show the simulation script\n",
    "!cat run-beam.sh"
   ]
  },
  {
   "cell_type": "markdown",
   "metadata": {
    "collapsed": true
   },
   "source": [
    "** modify the simulation script (desired incident energy, neutron count) **"
   ]
  },
  {
   "cell_type": "code",
   "execution_count": null,
   "metadata": {},
   "outputs": [],
   "source": [
    "%%time\n",
    "%%script bash --out out_beam --err err_beam\n",
    "mcvine instruments arcs beam --keep-in-cache --use-cache -E=80 --ncount=1e9 --nodes=10"
   ]
  },
  {
   "cell_type": "markdown",
   "metadata": {},
   "source": [
    "Check for errors"
   ]
  },
  {
   "cell_type": "code",
   "execution_count": null,
   "metadata": {},
   "outputs": [],
   "source": [
    "# print out_beam\n",
    "# print err_beam"
   ]
  },
  {
   "cell_type": "markdown",
   "metadata": {},
   "source": [
    "After the beam simulation is done\n",
    "* The main output are in the new folder \"out\".\n",
    "* The \".h5\" files are histograms of various sorts.\n",
    "* The \"neutron\" file is the simulated neutrons of the beam incident on the sample"
   ]
  },
  {
   "cell_type": "code",
   "execution_count": null,
   "metadata": {},
   "outputs": [],
   "source": [
    "!ls out"
   ]
  },
  {
   "cell_type": "code",
   "execution_count": null,
   "metadata": {},
   "outputs": [],
   "source": [
    "# plot I(E) spectrum\n",
    "ie = hh.load(\"out/ienergy.h5\")\n",
    "plt.plot(ie.energy, ie.I)"
   ]
  },
  {
   "cell_type": "code",
   "execution_count": null,
   "metadata": {},
   "outputs": [],
   "source": [
    "# plot monitor 1 I(tof) spectrum\n",
    "m1 = hh.load(\"out/mon1-itof-focused.h5\")\n",
    "plt.plot(m1.tof, m1.I)"
   ]
  },
  {
   "cell_type": "markdown",
   "metadata": {},
   "source": [
    "How many neutron events at sample position were simulated?"
   ]
  },
  {
   "cell_type": "code",
   "execution_count": null,
   "metadata": {},
   "outputs": [],
   "source": [
    "%%script bash\n",
    "mcvine neutronstorage count out/neutrons"
   ]
  },
  {
   "cell_type": "markdown",
   "metadata": {},
   "source": [
    "## Scattering simulation and reduction"
   ]
  },
  {
   "cell_type": "markdown",
   "metadata": {},
   "source": [
    "The simulation directory contains a Makefile and various scripts to make it easy to run the simulation and analsysis."
   ]
  },
  {
   "cell_type": "code",
   "execution_count": null,
   "metadata": {},
   "outputs": [],
   "source": [
    "%cd {workdir}/mysim"
   ]
  },
  {
   "cell_type": "code",
   "execution_count": null,
   "metadata": {},
   "outputs": [],
   "source": [
    "!ls"
   ]
  },
  {
   "cell_type": "code",
   "execution_count": null,
   "metadata": {},
   "outputs": [],
   "source": [
    "# !cat scatter\n",
    "# !cat create-nxs\n",
    "# !cat reduce2iqe"
   ]
  },
  {
   "cell_type": "markdown",
   "metadata": {},
   "source": [
    "### Change sample"
   ]
  },
  {
   "cell_type": "code",
   "execution_count": null,
   "metadata": {},
   "outputs": [],
   "source": [
    "%cd {workdir}/mysim"
   ]
  },
  {
   "cell_type": "markdown",
   "metadata": {},
   "source": [
    "#### Shape"
   ]
  },
  {
   "cell_type": "code",
   "execution_count": null,
   "metadata": {},
   "outputs": [],
   "source": [
    "# cat sampleassembly/sampleassembly.xml"
   ]
  },
  {
   "cell_type": "code",
   "execution_count": null,
   "metadata": {},
   "outputs": [],
   "source": [
    "%%file sampleassembly/sampleassembly.xml\n",
    "<SampleAssembly name=\"Al-plate\">\n",
    "\n",
    "  <PowderSample name=\"Al\" type=\"sample\">\n",
    "    <Shape>\n",
    "      <block width=\"7*cm\" height=\"10*cm\" thickness=\"1*mm\" />\n",
    "    </Shape>\n",
    "    <Phase type=\"crystal\">\n",
    "      <ChemicalFormula>Al</ChemicalFormula>\n",
    "      <xyzfile>Al.xyz</xyzfile>\n",
    "    </Phase>\n",
    "  </PowderSample>\n",
    "\n",
    "  <LocalGeometer registry-coordinate-system=\"InstrumentScientist\">\n",
    "    <Register name=\"Al\" position=\"(0,0,0)\" orientation=\"(0,0,0)\"/>\n",
    "  </LocalGeometer>\n",
    "\n",
    "</SampleAssembly>"
   ]
  },
  {
   "cell_type": "markdown",
   "metadata": {},
   "source": [
    "#### Crystal structure"
   ]
  },
  {
   "cell_type": "code",
   "execution_count": null,
   "metadata": {},
   "outputs": [],
   "source": [
    "%%file sampleassembly/Al.xyz\n",
    "1\n",
    "0 2.024660 2.024660  2.024660 0 2.024660 2.024660  2.024660  0\n",
    "Al 0  0  0"
   ]
  },
  {
   "cell_type": "code",
   "execution_count": null,
   "metadata": {},
   "outputs": [],
   "source": [
    "# cat sampleassembly/Al.xyz"
   ]
  },
  {
   "cell_type": "markdown",
   "metadata": {},
   "source": [
    "Copy the ICSD 'laz' aluminum powder pattern file. (This kind of file can also be computed from crystal structure)"
   ]
  },
  {
   "cell_type": "code",
   "execution_count": null,
   "metadata": {},
   "outputs": [],
   "source": [
    "from mcvine import resources"
   ]
  },
  {
   "cell_type": "code",
   "execution_count": null,
   "metadata": {},
   "outputs": [],
   "source": [
    "Al_300K = os.path.abspath(os.path.join(resources.sample('Al', temperature='300K'), '..'))"
   ]
  },
  {
   "cell_type": "code",
   "execution_count": null,
   "metadata": {},
   "outputs": [],
   "source": [
    "cp {os.path.join(Al_300K, 'powderdiffr', 'Al.laz')} ./sampleassembly/"
   ]
  },
  {
   "cell_type": "markdown",
   "metadata": {},
   "source": [
    "#### Phonon data"
   ]
  },
  {
   "cell_type": "markdown",
   "metadata": {},
   "source": [
    "Also copy the phonon data files from mcvine source"
   ]
  },
  {
   "cell_type": "code",
   "execution_count": null,
   "metadata": {},
   "outputs": [],
   "source": [
    "cp -a {os.path.join(Al_300K, 'phonons')} sampleassembly/Al-phonons"
   ]
  },
  {
   "cell_type": "markdown",
   "metadata": {},
   "source": [
    "#### Scattering kernels"
   ]
  },
  {
   "cell_type": "markdown",
   "metadata": {},
   "source": [
    "Compute the DW core needed by some kernels"
   ]
  },
  {
   "cell_type": "code",
   "execution_count": null,
   "metadata": {},
   "outputs": [],
   "source": [
    "!mcvine-debye-waller-core-from-phonon-dos -m=27. -T=300 -dos=sampleassembly/Al-phonons/DOS"
   ]
  },
  {
   "cell_type": "markdown",
   "metadata": {},
   "source": [
    "Kernel specifications"
   ]
  },
  {
   "cell_type": "code",
   "execution_count": null,
   "metadata": {},
   "outputs": [],
   "source": [
    "%%file sampleassembly/Al-scatterer.xml\n",
    "<?xml version=\"1.0\"?>\n",
    "\n",
    "<!DOCTYPE scatterer>\n",
    "\n",
    "<!-- mcweights: monte-carlo weights for 3 possible processes:\n",
    "     absorption, scattering, transmission -->\n",
    "<homogeneous_scatterer \n",
    "  mcweights=\"0, 9, 1\"\n",
    "  max_multiplescattering_loops=\"4\"\n",
    "  >\n",
    "\n",
    "  <KernelContainer>\n",
    "\n",
    "    <!-- coherent -->\n",
    "    <KernelContainer average=\"yes\">\n",
    "      \n",
    "      <SimplePowderDiffractionKernel Dd_over_d=\"1e-5\" DebyeWaller_factor=\"0\" laz-path=\"Al.laz\">\n",
    "      </SimplePowderDiffractionKernel>\n",
    "      \n",
    "      <Phonon_CoherentInelastic_PolyXtal_Kernel max-omega='40*meV'>\n",
    "        <LinearlyInterpolatedDispersion idf-data-path=\"Al-phonons\"/>\n",
    "      </Phonon_CoherentInelastic_PolyXtal_Kernel>\n",
    "\n",
    "      <MultiPhonon_Kernel Qmax=\"30/angstrom\">\n",
    "        <LinearlyInterpolatedDOS idf-data-path=\"Al-phonons/DOS\"/>\n",
    "      </MultiPhonon_Kernel>\n",
    "      \n",
    "    </KernelContainer>\n",
    "\n",
    "    <!-- incoherent -->\n",
    "    <KernelContainer average=\"yes\">\n",
    "\n",
    "      <Phonon_IncoherentElastic_Kernel dw_core='0.0115394036564*angstrom**2'>\n",
    "      </Phonon_IncoherentElastic_Kernel>\n",
    "\n",
    "      <Phonon_IncoherentInelastic_Kernel>\n",
    "        <LinearlyInterpolatedDOS idf-data-path=\"Al-phonons/DOS\">\n",
    "        </LinearlyInterpolatedDOS>\n",
    "      </Phonon_IncoherentInelastic_Kernel>\n",
    "\n",
    "    </KernelContainer>\n",
    "\n",
    "  </KernelContainer>\n",
    "  \n",
    "</homogeneous_scatterer>"
   ]
  },
  {
   "cell_type": "markdown",
   "metadata": {},
   "source": [
    "#### Final check"
   ]
  },
  {
   "cell_type": "code",
   "execution_count": null,
   "metadata": {},
   "outputs": [],
   "source": [
    "ls sampleassembly/"
   ]
  },
  {
   "cell_type": "code",
   "execution_count": null,
   "metadata": {},
   "outputs": [],
   "source": [
    "# !cat sampleassembly/sampleassembly.xml\n",
    "# !cat sampleassembly/NonRadGraphite-scatterer.xml"
   ]
  },
  {
   "cell_type": "markdown",
   "metadata": {},
   "source": [
    "### Update det sim script"
   ]
  },
  {
   "cell_type": "markdown",
   "metadata": {},
   "source": [
    "### Update reduction script"
   ]
  },
  {
   "cell_type": "markdown",
   "metadata": {},
   "source": [
    "### Run sim"
   ]
  },
  {
   "cell_type": "code",
   "execution_count": null,
   "metadata": {},
   "outputs": [],
   "source": [
    "!make clean"
   ]
  },
  {
   "cell_type": "markdown",
   "metadata": {},
   "source": [
    "~18minutes"
   ]
  },
  {
   "cell_type": "code",
   "execution_count": null,
   "metadata": {},
   "outputs": [],
   "source": [
    "%%time\n",
    "%%script bash \n",
    "make NCOUNT=2e7 BUFFER_SIZE=1000000 NODES=20 QAXIS=\"0 15 0.1\""
   ]
  },
  {
   "cell_type": "code",
   "execution_count": null,
   "metadata": {
    "scrolled": true
   },
   "outputs": [],
   "source": [
    "#! cat log.scatter\n",
    "#! cat log.create-nxs\n",
    "#! cat log.reduce"
   ]
  },
  {
   "cell_type": "code",
   "execution_count": null,
   "metadata": {},
   "outputs": [],
   "source": [
    "# H.plot(hh.load('./mp-sqe-0.h5'))"
   ]
  },
  {
   "cell_type": "code",
   "execution_count": null,
   "metadata": {
    "scrolled": false
   },
   "outputs": [],
   "source": [
    "iqe = hh.load(\"iqe.h5\")\n",
    "H.plot(iqe, min=0, max=3e-7)"
   ]
  },
  {
   "cell_type": "code",
   "execution_count": null,
   "metadata": {},
   "outputs": [],
   "source": []
  }
 ],
 "metadata": {
  "kernelspec": {
   "display_name": "Python 3",
   "language": "python",
   "name": "python3"
  },
  "language_info": {
   "codemirror_mode": {
    "name": "ipython",
    "version": 3
   },
   "file_extension": ".py",
   "mimetype": "text/x-python",
   "name": "python",
   "nbconvert_exporter": "python",
   "pygments_lexer": "ipython3",
   "version": "3.8.5"
  },
  "toc": {
   "base_numbering": 1,
   "nav_menu": {},
   "number_sections": true,
   "sideBar": true,
   "skip_h1_title": false,
   "title_cell": "Table of Contents",
   "title_sidebar": "Contents",
   "toc_cell": false,
   "toc_position": {},
   "toc_section_display": true,
   "toc_window_display": true
  },
  "widgets": {
   "state": {},
   "version": "1.1.2"
  }
 },
 "nbformat": 4,
 "nbformat_minor": 1
}
