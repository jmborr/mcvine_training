{
 "cells": [
  {
   "cell_type": "markdown",
   "id": "verified-macro",
   "metadata": {},
   "source": [
    "# Tools"
   ]
  },
  {
   "cell_type": "code",
   "execution_count": 1,
   "id": "sudden-coffee",
   "metadata": {},
   "outputs": [],
   "source": [
    "import os, numpy as np, glob\n",
    "from matplotlib import pyplot as plt\n",
    "%matplotlib notebook"
   ]
  },
  {
   "cell_type": "code",
   "execution_count": 2,
   "id": "neither-victorian",
   "metadata": {},
   "outputs": [],
   "source": [
    "import mcvine\n",
    "from mccomponents.sample import matter\n",
    "from sampleassembly.visitors.CrossSectionCalculator import CrossSectionCalculator\n",
    "from mcvine.workflow.sampleassembly import scaffolding\n",
    "from mcvine.workflow.sample import loadSampleYml"
   ]
  },
  {
   "cell_type": "markdown",
   "id": "abandoned-subdivision",
   "metadata": {},
   "source": [
    "# Al crystal"
   ]
  },
  {
   "cell_type": "code",
   "execution_count": 3,
   "id": "touched-basin",
   "metadata": {},
   "outputs": [
    {
     "name": "stdout",
     "output_type": "stream",
     "text": [
      "Al_mp-134_symmetrized.cif\r\n"
     ]
    }
   ],
   "source": [
    "ls Al*.cif"
   ]
  },
  {
   "cell_type": "code",
   "execution_count": 4,
   "id": "medium-doctor",
   "metadata": {},
   "outputs": [
    {
     "name": "stdout",
     "output_type": "stream",
     "text": [
      "# generated using pymatgen\r\n",
      "data_Al\r\n",
      "_symmetry_space_group_name_H-M   Fm-3m\r\n",
      "_cell_length_a   4.03893000\r\n",
      "_cell_length_b   4.03893000\r\n",
      "_cell_length_c   4.03893000\r\n",
      "_cell_angle_alpha   90.00000000\r\n",
      "_cell_angle_beta   90.00000000\r\n",
      "_cell_angle_gamma   90.00000000\r\n",
      "_symmetry_Int_Tables_number   225\r\n"
     ]
    }
   ],
   "source": [
    "!head -n 10 Al_mp-134_symmetrized.cif"
   ]
  },
  {
   "cell_type": "markdown",
   "id": "later-pharmacy",
   "metadata": {},
   "source": [
    "# Sample with Incoherent Elastic Kernel"
   ]
  },
  {
   "cell_type": "code",
   "execution_count": 5,
   "id": "antique-sullivan",
   "metadata": {},
   "outputs": [],
   "source": [
    "mkdir -p Al-inc-el"
   ]
  },
  {
   "cell_type": "markdown",
   "id": "novel-wealth",
   "metadata": {},
   "source": [
    "## Yaml spec"
   ]
  },
  {
   "cell_type": "code",
   "execution_count": 6,
   "id": "noted-snake",
   "metadata": {},
   "outputs": [],
   "source": [
    "m = matter.loadCif('./Al_mp-134_symmetrized.cif')"
   ]
  },
  {
   "cell_type": "code",
   "execution_count": 7,
   "id": "reported-hebrew",
   "metadata": {},
   "outputs": [
    {
     "name": "stdout",
     "output_type": "stream",
     "text": [
      "abs (2200m/s), inc, coh cross sections =  [9.24e-29*m**2 3.28e-30*m**2 5.98e-28*m**2]\n",
      "abs (2200m/s), inc, coh inverse length = [1.4024*m**-1 0.0497823*m**-1 9.07616*m**-1]\n"
     ]
    }
   ],
   "source": [
    "xscalc = CrossSectionCalculator()\n",
    "xscalc.include_density = False\n",
    "print(\"abs (2200m/s), inc, coh cross sections = \", xscalc.onUnitCell(m))\n",
    "xscalc.include_density = True\n",
    "print(\"abs (2200m/s), inc, coh inverse length =\", xscalc.onUnitCell(m))"
   ]
  },
  {
   "cell_type": "code",
   "execution_count": 8,
   "id": "dense-plain",
   "metadata": {},
   "outputs": [
    {
     "name": "stdout",
     "output_type": "stream",
     "text": [
      "Writing Al-inc-el/Al.yaml\n"
     ]
    }
   ],
   "source": [
    "%%file Al-inc-el/Al.yaml\n",
    "name: Al\n",
    "structure_file: ../Al_mp-134_symmetrized.cif\n",
    "excitation:\n",
    " type: powder_elastic_incoherent\n",
    " dw_core: 0.0*angstrom**2\n",
    " scattering_xs: 3.28*fm**2\n",
    " absorption_xs: 92.4*fm**2\n",
    "shape: cylinder radius=\"1*mm\" height=\"3*mm\"\n",
    "temperature: 300*K"
   ]
  },
  {
   "cell_type": "markdown",
   "id": "mexican-cholesterol",
   "metadata": {},
   "source": [
    "## Convert to xml"
   ]
  },
  {
   "cell_type": "code",
   "execution_count": 9,
   "id": "russian-munich",
   "metadata": {},
   "outputs": [
    {
     "name": "stdout",
     "output_type": "stream",
     "text": [
      "{'orig_dict': {'type': 'powder_elastic_incoherent', 'dw_core': '0.0*angstrom**2', 'scattering_xs': '3.28*fm**2', 'absorption_xs': '92.4*fm**2'}, 'type': 'powder_elastic_incoherent', 'dw_core': '0.0*angstrom**2', 'scattering_xs': '3.28*fm**2', 'absorption_xs': '92.4*fm**2'}\n"
     ]
    },
    {
     "name": "stderr",
     "output_type": "stream",
     "text": [
      "/home/97n/dv/mcvine/export-3.7/lib/python3.7/site-packages/mcvine/workflow/sampleassembly/scaffolding/sampleassembly_xml.py:22: UserWarning: assume average temperature\n",
      "  warnings.warn(\"assume average temperature\")\n"
     ]
    }
   ],
   "source": [
    "spec = loadSampleYml('Al-inc-el/Al.yaml')\n",
    "scaffolding.createSampleAssembly('Al-inc-el', spec, add_elastic_line=False)"
   ]
  },
  {
   "cell_type": "code",
   "execution_count": 10,
   "id": "changed-boutique",
   "metadata": {},
   "outputs": [
    {
     "name": "stdout",
     "output_type": "stream",
     "text": [
      "Al_mp-134_symmetrized.cif  Al-scatterer.xml  Al.yaml  sampleassembly.xml\r\n"
     ]
    }
   ],
   "source": [
    "ls Al-inc-el"
   ]
  }
 ],
 "metadata": {
  "kernelspec": {
   "display_name": "dev-mcvine-py37",
   "language": "python",
   "name": "dev-mcvine-py3"
  },
  "language_info": {
   "codemirror_mode": {
    "name": "ipython",
    "version": 3
   },
   "file_extension": ".py",
   "mimetype": "text/x-python",
   "name": "python",
   "nbconvert_exporter": "python",
   "pygments_lexer": "ipython3",
   "version": "3.7.10"
  },
  "toc": {
   "base_numbering": 1,
   "nav_menu": {},
   "number_sections": true,
   "sideBar": true,
   "skip_h1_title": false,
   "title_cell": "Table of Contents",
   "title_sidebar": "Contents",
   "toc_cell": false,
   "toc_position": {
    "height": "calc(100% - 180px)",
    "left": "10px",
    "top": "150px",
    "width": "276.2px"
   },
   "toc_section_display": true,
   "toc_window_display": true
  }
 },
 "nbformat": 4,
 "nbformat_minor": 5
}
