{
 "cells": [
  {
   "cell_type": "markdown",
   "metadata": {},
   "source": [
    "# Purpose\n",
    "* Instrument: HYSPEC\n",
    " - Ei=7meV \n",
    "* Sample: K2V3O8\n",
    " - A fake sample to show a spin wave"
   ]
  },
  {
   "cell_type": "markdown",
   "metadata": {},
   "source": [
    "# Running environments"
   ]
  },
  {
   "cell_type": "code",
   "execution_count": null,
   "metadata": {
    "collapsed": false
   },
   "outputs": [],
   "source": [
    "!hostname"
   ]
  },
  {
   "cell_type": "code",
   "execution_count": null,
   "metadata": {
    "collapsed": false
   },
   "outputs": [],
   "source": [
    "!which python"
   ]
  },
  {
   "cell_type": "code",
   "execution_count": 3,
   "metadata": {
    "collapsed": true
   },
   "outputs": [],
   "source": [
    "# modify this!!!\n",
    "# working directory. all inputs and outputs will be in this directory\n",
    "workdir = '/SNS/users/USER/simulations/HYSPEC/spinwave-tut'"
   ]
  },
  {
   "cell_type": "code",
   "execution_count": 4,
   "metadata": {
    "collapsed": true
   },
   "outputs": [],
   "source": [
    "mkdir -p {workdir}"
   ]
  },
  {
   "cell_type": "code",
   "execution_count": null,
   "metadata": {
    "collapsed": false
   },
   "outputs": [],
   "source": [
    "cd {workdir}"
   ]
  },
  {
   "cell_type": "markdown",
   "metadata": {},
   "source": [
    "# Tools"
   ]
  },
  {
   "cell_type": "code",
   "execution_count": 6,
   "metadata": {
    "collapsed": false
   },
   "outputs": [],
   "source": [
    "# %matplotlib notebook\n",
    "%matplotlib inline\n",
    "from matplotlib import pyplot as plt\n",
    "import numpy as np, os\n",
    "import histogram.hdf as hh, histogram as H"
   ]
  },
  {
   "cell_type": "code",
   "execution_count": 7,
   "metadata": {
    "collapsed": true
   },
   "outputs": [],
   "source": [
    "import mcvine"
   ]
  },
  {
   "cell_type": "markdown",
   "metadata": {},
   "source": [
    "# Create workflow"
   ]
  },
  {
   "cell_type": "markdown",
   "metadata": {},
   "source": [
    "## Sample spec\n",
    "This is a fake spin-wave model."
   ]
  },
  {
   "cell_type": "code",
   "execution_count": 8,
   "metadata": {
    "collapsed": false
   },
   "outputs": [
    {
     "name": "stdout",
     "output_type": "stream",
     "text": [
      "Overwriting kvo.yml\n"
     ]
    }
   ],
   "source": [
    "%%file kvo.yml\n",
    "name: kvo\n",
    "chemical_formula: K2V3O8 #\n",
    "lattice: \n",
    " constants: 8.87, 8.87, 5.2, 90, 90, 90\n",
    " basis_vectors:\n",
    "  - 8.87, 0, 0\n",
    "  - 0, 8.87, 0\n",
    "  - 0, 0, 5.2\n",
    "excitation:\n",
    " type: spinwave\n",
    " E_Q: 2.563*sqrt(1-(cos(h*pi)*cos(k*pi))^2)\n",
    " S_Q: 1\n",
    " Emax: 4\n",
    "orientation:\n",
    " u: 1, 0, 0\n",
    " v: 0, 1, 0\n",
    "shape: block width=\"5*cm\" height=\"5*cm\" thickness=\"2*mm\"\n",
    "temperature: 300*K"
   ]
  },
  {
   "cell_type": "markdown",
   "metadata": {},
   "source": [
    "## Create workflow"
   ]
  },
  {
   "cell_type": "code",
   "execution_count": 11,
   "metadata": {
    "collapsed": false
   },
   "outputs": [],
   "source": [
    "!mcvine workflow singlecrystal --instrument=hyspec --sample=kvo.yml --outdir=sim --type=DGS "
   ]
  },
  {
   "cell_type": "code",
   "execution_count": 12,
   "metadata": {
    "collapsed": false
   },
   "outputs": [
    {
     "name": "stdout",
     "output_type": "stream",
     "text": [
      "\u001b[0m\u001b[01;34mbeam\u001b[0m/  README.md  \u001b[01;34msampleassembly\u001b[0m/  \u001b[01;34mscattering\u001b[0m/\r\n"
     ]
    }
   ],
   "source": [
    "ls sim"
   ]
  },
  {
   "cell_type": "markdown",
   "metadata": {},
   "source": [
    "# Beam simulation"
   ]
  },
  {
   "cell_type": "code",
   "execution_count": null,
   "metadata": {
    "collapsed": false
   },
   "outputs": [],
   "source": [
    "cd {workdir}/sim/beam"
   ]
  },
  {
   "cell_type": "markdown",
   "metadata": {},
   "source": [
    "## Modify beam simulation script"
   ]
  },
  {
   "cell_type": "code",
   "execution_count": 14,
   "metadata": {
    "collapsed": false
   },
   "outputs": [
    {
     "name": "stdout",
     "output_type": "stream",
     "text": [
      "\r\n",
      "Simulate HYSPEC beam and analyze the beam.\r\n",
      "\r\n",
      "Example:\r\n",
      "\r\n",
      " $ hyspec_beam --fermi_nu=180 --E=20 --Emin=10 --Emax=39 --LMS=1.8 --ncount=1e8 --nodes=10\r\n",
      "\r\n",
      "For more details of cmd line parameters, run:\r\n",
      "\r\n",
      " $ hyspec_beam --help-properties\r\n",
      "\r\n",
      "\r\n"
     ]
    }
   ],
   "source": [
    "# check CLI\n",
    "!mcvine instruments hyspec beam -h"
   ]
  },
  {
   "cell_type": "code",
   "execution_count": 15,
   "metadata": {
    "collapsed": false
   },
   "outputs": [
    {
     "name": "stdout",
     "output_type": "stream",
     "text": [
      "Overwriting run-beam.sh\n"
     ]
    }
   ],
   "source": [
    "%%file run-beam.sh\n",
    "\n",
    "# mcvine instruments hyspec beam --keep-in-cache --use-cache --ncount=1e8\n",
    "mcvine instruments hyspec beam --keep-in-cache --use-cache \\\n",
    "    --ncount=1e9 --E=7 --Emin=5 --Emax=9 --nodes=10"
   ]
  },
  {
   "cell_type": "markdown",
   "metadata": {},
   "source": [
    "## Run beam sim\n",
    "* This will take a while to run"
   ]
  },
  {
   "cell_type": "code",
   "execution_count": null,
   "metadata": {
    "collapsed": false
   },
   "outputs": [],
   "source": [
    "! ./run-beam.sh >log.run"
   ]
  },
  {
   "cell_type": "markdown",
   "metadata": {},
   "source": [
    "## Check beam"
   ]
  },
  {
   "cell_type": "code",
   "execution_count": 31,
   "metadata": {
    "collapsed": false
   },
   "outputs": [
    {
     "name": "stdout",
     "output_type": "stream",
     "text": [
      "ienergy.h5  ix_divx.h5  ix_y.h5     iy_divy.h5  props.json\r\n",
      "itof.h5     ix_divy.h5  iy_divx.h5  neutrons    \u001b[0m\u001b[01;34mrank0-step0\u001b[0m/\r\n"
     ]
    }
   ],
   "source": [
    "ls out/"
   ]
  },
  {
   "cell_type": "code",
   "execution_count": 32,
   "metadata": {
    "collapsed": false
   },
   "outputs": [
    {
     "data": {
      "image/png": "[encoded data removed]",
      "text/plain": [
       "<matplotlib.figure.Figure at 0x7fd33c7177d0>"
      ]
     },
     "metadata": {},
     "output_type": "display_data"
    }
   ],
   "source": [
    "H.plot(hh.load('out/ienergy.h5'))"
   ]
  },
  {
   "cell_type": "markdown",
   "metadata": {},
   "source": [
    "# Scattering"
   ]
  },
  {
   "cell_type": "code",
   "execution_count": null,
   "metadata": {
    "collapsed": false
   },
   "outputs": [],
   "source": [
    "cd {workdir}/sim/scattering"
   ]
  },
  {
   "cell_type": "code",
   "execution_count": 36,
   "metadata": {
    "collapsed": false
   },
   "outputs": [
    {
     "name": "stdout",
     "output_type": "stream",
     "text": [
      "\u001b[0m\u001b[01;34mscripts\u001b[0m/  sim.yml  \u001b[01;34mtemplate\u001b[0m/\r\n"
     ]
    }
   ],
   "source": [
    "ls"
   ]
  },
  {
   "cell_type": "markdown",
   "metadata": {},
   "source": [
    "## Customize sim configuration"
   ]
  },
  {
   "cell_type": "code",
   "execution_count": 37,
   "metadata": {
    "collapsed": false
   },
   "outputs": [
    {
     "name": "stdout",
     "output_type": "stream",
     "text": [
      "Overwriting sim.yml\n"
     ]
    }
   ],
   "source": [
    "%%file sim.yml\n",
    "cluster:\n",
    "  nodes: 20\n",
    "instrument:\n",
    "  name: hyspec\n",
    "scatter:\n",
    "  ncount: 1e6\n",
    "  buffer_size: 50000\n",
    "  multiple_scattering: off\n",
    "  template: ./template"
   ]
  },
  {
   "cell_type": "markdown",
   "metadata": {},
   "source": [
    "## Modify Makefile: HYSPEC need det vessel angle"
   ]
  },
  {
   "cell_type": "code",
   "execution_count": 38,
   "metadata": {
    "collapsed": false
   },
   "outputs": [
    {
     "name": "stdout",
     "output_type": "stream",
     "text": [
      "Overwriting template/Makefile\n"
     ]
    }
   ],
   "source": [
    "%%file template/Makefile\n",
    "# -*- Makefile -*-\n",
    "# single crystal scan workflow: one angle\n",
    "#\n",
    "\n",
    "# *** modifye the following if running mannualy ***\n",
    "# *** or use command line to change them.       ***\n",
    "INSTRUMENT=hyspec\n",
    "DETECTOR_VESSEL_ANGLE=-45.\n",
    "# NCOUNT=1e7\n",
    "# BUFFER_SIZE=1000000\n",
    "# NODES=10\n",
    "\n",
    "# this will be overide\n",
    "SAMPLE_ANGLE=0\n",
    "\n",
    "all: event-nxs\n",
    "\n",
    "# clean up\n",
    "clean:\n",
    "\trm -rf out work-* log.* *~ *.nxs *.h5\n",
    "\n",
    "# this rule restore this directory back to the original state of template\n",
    "# don't do this unless you know what you are doing\n",
    "restore-template: clean\n",
    "\trm -f beam\n",
    "\trm -rf sampleassembly\n",
    "\trm -rf *.nxs *.h5\n",
    "\n",
    "# \n",
    "event-nxs: sim_$(SAMPLE_ANGLE).nxs\n",
    "\n",
    "# nexus file comes from collecting scattered neutrons at the detector system\n",
    "sim_$(SAMPLE_ANGLE).nxs: out/scattered-neutrons\n",
    "\tDETECTOR_VESSEL_ANGLE=${DETECTOR_VESSEL_ANGLE} INSTRUMENT=$(INSTRUMENT) NODES=$(NODES) SAMPLE_ANGLE=$(SAMPLE_ANGLE) time ./create-nxs >log.create-nxs 2>&1\n",
    "\n",
    "# scattered neutrons comes from simulation of scattering of incident beam by sample assembly\n",
    "out/scattered-neutrons: beam sampleassembly\n",
    "\tNCOUNT=$(NCOUNT) BUFFER_SIZE=$(BUFFER_SIZE) NODES=$(NODES) SAMPLE_ANGLE=$(SAMPLE_ANGLE) ./scatter </dev/null >log.scatter 2>&1\n",
    "\n",
    "scattering: out/scattered-neutrons\n",
    "\n",
    "beam:\n",
    "\tln -s ../../beam\n",
    "\n",
    "sampleassembly:\n",
    "\tln -s ../../sampleassembly"
   ]
  },
  {
   "cell_type": "markdown",
   "metadata": {},
   "source": [
    "## Update sample"
   ]
  },
  {
   "cell_type": "code",
   "execution_count": 39,
   "metadata": {
    "collapsed": false
   },
   "outputs": [
    {
     "name": "stdout",
     "output_type": "stream",
     "text": [
      "<?xml version=\"1.0\"?>\r\n",
      "\r\n",
      "<!DOCTYPE scatterer>\r\n",
      "\r\n",
      "<!-- weights: absorption, scattering, transmission -->\r\n",
      "<homogeneous_scatterer \r\n",
      "  mcweights=\"0, 1, 0.1\"\r\n",
      "  max_multiplescattering_loops=\"3\"\r\n",
      "  >\r\n",
      "  \r\n",
      "  <KernelContainer average=\"yes\">\r\n",
      "\r\n",
      "\r\n",
      "    <!-- a simple kernel for elastic scattering. more realistic kernel exists. -->\r\n",
      "    <E_Q_Kernel \r\n",
      "\tE_Q=\"1\" \r\n",
      "\tS_Q=\"1\"\r\n",
      "\tQmin=\"0./angstrom\"\r\n",
      "\tQmax=\"16./angstrom\"\r\n",
      "\t/>\r\n",
      "\r\n",
      "\r\n",
      "    <!-- kernel for spin wave\r\n",
      "      E_Q: expression for E(Q)\r\n",
      "      S_Q: expression for E(Q)\r\n",
      "      Emax: set this to maximum energy of the spin-wave excitation to help speed up the sim.\r\n",
      "      orientation: flattened rotation matrix M. M dot Q_crystal = Q_instrument\r\n",
      "     -->\r\n",
      "    <E_vQ_Kernel \r\n",
      "\tE_Q=\"pi:=3.1415926535897932; twopi:=2*pi; \r\n",
      "             h:=1.41170434523*Qx+0.0*Qy+0.0*Qz;\r\n",
      "             k:=0.0*Qx+1.41170434523*Qy+0.0*Qz;\r\n",
      "             l:=0.0*Qx+0.0*Qy+0.827605704078*Qz;\r\n",
      "             2.563*sqrt(1-(cos(h*pi)*cos(k*pi))^2)\"\r\n",
      "\tS_Q=\"pi:=3.1415926535897932; twopi:=2*pi; \r\n",
      "             h:=1.41170434523*Qx+0.0*Qy+0.0*Qz; \r\n",
      "             k:=0.0*Qx+1.41170434523*Qy+0.0*Qz; \r\n",
      "             l:=0.0*Qx+0.0*Qy+0.827605704078*Qz;\r\n",
      "             1\"\r\n",
      "\tEmax=\"4*meV\"\r\n",
      "        orientation=\"0.0,1.0,0.0,0.0,0.0,1.0,1.0,0.0,0.0\"\r\n",
      "\t/>\r\n",
      "\r\n",
      "    \r\n",
      "  </KernelContainer>\r\n",
      "  \r\n",
      "</homogeneous_scatterer>\r\n"
     ]
    }
   ],
   "source": [
    "# original sample spec\n",
    "!cat ../sampleassembly/kvo-scatterer.xml"
   ]
  },
  {
   "cell_type": "code",
   "execution_count": null,
   "metadata": {
    "collapsed": true
   },
   "outputs": [],
   "source": [
    "# new sample spec"
   ]
  },
  {
   "cell_type": "code",
   "execution_count": 40,
   "metadata": {
    "collapsed": false
   },
   "outputs": [
    {
     "name": "stdout",
     "output_type": "stream",
     "text": [
      "Overwriting ../sampleassembly/kvo-scatterer.xml\n"
     ]
    }
   ],
   "source": [
    "%%file ../sampleassembly/kvo-scatterer.xml\n",
    "<?xml version=\"1.0\"?>\n",
    "\n",
    "<!DOCTYPE scatterer>\n",
    "\n",
    "<!-- weights: absorption, scattering, transmission -->\n",
    "<homogeneous_scatterer \n",
    "  mcweights=\"0, 1, 0.1\"\n",
    "  max_multiplescattering_loops=\"3\"\n",
    "  >\n",
    "  \n",
    "  <KernelContainer average=\"yes\">\n",
    "\n",
    "\n",
    "    <!-- a simple kernel for elastic scattering. more realistic kernel exists. -->\n",
    "    <E_Q_Kernel \n",
    "\tE_Q=\"0\" \n",
    "\tS_Q=\"1\"\n",
    "\tQmin=\"0./angstrom\"\n",
    "\tQmax=\"16./angstrom\"\n",
    "    absorption_coefficient=\"13/meter\"\n",
    "    scattering_coefficient=\"13/meter\"\n",
    "\t/>\n",
    "\n",
    "\n",
    "    <!-- kernel for spin wave\n",
    "      E_Q: expression for E(Q)\n",
    "      S_Q: expression for E(Q)\n",
    "      Emax: set this to maximum energy of the spin-wave excitation to help speed up the sim.\n",
    "      orientation: flattened rotation matrix M. M dot Q_crystal = Q_instrument\n",
    "     -->\n",
    "    <E_vQ_Kernel \n",
    "\tE_Q=\"pi:=3.1415926535897932; twopi:=2*pi; \n",
    "             h:=1.41170434523*Qx+0.0*Qy+0.0*Qz;\n",
    "             k:=0.0*Qx+1.41170434523*Qy+0.0*Qz;\n",
    "             2.563*sqrt(1-(cos(h*pi)*cos(k*pi))^2)\"\n",
    "\tS_Q=\"1\"\n",
    "\tEmax=\"4*meV\"\n",
    "        orientation=\"0.0,1.0,0.0,0.0,0.0,1.0,1.0,0.0,0.0\"\n",
    "        absorption_coefficient=\"13/meter\"\n",
    "        scattering_coefficient=\"1/meter\"\n",
    "\t/>\n",
    "\n",
    "    \n",
    "  </KernelContainer>\n",
    "  \n",
    "</homogeneous_scatterer>\n"
   ]
  },
  {
   "cell_type": "markdown",
   "metadata": {},
   "source": [
    "## Test run"
   ]
  },
  {
   "cell_type": "code",
   "execution_count": 41,
   "metadata": {
    "collapsed": false
   },
   "outputs": [
    {
     "name": "stdout",
     "output_type": "stream",
     "text": [
      "ln -s ../../beam\n",
      "ln -s ../../sampleassembly\n",
      "NCOUNT=1e6 BUFFER_SIZE=50000 NODES=20 SAMPLE_ANGLE=3.0 ./scatter </dev/null >log.scatter 2>&1\n",
      "DETECTOR_VESSEL_ANGLE=-45. INSTRUMENT=hyspec NODES=20 SAMPLE_ANGLE=3.0 time ./create-nxs >log.create-nxs 2>&1\n"
     ]
    }
   ],
   "source": [
    "! ./scripts/sim.py --angle=3.0"
   ]
  },
  {
   "cell_type": "markdown",
   "metadata": {},
   "source": [
    "## Run all angles"
   ]
  },
  {
   "cell_type": "code",
   "execution_count": 42,
   "metadata": {
    "collapsed": false
   },
   "outputs": [
    {
     "name": "stdout",
     "output_type": "stream",
     "text": [
      "Writing create-run.py\n"
     ]
    }
   ],
   "source": [
    "%%file create-run.py\n",
    "import numpy as np\n",
    "ostream = open('run.sh', 'wt')\n",
    "for a in np.arange(-50, 40.1, .5):\n",
    "    ostream.write('./scripts/sim.py --angle=%s \\n' % a)\n",
    "    continue\n",
    "ostream.close()"
   ]
  },
  {
   "cell_type": "code",
   "execution_count": 43,
   "metadata": {
    "collapsed": false
   },
   "outputs": [],
   "source": [
    "# create script run.sh\n",
    "!python create-run.py"
   ]
  },
  {
   "cell_type": "code",
   "execution_count": 44,
   "metadata": {
    "collapsed": true
   },
   "outputs": [],
   "source": [
    "# make sure run.sh is executable\n",
    "!chmod +x run.sh"
   ]
  },
  {
   "cell_type": "code",
   "execution_count": 46,
   "metadata": {
    "collapsed": true
   },
   "outputs": [],
   "source": [
    "# run simulation (next cell). this will take a while\n",
    "# run in a terminal\n",
    "#  $ tail -f {workdir}/sim/scattering/log.run \n",
    "# to monitor the progress"
   ]
  },
  {
   "cell_type": "code",
   "execution_count": 45,
   "metadata": {
    "collapsed": false
   },
   "outputs": [],
   "source": [
    "%%script bash\n",
    "./run.sh &>log.run"
   ]
  },
  {
   "cell_type": "code",
   "execution_count": 47,
   "metadata": {
    "collapsed": false
   },
   "outputs": [
    {
     "name": "stdout",
     "output_type": "stream",
     "text": [
      "181\r\n"
     ]
    }
   ],
   "source": [
    "ls -1 work*/sim.nxs | wc -l"
   ]
  },
  {
   "cell_type": "markdown",
   "metadata": {},
   "source": [
    "# Reduction"
   ]
  },
  {
   "cell_type": "code",
   "execution_count": 1,
   "metadata": {
    "collapsed": false
   },
   "outputs": [],
   "source": [
    "# !mcvine workflow sxr reduce --help"
   ]
  },
  {
   "cell_type": "markdown",
   "metadata": {},
   "source": [
    "## DGS reduction"
   ]
  },
  {
   "cell_type": "code",
   "execution_count": null,
   "metadata": {
    "collapsed": false
   },
   "outputs": [],
   "source": [
    "%%time\n",
    "# reduce tof events to E events\n",
    "# this takes about 30 minutes\n",
    "!mcvine workflow sxr reduce --type batch \\\n",
    "    --eaxis -3 6.5 0.1 --psi-axis -50 40.1 .5 --eiguess 7 \\\n",
    "    --eventnxs work_%s/sim.nxs --out reduced_%s.nxs\\\n",
    "    > log.reduce"
   ]
  },
  {
   "cell_type": "markdown",
   "metadata": {},
   "source": [
    "## Get a slice"
   ]
  },
  {
   "cell_type": "code",
   "execution_count": 50,
   "metadata": {
    "collapsed": false
   },
   "outputs": [
    {
     "name": "stdout",
     "output_type": "stream",
     "text": [
      "Writing slice_H10.yml\n"
     ]
    }
   ],
   "source": [
    "%%file slice_H10.yml\n",
    "Eaxis:\n",
    " min: -3\n",
    " max: 5.1\n",
    " N: 405\n",
    "Q_projections:\n",
    " U:\n",
    "  proj: 1,0,0\n",
    "  proj_name: H,0,0\n",
    "  min: -1\n",
    "  max: 4.2\n",
    "  N: 260\n",
    " V:\n",
    "  proj: 0,1,0\n",
    "  proj_name: 0,K,0\n",
    "  min: 0.93\n",
    "  max: 1.07\n",
    "  N: 1\n",
    " W:\n",
    "  proj: 0,0,1\n",
    "  proj_name: 0,0,L\n",
    "  min: -1\n",
    "  max: 1\n",
    "  N: 1"
   ]
  },
  {
   "cell_type": "code",
   "execution_count": null,
   "metadata": {
    "collapsed": false
   },
   "outputs": [],
   "source": [
    "!time mcvine workflow sxr slice \\\n",
    "    --sample {workdir}/kvo.yml \\\n",
    "    --psi-axis -50 40.1 3. \\\n",
    "    --nxs reduced_%s.nxs \\\n",
    "    --slice slice_H10.yml \\\n",
    "    --out slice_H10.nxs \\\n",
    "    > log.slice_H10"
   ]
  },
  {
   "cell_type": "code",
   "execution_count": null,
   "metadata": {
    "collapsed": false
   },
   "outputs": [],
   "source": [
    "# convert slice nexus to slice histogram\n",
    "!mcvine workflow sxr slice2hist slice_H10.nxs slice_H10.h5"
   ]
  },
  {
   "cell_type": "code",
   "execution_count": null,
   "metadata": {
    "collapsed": false
   },
   "outputs": [],
   "source": [
    "# plot slice\n",
    "H.plot(hh.load(\"./slice_H10.h5\"), min=0, max=1e-5)"
   ]
  }
 ],
 "metadata": {
  "kernelspec": {
   "display_name": "mcvine",
   "language": "python",
   "name": "mcvine"
  },
  "language_info": {
   "codemirror_mode": {
    "name": "ipython",
    "version": 2
   },
   "file_extension": ".py",
   "mimetype": "text/x-python",
   "name": "python",
   "nbconvert_exporter": "python",
   "pygments_lexer": "ipython2",
   "version": "2.7.12"
  }
 },
 "nbformat": 4,
 "nbformat_minor": 2
}
